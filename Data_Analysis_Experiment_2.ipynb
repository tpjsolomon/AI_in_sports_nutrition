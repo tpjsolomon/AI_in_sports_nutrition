{
  "nbformat": 4,
  "nbformat_minor": 0,
  "metadata": {
    "colab": {
      "provenance": [],
      "toc_visible": true
    },
    "kernelspec": {
      "name": "ir",
      "display_name": "R"
    },
    "language_info": {
      "name": "R"
    }
  },
  "cells": [
    {
      "cell_type": "markdown",
      "source": [
        "# Project information"
      ],
      "metadata": {
        "id": "32SUvNk7IACd"
      }
    },
    {
      "cell_type": "markdown",
      "source": [
        "<p><strong>Title:</strong><br>\n",
        "Examining the sports nutrition knowledge of large language model (LLM) artificial intelligence (AI) chatbots: an assessment of chatbot accuracy (validity), completeness, clarity, quality of cited evidence, and test-retest reliability.</p>\n",
        "\n",
        "<p><strong>Authors:</strong><br>\n",
        "Thomas Solomon PhD <sup>1</sup> and Matthew Laye PhD <sup>2</sup>.</p>\n",
        "\n",
        "<p><strong>Affiliations:</strong><br>\n",
        "<sup>1</sup> Blazon Scientific, UK.<br>\n",
        "<sup>2</sup> Idaho Osteopathic College of Medicine, ID, USA.</p>\n",
        "\n",
        "<p><strong>Aim:</strong><br>\n",
        "This study aimed to compare the validity (accuracy), completeness, clarity/coherence, quality of cited evidence, and test-retest reliability of several publicly available chatbots — ChatGPT (OpenAI), Gemini (Google), and Claude (Anthropic) — in generating sports nutrition information.</p>\n",
        "\n",
        "<p><strong>Hypothesis:</strong></p>\n",
        "<ul>\n",
        "    <li>The null hypothesis (Ho) was that AI chatbots cannot provide high-quality (valid/accurate, complete, clear/coherent, and reliable) sports nutrition information supported by high-quality evidence.</li>\n",
        "    <li>The alternative hypothesis (H1) was that AI chatbots can provide high-quality (valid/accurate, complete, clear/coherent, and reliable) sports nutrition information supported by high-quality evidence.</li>\n",
        "</ul>\n",
        "\n",
        "<p><strong>Study Design:</strong></p>\n",
        "<ul>\n",
        "    <li>In Experiment 1, two types of prompts (simple and detailed) covering two domains (Sports nutrition to support training and Sports nutrition for racing) were entered into the LLM AI chatbots. The chatbot outputs were assessed against sports nutrition guidelines to rate accuracy, completeness, additional info quality, clarity/coherence, and quality of cited evidence. The test-retest reliability of these metrics was also determined.</li>\n",
        "    <li>In Experiment 2, the same chatbots were challenged with exam questions and output accuracy and test-retest reliability of accuracy was determined.</li>\n",
        "</ul>\n",
        "\n",
        "<p>This notebook contains the R code used to analyze the data in <bold>Experiment 2</bold>.</p>"
      ],
      "metadata": {
        "id": "esRbTHaAuJ01"
      }
    },
    {
      "cell_type": "markdown",
      "source": [
        "## Install R packages"
      ],
      "metadata": {
        "id": "Yy6tOqWlPpQp"
      }
    },
    {
      "cell_type": "code",
      "source": [
        "# check R version\n",
        "R.version.string"
      ],
      "metadata": {
        "colab": {
          "base_uri": "https://localhost:8080/",
          "height": 34
        },
        "id": "87Vb1SvrzT4T",
        "outputId": "0f198118-6894-407c-aebf-defc55b361bd"
      },
      "execution_count": 1,
      "outputs": [
        {
          "output_type": "display_data",
          "data": {
            "text/html": [
              "'R version 4.4.2 (2024-10-31)'"
            ],
            "text/markdown": "'R version 4.4.2 (2024-10-31)'",
            "text/latex": "'R version 4.4.2 (2024-10-31)'",
            "text/plain": [
              "[1] \"R version 4.4.2 (2024-10-31)\""
            ]
          },
          "metadata": {}
        }
      ]
    },
    {
      "cell_type": "code",
      "source": [
        "# Define packages to install\n",
        "packages_needed <- c('tidyverse', 'stats', 'broom', 'infer', 'ggpubr', 'ggthemes', 'gridExtra', 'patchwork', 'irr', 'lme4', 'car', 'data.table', 'reshape2')\n",
        "# Install all packages that are not already installed\n",
        "install.packages(setdiff(packages_needed, rownames(installed.packages())))\n",
        "# Load packages\n",
        "library(tidyverse)\n",
        "library(stats)\n",
        "library(broom)\n",
        "library(infer)\n",
        "library(ggpubr)\n",
        "library(ggthemes) # for ggplot themes\n",
        "library(gridExtra) # for plot arrangments\n",
        "library(patchwork) # for plot arrangments\n",
        "library(irr)\n",
        "library(lme4)\n",
        "library(car)\n",
        "library(data.table)\n",
        "library(reshape2)"
      ],
      "metadata": {
        "id": "gdvZr6cryBLh",
        "colab": {
          "base_uri": "https://localhost:8080/"
        },
        "outputId": "0cf0adef-2390-4fc4-c94d-cdda5bcd873e"
      },
      "execution_count": 2,
      "outputs": [
        {
          "output_type": "stream",
          "name": "stderr",
          "text": [
            "Installing packages into ‘/usr/local/lib/R/site-library’\n",
            "(as ‘lib’ is unspecified)\n",
            "\n",
            "also installing the dependencies ‘rbibutils’, ‘Deriv’, ‘microbenchmark’, ‘corrplot’, ‘Rdpack’, ‘numDeriv’, ‘doBy’, ‘SparseM’, ‘MatrixModels’, ‘ggrepel’, ‘ggsci’, ‘cowplot’, ‘ggsignif’, ‘polynom’, ‘rstatix’, ‘lpSolve’, ‘minqa’, ‘nloptr’, ‘reformulas’, ‘RcppEigen’, ‘carData’, ‘abind’, ‘Formula’, ‘pbkrtest’, ‘quantreg’, ‘plyr’\n",
            "\n",
            "\n",
            "── \u001b[1mAttaching core tidyverse packages\u001b[22m ──────────────────────── tidyverse 2.0.0 ──\n",
            "\u001b[32m✔\u001b[39m \u001b[34mdplyr    \u001b[39m 1.1.4     \u001b[32m✔\u001b[39m \u001b[34mreadr    \u001b[39m 2.1.5\n",
            "\u001b[32m✔\u001b[39m \u001b[34mforcats  \u001b[39m 1.0.0     \u001b[32m✔\u001b[39m \u001b[34mstringr  \u001b[39m 1.5.1\n",
            "\u001b[32m✔\u001b[39m \u001b[34mggplot2  \u001b[39m 3.5.1     \u001b[32m✔\u001b[39m \u001b[34mtibble   \u001b[39m 3.2.1\n",
            "\u001b[32m✔\u001b[39m \u001b[34mlubridate\u001b[39m 1.9.4     \u001b[32m✔\u001b[39m \u001b[34mtidyr    \u001b[39m 1.3.1\n",
            "\u001b[32m✔\u001b[39m \u001b[34mpurrr    \u001b[39m 1.0.2     \n",
            "── \u001b[1mConflicts\u001b[22m ────────────────────────────────────────── tidyverse_conflicts() ──\n",
            "\u001b[31m✖\u001b[39m \u001b[34mdplyr\u001b[39m::\u001b[32mfilter()\u001b[39m masks \u001b[34mstats\u001b[39m::filter()\n",
            "\u001b[31m✖\u001b[39m \u001b[34mdplyr\u001b[39m::\u001b[32mlag()\u001b[39m    masks \u001b[34mstats\u001b[39m::lag()\n",
            "\u001b[36mℹ\u001b[39m Use the conflicted package (\u001b[3m\u001b[34m<http://conflicted.r-lib.org/>\u001b[39m\u001b[23m) to force all conflicts to become errors\n",
            "\n",
            "Attaching package: ‘gridExtra’\n",
            "\n",
            "\n",
            "The following object is masked from ‘package:dplyr’:\n",
            "\n",
            "    combine\n",
            "\n",
            "\n",
            "Loading required package: lpSolve\n",
            "\n",
            "Loading required package: Matrix\n",
            "\n",
            "\n",
            "Attaching package: ‘Matrix’\n",
            "\n",
            "\n",
            "The following objects are masked from ‘package:tidyr’:\n",
            "\n",
            "    expand, pack, unpack\n",
            "\n",
            "\n",
            "Loading required package: carData\n",
            "\n",
            "\n",
            "Attaching package: ‘car’\n",
            "\n",
            "\n",
            "The following object is masked from ‘package:dplyr’:\n",
            "\n",
            "    recode\n",
            "\n",
            "\n",
            "The following object is masked from ‘package:purrr’:\n",
            "\n",
            "    some\n",
            "\n",
            "\n",
            "\n",
            "Attaching package: ‘data.table’\n",
            "\n",
            "\n",
            "The following objects are masked from ‘package:lubridate’:\n",
            "\n",
            "    hour, isoweek, mday, minute, month, quarter, second, wday, week,\n",
            "    yday, year\n",
            "\n",
            "\n",
            "The following objects are masked from ‘package:dplyr’:\n",
            "\n",
            "    between, first, last\n",
            "\n",
            "\n",
            "The following object is masked from ‘package:purrr’:\n",
            "\n",
            "    transpose\n",
            "\n",
            "\n",
            "\n",
            "Attaching package: ‘reshape2’\n",
            "\n",
            "\n",
            "The following objects are masked from ‘package:data.table’:\n",
            "\n",
            "    dcast, melt\n",
            "\n",
            "\n",
            "The following object is masked from ‘package:tidyr’:\n",
            "\n",
            "    smiths\n",
            "\n",
            "\n"
          ]
        }
      ]
    },
    {
      "cell_type": "markdown",
      "source": [
        "# EXPERIMENT 2"
      ],
      "metadata": {
        "id": "Edd1wmNrQyXB"
      }
    },
    {
      "cell_type": "markdown",
      "source": [
        "## Inspect and preprocess the data"
      ],
      "metadata": {
        "id": "9PUeGFVd9v73"
      }
    },
    {
      "cell_type": "markdown",
      "source": [
        "All txt files are arranged in two columns with a Question,Answer format. So, read these files and save them as CSV files."
      ],
      "metadata": {
        "id": "4qhV5tKq7Nag"
      }
    },
    {
      "cell_type": "code",
      "source": [
        "# Load the datasets\n",
        "Chatbot_A_Day1_Answer <- read.csv(\"/content/Experiment2_Chatbot_A_Day1_Answer.txt\", header = TRUE, stringsAsFactors = FALSE)\n",
        "Chatbot_A_Day2_Answer <- read.csv(\"/content/Experiment2_Chatbot_A_Day2_Answer.txt\", header = TRUE, stringsAsFactors = FALSE)\n",
        "Chatbot_B_Day1_Answer <- read.csv(\"/content/Experiment2_Chatbot_B_Day1_Answer.txt\", header = TRUE, stringsAsFactors = FALSE)\n",
        "Chatbot_B_Day2_Answer <- read.csv(\"/content/Experiment2_Chatbot_B_Day2_Answer.txt\", header = TRUE, stringsAsFactors = FALSE)\n",
        "Chatbot_C_Day1_Answer <- read.csv(\"/content/Experiment2_Chatbot_C_Day1_Answer.txt\", header = TRUE, stringsAsFactors = FALSE)\n",
        "Chatbot_C_Day2_Answer <- read.csv(\"/content/Experiment2_Chatbot_C_Day2_Answer.txt\", header = TRUE, stringsAsFactors = FALSE)\n",
        "Chatbot_D_Day1_Answer <- read.csv(\"/content/Experiment2_Chatbot_D_Day1_Answer.txt\", header = TRUE, stringsAsFactors = FALSE)\n",
        "Chatbot_D_Day2_Answer <- read.csv(\"/content/Experiment2_Chatbot_D_Day2_Answer.txt\", header = TRUE, stringsAsFactors = FALSE)\n",
        "Chatbot_E_Day1_Answer <- read.csv(\"/content/Experiment2_Chatbot_E_Day1_Answer.txt\", header = TRUE, stringsAsFactors = FALSE)\n",
        "Chatbot_E_Day2_Answer <- read.csv(\"/content/Experiment2_Chatbot_E_Day2_Answer.txt\", header = TRUE, stringsAsFactors = FALSE)\n",
        "Chatbot_F_Day1_Answer <- read.csv(\"/content/Experiment2_Chatbot_F_Day1_Answer.txt\", header = TRUE, stringsAsFactors = FALSE)\n",
        "Chatbot_F_Day2_Answer <- read.csv(\"/content/Experiment2_Chatbot_F_Day2_Answer.txt\", header = TRUE, stringsAsFactors = FALSE)\n",
        "\n",
        "# Reorder the datasets so the 'Question' column is in ascending order\n",
        "Chatbot_A_Day1_Answer <- Chatbot_A_Day1_Answer[order(Chatbot_A_Day1_Answer$Question), ]\n",
        "Chatbot_A_Day2_Answer <- Chatbot_A_Day2_Answer[order(Chatbot_A_Day2_Answer$Question), ]\n",
        "Chatbot_B_Day1_Answer <- Chatbot_B_Day1_Answer[order(Chatbot_B_Day1_Answer$Question), ]\n",
        "Chatbot_B_Day2_Answer <- Chatbot_B_Day2_Answer[order(Chatbot_B_Day2_Answer$Question), ]\n",
        "Chatbot_C_Day1_Answer <- Chatbot_C_Day1_Answer[order(Chatbot_C_Day1_Answer$Question), ]\n",
        "Chatbot_C_Day2_Answer <- Chatbot_C_Day2_Answer[order(Chatbot_C_Day2_Answer$Question), ]\n",
        "Chatbot_D_Day1_Answer <- Chatbot_D_Day1_Answer[order(Chatbot_D_Day1_Answer$Question), ]\n",
        "Chatbot_D_Day2_Answer <- Chatbot_D_Day2_Answer[order(Chatbot_D_Day2_Answer$Question), ]\n",
        "Chatbot_E_Day1_Answer <- Chatbot_E_Day1_Answer[order(Chatbot_E_Day1_Answer$Question), ]\n",
        "Chatbot_E_Day2_Answer <- Chatbot_E_Day2_Answer[order(Chatbot_E_Day2_Answer$Question), ]\n",
        "Chatbot_F_Day1_Answer <- Chatbot_F_Day1_Answer[order(Chatbot_F_Day1_Answer$Question), ]\n",
        "Chatbot_F_Day2_Answer <- Chatbot_F_Day2_Answer[order(Chatbot_F_Day2_Answer$Question), ]\n",
        "\n",
        "# View the first few rows of each sorted datset and view the structure\n",
        "cat(\"\\n\\n\")\n",
        "cat(\"Chatbot_A_Day1_Answer\")\n",
        "head(Chatbot_A_Day1_Answer)\n",
        "str(Chatbot_A_Day1_Answer)\n",
        "cat(\"\\n\\n\")\n",
        "cat(\"Chatbot_A_Day2_Answer\")\n",
        "head(Chatbot_A_Day2_Answer)\n",
        "str(Chatbot_A_Day2_Answer)\n",
        "cat(\"\\n\\n\")\n",
        "cat(\"Chatbot_B_Day1_Answer\")\n",
        "head(Chatbot_B_Day1_Answer)\n",
        "str(Chatbot_B_Day1_Answer)\n",
        "cat(\"\\n\\n\")\n",
        "cat(\"Chatbot_B_Day2_Answer\")\n",
        "head(Chatbot_B_Day2_Answer)\n",
        "str(Chatbot_B_Day2_Answer)\n",
        "cat(\"\\n\\n\")\n",
        "cat(\"Chatbot_C_Day1_Answer\")\n",
        "head(Chatbot_C_Day1_Answer)\n",
        "str(Chatbot_C_Day1_Answer)\n",
        "cat(\"\\n\\n\")\n",
        "cat(\"Chatbot_C_Day2_Answer\")\n",
        "head(Chatbot_C_Day2_Answer)\n",
        "str(Chatbot_C_Day2_Answer)\n",
        "cat(\"\\n\\n\")\n",
        "cat(\"Chatbot_D_Day1_Answer\")\n",
        "head(Chatbot_D_Day1_Answer)\n",
        "str(Chatbot_D_Day1_Answer)\n",
        "cat(\"\\n\\n\")\n",
        "cat(\"Chatbot_D_Day2_Answer\")\n",
        "head(Chatbot_D_Day2_Answer)\n",
        "str(Chatbot_D_Day2_Answer)\n",
        "cat(\"\\n\\n\")\n",
        "cat(\"Chatbot_E_Day1_Answer\")\n",
        "head(Chatbot_E_Day1_Answer)\n",
        "str(Chatbot_E_Day1_Answer)\n",
        "cat(\"\\n\\n\")\n",
        "cat(\"Chatbot_E_Day2_Answer\")\n",
        "head(Chatbot_E_Day2_Answer)\n",
        "str(Chatbot_E_Day2_Answer)\n",
        "cat(\"\\n\\n\")\n",
        "cat(\"Chatbot_F_Day1_Answer\")\n",
        "head(Chatbot_F_Day1_Answer)\n",
        "str(Chatbot_F_Day1_Answer)\n",
        "cat(\"\\n\\n\")\n",
        "cat(\"Chatbot_F_Day2_Answer\")\n",
        "head(Chatbot_F_Day2_Answer)\n",
        "str(Chatbot_F_Day2_Answer)"
      ],
      "metadata": {
        "colab": {
          "base_uri": "https://localhost:8080/",
          "height": 1000
        },
        "id": "XeXSx9QTxr2O",
        "outputId": "ec3c5b8d-82a6-4dd0-dbc0-f2d862cf602f"
      },
      "execution_count": 3,
      "outputs": [
        {
          "output_type": "stream",
          "name": "stdout",
          "text": [
            "\n",
            "\n",
            "Chatbot_A_Day1_Answer"
          ]
        },
        {
          "output_type": "display_data",
          "data": {
            "text/html": [
              "<table class=\"dataframe\">\n",
              "<caption>A data.frame: 6 × 2</caption>\n",
              "<thead>\n",
              "\t<tr><th></th><th scope=col>Question</th><th scope=col>Answer</th></tr>\n",
              "\t<tr><th></th><th scope=col>&lt;int&gt;</th><th scope=col>&lt;chr&gt;</th></tr>\n",
              "</thead>\n",
              "<tbody>\n",
              "\t<tr><th scope=row>83</th><td>1</td><td>A</td></tr>\n",
              "\t<tr><th scope=row>51</th><td>2</td><td>D</td></tr>\n",
              "\t<tr><th scope=row>77</th><td>3</td><td>A</td></tr>\n",
              "\t<tr><th scope=row>99</th><td>4</td><td>D</td></tr>\n",
              "\t<tr><th scope=row>66</th><td>5</td><td>E</td></tr>\n",
              "\t<tr><th scope=row>19</th><td>6</td><td>B</td></tr>\n",
              "</tbody>\n",
              "</table>\n"
            ],
            "text/markdown": "\nA data.frame: 6 × 2\n\n| <!--/--> | Question &lt;int&gt; | Answer &lt;chr&gt; |\n|---|---|---|\n| 83 | 1 | A |\n| 51 | 2 | D |\n| 77 | 3 | A |\n| 99 | 4 | D |\n| 66 | 5 | E |\n| 19 | 6 | B |\n\n",
            "text/latex": "A data.frame: 6 × 2\n\\begin{tabular}{r|ll}\n  & Question & Answer\\\\\n  & <int> & <chr>\\\\\n\\hline\n\t83 & 1 & A\\\\\n\t51 & 2 & D\\\\\n\t77 & 3 & A\\\\\n\t99 & 4 & D\\\\\n\t66 & 5 & E\\\\\n\t19 & 6 & B\\\\\n\\end{tabular}\n",
            "text/plain": [
              "   Question Answer\n",
              "83 1        A     \n",
              "51 2        D     \n",
              "77 3        A     \n",
              "99 4        D     \n",
              "66 5        E     \n",
              "19 6        B     "
            ]
          },
          "metadata": {}
        },
        {
          "output_type": "stream",
          "name": "stdout",
          "text": [
            "'data.frame':\t111 obs. of  2 variables:\n",
            " $ Question: int  1 2 3 4 5 6 7 8 9 10 ...\n",
            " $ Answer  : chr  \"A\" \"D\" \"A\" \"D\" ...\n",
            "\n",
            "\n",
            "Chatbot_A_Day2_Answer"
          ]
        },
        {
          "output_type": "display_data",
          "data": {
            "text/html": [
              "<table class=\"dataframe\">\n",
              "<caption>A data.frame: 6 × 2</caption>\n",
              "<thead>\n",
              "\t<tr><th></th><th scope=col>Question</th><th scope=col>Answer</th></tr>\n",
              "\t<tr><th></th><th scope=col>&lt;int&gt;</th><th scope=col>&lt;chr&gt;</th></tr>\n",
              "</thead>\n",
              "<tbody>\n",
              "\t<tr><th scope=row>83</th><td>1</td><td>A</td></tr>\n",
              "\t<tr><th scope=row>51</th><td>2</td><td>D</td></tr>\n",
              "\t<tr><th scope=row>77</th><td>3</td><td>A</td></tr>\n",
              "\t<tr><th scope=row>99</th><td>4</td><td>D</td></tr>\n",
              "\t<tr><th scope=row>66</th><td>5</td><td>E</td></tr>\n",
              "\t<tr><th scope=row>19</th><td>6</td><td>B</td></tr>\n",
              "</tbody>\n",
              "</table>\n"
            ],
            "text/markdown": "\nA data.frame: 6 × 2\n\n| <!--/--> | Question &lt;int&gt; | Answer &lt;chr&gt; |\n|---|---|---|\n| 83 | 1 | A |\n| 51 | 2 | D |\n| 77 | 3 | A |\n| 99 | 4 | D |\n| 66 | 5 | E |\n| 19 | 6 | B |\n\n",
            "text/latex": "A data.frame: 6 × 2\n\\begin{tabular}{r|ll}\n  & Question & Answer\\\\\n  & <int> & <chr>\\\\\n\\hline\n\t83 & 1 & A\\\\\n\t51 & 2 & D\\\\\n\t77 & 3 & A\\\\\n\t99 & 4 & D\\\\\n\t66 & 5 & E\\\\\n\t19 & 6 & B\\\\\n\\end{tabular}\n",
            "text/plain": [
              "   Question Answer\n",
              "83 1        A     \n",
              "51 2        D     \n",
              "77 3        A     \n",
              "99 4        D     \n",
              "66 5        E     \n",
              "19 6        B     "
            ]
          },
          "metadata": {}
        },
        {
          "output_type": "stream",
          "name": "stdout",
          "text": [
            "'data.frame':\t111 obs. of  2 variables:\n",
            " $ Question: int  1 2 3 4 5 6 7 8 9 10 ...\n",
            " $ Answer  : chr  \"A\" \"D\" \"A\" \"D\" ...\n",
            "\n",
            "\n",
            "Chatbot_B_Day1_Answer"
          ]
        },
        {
          "output_type": "display_data",
          "data": {
            "text/html": [
              "<table class=\"dataframe\">\n",
              "<caption>A data.frame: 6 × 2</caption>\n",
              "<thead>\n",
              "\t<tr><th></th><th scope=col>Question</th><th scope=col>Answer</th></tr>\n",
              "\t<tr><th></th><th scope=col>&lt;int&gt;</th><th scope=col>&lt;chr&gt;</th></tr>\n",
              "</thead>\n",
              "<tbody>\n",
              "\t<tr><th scope=row>83</th><td>1</td><td>A</td></tr>\n",
              "\t<tr><th scope=row>51</th><td>2</td><td>C</td></tr>\n",
              "\t<tr><th scope=row>77</th><td>3</td><td>A</td></tr>\n",
              "\t<tr><th scope=row>99</th><td>4</td><td>B</td></tr>\n",
              "\t<tr><th scope=row>66</th><td>5</td><td>A</td></tr>\n",
              "\t<tr><th scope=row>19</th><td>6</td><td>B</td></tr>\n",
              "</tbody>\n",
              "</table>\n"
            ],
            "text/markdown": "\nA data.frame: 6 × 2\n\n| <!--/--> | Question &lt;int&gt; | Answer &lt;chr&gt; |\n|---|---|---|\n| 83 | 1 | A |\n| 51 | 2 | C |\n| 77 | 3 | A |\n| 99 | 4 | B |\n| 66 | 5 | A |\n| 19 | 6 | B |\n\n",
            "text/latex": "A data.frame: 6 × 2\n\\begin{tabular}{r|ll}\n  & Question & Answer\\\\\n  & <int> & <chr>\\\\\n\\hline\n\t83 & 1 & A\\\\\n\t51 & 2 & C\\\\\n\t77 & 3 & A\\\\\n\t99 & 4 & B\\\\\n\t66 & 5 & A\\\\\n\t19 & 6 & B\\\\\n\\end{tabular}\n",
            "text/plain": [
              "   Question Answer\n",
              "83 1        A     \n",
              "51 2        C     \n",
              "77 3        A     \n",
              "99 4        B     \n",
              "66 5        A     \n",
              "19 6        B     "
            ]
          },
          "metadata": {}
        },
        {
          "output_type": "stream",
          "name": "stdout",
          "text": [
            "'data.frame':\t111 obs. of  2 variables:\n",
            " $ Question: int  1 2 3 4 5 6 7 8 9 10 ...\n",
            " $ Answer  : chr  \"A\" \"C\" \"A\" \"B\" ...\n",
            "\n",
            "\n",
            "Chatbot_B_Day2_Answer"
          ]
        },
        {
          "output_type": "display_data",
          "data": {
            "text/html": [
              "<table class=\"dataframe\">\n",
              "<caption>A data.frame: 6 × 2</caption>\n",
              "<thead>\n",
              "\t<tr><th></th><th scope=col>Question</th><th scope=col>Answer</th></tr>\n",
              "\t<tr><th></th><th scope=col>&lt;int&gt;</th><th scope=col>&lt;chr&gt;</th></tr>\n",
              "</thead>\n",
              "<tbody>\n",
              "\t<tr><th scope=row>83</th><td>1</td><td>A</td></tr>\n",
              "\t<tr><th scope=row>51</th><td>2</td><td>C</td></tr>\n",
              "\t<tr><th scope=row>77</th><td>3</td><td>A</td></tr>\n",
              "\t<tr><th scope=row>99</th><td>4</td><td>D</td></tr>\n",
              "\t<tr><th scope=row>66</th><td>5</td><td>A</td></tr>\n",
              "\t<tr><th scope=row>19</th><td>6</td><td>B</td></tr>\n",
              "</tbody>\n",
              "</table>\n"
            ],
            "text/markdown": "\nA data.frame: 6 × 2\n\n| <!--/--> | Question &lt;int&gt; | Answer &lt;chr&gt; |\n|---|---|---|\n| 83 | 1 | A |\n| 51 | 2 | C |\n| 77 | 3 | A |\n| 99 | 4 | D |\n| 66 | 5 | A |\n| 19 | 6 | B |\n\n",
            "text/latex": "A data.frame: 6 × 2\n\\begin{tabular}{r|ll}\n  & Question & Answer\\\\\n  & <int> & <chr>\\\\\n\\hline\n\t83 & 1 & A\\\\\n\t51 & 2 & C\\\\\n\t77 & 3 & A\\\\\n\t99 & 4 & D\\\\\n\t66 & 5 & A\\\\\n\t19 & 6 & B\\\\\n\\end{tabular}\n",
            "text/plain": [
              "   Question Answer\n",
              "83 1        A     \n",
              "51 2        C     \n",
              "77 3        A     \n",
              "99 4        D     \n",
              "66 5        A     \n",
              "19 6        B     "
            ]
          },
          "metadata": {}
        },
        {
          "output_type": "stream",
          "name": "stdout",
          "text": [
            "'data.frame':\t111 obs. of  2 variables:\n",
            " $ Question: int  1 2 3 4 5 6 7 8 9 10 ...\n",
            " $ Answer  : chr  \"A\" \"C\" \"A\" \"D\" ...\n",
            "\n",
            "\n",
            "Chatbot_C_Day1_Answer"
          ]
        },
        {
          "output_type": "display_data",
          "data": {
            "text/html": [
              "<table class=\"dataframe\">\n",
              "<caption>A data.frame: 6 × 2</caption>\n",
              "<thead>\n",
              "\t<tr><th></th><th scope=col>Question</th><th scope=col>Answer</th></tr>\n",
              "\t<tr><th></th><th scope=col>&lt;int&gt;</th><th scope=col>&lt;chr&gt;</th></tr>\n",
              "</thead>\n",
              "<tbody>\n",
              "\t<tr><th scope=row>10</th><td>1</td><td>A</td></tr>\n",
              "\t<tr><th scope=row>43</th><td>2</td><td>C</td></tr>\n",
              "\t<tr><th scope=row>88</th><td>3</td><td>A</td></tr>\n",
              "\t<tr><th scope=row>83</th><td>4</td><td>D</td></tr>\n",
              "\t<tr><th scope=row>80</th><td>5</td><td>E</td></tr>\n",
              "\t<tr><th scope=row>62</th><td>6</td><td>A</td></tr>\n",
              "</tbody>\n",
              "</table>\n"
            ],
            "text/markdown": "\nA data.frame: 6 × 2\n\n| <!--/--> | Question &lt;int&gt; | Answer &lt;chr&gt; |\n|---|---|---|\n| 10 | 1 | A |\n| 43 | 2 | C |\n| 88 | 3 | A |\n| 83 | 4 | D |\n| 80 | 5 | E |\n| 62 | 6 | A |\n\n",
            "text/latex": "A data.frame: 6 × 2\n\\begin{tabular}{r|ll}\n  & Question & Answer\\\\\n  & <int> & <chr>\\\\\n\\hline\n\t10 & 1 & A\\\\\n\t43 & 2 & C\\\\\n\t88 & 3 & A\\\\\n\t83 & 4 & D\\\\\n\t80 & 5 & E\\\\\n\t62 & 6 & A\\\\\n\\end{tabular}\n",
            "text/plain": [
              "   Question Answer\n",
              "10 1        A     \n",
              "43 2        C     \n",
              "88 3        A     \n",
              "83 4        D     \n",
              "80 5        E     \n",
              "62 6        A     "
            ]
          },
          "metadata": {}
        },
        {
          "output_type": "stream",
          "name": "stdout",
          "text": [
            "'data.frame':\t110 obs. of  2 variables:\n",
            " $ Question: int  1 2 3 4 5 6 7 8 9 10 ...\n",
            " $ Answer  : chr  \"A\" \"C\" \"A\" \"D\" ...\n",
            "\n",
            "\n",
            "Chatbot_C_Day2_Answer"
          ]
        },
        {
          "output_type": "display_data",
          "data": {
            "text/html": [
              "<table class=\"dataframe\">\n",
              "<caption>A data.frame: 6 × 2</caption>\n",
              "<thead>\n",
              "\t<tr><th></th><th scope=col>Question</th><th scope=col>Answer</th></tr>\n",
              "\t<tr><th></th><th scope=col>&lt;int&gt;</th><th scope=col>&lt;chr&gt;</th></tr>\n",
              "</thead>\n",
              "<tbody>\n",
              "\t<tr><th scope=row>10</th><td>1</td><td>A</td></tr>\n",
              "\t<tr><th scope=row>71</th><td>3</td><td>A</td></tr>\n",
              "\t<tr><th scope=row>66</th><td>4</td><td>D</td></tr>\n",
              "\t<tr><th scope=row>63</th><td>5</td><td>E</td></tr>\n",
              "\t<tr><th scope=row>45</th><td>6</td><td>A</td></tr>\n",
              "\t<tr><th scope=row>46</th><td>7</td><td>A</td></tr>\n",
              "</tbody>\n",
              "</table>\n"
            ],
            "text/markdown": "\nA data.frame: 6 × 2\n\n| <!--/--> | Question &lt;int&gt; | Answer &lt;chr&gt; |\n|---|---|---|\n| 10 | 1 | A |\n| 71 | 3 | A |\n| 66 | 4 | D |\n| 63 | 5 | E |\n| 45 | 6 | A |\n| 46 | 7 | A |\n\n",
            "text/latex": "A data.frame: 6 × 2\n\\begin{tabular}{r|ll}\n  & Question & Answer\\\\\n  & <int> & <chr>\\\\\n\\hline\n\t10 & 1 & A\\\\\n\t71 & 3 & A\\\\\n\t66 & 4 & D\\\\\n\t63 & 5 & E\\\\\n\t45 & 6 & A\\\\\n\t46 & 7 & A\\\\\n\\end{tabular}\n",
            "text/plain": [
              "   Question Answer\n",
              "10 1        A     \n",
              "71 3        A     \n",
              "66 4        D     \n",
              "63 5        E     \n",
              "45 6        A     \n",
              "46 7        A     "
            ]
          },
          "metadata": {}
        },
        {
          "output_type": "stream",
          "name": "stdout",
          "text": [
            "'data.frame':\t93 obs. of  2 variables:\n",
            " $ Question: int  1 3 4 5 6 7 8 9 10 11 ...\n",
            " $ Answer  : chr  \"A\" \"A\" \"D\" \"E\" ...\n",
            "\n",
            "\n",
            "Chatbot_D_Day1_Answer"
          ]
        },
        {
          "output_type": "display_data",
          "data": {
            "text/html": [
              "<table class=\"dataframe\">\n",
              "<caption>A data.frame: 6 × 2</caption>\n",
              "<thead>\n",
              "\t<tr><th></th><th scope=col>Question</th><th scope=col>Answer</th></tr>\n",
              "\t<tr><th></th><th scope=col>&lt;int&gt;</th><th scope=col>&lt;chr&gt;</th></tr>\n",
              "</thead>\n",
              "<tbody>\n",
              "\t<tr><th scope=row>83</th><td>1</td><td>A</td></tr>\n",
              "\t<tr><th scope=row>51</th><td>2</td><td>C</td></tr>\n",
              "\t<tr><th scope=row>77</th><td>3</td><td>A</td></tr>\n",
              "\t<tr><th scope=row>99</th><td>4</td><td>D</td></tr>\n",
              "\t<tr><th scope=row>66</th><td>5</td><td>A</td></tr>\n",
              "\t<tr><th scope=row>19</th><td>6</td><td>B</td></tr>\n",
              "</tbody>\n",
              "</table>\n"
            ],
            "text/markdown": "\nA data.frame: 6 × 2\n\n| <!--/--> | Question &lt;int&gt; | Answer &lt;chr&gt; |\n|---|---|---|\n| 83 | 1 | A |\n| 51 | 2 | C |\n| 77 | 3 | A |\n| 99 | 4 | D |\n| 66 | 5 | A |\n| 19 | 6 | B |\n\n",
            "text/latex": "A data.frame: 6 × 2\n\\begin{tabular}{r|ll}\n  & Question & Answer\\\\\n  & <int> & <chr>\\\\\n\\hline\n\t83 & 1 & A\\\\\n\t51 & 2 & C\\\\\n\t77 & 3 & A\\\\\n\t99 & 4 & D\\\\\n\t66 & 5 & A\\\\\n\t19 & 6 & B\\\\\n\\end{tabular}\n",
            "text/plain": [
              "   Question Answer\n",
              "83 1        A     \n",
              "51 2        C     \n",
              "77 3        A     \n",
              "99 4        D     \n",
              "66 5        A     \n",
              "19 6        B     "
            ]
          },
          "metadata": {}
        },
        {
          "output_type": "stream",
          "name": "stdout",
          "text": [
            "'data.frame':\t111 obs. of  2 variables:\n",
            " $ Question: int  1 2 3 4 5 6 7 8 9 10 ...\n",
            " $ Answer  : chr  \"A\" \"C\" \"A\" \"D\" ...\n",
            "\n",
            "\n",
            "Chatbot_D_Day2_Answer"
          ]
        },
        {
          "output_type": "display_data",
          "data": {
            "text/html": [
              "<table class=\"dataframe\">\n",
              "<caption>A data.frame: 6 × 2</caption>\n",
              "<thead>\n",
              "\t<tr><th></th><th scope=col>Question</th><th scope=col>Answer</th></tr>\n",
              "\t<tr><th></th><th scope=col>&lt;int&gt;</th><th scope=col>&lt;chr&gt;</th></tr>\n",
              "</thead>\n",
              "<tbody>\n",
              "\t<tr><th scope=row>83</th><td>1</td><td>A</td></tr>\n",
              "\t<tr><th scope=row>51</th><td>2</td><td>D</td></tr>\n",
              "\t<tr><th scope=row>77</th><td>3</td><td>A</td></tr>\n",
              "\t<tr><th scope=row>99</th><td>4</td><td>D</td></tr>\n",
              "\t<tr><th scope=row>66</th><td>5</td><td>A</td></tr>\n",
              "\t<tr><th scope=row>19</th><td>6</td><td>B</td></tr>\n",
              "</tbody>\n",
              "</table>\n"
            ],
            "text/markdown": "\nA data.frame: 6 × 2\n\n| <!--/--> | Question &lt;int&gt; | Answer &lt;chr&gt; |\n|---|---|---|\n| 83 | 1 | A |\n| 51 | 2 | D |\n| 77 | 3 | A |\n| 99 | 4 | D |\n| 66 | 5 | A |\n| 19 | 6 | B |\n\n",
            "text/latex": "A data.frame: 6 × 2\n\\begin{tabular}{r|ll}\n  & Question & Answer\\\\\n  & <int> & <chr>\\\\\n\\hline\n\t83 & 1 & A\\\\\n\t51 & 2 & D\\\\\n\t77 & 3 & A\\\\\n\t99 & 4 & D\\\\\n\t66 & 5 & A\\\\\n\t19 & 6 & B\\\\\n\\end{tabular}\n",
            "text/plain": [
              "   Question Answer\n",
              "83 1        A     \n",
              "51 2        D     \n",
              "77 3        A     \n",
              "99 4        D     \n",
              "66 5        A     \n",
              "19 6        B     "
            ]
          },
          "metadata": {}
        },
        {
          "output_type": "stream",
          "name": "stdout",
          "text": [
            "'data.frame':\t111 obs. of  2 variables:\n",
            " $ Question: int  1 2 3 4 5 6 7 8 9 10 ...\n",
            " $ Answer  : chr  \"A\" \"D\" \"A\" \"D\" ...\n",
            "\n",
            "\n",
            "Chatbot_E_Day1_Answer"
          ]
        },
        {
          "output_type": "display_data",
          "data": {
            "text/html": [
              "<table class=\"dataframe\">\n",
              "<caption>A data.frame: 6 × 2</caption>\n",
              "<thead>\n",
              "\t<tr><th></th><th scope=col>Question</th><th scope=col>Answer</th></tr>\n",
              "\t<tr><th></th><th scope=col>&lt;int&gt;</th><th scope=col>&lt;chr&gt;</th></tr>\n",
              "</thead>\n",
              "<tbody>\n",
              "\t<tr><th scope=row>83</th><td>1</td><td>A </td></tr>\n",
              "\t<tr><th scope=row>51</th><td>2</td><td>C </td></tr>\n",
              "\t<tr><th scope=row>77</th><td>3</td><td>A </td></tr>\n",
              "\t<tr><th scope=row>99</th><td>4</td><td>D </td></tr>\n",
              "\t<tr><th scope=row>66</th><td>5</td><td>E </td></tr>\n",
              "\t<tr><th scope=row>19</th><td>6</td><td>B </td></tr>\n",
              "</tbody>\n",
              "</table>\n"
            ],
            "text/markdown": "\nA data.frame: 6 × 2\n\n| <!--/--> | Question &lt;int&gt; | Answer &lt;chr&gt; |\n|---|---|---|\n| 83 | 1 | A  |\n| 51 | 2 | C  |\n| 77 | 3 | A  |\n| 99 | 4 | D  |\n| 66 | 5 | E  |\n| 19 | 6 | B  |\n\n",
            "text/latex": "A data.frame: 6 × 2\n\\begin{tabular}{r|ll}\n  & Question & Answer\\\\\n  & <int> & <chr>\\\\\n\\hline\n\t83 & 1 & A \\\\\n\t51 & 2 & C \\\\\n\t77 & 3 & A \\\\\n\t99 & 4 & D \\\\\n\t66 & 5 & E \\\\\n\t19 & 6 & B \\\\\n\\end{tabular}\n",
            "text/plain": [
              "   Question Answer\n",
              "83 1        A     \n",
              "51 2        C     \n",
              "77 3        A     \n",
              "99 4        D     \n",
              "66 5        E     \n",
              "19 6        B     "
            ]
          },
          "metadata": {}
        },
        {
          "output_type": "stream",
          "name": "stdout",
          "text": [
            "'data.frame':\t111 obs. of  2 variables:\n",
            " $ Question: int  1 2 3 4 5 6 7 8 9 10 ...\n",
            " $ Answer  : chr  \"A \" \"C \" \"A \" \"D \" ...\n",
            "\n",
            "\n",
            "Chatbot_E_Day2_Answer"
          ]
        },
        {
          "output_type": "display_data",
          "data": {
            "text/html": [
              "<table class=\"dataframe\">\n",
              "<caption>A data.frame: 6 × 2</caption>\n",
              "<thead>\n",
              "\t<tr><th></th><th scope=col>Question</th><th scope=col>Answer</th></tr>\n",
              "\t<tr><th></th><th scope=col>&lt;int&gt;</th><th scope=col>&lt;chr&gt;</th></tr>\n",
              "</thead>\n",
              "<tbody>\n",
              "\t<tr><th scope=row>83</th><td>1</td><td>A </td></tr>\n",
              "\t<tr><th scope=row>51</th><td>2</td><td>C </td></tr>\n",
              "\t<tr><th scope=row>77</th><td>3</td><td>A </td></tr>\n",
              "\t<tr><th scope=row>99</th><td>4</td><td>D </td></tr>\n",
              "\t<tr><th scope=row>66</th><td>5</td><td>E </td></tr>\n",
              "\t<tr><th scope=row>19</th><td>6</td><td>B </td></tr>\n",
              "</tbody>\n",
              "</table>\n"
            ],
            "text/markdown": "\nA data.frame: 6 × 2\n\n| <!--/--> | Question &lt;int&gt; | Answer &lt;chr&gt; |\n|---|---|---|\n| 83 | 1 | A  |\n| 51 | 2 | C  |\n| 77 | 3 | A  |\n| 99 | 4 | D  |\n| 66 | 5 | E  |\n| 19 | 6 | B  |\n\n",
            "text/latex": "A data.frame: 6 × 2\n\\begin{tabular}{r|ll}\n  & Question & Answer\\\\\n  & <int> & <chr>\\\\\n\\hline\n\t83 & 1 & A \\\\\n\t51 & 2 & C \\\\\n\t77 & 3 & A \\\\\n\t99 & 4 & D \\\\\n\t66 & 5 & E \\\\\n\t19 & 6 & B \\\\\n\\end{tabular}\n",
            "text/plain": [
              "   Question Answer\n",
              "83 1        A     \n",
              "51 2        C     \n",
              "77 3        A     \n",
              "99 4        D     \n",
              "66 5        E     \n",
              "19 6        B     "
            ]
          },
          "metadata": {}
        },
        {
          "output_type": "stream",
          "name": "stdout",
          "text": [
            "'data.frame':\t111 obs. of  2 variables:\n",
            " $ Question: int  1 2 3 4 5 6 7 8 9 10 ...\n",
            " $ Answer  : chr  \"A \" \"C \" \"A \" \"D \" ...\n",
            "\n",
            "\n",
            "Chatbot_F_Day1_Answer"
          ]
        },
        {
          "output_type": "display_data",
          "data": {
            "text/html": [
              "<table class=\"dataframe\">\n",
              "<caption>A data.frame: 6 × 2</caption>\n",
              "<thead>\n",
              "\t<tr><th></th><th scope=col>Question</th><th scope=col>Answer</th></tr>\n",
              "\t<tr><th></th><th scope=col>&lt;int&gt;</th><th scope=col>&lt;chr&gt;</th></tr>\n",
              "</thead>\n",
              "<tbody>\n",
              "\t<tr><th scope=row>10</th><td>1</td><td>A</td></tr>\n",
              "\t<tr><th scope=row>44</th><td>2</td><td>C</td></tr>\n",
              "\t<tr><th scope=row>89</th><td>3</td><td>A</td></tr>\n",
              "\t<tr><th scope=row>84</th><td>4</td><td>D</td></tr>\n",
              "\t<tr><th scope=row>81</th><td>5</td><td>E</td></tr>\n",
              "\t<tr><th scope=row>63</th><td>6</td><td>B</td></tr>\n",
              "</tbody>\n",
              "</table>\n"
            ],
            "text/markdown": "\nA data.frame: 6 × 2\n\n| <!--/--> | Question &lt;int&gt; | Answer &lt;chr&gt; |\n|---|---|---|\n| 10 | 1 | A |\n| 44 | 2 | C |\n| 89 | 3 | A |\n| 84 | 4 | D |\n| 81 | 5 | E |\n| 63 | 6 | B |\n\n",
            "text/latex": "A data.frame: 6 × 2\n\\begin{tabular}{r|ll}\n  & Question & Answer\\\\\n  & <int> & <chr>\\\\\n\\hline\n\t10 & 1 & A\\\\\n\t44 & 2 & C\\\\\n\t89 & 3 & A\\\\\n\t84 & 4 & D\\\\\n\t81 & 5 & E\\\\\n\t63 & 6 & B\\\\\n\\end{tabular}\n",
            "text/plain": [
              "   Question Answer\n",
              "10 1        A     \n",
              "44 2        C     \n",
              "89 3        A     \n",
              "84 4        D     \n",
              "81 5        E     \n",
              "63 6        B     "
            ]
          },
          "metadata": {}
        },
        {
          "output_type": "stream",
          "name": "stdout",
          "text": [
            "'data.frame':\t111 obs. of  2 variables:\n",
            " $ Question: int  1 2 3 4 5 6 7 8 9 10 ...\n",
            " $ Answer  : chr  \"A\" \"C\" \"A\" \"D\" ...\n",
            "\n",
            "\n",
            "Chatbot_F_Day2_Answer"
          ]
        },
        {
          "output_type": "display_data",
          "data": {
            "text/html": [
              "<table class=\"dataframe\">\n",
              "<caption>A data.frame: 6 × 2</caption>\n",
              "<thead>\n",
              "\t<tr><th></th><th scope=col>Question</th><th scope=col>Answer</th></tr>\n",
              "\t<tr><th></th><th scope=col>&lt;int&gt;</th><th scope=col>&lt;chr&gt;</th></tr>\n",
              "</thead>\n",
              "<tbody>\n",
              "\t<tr><th scope=row>10</th><td>1</td><td>A</td></tr>\n",
              "\t<tr><th scope=row>44</th><td>2</td><td>C</td></tr>\n",
              "\t<tr><th scope=row>89</th><td>3</td><td>A</td></tr>\n",
              "\t<tr><th scope=row>84</th><td>4</td><td>D</td></tr>\n",
              "\t<tr><th scope=row>81</th><td>5</td><td>E</td></tr>\n",
              "\t<tr><th scope=row>63</th><td>6</td><td>B</td></tr>\n",
              "</tbody>\n",
              "</table>\n"
            ],
            "text/markdown": "\nA data.frame: 6 × 2\n\n| <!--/--> | Question &lt;int&gt; | Answer &lt;chr&gt; |\n|---|---|---|\n| 10 | 1 | A |\n| 44 | 2 | C |\n| 89 | 3 | A |\n| 84 | 4 | D |\n| 81 | 5 | E |\n| 63 | 6 | B |\n\n",
            "text/latex": "A data.frame: 6 × 2\n\\begin{tabular}{r|ll}\n  & Question & Answer\\\\\n  & <int> & <chr>\\\\\n\\hline\n\t10 & 1 & A\\\\\n\t44 & 2 & C\\\\\n\t89 & 3 & A\\\\\n\t84 & 4 & D\\\\\n\t81 & 5 & E\\\\\n\t63 & 6 & B\\\\\n\\end{tabular}\n",
            "text/plain": [
              "   Question Answer\n",
              "10 1        A     \n",
              "44 2        C     \n",
              "89 3        A     \n",
              "84 4        D     \n",
              "81 5        E     \n",
              "63 6        B     "
            ]
          },
          "metadata": {}
        },
        {
          "output_type": "stream",
          "name": "stdout",
          "text": [
            "'data.frame':\t111 obs. of  2 variables:\n",
            " $ Question: int  1 2 3 4 5 6 7 8 9 10 ...\n",
            " $ Answer  : chr  \"A\" \"C\" \"A\" \"D\" ...\n"
          ]
        }
      ]
    },
    {
      "cell_type": "markdown",
      "source": [
        "All datafiles contain 111 unique question-answer pairs, except for Chatbot_C_Day1_Answer and Chatbot_C_Day2_Answer, which have only 110 and 93 pairs, respectively."
      ],
      "metadata": {
        "id": "zaAU-e2t4iAI"
      }
    },
    {
      "cell_type": "code",
      "source": [
        "# Define the expected range of question numbers (1 to 111)\n",
        "expected_questions <- 1:111\n",
        "\n",
        "# Locate missing questions for Chatbot_C_Day1_Answer\n",
        "missing_questions_Chatbot_C_Day1_Answer <- setdiff(expected_questions, Chatbot_C_Day1_Answer$Question)\n",
        "cat(\"Missing questions in Chatbot_C_Day1_Answer: \", missing_questions_Chatbot_C_Day1_Answer, \"\\n\")\n",
        "\n",
        "# Locate missing questions for Chatbot_C_Day2_Answer\n",
        "missing_questions_Chatbot_C_Day2_Answer <- setdiff(expected_questions, Chatbot_C_Day2_Answer$Question)\n",
        "cat(\"Missing questions in Chatbot_C_Day2_Answer: \", missing_questions_Chatbot_C_Day2_Answer, \"\\n\")"
      ],
      "metadata": {
        "colab": {
          "base_uri": "https://localhost:8080/"
        },
        "id": "T9HbnlGaxlPO",
        "outputId": "45fc7322-ef28-480d-cab0-282471f6a2ea"
      },
      "execution_count": 4,
      "outputs": [
        {
          "output_type": "stream",
          "name": "stdout",
          "text": [
            "Missing questions in Chatbot_C_Day1_Answer:  88 \n",
            "Missing questions in Chatbot_C_Day2_Answer:  2 20 26 37 38 58 64 66 68 69 72 84 85 86 88 94 95 101 \n"
          ]
        }
      ]
    },
    {
      "cell_type": "code",
      "source": [
        "# Now insert the missing question numbers into the dataframes\n",
        "# First create a dataframe with missing questions and NA for the Answer column\n",
        "missing_data_Chatbot_C_Day1_Answer <- data.frame(Question = missing_questions_Chatbot_C_Day1_Answer, Answer = NA)\n",
        "missing_data_Chatbot_C_Day2_Answer <- data.frame(Question = missing_questions_Chatbot_C_Day2_Answer, Answer = NA)\n",
        "\n",
        "# Then combine the original dataframe with the new rows for missing questions\n",
        "Chatbot_C_Day1_Answer <- rbind(Chatbot_C_Day1_Answer, missing_data_Chatbot_C_Day1_Answer)\n",
        "Chatbot_C_Day2_Answer <- rbind(Chatbot_C_Day2_Answer, missing_data_Chatbot_C_Day2_Answer)\n",
        "\n",
        "# Then reorder the dataframe by the Question column\n",
        "Chatbot_C_Day1_Answer <- Chatbot_C_Day1_Answer[order(Chatbot_C_Day1_Answer$Question), ]\n",
        "Chatbot_C_Day2_Answer <- Chatbot_C_Day2_Answer[order(Chatbot_C_Day2_Answer$Question), ]\n",
        "\n",
        "# Re-examine the updated dataframes\n",
        "cat(\"Chatbot_C_Day1_Answer\")\n",
        "head(Chatbot_C_Day1_Answer)\n",
        "str(Chatbot_C_Day1_Answer)\n",
        "cat(\"\\n\\n\")\n",
        "cat(\"Chatbot_C_Day2_Answer\")\n",
        "head(Chatbot_C_Day2_Answer)\n",
        "str(Chatbot_C_Day2_Answer)"
      ],
      "metadata": {
        "colab": {
          "base_uri": "https://localhost:8080/",
          "height": 728
        },
        "id": "pApOhsKF6Fz1",
        "outputId": "72b90595-6af1-48f0-ca14-d86e5e6c37f3"
      },
      "execution_count": 5,
      "outputs": [
        {
          "output_type": "stream",
          "name": "stdout",
          "text": [
            "Chatbot_C_Day1_Answer"
          ]
        },
        {
          "output_type": "display_data",
          "data": {
            "text/html": [
              "<table class=\"dataframe\">\n",
              "<caption>A data.frame: 6 × 2</caption>\n",
              "<thead>\n",
              "\t<tr><th></th><th scope=col>Question</th><th scope=col>Answer</th></tr>\n",
              "\t<tr><th></th><th scope=col>&lt;int&gt;</th><th scope=col>&lt;chr&gt;</th></tr>\n",
              "</thead>\n",
              "<tbody>\n",
              "\t<tr><th scope=row>10</th><td>1</td><td>A</td></tr>\n",
              "\t<tr><th scope=row>43</th><td>2</td><td>C</td></tr>\n",
              "\t<tr><th scope=row>88</th><td>3</td><td>A</td></tr>\n",
              "\t<tr><th scope=row>83</th><td>4</td><td>D</td></tr>\n",
              "\t<tr><th scope=row>80</th><td>5</td><td>E</td></tr>\n",
              "\t<tr><th scope=row>62</th><td>6</td><td>A</td></tr>\n",
              "</tbody>\n",
              "</table>\n"
            ],
            "text/markdown": "\nA data.frame: 6 × 2\n\n| <!--/--> | Question &lt;int&gt; | Answer &lt;chr&gt; |\n|---|---|---|\n| 10 | 1 | A |\n| 43 | 2 | C |\n| 88 | 3 | A |\n| 83 | 4 | D |\n| 80 | 5 | E |\n| 62 | 6 | A |\n\n",
            "text/latex": "A data.frame: 6 × 2\n\\begin{tabular}{r|ll}\n  & Question & Answer\\\\\n  & <int> & <chr>\\\\\n\\hline\n\t10 & 1 & A\\\\\n\t43 & 2 & C\\\\\n\t88 & 3 & A\\\\\n\t83 & 4 & D\\\\\n\t80 & 5 & E\\\\\n\t62 & 6 & A\\\\\n\\end{tabular}\n",
            "text/plain": [
              "   Question Answer\n",
              "10 1        A     \n",
              "43 2        C     \n",
              "88 3        A     \n",
              "83 4        D     \n",
              "80 5        E     \n",
              "62 6        A     "
            ]
          },
          "metadata": {}
        },
        {
          "output_type": "stream",
          "name": "stdout",
          "text": [
            "'data.frame':\t111 obs. of  2 variables:\n",
            " $ Question: int  1 2 3 4 5 6 7 8 9 10 ...\n",
            " $ Answer  : chr  \"A\" \"C\" \"A\" \"D\" ...\n",
            "\n",
            "\n",
            "Chatbot_C_Day2_Answer"
          ]
        },
        {
          "output_type": "display_data",
          "data": {
            "text/html": [
              "<table class=\"dataframe\">\n",
              "<caption>A data.frame: 6 × 2</caption>\n",
              "<thead>\n",
              "\t<tr><th></th><th scope=col>Question</th><th scope=col>Answer</th></tr>\n",
              "\t<tr><th></th><th scope=col>&lt;int&gt;</th><th scope=col>&lt;chr&gt;</th></tr>\n",
              "</thead>\n",
              "<tbody>\n",
              "\t<tr><th scope=row>10</th><td>1</td><td>A </td></tr>\n",
              "\t<tr><th scope=row>110</th><td>2</td><td>NA</td></tr>\n",
              "\t<tr><th scope=row>71</th><td>3</td><td>A </td></tr>\n",
              "\t<tr><th scope=row>66</th><td>4</td><td>D </td></tr>\n",
              "\t<tr><th scope=row>63</th><td>5</td><td>E </td></tr>\n",
              "\t<tr><th scope=row>45</th><td>6</td><td>A </td></tr>\n",
              "</tbody>\n",
              "</table>\n"
            ],
            "text/markdown": "\nA data.frame: 6 × 2\n\n| <!--/--> | Question &lt;int&gt; | Answer &lt;chr&gt; |\n|---|---|---|\n| 10 | 1 | A  |\n| 110 | 2 | NA |\n| 71 | 3 | A  |\n| 66 | 4 | D  |\n| 63 | 5 | E  |\n| 45 | 6 | A  |\n\n",
            "text/latex": "A data.frame: 6 × 2\n\\begin{tabular}{r|ll}\n  & Question & Answer\\\\\n  & <int> & <chr>\\\\\n\\hline\n\t10 & 1 & A \\\\\n\t110 & 2 & NA\\\\\n\t71 & 3 & A \\\\\n\t66 & 4 & D \\\\\n\t63 & 5 & E \\\\\n\t45 & 6 & A \\\\\n\\end{tabular}\n",
            "text/plain": [
              "    Question Answer\n",
              "10  1        A     \n",
              "110 2        NA    \n",
              "71  3        A     \n",
              "66  4        D     \n",
              "63  5        E     \n",
              "45  6        A     "
            ]
          },
          "metadata": {}
        },
        {
          "output_type": "stream",
          "name": "stdout",
          "text": [
            "'data.frame':\t111 obs. of  2 variables:\n",
            " $ Question: int  1 2 3 4 5 6 7 8 9 10 ...\n",
            " $ Answer  : chr  \"A\" NA \"A\" \"D\" ...\n"
          ]
        }
      ]
    },
    {
      "cell_type": "code",
      "source": [
        "# Merge the CSV files into a single CSV file\n",
        "# Keep the 'Question' and 'Answer' columns from the first dataframe\n",
        "Experiment2_merged_files <- Chatbot_A_Day1_Answer\n",
        "\n",
        "# Rename the 'Answer' column in merged_data to 'Chatbot_A_Day1_Answer'\n",
        "colnames(Experiment2_merged_files)[colnames(Experiment2_merged_files) == \"Answer\"] <- \"Chatbot_A_Day1_Answer\"\n",
        "\n",
        "# Then, for each remaining dataframe, keep only the 'Answer' column and rename it to indicate which chatbotId and day it is from.\n",
        "Experiment2_merged_files$Chatbot_A_Day2_Answer <- Chatbot_A_Day2_Answer$Answer\n",
        "Experiment2_merged_files$Chatbot_B_Day1_Answer <- Chatbot_B_Day1_Answer$Answer\n",
        "Experiment2_merged_files$Chatbot_B_Day2_Answer <- Chatbot_B_Day2_Answer$Answer\n",
        "Experiment2_merged_files$Chatbot_C_Day1_Answer <- Chatbot_C_Day1_Answer$Answer\n",
        "Experiment2_merged_files$Chatbot_C_Day2_Answer <- Chatbot_C_Day2_Answer$Answer\n",
        "Experiment2_merged_files$Chatbot_D_Day1_Answer <- Chatbot_D_Day1_Answer$Answer\n",
        "Experiment2_merged_files$Chatbot_D_Day2_Answer <- Chatbot_D_Day2_Answer$Answer\n",
        "Experiment2_merged_files$Chatbot_E_Day1_Answer <- Chatbot_E_Day1_Answer$Answer\n",
        "Experiment2_merged_files$Chatbot_E_Day2_Answer <- Chatbot_E_Day2_Answer$Answer\n",
        "Experiment2_merged_files$Chatbot_F_Day1_Answer <- Chatbot_F_Day1_Answer$Answer\n",
        "Experiment2_merged_files$Chatbot_F_Day2_Answer <- Chatbot_F_Day2_Answer$Answer"
      ],
      "metadata": {
        "id": "AmRjKzYj72Tu"
      },
      "execution_count": 6,
      "outputs": []
    },
    {
      "cell_type": "markdown",
      "source": [
        "## View the data"
      ],
      "metadata": {
        "id": "_KVk50969006"
      }
    },
    {
      "cell_type": "code",
      "source": [
        "# View head and structure of the merged CSV file\n",
        "head(Experiment2_merged_files)\n",
        "str(Experiment2_merged_files)"
      ],
      "metadata": {
        "colab": {
          "base_uri": "https://localhost:8080/",
          "height": 549
        },
        "id": "LfTPFAqz71jC",
        "outputId": "81c6f55a-53d3-494d-8405-ca199b490d05"
      },
      "execution_count": 7,
      "outputs": [
        {
          "output_type": "display_data",
          "data": {
            "text/html": [
              "<table class=\"dataframe\">\n",
              "<caption>A data.frame: 6 × 13</caption>\n",
              "<thead>\n",
              "\t<tr><th></th><th scope=col>Question</th><th scope=col>Chatbot_A_Day1_Answer</th><th scope=col>Chatbot_A_Day2_Answer</th><th scope=col>Chatbot_B_Day1_Answer</th><th scope=col>Chatbot_B_Day2_Answer</th><th scope=col>Chatbot_C_Day1_Answer</th><th scope=col>Chatbot_C_Day2_Answer</th><th scope=col>Chatbot_D_Day1_Answer</th><th scope=col>Chatbot_D_Day2_Answer</th><th scope=col>Chatbot_E_Day1_Answer</th><th scope=col>Chatbot_E_Day2_Answer</th><th scope=col>Chatbot_F_Day1_Answer</th><th scope=col>Chatbot_F_Day2_Answer</th></tr>\n",
              "\t<tr><th></th><th scope=col>&lt;int&gt;</th><th scope=col>&lt;chr&gt;</th><th scope=col>&lt;chr&gt;</th><th scope=col>&lt;chr&gt;</th><th scope=col>&lt;chr&gt;</th><th scope=col>&lt;chr&gt;</th><th scope=col>&lt;chr&gt;</th><th scope=col>&lt;chr&gt;</th><th scope=col>&lt;chr&gt;</th><th scope=col>&lt;chr&gt;</th><th scope=col>&lt;chr&gt;</th><th scope=col>&lt;chr&gt;</th><th scope=col>&lt;chr&gt;</th></tr>\n",
              "</thead>\n",
              "<tbody>\n",
              "\t<tr><th scope=row>83</th><td>1</td><td>A</td><td>A</td><td>A</td><td>A</td><td>A</td><td>A </td><td>A</td><td>A</td><td>A </td><td>A </td><td>A</td><td>A</td></tr>\n",
              "\t<tr><th scope=row>51</th><td>2</td><td>D</td><td>D</td><td>C</td><td>C</td><td>C</td><td>NA</td><td>C</td><td>D</td><td>C </td><td>C </td><td>C</td><td>C</td></tr>\n",
              "\t<tr><th scope=row>77</th><td>3</td><td>A</td><td>A</td><td>A</td><td>A</td><td>A</td><td>A </td><td>A</td><td>A</td><td>A </td><td>A </td><td>A</td><td>A</td></tr>\n",
              "\t<tr><th scope=row>99</th><td>4</td><td>D</td><td>D</td><td>B</td><td>D</td><td>D</td><td>D </td><td>D</td><td>D</td><td>D </td><td>D </td><td>D</td><td>D</td></tr>\n",
              "\t<tr><th scope=row>66</th><td>5</td><td>E</td><td>E</td><td>A</td><td>A</td><td>E</td><td>E </td><td>A</td><td>A</td><td>E </td><td>E </td><td>E</td><td>E</td></tr>\n",
              "\t<tr><th scope=row>19</th><td>6</td><td>B</td><td>B</td><td>B</td><td>B</td><td>A</td><td>A </td><td>B</td><td>B</td><td>B </td><td>B </td><td>B</td><td>B</td></tr>\n",
              "</tbody>\n",
              "</table>\n"
            ],
            "text/markdown": "\nA data.frame: 6 × 13\n\n| <!--/--> | Question &lt;int&gt; | Chatbot_A_Day1_Answer &lt;chr&gt; | Chatbot_A_Day2_Answer &lt;chr&gt; | Chatbot_B_Day1_Answer &lt;chr&gt; | Chatbot_B_Day2_Answer &lt;chr&gt; | Chatbot_C_Day1_Answer &lt;chr&gt; | Chatbot_C_Day2_Answer &lt;chr&gt; | Chatbot_D_Day1_Answer &lt;chr&gt; | Chatbot_D_Day2_Answer &lt;chr&gt; | Chatbot_E_Day1_Answer &lt;chr&gt; | Chatbot_E_Day2_Answer &lt;chr&gt; | Chatbot_F_Day1_Answer &lt;chr&gt; | Chatbot_F_Day2_Answer &lt;chr&gt; |\n|---|---|---|---|---|---|---|---|---|---|---|---|---|---|\n| 83 | 1 | A | A | A | A | A | A  | A | A | A  | A  | A | A |\n| 51 | 2 | D | D | C | C | C | NA | C | D | C  | C  | C | C |\n| 77 | 3 | A | A | A | A | A | A  | A | A | A  | A  | A | A |\n| 99 | 4 | D | D | B | D | D | D  | D | D | D  | D  | D | D |\n| 66 | 5 | E | E | A | A | E | E  | A | A | E  | E  | E | E |\n| 19 | 6 | B | B | B | B | A | A  | B | B | B  | B  | B | B |\n\n",
            "text/latex": "A data.frame: 6 × 13\n\\begin{tabular}{r|lllllllllllll}\n  & Question & Chatbot\\_A\\_Day1\\_Answer & Chatbot\\_A\\_Day2\\_Answer & Chatbot\\_B\\_Day1\\_Answer & Chatbot\\_B\\_Day2\\_Answer & Chatbot\\_C\\_Day1\\_Answer & Chatbot\\_C\\_Day2\\_Answer & Chatbot\\_D\\_Day1\\_Answer & Chatbot\\_D\\_Day2\\_Answer & Chatbot\\_E\\_Day1\\_Answer & Chatbot\\_E\\_Day2\\_Answer & Chatbot\\_F\\_Day1\\_Answer & Chatbot\\_F\\_Day2\\_Answer\\\\\n  & <int> & <chr> & <chr> & <chr> & <chr> & <chr> & <chr> & <chr> & <chr> & <chr> & <chr> & <chr> & <chr>\\\\\n\\hline\n\t83 & 1 & A & A & A & A & A & A  & A & A & A  & A  & A & A\\\\\n\t51 & 2 & D & D & C & C & C & NA & C & D & C  & C  & C & C\\\\\n\t77 & 3 & A & A & A & A & A & A  & A & A & A  & A  & A & A\\\\\n\t99 & 4 & D & D & B & D & D & D  & D & D & D  & D  & D & D\\\\\n\t66 & 5 & E & E & A & A & E & E  & A & A & E  & E  & E & E\\\\\n\t19 & 6 & B & B & B & B & A & A  & B & B & B  & B  & B & B\\\\\n\\end{tabular}\n",
            "text/plain": [
              "   Question Chatbot_A_Day1_Answer Chatbot_A_Day2_Answer Chatbot_B_Day1_Answer\n",
              "83 1        A                     A                     A                    \n",
              "51 2        D                     D                     C                    \n",
              "77 3        A                     A                     A                    \n",
              "99 4        D                     D                     B                    \n",
              "66 5        E                     E                     A                    \n",
              "19 6        B                     B                     B                    \n",
              "   Chatbot_B_Day2_Answer Chatbot_C_Day1_Answer Chatbot_C_Day2_Answer\n",
              "83 A                     A                     A                    \n",
              "51 C                     C                     NA                   \n",
              "77 A                     A                     A                    \n",
              "99 D                     D                     D                    \n",
              "66 A                     E                     E                    \n",
              "19 B                     A                     A                    \n",
              "   Chatbot_D_Day1_Answer Chatbot_D_Day2_Answer Chatbot_E_Day1_Answer\n",
              "83 A                     A                     A                    \n",
              "51 C                     D                     C                    \n",
              "77 A                     A                     A                    \n",
              "99 D                     D                     D                    \n",
              "66 A                     A                     E                    \n",
              "19 B                     B                     B                    \n",
              "   Chatbot_E_Day2_Answer Chatbot_F_Day1_Answer Chatbot_F_Day2_Answer\n",
              "83 A                     A                     A                    \n",
              "51 C                     C                     C                    \n",
              "77 A                     A                     A                    \n",
              "99 D                     D                     D                    \n",
              "66 E                     E                     E                    \n",
              "19 B                     B                     B                    "
            ]
          },
          "metadata": {}
        },
        {
          "output_type": "stream",
          "name": "stdout",
          "text": [
            "'data.frame':\t111 obs. of  13 variables:\n",
            " $ Question             : int  1 2 3 4 5 6 7 8 9 10 ...\n",
            " $ Chatbot_A_Day1_Answer: chr  \"A\" \"D\" \"A\" \"D\" ...\n",
            " $ Chatbot_A_Day2_Answer: chr  \"A\" \"D\" \"A\" \"D\" ...\n",
            " $ Chatbot_B_Day1_Answer: chr  \"A\" \"C\" \"A\" \"B\" ...\n",
            " $ Chatbot_B_Day2_Answer: chr  \"A\" \"C\" \"A\" \"D\" ...\n",
            " $ Chatbot_C_Day1_Answer: chr  \"A\" \"C\" \"A\" \"D\" ...\n",
            " $ Chatbot_C_Day2_Answer: chr  \"A\" NA \"A\" \"D\" ...\n",
            " $ Chatbot_D_Day1_Answer: chr  \"A\" \"C\" \"A\" \"D\" ...\n",
            " $ Chatbot_D_Day2_Answer: chr  \"A\" \"D\" \"A\" \"D\" ...\n",
            " $ Chatbot_E_Day1_Answer: chr  \"A \" \"C \" \"A \" \"D \" ...\n",
            " $ Chatbot_E_Day2_Answer: chr  \"A \" \"C \" \"A \" \"D \" ...\n",
            " $ Chatbot_F_Day1_Answer: chr  \"A\" \"C\" \"A\" \"D\" ...\n",
            " $ Chatbot_F_Day2_Answer: chr  \"A\" \"C\" \"A\" \"D\" ...\n"
          ]
        }
      ]
    },
    {
      "cell_type": "code",
      "source": [
        "# Count missing values in each column\n",
        "colSums(is.na(Experiment2_merged_files))"
      ],
      "metadata": {
        "id": "Z4ErL2Js8jmG",
        "colab": {
          "base_uri": "https://localhost:8080/",
          "height": 69
        },
        "outputId": "c3c81c98-4420-4b0d-9616-19c195190698"
      },
      "execution_count": 8,
      "outputs": [
        {
          "output_type": "display_data",
          "data": {
            "text/html": [
              "<style>\n",
              ".dl-inline {width: auto; margin:0; padding: 0}\n",
              ".dl-inline>dt, .dl-inline>dd {float: none; width: auto; display: inline-block}\n",
              ".dl-inline>dt::after {content: \":\\0020\"; padding-right: .5ex}\n",
              ".dl-inline>dt:not(:first-of-type) {padding-left: .5ex}\n",
              "</style><dl class=dl-inline><dt>Question</dt><dd>0</dd><dt>Chatbot_A_Day1_Answer</dt><dd>0</dd><dt>Chatbot_A_Day2_Answer</dt><dd>0</dd><dt>Chatbot_B_Day1_Answer</dt><dd>0</dd><dt>Chatbot_B_Day2_Answer</dt><dd>0</dd><dt>Chatbot_C_Day1_Answer</dt><dd>1</dd><dt>Chatbot_C_Day2_Answer</dt><dd>18</dd><dt>Chatbot_D_Day1_Answer</dt><dd>0</dd><dt>Chatbot_D_Day2_Answer</dt><dd>0</dd><dt>Chatbot_E_Day1_Answer</dt><dd>0</dd><dt>Chatbot_E_Day2_Answer</dt><dd>0</dd><dt>Chatbot_F_Day1_Answer</dt><dd>0</dd><dt>Chatbot_F_Day2_Answer</dt><dd>0</dd></dl>\n"
            ],
            "text/markdown": "Question\n:   0Chatbot_A_Day1_Answer\n:   0Chatbot_A_Day2_Answer\n:   0Chatbot_B_Day1_Answer\n:   0Chatbot_B_Day2_Answer\n:   0Chatbot_C_Day1_Answer\n:   1Chatbot_C_Day2_Answer\n:   18Chatbot_D_Day1_Answer\n:   0Chatbot_D_Day2_Answer\n:   0Chatbot_E_Day1_Answer\n:   0Chatbot_E_Day2_Answer\n:   0Chatbot_F_Day1_Answer\n:   0Chatbot_F_Day2_Answer\n:   0\n\n",
            "text/latex": "\\begin{description*}\n\\item[Question] 0\n\\item[Chatbot\\textbackslash{}\\_A\\textbackslash{}\\_Day1\\textbackslash{}\\_Answer] 0\n\\item[Chatbot\\textbackslash{}\\_A\\textbackslash{}\\_Day2\\textbackslash{}\\_Answer] 0\n\\item[Chatbot\\textbackslash{}\\_B\\textbackslash{}\\_Day1\\textbackslash{}\\_Answer] 0\n\\item[Chatbot\\textbackslash{}\\_B\\textbackslash{}\\_Day2\\textbackslash{}\\_Answer] 0\n\\item[Chatbot\\textbackslash{}\\_C\\textbackslash{}\\_Day1\\textbackslash{}\\_Answer] 1\n\\item[Chatbot\\textbackslash{}\\_C\\textbackslash{}\\_Day2\\textbackslash{}\\_Answer] 18\n\\item[Chatbot\\textbackslash{}\\_D\\textbackslash{}\\_Day1\\textbackslash{}\\_Answer] 0\n\\item[Chatbot\\textbackslash{}\\_D\\textbackslash{}\\_Day2\\textbackslash{}\\_Answer] 0\n\\item[Chatbot\\textbackslash{}\\_E\\textbackslash{}\\_Day1\\textbackslash{}\\_Answer] 0\n\\item[Chatbot\\textbackslash{}\\_E\\textbackslash{}\\_Day2\\textbackslash{}\\_Answer] 0\n\\item[Chatbot\\textbackslash{}\\_F\\textbackslash{}\\_Day1\\textbackslash{}\\_Answer] 0\n\\item[Chatbot\\textbackslash{}\\_F\\textbackslash{}\\_Day2\\textbackslash{}\\_Answer] 0\n\\end{description*}\n",
            "text/plain": [
              "             Question Chatbot_A_Day1_Answer Chatbot_A_Day2_Answer \n",
              "                    0                     0                     0 \n",
              "Chatbot_B_Day1_Answer Chatbot_B_Day2_Answer Chatbot_C_Day1_Answer \n",
              "                    0                     0                     1 \n",
              "Chatbot_C_Day2_Answer Chatbot_D_Day1_Answer Chatbot_D_Day2_Answer \n",
              "                   18                     0                     0 \n",
              "Chatbot_E_Day1_Answer Chatbot_E_Day2_Answer Chatbot_F_Day1_Answer \n",
              "                    0                     0                     0 \n",
              "Chatbot_F_Day2_Answer \n",
              "                    0 "
            ]
          },
          "metadata": {}
        }
      ]
    },
    {
      "cell_type": "code",
      "source": [
        "# Identify columns with missing values\n",
        "missing_values_Experiment2 <- colSums(is.na(Experiment2_merged_files)) > 0\n",
        "\n",
        "# Display columns with missing values\n",
        "missing_columns_Experiment2 <- names(missing_values_Experiment2[missing_values_Experiment2])\n",
        "print(missing_columns_Experiment2)"
      ],
      "metadata": {
        "id": "A4Oy0JnLwPGv",
        "colab": {
          "base_uri": "https://localhost:8080/"
        },
        "outputId": "2c970408-f862-438f-8ed5-5feef0d55f51"
      },
      "execution_count": 9,
      "outputs": [
        {
          "output_type": "stream",
          "name": "stdout",
          "text": [
            "[1] \"Chatbot_C_Day1_Answer\" \"Chatbot_C_Day2_Answer\"\n"
          ]
        }
      ]
    },
    {
      "cell_type": "code",
      "source": [
        "# Check the unique values in the Question column to verify that the \"Question\" column has the expected range of unique values (111)\n",
        "length(unique(Experiment2_merged_files$Question))"
      ],
      "metadata": {
        "id": "t4hj2HnH8mTU",
        "colab": {
          "base_uri": "https://localhost:8080/",
          "height": 34
        },
        "outputId": "a3666cc8-3df0-4b01-c1f5-6ab0a189d3a4"
      },
      "execution_count": 10,
      "outputs": [
        {
          "output_type": "display_data",
          "data": {
            "text/html": [
              "111"
            ],
            "text/markdown": "111",
            "text/latex": "111",
            "text/plain": [
              "[1] 111"
            ]
          },
          "metadata": {}
        }
      ]
    },
    {
      "cell_type": "markdown",
      "source": [
        "## Rate the answers to the exam questions"
      ],
      "metadata": {
        "id": "JAeZffAt-3T6"
      }
    },
    {
      "cell_type": "code",
      "source": [
        "# Load the correct answers\n",
        "correct_answers <- read.csv(\"/content/Experiment2_Correct_answers.csv\")\n",
        "\n",
        "# view header and structure of correct_answers\n",
        "head(correct_answers)\n",
        "str(correct_answers)"
      ],
      "metadata": {
        "colab": {
          "base_uri": "https://localhost:8080/",
          "height": 338
        },
        "id": "q8Zu2-rJAUJa",
        "outputId": "b547b7e6-df50-4bca-8e77-d3743b7978a7"
      },
      "execution_count": 11,
      "outputs": [
        {
          "output_type": "display_data",
          "data": {
            "text/html": [
              "<table class=\"dataframe\">\n",
              "<caption>A data.frame: 6 × 2</caption>\n",
              "<thead>\n",
              "\t<tr><th></th><th scope=col>Question</th><th scope=col>Answer</th></tr>\n",
              "\t<tr><th></th><th scope=col>&lt;int&gt;</th><th scope=col>&lt;chr&gt;</th></tr>\n",
              "</thead>\n",
              "<tbody>\n",
              "\t<tr><th scope=row>1</th><td>1</td><td>A</td></tr>\n",
              "\t<tr><th scope=row>2</th><td>2</td><td>C</td></tr>\n",
              "\t<tr><th scope=row>3</th><td>3</td><td>A</td></tr>\n",
              "\t<tr><th scope=row>4</th><td>4</td><td>D</td></tr>\n",
              "\t<tr><th scope=row>5</th><td>5</td><td>E</td></tr>\n",
              "\t<tr><th scope=row>6</th><td>6</td><td>B</td></tr>\n",
              "</tbody>\n",
              "</table>\n"
            ],
            "text/markdown": "\nA data.frame: 6 × 2\n\n| <!--/--> | Question &lt;int&gt; | Answer &lt;chr&gt; |\n|---|---|---|\n| 1 | 1 | A |\n| 2 | 2 | C |\n| 3 | 3 | A |\n| 4 | 4 | D |\n| 5 | 5 | E |\n| 6 | 6 | B |\n\n",
            "text/latex": "A data.frame: 6 × 2\n\\begin{tabular}{r|ll}\n  & Question & Answer\\\\\n  & <int> & <chr>\\\\\n\\hline\n\t1 & 1 & A\\\\\n\t2 & 2 & C\\\\\n\t3 & 3 & A\\\\\n\t4 & 4 & D\\\\\n\t5 & 5 & E\\\\\n\t6 & 6 & B\\\\\n\\end{tabular}\n",
            "text/plain": [
              "  Question Answer\n",
              "1 1        A     \n",
              "2 2        C     \n",
              "3 3        A     \n",
              "4 4        D     \n",
              "5 5        E     \n",
              "6 6        B     "
            ]
          },
          "metadata": {}
        },
        {
          "output_type": "stream",
          "name": "stdout",
          "text": [
            "'data.frame':\t111 obs. of  2 variables:\n",
            " $ Question: int  1 2 3 4 5 6 7 8 9 10 ...\n",
            " $ Answer  : chr  \"A\" \"C\" \"A\" \"D\" ...\n"
          ]
        }
      ]
    },
    {
      "cell_type": "markdown",
      "source": [
        "The correct_answers dataframe contains 111 questions in the correct format"
      ],
      "metadata": {
        "id": "WZcBvjMKAq_k"
      }
    },
    {
      "cell_type": "code",
      "source": [
        "# Merge correct_answers with the merged_data_Experiment2 on the 'Question' column\n",
        "# This will ensure that the correct answers are aligned with the corresponding questions\n",
        "Experiment2_merged_files_with_answers <- merge(Experiment2_merged_files, correct_answers, by = \"Question\")\n",
        "\n",
        "# Rename the 'Answer' column in merged_data to 'Chatbot_A_Day1_Answer'\n",
        "colnames(Experiment2_merged_files_with_answers)[colnames(Experiment2_merged_files_with_answers) == \"Answer\"] <- \"correctAnswer\"\n",
        "\n",
        "# view head\n",
        "head(Experiment2_merged_files_with_answers)"
      ],
      "metadata": {
        "colab": {
          "base_uri": "https://localhost:8080/",
          "height": 306
        },
        "id": "BUU288dQCvnU",
        "outputId": "ba46061f-f032-4ab3-b9a2-897b8e9aba50"
      },
      "execution_count": 12,
      "outputs": [
        {
          "output_type": "display_data",
          "data": {
            "text/html": [
              "<table class=\"dataframe\">\n",
              "<caption>A data.frame: 6 × 14</caption>\n",
              "<thead>\n",
              "\t<tr><th></th><th scope=col>Question</th><th scope=col>Chatbot_A_Day1_Answer</th><th scope=col>Chatbot_A_Day2_Answer</th><th scope=col>Chatbot_B_Day1_Answer</th><th scope=col>Chatbot_B_Day2_Answer</th><th scope=col>Chatbot_C_Day1_Answer</th><th scope=col>Chatbot_C_Day2_Answer</th><th scope=col>Chatbot_D_Day1_Answer</th><th scope=col>Chatbot_D_Day2_Answer</th><th scope=col>Chatbot_E_Day1_Answer</th><th scope=col>Chatbot_E_Day2_Answer</th><th scope=col>Chatbot_F_Day1_Answer</th><th scope=col>Chatbot_F_Day2_Answer</th><th scope=col>correctAnswer</th></tr>\n",
              "\t<tr><th></th><th scope=col>&lt;int&gt;</th><th scope=col>&lt;chr&gt;</th><th scope=col>&lt;chr&gt;</th><th scope=col>&lt;chr&gt;</th><th scope=col>&lt;chr&gt;</th><th scope=col>&lt;chr&gt;</th><th scope=col>&lt;chr&gt;</th><th scope=col>&lt;chr&gt;</th><th scope=col>&lt;chr&gt;</th><th scope=col>&lt;chr&gt;</th><th scope=col>&lt;chr&gt;</th><th scope=col>&lt;chr&gt;</th><th scope=col>&lt;chr&gt;</th><th scope=col>&lt;chr&gt;</th></tr>\n",
              "</thead>\n",
              "<tbody>\n",
              "\t<tr><th scope=row>1</th><td>1</td><td>A</td><td>A</td><td>A</td><td>A</td><td>A</td><td>A </td><td>A</td><td>A</td><td>A </td><td>A </td><td>A</td><td>A</td><td>A</td></tr>\n",
              "\t<tr><th scope=row>2</th><td>2</td><td>D</td><td>D</td><td>C</td><td>C</td><td>C</td><td>NA</td><td>C</td><td>D</td><td>C </td><td>C </td><td>C</td><td>C</td><td>C</td></tr>\n",
              "\t<tr><th scope=row>3</th><td>3</td><td>A</td><td>A</td><td>A</td><td>A</td><td>A</td><td>A </td><td>A</td><td>A</td><td>A </td><td>A </td><td>A</td><td>A</td><td>A</td></tr>\n",
              "\t<tr><th scope=row>4</th><td>4</td><td>D</td><td>D</td><td>B</td><td>D</td><td>D</td><td>D </td><td>D</td><td>D</td><td>D </td><td>D </td><td>D</td><td>D</td><td>D</td></tr>\n",
              "\t<tr><th scope=row>5</th><td>5</td><td>E</td><td>E</td><td>A</td><td>A</td><td>E</td><td>E </td><td>A</td><td>A</td><td>E </td><td>E </td><td>E</td><td>E</td><td>E</td></tr>\n",
              "\t<tr><th scope=row>6</th><td>6</td><td>B</td><td>B</td><td>B</td><td>B</td><td>A</td><td>A </td><td>B</td><td>B</td><td>B </td><td>B </td><td>B</td><td>B</td><td>B</td></tr>\n",
              "</tbody>\n",
              "</table>\n"
            ],
            "text/markdown": "\nA data.frame: 6 × 14\n\n| <!--/--> | Question &lt;int&gt; | Chatbot_A_Day1_Answer &lt;chr&gt; | Chatbot_A_Day2_Answer &lt;chr&gt; | Chatbot_B_Day1_Answer &lt;chr&gt; | Chatbot_B_Day2_Answer &lt;chr&gt; | Chatbot_C_Day1_Answer &lt;chr&gt; | Chatbot_C_Day2_Answer &lt;chr&gt; | Chatbot_D_Day1_Answer &lt;chr&gt; | Chatbot_D_Day2_Answer &lt;chr&gt; | Chatbot_E_Day1_Answer &lt;chr&gt; | Chatbot_E_Day2_Answer &lt;chr&gt; | Chatbot_F_Day1_Answer &lt;chr&gt; | Chatbot_F_Day2_Answer &lt;chr&gt; | correctAnswer &lt;chr&gt; |\n|---|---|---|---|---|---|---|---|---|---|---|---|---|---|---|\n| 1 | 1 | A | A | A | A | A | A  | A | A | A  | A  | A | A | A |\n| 2 | 2 | D | D | C | C | C | NA | C | D | C  | C  | C | C | C |\n| 3 | 3 | A | A | A | A | A | A  | A | A | A  | A  | A | A | A |\n| 4 | 4 | D | D | B | D | D | D  | D | D | D  | D  | D | D | D |\n| 5 | 5 | E | E | A | A | E | E  | A | A | E  | E  | E | E | E |\n| 6 | 6 | B | B | B | B | A | A  | B | B | B  | B  | B | B | B |\n\n",
            "text/latex": "A data.frame: 6 × 14\n\\begin{tabular}{r|llllllllllllll}\n  & Question & Chatbot\\_A\\_Day1\\_Answer & Chatbot\\_A\\_Day2\\_Answer & Chatbot\\_B\\_Day1\\_Answer & Chatbot\\_B\\_Day2\\_Answer & Chatbot\\_C\\_Day1\\_Answer & Chatbot\\_C\\_Day2\\_Answer & Chatbot\\_D\\_Day1\\_Answer & Chatbot\\_D\\_Day2\\_Answer & Chatbot\\_E\\_Day1\\_Answer & Chatbot\\_E\\_Day2\\_Answer & Chatbot\\_F\\_Day1\\_Answer & Chatbot\\_F\\_Day2\\_Answer & correctAnswer\\\\\n  & <int> & <chr> & <chr> & <chr> & <chr> & <chr> & <chr> & <chr> & <chr> & <chr> & <chr> & <chr> & <chr> & <chr>\\\\\n\\hline\n\t1 & 1 & A & A & A & A & A & A  & A & A & A  & A  & A & A & A\\\\\n\t2 & 2 & D & D & C & C & C & NA & C & D & C  & C  & C & C & C\\\\\n\t3 & 3 & A & A & A & A & A & A  & A & A & A  & A  & A & A & A\\\\\n\t4 & 4 & D & D & B & D & D & D  & D & D & D  & D  & D & D & D\\\\\n\t5 & 5 & E & E & A & A & E & E  & A & A & E  & E  & E & E & E\\\\\n\t6 & 6 & B & B & B & B & A & A  & B & B & B  & B  & B & B & B\\\\\n\\end{tabular}\n",
            "text/plain": [
              "  Question Chatbot_A_Day1_Answer Chatbot_A_Day2_Answer Chatbot_B_Day1_Answer\n",
              "1 1        A                     A                     A                    \n",
              "2 2        D                     D                     C                    \n",
              "3 3        A                     A                     A                    \n",
              "4 4        D                     D                     B                    \n",
              "5 5        E                     E                     A                    \n",
              "6 6        B                     B                     B                    \n",
              "  Chatbot_B_Day2_Answer Chatbot_C_Day1_Answer Chatbot_C_Day2_Answer\n",
              "1 A                     A                     A                    \n",
              "2 C                     C                     NA                   \n",
              "3 A                     A                     A                    \n",
              "4 D                     D                     D                    \n",
              "5 A                     E                     E                    \n",
              "6 B                     A                     A                    \n",
              "  Chatbot_D_Day1_Answer Chatbot_D_Day2_Answer Chatbot_E_Day1_Answer\n",
              "1 A                     A                     A                    \n",
              "2 C                     D                     C                    \n",
              "3 A                     A                     A                    \n",
              "4 D                     D                     D                    \n",
              "5 A                     A                     E                    \n",
              "6 B                     B                     B                    \n",
              "  Chatbot_E_Day2_Answer Chatbot_F_Day1_Answer Chatbot_F_Day2_Answer\n",
              "1 A                     A                     A                    \n",
              "2 C                     C                     C                    \n",
              "3 A                     A                     A                    \n",
              "4 D                     D                     D                    \n",
              "5 E                     E                     E                    \n",
              "6 B                     B                     B                    \n",
              "  correctAnswer\n",
              "1 A            \n",
              "2 C            \n",
              "3 A            \n",
              "4 D            \n",
              "5 E            \n",
              "6 B            "
            ]
          },
          "metadata": {}
        }
      ]
    },
    {
      "cell_type": "code",
      "source": [
        "# Create a function to compare each chatbot's answer to the correctAnswer, creating a new column for the score, awarding 1 if an answer is correct and 0 if an answer is incorrect.\n",
        "# Scoring function\n",
        "score_answers <- function(df) {\n",
        "  # Identify the columns for chatbot answers\n",
        "  chatbot_columns <- grep(\"Chatbot_\", names(df), value = TRUE)\n",
        "\n",
        "  # Loop through each chatbot column and calculate scores\n",
        "  for (chatbot in chatbot_columns) {\n",
        "    # Trim whitespace and handle NA values so that NA is assigned 0 (incorrect).\n",
        "    df[[paste0(chatbot, \"_score\")]] <- ifelse(\n",
        "      trimws(df[[chatbot]]) == trimws(df$correctAnswer) & !is.na(df[[chatbot]]),\n",
        "      1,\n",
        "      0\n",
        "    )\n",
        "  }\n",
        "\n",
        "  return(df)\n",
        "}\n",
        "\n",
        "# Apply the scoring function\n",
        "Experiment2_Chatbot_ratings <- score_answers(Experiment2_merged_files_with_answers)\n",
        "\n",
        "# Display the first few rows of the updated dataframe\n",
        "head(Experiment2_Chatbot_ratings)"
      ],
      "metadata": {
        "colab": {
          "base_uri": "https://localhost:8080/",
          "height": 306
        },
        "id": "6huQSNVIDsBH",
        "outputId": "ab95ba4d-a971-42ca-cbea-3ecffa41031e"
      },
      "execution_count": 13,
      "outputs": [
        {
          "output_type": "display_data",
          "data": {
            "text/html": [
              "<table class=\"dataframe\">\n",
              "<caption>A data.frame: 6 × 26</caption>\n",
              "<thead>\n",
              "\t<tr><th></th><th scope=col>Question</th><th scope=col>Chatbot_A_Day1_Answer</th><th scope=col>Chatbot_A_Day2_Answer</th><th scope=col>Chatbot_B_Day1_Answer</th><th scope=col>Chatbot_B_Day2_Answer</th><th scope=col>Chatbot_C_Day1_Answer</th><th scope=col>Chatbot_C_Day2_Answer</th><th scope=col>Chatbot_D_Day1_Answer</th><th scope=col>Chatbot_D_Day2_Answer</th><th scope=col>Chatbot_E_Day1_Answer</th><th scope=col>⋯</th><th scope=col>Chatbot_B_Day1_Answer_score</th><th scope=col>Chatbot_B_Day2_Answer_score</th><th scope=col>Chatbot_C_Day1_Answer_score</th><th scope=col>Chatbot_C_Day2_Answer_score</th><th scope=col>Chatbot_D_Day1_Answer_score</th><th scope=col>Chatbot_D_Day2_Answer_score</th><th scope=col>Chatbot_E_Day1_Answer_score</th><th scope=col>Chatbot_E_Day2_Answer_score</th><th scope=col>Chatbot_F_Day1_Answer_score</th><th scope=col>Chatbot_F_Day2_Answer_score</th></tr>\n",
              "\t<tr><th></th><th scope=col>&lt;int&gt;</th><th scope=col>&lt;chr&gt;</th><th scope=col>&lt;chr&gt;</th><th scope=col>&lt;chr&gt;</th><th scope=col>&lt;chr&gt;</th><th scope=col>&lt;chr&gt;</th><th scope=col>&lt;chr&gt;</th><th scope=col>&lt;chr&gt;</th><th scope=col>&lt;chr&gt;</th><th scope=col>&lt;chr&gt;</th><th scope=col>⋯</th><th scope=col>&lt;dbl&gt;</th><th scope=col>&lt;dbl&gt;</th><th scope=col>&lt;dbl&gt;</th><th scope=col>&lt;dbl&gt;</th><th scope=col>&lt;dbl&gt;</th><th scope=col>&lt;dbl&gt;</th><th scope=col>&lt;dbl&gt;</th><th scope=col>&lt;dbl&gt;</th><th scope=col>&lt;dbl&gt;</th><th scope=col>&lt;dbl&gt;</th></tr>\n",
              "</thead>\n",
              "<tbody>\n",
              "\t<tr><th scope=row>1</th><td>1</td><td>A</td><td>A</td><td>A</td><td>A</td><td>A</td><td>A </td><td>A</td><td>A</td><td>A </td><td>⋯</td><td>1</td><td>1</td><td>1</td><td>1</td><td>1</td><td>1</td><td>1</td><td>1</td><td>1</td><td>1</td></tr>\n",
              "\t<tr><th scope=row>2</th><td>2</td><td>D</td><td>D</td><td>C</td><td>C</td><td>C</td><td>NA</td><td>C</td><td>D</td><td>C </td><td>⋯</td><td>1</td><td>1</td><td>1</td><td>0</td><td>1</td><td>0</td><td>1</td><td>1</td><td>1</td><td>1</td></tr>\n",
              "\t<tr><th scope=row>3</th><td>3</td><td>A</td><td>A</td><td>A</td><td>A</td><td>A</td><td>A </td><td>A</td><td>A</td><td>A </td><td>⋯</td><td>1</td><td>1</td><td>1</td><td>1</td><td>1</td><td>1</td><td>1</td><td>1</td><td>1</td><td>1</td></tr>\n",
              "\t<tr><th scope=row>4</th><td>4</td><td>D</td><td>D</td><td>B</td><td>D</td><td>D</td><td>D </td><td>D</td><td>D</td><td>D </td><td>⋯</td><td>0</td><td>1</td><td>1</td><td>1</td><td>1</td><td>1</td><td>1</td><td>1</td><td>1</td><td>1</td></tr>\n",
              "\t<tr><th scope=row>5</th><td>5</td><td>E</td><td>E</td><td>A</td><td>A</td><td>E</td><td>E </td><td>A</td><td>A</td><td>E </td><td>⋯</td><td>0</td><td>0</td><td>1</td><td>1</td><td>0</td><td>0</td><td>1</td><td>1</td><td>1</td><td>1</td></tr>\n",
              "\t<tr><th scope=row>6</th><td>6</td><td>B</td><td>B</td><td>B</td><td>B</td><td>A</td><td>A </td><td>B</td><td>B</td><td>B </td><td>⋯</td><td>1</td><td>1</td><td>0</td><td>0</td><td>1</td><td>1</td><td>1</td><td>1</td><td>1</td><td>1</td></tr>\n",
              "</tbody>\n",
              "</table>\n"
            ],
            "text/markdown": "\nA data.frame: 6 × 26\n\n| <!--/--> | Question &lt;int&gt; | Chatbot_A_Day1_Answer &lt;chr&gt; | Chatbot_A_Day2_Answer &lt;chr&gt; | Chatbot_B_Day1_Answer &lt;chr&gt; | Chatbot_B_Day2_Answer &lt;chr&gt; | Chatbot_C_Day1_Answer &lt;chr&gt; | Chatbot_C_Day2_Answer &lt;chr&gt; | Chatbot_D_Day1_Answer &lt;chr&gt; | Chatbot_D_Day2_Answer &lt;chr&gt; | Chatbot_E_Day1_Answer &lt;chr&gt; | ⋯ ⋯ | Chatbot_B_Day1_Answer_score &lt;dbl&gt; | Chatbot_B_Day2_Answer_score &lt;dbl&gt; | Chatbot_C_Day1_Answer_score &lt;dbl&gt; | Chatbot_C_Day2_Answer_score &lt;dbl&gt; | Chatbot_D_Day1_Answer_score &lt;dbl&gt; | Chatbot_D_Day2_Answer_score &lt;dbl&gt; | Chatbot_E_Day1_Answer_score &lt;dbl&gt; | Chatbot_E_Day2_Answer_score &lt;dbl&gt; | Chatbot_F_Day1_Answer_score &lt;dbl&gt; | Chatbot_F_Day2_Answer_score &lt;dbl&gt; |\n|---|---|---|---|---|---|---|---|---|---|---|---|---|---|---|---|---|---|---|---|---|---|\n| 1 | 1 | A | A | A | A | A | A  | A | A | A  | ⋯ | 1 | 1 | 1 | 1 | 1 | 1 | 1 | 1 | 1 | 1 |\n| 2 | 2 | D | D | C | C | C | NA | C | D | C  | ⋯ | 1 | 1 | 1 | 0 | 1 | 0 | 1 | 1 | 1 | 1 |\n| 3 | 3 | A | A | A | A | A | A  | A | A | A  | ⋯ | 1 | 1 | 1 | 1 | 1 | 1 | 1 | 1 | 1 | 1 |\n| 4 | 4 | D | D | B | D | D | D  | D | D | D  | ⋯ | 0 | 1 | 1 | 1 | 1 | 1 | 1 | 1 | 1 | 1 |\n| 5 | 5 | E | E | A | A | E | E  | A | A | E  | ⋯ | 0 | 0 | 1 | 1 | 0 | 0 | 1 | 1 | 1 | 1 |\n| 6 | 6 | B | B | B | B | A | A  | B | B | B  | ⋯ | 1 | 1 | 0 | 0 | 1 | 1 | 1 | 1 | 1 | 1 |\n\n",
            "text/latex": "A data.frame: 6 × 26\n\\begin{tabular}{r|lllllllllllllllllllll}\n  & Question & Chatbot\\_A\\_Day1\\_Answer & Chatbot\\_A\\_Day2\\_Answer & Chatbot\\_B\\_Day1\\_Answer & Chatbot\\_B\\_Day2\\_Answer & Chatbot\\_C\\_Day1\\_Answer & Chatbot\\_C\\_Day2\\_Answer & Chatbot\\_D\\_Day1\\_Answer & Chatbot\\_D\\_Day2\\_Answer & Chatbot\\_E\\_Day1\\_Answer & ⋯ & Chatbot\\_B\\_Day1\\_Answer\\_score & Chatbot\\_B\\_Day2\\_Answer\\_score & Chatbot\\_C\\_Day1\\_Answer\\_score & Chatbot\\_C\\_Day2\\_Answer\\_score & Chatbot\\_D\\_Day1\\_Answer\\_score & Chatbot\\_D\\_Day2\\_Answer\\_score & Chatbot\\_E\\_Day1\\_Answer\\_score & Chatbot\\_E\\_Day2\\_Answer\\_score & Chatbot\\_F\\_Day1\\_Answer\\_score & Chatbot\\_F\\_Day2\\_Answer\\_score\\\\\n  & <int> & <chr> & <chr> & <chr> & <chr> & <chr> & <chr> & <chr> & <chr> & <chr> & ⋯ & <dbl> & <dbl> & <dbl> & <dbl> & <dbl> & <dbl> & <dbl> & <dbl> & <dbl> & <dbl>\\\\\n\\hline\n\t1 & 1 & A & A & A & A & A & A  & A & A & A  & ⋯ & 1 & 1 & 1 & 1 & 1 & 1 & 1 & 1 & 1 & 1\\\\\n\t2 & 2 & D & D & C & C & C & NA & C & D & C  & ⋯ & 1 & 1 & 1 & 0 & 1 & 0 & 1 & 1 & 1 & 1\\\\\n\t3 & 3 & A & A & A & A & A & A  & A & A & A  & ⋯ & 1 & 1 & 1 & 1 & 1 & 1 & 1 & 1 & 1 & 1\\\\\n\t4 & 4 & D & D & B & D & D & D  & D & D & D  & ⋯ & 0 & 1 & 1 & 1 & 1 & 1 & 1 & 1 & 1 & 1\\\\\n\t5 & 5 & E & E & A & A & E & E  & A & A & E  & ⋯ & 0 & 0 & 1 & 1 & 0 & 0 & 1 & 1 & 1 & 1\\\\\n\t6 & 6 & B & B & B & B & A & A  & B & B & B  & ⋯ & 1 & 1 & 0 & 0 & 1 & 1 & 1 & 1 & 1 & 1\\\\\n\\end{tabular}\n",
            "text/plain": [
              "  Question Chatbot_A_Day1_Answer Chatbot_A_Day2_Answer Chatbot_B_Day1_Answer\n",
              "1 1        A                     A                     A                    \n",
              "2 2        D                     D                     C                    \n",
              "3 3        A                     A                     A                    \n",
              "4 4        D                     D                     B                    \n",
              "5 5        E                     E                     A                    \n",
              "6 6        B                     B                     B                    \n",
              "  Chatbot_B_Day2_Answer Chatbot_C_Day1_Answer Chatbot_C_Day2_Answer\n",
              "1 A                     A                     A                    \n",
              "2 C                     C                     NA                   \n",
              "3 A                     A                     A                    \n",
              "4 D                     D                     D                    \n",
              "5 A                     E                     E                    \n",
              "6 B                     A                     A                    \n",
              "  Chatbot_D_Day1_Answer Chatbot_D_Day2_Answer Chatbot_E_Day1_Answer ⋯\n",
              "1 A                     A                     A                     ⋯\n",
              "2 C                     D                     C                     ⋯\n",
              "3 A                     A                     A                     ⋯\n",
              "4 D                     D                     D                     ⋯\n",
              "5 A                     A                     E                     ⋯\n",
              "6 B                     B                     B                     ⋯\n",
              "  Chatbot_B_Day1_Answer_score Chatbot_B_Day2_Answer_score\n",
              "1 1                           1                          \n",
              "2 1                           1                          \n",
              "3 1                           1                          \n",
              "4 0                           1                          \n",
              "5 0                           0                          \n",
              "6 1                           1                          \n",
              "  Chatbot_C_Day1_Answer_score Chatbot_C_Day2_Answer_score\n",
              "1 1                           1                          \n",
              "2 1                           0                          \n",
              "3 1                           1                          \n",
              "4 1                           1                          \n",
              "5 1                           1                          \n",
              "6 0                           0                          \n",
              "  Chatbot_D_Day1_Answer_score Chatbot_D_Day2_Answer_score\n",
              "1 1                           1                          \n",
              "2 1                           0                          \n",
              "3 1                           1                          \n",
              "4 1                           1                          \n",
              "5 0                           0                          \n",
              "6 1                           1                          \n",
              "  Chatbot_E_Day1_Answer_score Chatbot_E_Day2_Answer_score\n",
              "1 1                           1                          \n",
              "2 1                           1                          \n",
              "3 1                           1                          \n",
              "4 1                           1                          \n",
              "5 1                           1                          \n",
              "6 1                           1                          \n",
              "  Chatbot_F_Day1_Answer_score Chatbot_F_Day2_Answer_score\n",
              "1 1                           1                          \n",
              "2 1                           1                          \n",
              "3 1                           1                          \n",
              "4 1                           1                          \n",
              "5 1                           1                          \n",
              "6 1                           1                          "
            ]
          },
          "metadata": {}
        }
      ]
    },
    {
      "cell_type": "code",
      "source": [
        "# Write the dataframe to a CSV file\n",
        "write.csv(Experiment2_Chatbot_ratings, file = \"Experiment2_Chatbot_ratings.csv\", row.names = FALSE)"
      ],
      "metadata": {
        "id": "XBcLLVVnWwMD"
      },
      "execution_count": 14,
      "outputs": []
    },
    {
      "cell_type": "code",
      "source": [
        "# Calculate the sum of each score column\n",
        "score_sums <- colSums(Experiment2_Chatbot_ratings[, grep(\"_score$\", names(Experiment2_Chatbot_ratings))], na.rm = TRUE)\n",
        "\n",
        "# Display the sums of the score columns\n",
        "score_sums"
      ],
      "metadata": {
        "colab": {
          "base_uri": "https://localhost:8080/",
          "height": 69
        },
        "id": "WU_m2iD5X0bj",
        "outputId": "829a7d72-8e19-42ce-8f5f-5f4c3ceb0ab7"
      },
      "execution_count": 15,
      "outputs": [
        {
          "output_type": "display_data",
          "data": {
            "text/html": [
              "<style>\n",
              ".dl-inline {width: auto; margin:0; padding: 0}\n",
              ".dl-inline>dt, .dl-inline>dd {float: none; width: auto; display: inline-block}\n",
              ".dl-inline>dt::after {content: \":\\0020\"; padding-right: .5ex}\n",
              ".dl-inline>dt:not(:first-of-type) {padding-left: .5ex}\n",
              "</style><dl class=dl-inline><dt>Chatbot_A_Day1_Answer_score</dt><dd>77</dd><dt>Chatbot_A_Day2_Answer_score</dt><dd>80</dd><dt>Chatbot_B_Day1_Answer_score</dt><dd>85</dd><dt>Chatbot_B_Day2_Answer_score</dt><dd>89</dd><dt>Chatbot_C_Day1_Answer_score</dt><dd>82</dd><dt>Chatbot_C_Day2_Answer_score</dt><dd>68</dd><dt>Chatbot_D_Day1_Answer_score</dt><dd>81</dd><dt>Chatbot_D_Day2_Answer_score</dt><dd>78</dd><dt>Chatbot_E_Day1_Answer_score</dt><dd>94</dd><dt>Chatbot_E_Day2_Answer_score</dt><dd>96</dd><dt>Chatbot_F_Day1_Answer_score</dt><dd>99</dd><dt>Chatbot_F_Day2_Answer_score</dt><dd>98</dd></dl>\n"
            ],
            "text/markdown": "Chatbot_A_Day1_Answer_score\n:   77Chatbot_A_Day2_Answer_score\n:   80Chatbot_B_Day1_Answer_score\n:   85Chatbot_B_Day2_Answer_score\n:   89Chatbot_C_Day1_Answer_score\n:   82Chatbot_C_Day2_Answer_score\n:   68Chatbot_D_Day1_Answer_score\n:   81Chatbot_D_Day2_Answer_score\n:   78Chatbot_E_Day1_Answer_score\n:   94Chatbot_E_Day2_Answer_score\n:   96Chatbot_F_Day1_Answer_score\n:   99Chatbot_F_Day2_Answer_score\n:   98\n\n",
            "text/latex": "\\begin{description*}\n\\item[Chatbot\\textbackslash{}\\_A\\textbackslash{}\\_Day1\\textbackslash{}\\_Answer\\textbackslash{}\\_score] 77\n\\item[Chatbot\\textbackslash{}\\_A\\textbackslash{}\\_Day2\\textbackslash{}\\_Answer\\textbackslash{}\\_score] 80\n\\item[Chatbot\\textbackslash{}\\_B\\textbackslash{}\\_Day1\\textbackslash{}\\_Answer\\textbackslash{}\\_score] 85\n\\item[Chatbot\\textbackslash{}\\_B\\textbackslash{}\\_Day2\\textbackslash{}\\_Answer\\textbackslash{}\\_score] 89\n\\item[Chatbot\\textbackslash{}\\_C\\textbackslash{}\\_Day1\\textbackslash{}\\_Answer\\textbackslash{}\\_score] 82\n\\item[Chatbot\\textbackslash{}\\_C\\textbackslash{}\\_Day2\\textbackslash{}\\_Answer\\textbackslash{}\\_score] 68\n\\item[Chatbot\\textbackslash{}\\_D\\textbackslash{}\\_Day1\\textbackslash{}\\_Answer\\textbackslash{}\\_score] 81\n\\item[Chatbot\\textbackslash{}\\_D\\textbackslash{}\\_Day2\\textbackslash{}\\_Answer\\textbackslash{}\\_score] 78\n\\item[Chatbot\\textbackslash{}\\_E\\textbackslash{}\\_Day1\\textbackslash{}\\_Answer\\textbackslash{}\\_score] 94\n\\item[Chatbot\\textbackslash{}\\_E\\textbackslash{}\\_Day2\\textbackslash{}\\_Answer\\textbackslash{}\\_score] 96\n\\item[Chatbot\\textbackslash{}\\_F\\textbackslash{}\\_Day1\\textbackslash{}\\_Answer\\textbackslash{}\\_score] 99\n\\item[Chatbot\\textbackslash{}\\_F\\textbackslash{}\\_Day2\\textbackslash{}\\_Answer\\textbackslash{}\\_score] 98\n\\end{description*}\n",
            "text/plain": [
              "Chatbot_A_Day1_Answer_score Chatbot_A_Day2_Answer_score \n",
              "                         77                          80 \n",
              "Chatbot_B_Day1_Answer_score Chatbot_B_Day2_Answer_score \n",
              "                         85                          89 \n",
              "Chatbot_C_Day1_Answer_score Chatbot_C_Day2_Answer_score \n",
              "                         82                          68 \n",
              "Chatbot_D_Day1_Answer_score Chatbot_D_Day2_Answer_score \n",
              "                         81                          78 \n",
              "Chatbot_E_Day1_Answer_score Chatbot_E_Day2_Answer_score \n",
              "                         94                          96 \n",
              "Chatbot_F_Day1_Answer_score Chatbot_F_Day2_Answer_score \n",
              "                         99                          98 "
            ]
          },
          "metadata": {}
        }
      ]
    },
    {
      "cell_type": "markdown",
      "source": [
        "## Examine internal consistency"
      ],
      "metadata": {
        "id": "5PYQE3nf98jA"
      }
    },
    {
      "cell_type": "code",
      "source": [
        "# Calculate the Kuder-Richardson 20 (KR-20) statistic to determine the internal consistency reliability of the exam. NOTE: A high KR-20 value suggests that the items in the  exam are measuring the same underlying construct consistently. Therefore, the exam is effectively assessing the knowledge or skill it is designed to measure.\n",
        "# Create a new datafrane containing only the score columns\n",
        "Experiment2_Chatbot_scorecolumns <- Experiment2_Chatbot_ratings %>% select(ends_with(\"_score\"))\n",
        "\n",
        "# Number of items\n",
        "K <- ncol(Experiment2_Chatbot_scorecolumns)\n",
        "\n",
        "# Calculate the total score for each question\n",
        "KR20_total_scores <- rowSums(Experiment2_Chatbot_scorecolumns)\n",
        "\n",
        "# Calculate the proportion of correct answers for each item\n",
        "proportion_correct <- colMeans(Experiment2_Chatbot_scorecolumns)\n",
        "\n",
        "# Calculate the variance of the total scores\n",
        "sigma_squared <- var(KR20_total_scores)\n",
        "\n",
        "# Calculate KR-20\n",
        "KR20 <- (K / (K - 1)) * (1 - (sum(proportion_correct * (1 - proportion_correct)) / sigma_squared))\n",
        "\n",
        "# Function to interpret KR-20 value\n",
        "interpret_kr20 <- function(KR20) {\n",
        "  if (KR20 >= 0.90 && KR20 <= 1.00) {\n",
        "    return(\"excellent reliability\")\n",
        "  } else if (KR20 >= 0.80 && KR20 < 0.90) {\n",
        "    return(\"good reliability\")\n",
        "  } else if (KR20 >= 0.70 && KR20 < 0.80) {\n",
        "    return(\"acceptable reliability\")\n",
        "  } else if (KR20 >= 0.60 && KR20 < 0.70) {\n",
        "    return(\"questionable reliability\")\n",
        "  } else if (KR20 >= 0.50 && KR20 < 0.60) {\n",
        "    return(\"poor reliability\")\n",
        "  } else {\n",
        "    return(\"unacceptable reliability\")\n",
        "  }\n",
        "}\n",
        "# Interpret the KR-20 value\n",
        "interpretation <- interpret_kr20(KR20)\n",
        "\n",
        "# Print the interpretation\n",
        "cat(\"KR-20 value =\", round(KR20, 3), \"\\nThis indicates\", interpretation, \"\\n\")"
      ],
      "metadata": {
        "id": "PtasDjOwQwx9",
        "colab": {
          "base_uri": "https://localhost:8080/"
        },
        "outputId": "99b59beb-61c2-4ebd-871b-0c44ed66fe14"
      },
      "execution_count": 16,
      "outputs": [
        {
          "output_type": "stream",
          "name": "stdout",
          "text": [
            "KR-20 value = 0.895 \n",
            "This indicates good reliability \n"
          ]
        }
      ]
    },
    {
      "cell_type": "markdown",
      "source": [
        "## Calculate accuracy scores"
      ],
      "metadata": {
        "id": "8y-FJPL6-CGu"
      }
    },
    {
      "cell_type": "code",
      "source": [
        "# The maximal possible Accuracy score <- 111 (1 mark for a correct answer to all 111 exam questions).\n",
        "maximalAccuracyExamTotal <- 111\n",
        "\n",
        "# Calculate the total Accuracy score for each LLM on each occasion (i.e. Test1 and Test2, the retest).\n",
        "# NOTE: Total accuracy score <- the sum of correct answers divided by the maximal possible score. Therefore, Total accuracy score is a continuous value between 0 to 1.\n",
        "  # TEST 1:\n",
        "ChatbotA_ExamAccuracyTotalTest1 <- score_sums[\"Chatbot_A_Day1_Answer_score\"] / maximalAccuracyExamTotal\n",
        "ChatbotB_ExamAccuracyTotalTest1 <- score_sums[\"Chatbot_B_Day1_Answer_score\"] / maximalAccuracyExamTotal\n",
        "ChatbotC_ExamAccuracyTotalTest1 <- score_sums[\"Chatbot_C_Day1_Answer_score\"] / maximalAccuracyExamTotal\n",
        "ChatbotD_ExamAccuracyTotalTest1 <- score_sums[\"Chatbot_D_Day1_Answer_score\"] / maximalAccuracyExamTotal\n",
        "ChatbotE_ExamAccuracyTotalTest1 <- score_sums[\"Chatbot_E_Day1_Answer_score\"] / maximalAccuracyExamTotal\n",
        "ChatbotF_ExamAccuracyTotalTest1 <- score_sums[\"Chatbot_F_Day1_Answer_score\"] / maximalAccuracyExamTotal\n",
        "  # TEST 2:\n",
        "ChatbotA_ExamAccuracyTotalTest2 <- score_sums[\"Chatbot_A_Day2_Answer_score\"] / maximalAccuracyExamTotal\n",
        "ChatbotB_ExamAccuracyTotalTest2 <- score_sums[\"Chatbot_B_Day2_Answer_score\"] / maximalAccuracyExamTotal\n",
        "ChatbotC_ExamAccuracyTotalTest2 <- score_sums[\"Chatbot_C_Day2_Answer_score\"] / maximalAccuracyExamTotal\n",
        "ChatbotD_ExamAccuracyTotalTest2 <- score_sums[\"Chatbot_D_Day2_Answer_score\"] / maximalAccuracyExamTotal\n",
        "ChatbotE_ExamAccuracyTotalTest2 <- score_sums[\"Chatbot_E_Day2_Answer_score\"] / maximalAccuracyExamTotal\n",
        "ChatbotF_ExamAccuracyTotalTest2 <- score_sums[\"Chatbot_F_Day2_Answer_score\"] / maximalAccuracyExamTotal\n",
        "\n",
        "# Print the scores\n",
        "cat(\"Test1\")\n",
        "ChatbotA_ExamAccuracyTotalTest1\n",
        "ChatbotB_ExamAccuracyTotalTest1\n",
        "ChatbotC_ExamAccuracyTotalTest1\n",
        "ChatbotD_ExamAccuracyTotalTest1\n",
        "ChatbotE_ExamAccuracyTotalTest1\n",
        "ChatbotF_ExamAccuracyTotalTest1\n",
        "cat(\"\\nTest2\")\n",
        "ChatbotA_ExamAccuracyTotalTest2\n",
        "ChatbotB_ExamAccuracyTotalTest2\n",
        "ChatbotC_ExamAccuracyTotalTest2\n",
        "ChatbotD_ExamAccuracyTotalTest2\n",
        "ChatbotE_ExamAccuracyTotalTest2\n",
        "ChatbotF_ExamAccuracyTotalTest2"
      ],
      "metadata": {
        "id": "JIqU6pSQBBEI",
        "colab": {
          "base_uri": "https://localhost:8080/",
          "height": 277
        },
        "outputId": "65f09dd8-fc5a-4249-d0dd-17956c5bf5e9"
      },
      "execution_count": 17,
      "outputs": [
        {
          "output_type": "stream",
          "name": "stdout",
          "text": [
            "Test1"
          ]
        },
        {
          "output_type": "display_data",
          "data": {
            "text/html": [
              "<strong>Chatbot_A_Day1_Answer_score:</strong> 0.693693693693694"
            ],
            "text/markdown": "**Chatbot_A_Day1_Answer_score:** 0.693693693693694",
            "text/latex": "\\textbf{Chatbot\\textbackslash{}\\_A\\textbackslash{}\\_Day1\\textbackslash{}\\_Answer\\textbackslash{}\\_score:} 0.693693693693694",
            "text/plain": [
              "Chatbot_A_Day1_Answer_score \n",
              "                  0.6936937 "
            ]
          },
          "metadata": {}
        },
        {
          "output_type": "display_data",
          "data": {
            "text/html": [
              "<strong>Chatbot_B_Day1_Answer_score:</strong> 0.765765765765766"
            ],
            "text/markdown": "**Chatbot_B_Day1_Answer_score:** 0.765765765765766",
            "text/latex": "\\textbf{Chatbot\\textbackslash{}\\_B\\textbackslash{}\\_Day1\\textbackslash{}\\_Answer\\textbackslash{}\\_score:} 0.765765765765766",
            "text/plain": [
              "Chatbot_B_Day1_Answer_score \n",
              "                  0.7657658 "
            ]
          },
          "metadata": {}
        },
        {
          "output_type": "display_data",
          "data": {
            "text/html": [
              "<strong>Chatbot_C_Day1_Answer_score:</strong> 0.738738738738739"
            ],
            "text/markdown": "**Chatbot_C_Day1_Answer_score:** 0.738738738738739",
            "text/latex": "\\textbf{Chatbot\\textbackslash{}\\_C\\textbackslash{}\\_Day1\\textbackslash{}\\_Answer\\textbackslash{}\\_score:} 0.738738738738739",
            "text/plain": [
              "Chatbot_C_Day1_Answer_score \n",
              "                  0.7387387 "
            ]
          },
          "metadata": {}
        },
        {
          "output_type": "display_data",
          "data": {
            "text/html": [
              "<strong>Chatbot_D_Day1_Answer_score:</strong> 0.72972972972973"
            ],
            "text/markdown": "**Chatbot_D_Day1_Answer_score:** 0.72972972972973",
            "text/latex": "\\textbf{Chatbot\\textbackslash{}\\_D\\textbackslash{}\\_Day1\\textbackslash{}\\_Answer\\textbackslash{}\\_score:} 0.72972972972973",
            "text/plain": [
              "Chatbot_D_Day1_Answer_score \n",
              "                  0.7297297 "
            ]
          },
          "metadata": {}
        },
        {
          "output_type": "display_data",
          "data": {
            "text/html": [
              "<strong>Chatbot_E_Day1_Answer_score:</strong> 0.846846846846847"
            ],
            "text/markdown": "**Chatbot_E_Day1_Answer_score:** 0.846846846846847",
            "text/latex": "\\textbf{Chatbot\\textbackslash{}\\_E\\textbackslash{}\\_Day1\\textbackslash{}\\_Answer\\textbackslash{}\\_score:} 0.846846846846847",
            "text/plain": [
              "Chatbot_E_Day1_Answer_score \n",
              "                  0.8468468 "
            ]
          },
          "metadata": {}
        },
        {
          "output_type": "display_data",
          "data": {
            "text/html": [
              "<strong>Chatbot_F_Day1_Answer_score:</strong> 0.891891891891892"
            ],
            "text/markdown": "**Chatbot_F_Day1_Answer_score:** 0.891891891891892",
            "text/latex": "\\textbf{Chatbot\\textbackslash{}\\_F\\textbackslash{}\\_Day1\\textbackslash{}\\_Answer\\textbackslash{}\\_score:} 0.891891891891892",
            "text/plain": [
              "Chatbot_F_Day1_Answer_score \n",
              "                  0.8918919 "
            ]
          },
          "metadata": {}
        },
        {
          "output_type": "stream",
          "name": "stdout",
          "text": [
            "\n",
            "Test2"
          ]
        },
        {
          "output_type": "display_data",
          "data": {
            "text/html": [
              "<strong>Chatbot_A_Day2_Answer_score:</strong> 0.720720720720721"
            ],
            "text/markdown": "**Chatbot_A_Day2_Answer_score:** 0.720720720720721",
            "text/latex": "\\textbf{Chatbot\\textbackslash{}\\_A\\textbackslash{}\\_Day2\\textbackslash{}\\_Answer\\textbackslash{}\\_score:} 0.720720720720721",
            "text/plain": [
              "Chatbot_A_Day2_Answer_score \n",
              "                  0.7207207 "
            ]
          },
          "metadata": {}
        },
        {
          "output_type": "display_data",
          "data": {
            "text/html": [
              "<strong>Chatbot_B_Day2_Answer_score:</strong> 0.801801801801802"
            ],
            "text/markdown": "**Chatbot_B_Day2_Answer_score:** 0.801801801801802",
            "text/latex": "\\textbf{Chatbot\\textbackslash{}\\_B\\textbackslash{}\\_Day2\\textbackslash{}\\_Answer\\textbackslash{}\\_score:} 0.801801801801802",
            "text/plain": [
              "Chatbot_B_Day2_Answer_score \n",
              "                  0.8018018 "
            ]
          },
          "metadata": {}
        },
        {
          "output_type": "display_data",
          "data": {
            "text/html": [
              "<strong>Chatbot_C_Day2_Answer_score:</strong> 0.612612612612613"
            ],
            "text/markdown": "**Chatbot_C_Day2_Answer_score:** 0.612612612612613",
            "text/latex": "\\textbf{Chatbot\\textbackslash{}\\_C\\textbackslash{}\\_Day2\\textbackslash{}\\_Answer\\textbackslash{}\\_score:} 0.612612612612613",
            "text/plain": [
              "Chatbot_C_Day2_Answer_score \n",
              "                  0.6126126 "
            ]
          },
          "metadata": {}
        },
        {
          "output_type": "display_data",
          "data": {
            "text/html": [
              "<strong>Chatbot_D_Day2_Answer_score:</strong> 0.702702702702703"
            ],
            "text/markdown": "**Chatbot_D_Day2_Answer_score:** 0.702702702702703",
            "text/latex": "\\textbf{Chatbot\\textbackslash{}\\_D\\textbackslash{}\\_Day2\\textbackslash{}\\_Answer\\textbackslash{}\\_score:} 0.702702702702703",
            "text/plain": [
              "Chatbot_D_Day2_Answer_score \n",
              "                  0.7027027 "
            ]
          },
          "metadata": {}
        },
        {
          "output_type": "display_data",
          "data": {
            "text/html": [
              "<strong>Chatbot_E_Day2_Answer_score:</strong> 0.864864864864865"
            ],
            "text/markdown": "**Chatbot_E_Day2_Answer_score:** 0.864864864864865",
            "text/latex": "\\textbf{Chatbot\\textbackslash{}\\_E\\textbackslash{}\\_Day2\\textbackslash{}\\_Answer\\textbackslash{}\\_score:} 0.864864864864865",
            "text/plain": [
              "Chatbot_E_Day2_Answer_score \n",
              "                  0.8648649 "
            ]
          },
          "metadata": {}
        },
        {
          "output_type": "display_data",
          "data": {
            "text/html": [
              "<strong>Chatbot_F_Day2_Answer_score:</strong> 0.882882882882883"
            ],
            "text/markdown": "**Chatbot_F_Day2_Answer_score:** 0.882882882882883",
            "text/latex": "\\textbf{Chatbot\\textbackslash{}\\_F\\textbackslash{}\\_Day2\\textbackslash{}\\_Answer\\textbackslash{}\\_score:} 0.882882882882883",
            "text/plain": [
              "Chatbot_F_Day2_Answer_score \n",
              "                  0.8828829 "
            ]
          },
          "metadata": {}
        }
      ]
    },
    {
      "cell_type": "markdown",
      "source": [
        "## Barplot"
      ],
      "metadata": {
        "id": "wGf20i4W-HJ7"
      }
    },
    {
      "cell_type": "code",
      "source": [
        "# Construct bar plot to visualise exam Accuracy for each LLM on each occasion (i.e. Test1 and Test2, the retest).\n",
        "\n",
        "# First, combine the data from both Test 1 and Test 2 into one dataframe\n",
        "exam_accuracy_totals <- data.frame(\n",
        "  Chatbot = rep(c(\"A\", \"B\", \"C\", \"D\", \"E\", \"F\"), 2),\n",
        "  ExamTotalAccuracy = c(\n",
        "    ChatbotA_ExamAccuracyTotalTest1, ChatbotB_ExamAccuracyTotalTest1, ChatbotC_ExamAccuracyTotalTest1,\n",
        "    ChatbotD_ExamAccuracyTotalTest1, ChatbotE_ExamAccuracyTotalTest1, ChatbotF_ExamAccuracyTotalTest1,\n",
        "    ChatbotA_ExamAccuracyTotalTest2, ChatbotB_ExamAccuracyTotalTest2, ChatbotC_ExamAccuracyTotalTest2,\n",
        "    ChatbotD_ExamAccuracyTotalTest2, ChatbotE_ExamAccuracyTotalTest2, ChatbotF_ExamAccuracyTotalTest2\n",
        "  ),\n",
        "  Test = rep(c(\"Test 1\", \"Test 2\"), each = 6)\n",
        ")\n",
        "\n",
        "# Then, calculate the standard error of the proportion of correct answers to visualise as an error bar on the barplot where SE = sqrt (p(1-p)/n) where p = proportion of correct answers and n = number of questions\n",
        "# note that n is the maximalAccuracyExamTotal (111, defined earlier in code)\n",
        "exam_accuracy_totals <- exam_accuracy_totals %>%\n",
        "  mutate(SE = sqrt(ExamTotalAccuracy * (1 - ExamTotalAccuracy) / maximalAccuracyExamTotal))  # the standard error of the proportion of correct answers\n",
        "\n",
        "# View exam_accuracy_totals\n",
        "exam_accuracy_totals"
      ],
      "metadata": {
        "colab": {
          "base_uri": "https://localhost:8080/",
          "height": 474
        },
        "id": "3tSQgXE7eKbi",
        "outputId": "dd77f3ee-0327-477d-956b-86eba1d0ecf6"
      },
      "execution_count": 18,
      "outputs": [
        {
          "output_type": "display_data",
          "data": {
            "text/html": [
              "<table class=\"dataframe\">\n",
              "<caption>A data.frame: 12 × 4</caption>\n",
              "<thead>\n",
              "\t<tr><th></th><th scope=col>Chatbot</th><th scope=col>ExamTotalAccuracy</th><th scope=col>Test</th><th scope=col>SE</th></tr>\n",
              "\t<tr><th></th><th scope=col>&lt;chr&gt;</th><th scope=col>&lt;dbl&gt;</th><th scope=col>&lt;chr&gt;</th><th scope=col>&lt;dbl&gt;</th></tr>\n",
              "</thead>\n",
              "<tbody>\n",
              "\t<tr><th scope=row>Chatbot_A_Day1_Answer_score</th><td>A</td><td>0.6936937</td><td>Test 1</td><td>0.04375225</td></tr>\n",
              "\t<tr><th scope=row>Chatbot_B_Day1_Answer_score</th><td>B</td><td>0.7657658</td><td>Test 1</td><td>0.04019867</td></tr>\n",
              "\t<tr><th scope=row>Chatbot_C_Day1_Answer_score</th><td>C</td><td>0.7387387</td><td>Test 1</td><td>0.04169860</td></tr>\n",
              "\t<tr><th scope=row>Chatbot_D_Day1_Answer_score</th><td>D</td><td>0.7297297</td><td>Test 1</td><td>0.04215205</td></tr>\n",
              "\t<tr><th scope=row>Chatbot_E_Day1_Answer_score</th><td>E</td><td>0.8468468</td><td>Test 1</td><td>0.03418251</td></tr>\n",
              "\t<tr><th scope=row>Chatbot_F_Day1_Answer_score</th><td>F</td><td>0.8918919</td><td>Test 1</td><td>0.02947296</td></tr>\n",
              "\t<tr><th scope=row>Chatbot_A_Day2_Answer_score</th><td>A</td><td>0.7207207</td><td>Test 2</td><td>0.04258350</td></tr>\n",
              "\t<tr><th scope=row>Chatbot_B_Day2_Answer_score</th><td>B</td><td>0.8018018</td><td>Test 2</td><td>0.03783745</td></tr>\n",
              "\t<tr><th scope=row>Chatbot_C_Day2_Answer_score</th><td>C</td><td>0.6126126</td><td>Test 2</td><td>0.04623855</td></tr>\n",
              "\t<tr><th scope=row>Chatbot_D_Day2_Answer_score</th><td>D</td><td>0.7027027</td><td>Test 2</td><td>0.04338302</td></tr>\n",
              "\t<tr><th scope=row>Chatbot_E_Day2_Answer_score</th><td>E</td><td>0.8648649</td><td>Test 2</td><td>0.03244866</td></tr>\n",
              "\t<tr><th scope=row>Chatbot_F_Day2_Answer_score</th><td>F</td><td>0.8828829</td><td>Test 2</td><td>0.03052110</td></tr>\n",
              "</tbody>\n",
              "</table>\n"
            ],
            "text/markdown": "\nA data.frame: 12 × 4\n\n| <!--/--> | Chatbot &lt;chr&gt; | ExamTotalAccuracy &lt;dbl&gt; | Test &lt;chr&gt; | SE &lt;dbl&gt; |\n|---|---|---|---|---|\n| Chatbot_A_Day1_Answer_score | A | 0.6936937 | Test 1 | 0.04375225 |\n| Chatbot_B_Day1_Answer_score | B | 0.7657658 | Test 1 | 0.04019867 |\n| Chatbot_C_Day1_Answer_score | C | 0.7387387 | Test 1 | 0.04169860 |\n| Chatbot_D_Day1_Answer_score | D | 0.7297297 | Test 1 | 0.04215205 |\n| Chatbot_E_Day1_Answer_score | E | 0.8468468 | Test 1 | 0.03418251 |\n| Chatbot_F_Day1_Answer_score | F | 0.8918919 | Test 1 | 0.02947296 |\n| Chatbot_A_Day2_Answer_score | A | 0.7207207 | Test 2 | 0.04258350 |\n| Chatbot_B_Day2_Answer_score | B | 0.8018018 | Test 2 | 0.03783745 |\n| Chatbot_C_Day2_Answer_score | C | 0.6126126 | Test 2 | 0.04623855 |\n| Chatbot_D_Day2_Answer_score | D | 0.7027027 | Test 2 | 0.04338302 |\n| Chatbot_E_Day2_Answer_score | E | 0.8648649 | Test 2 | 0.03244866 |\n| Chatbot_F_Day2_Answer_score | F | 0.8828829 | Test 2 | 0.03052110 |\n\n",
            "text/latex": "A data.frame: 12 × 4\n\\begin{tabular}{r|llll}\n  & Chatbot & ExamTotalAccuracy & Test & SE\\\\\n  & <chr> & <dbl> & <chr> & <dbl>\\\\\n\\hline\n\tChatbot\\_A\\_Day1\\_Answer\\_score & A & 0.6936937 & Test 1 & 0.04375225\\\\\n\tChatbot\\_B\\_Day1\\_Answer\\_score & B & 0.7657658 & Test 1 & 0.04019867\\\\\n\tChatbot\\_C\\_Day1\\_Answer\\_score & C & 0.7387387 & Test 1 & 0.04169860\\\\\n\tChatbot\\_D\\_Day1\\_Answer\\_score & D & 0.7297297 & Test 1 & 0.04215205\\\\\n\tChatbot\\_E\\_Day1\\_Answer\\_score & E & 0.8468468 & Test 1 & 0.03418251\\\\\n\tChatbot\\_F\\_Day1\\_Answer\\_score & F & 0.8918919 & Test 1 & 0.02947296\\\\\n\tChatbot\\_A\\_Day2\\_Answer\\_score & A & 0.7207207 & Test 2 & 0.04258350\\\\\n\tChatbot\\_B\\_Day2\\_Answer\\_score & B & 0.8018018 & Test 2 & 0.03783745\\\\\n\tChatbot\\_C\\_Day2\\_Answer\\_score & C & 0.6126126 & Test 2 & 0.04623855\\\\\n\tChatbot\\_D\\_Day2\\_Answer\\_score & D & 0.7027027 & Test 2 & 0.04338302\\\\\n\tChatbot\\_E\\_Day2\\_Answer\\_score & E & 0.8648649 & Test 2 & 0.03244866\\\\\n\tChatbot\\_F\\_Day2\\_Answer\\_score & F & 0.8828829 & Test 2 & 0.03052110\\\\\n\\end{tabular}\n",
            "text/plain": [
              "                            Chatbot ExamTotalAccuracy Test   SE        \n",
              "Chatbot_A_Day1_Answer_score A       0.6936937         Test 1 0.04375225\n",
              "Chatbot_B_Day1_Answer_score B       0.7657658         Test 1 0.04019867\n",
              "Chatbot_C_Day1_Answer_score C       0.7387387         Test 1 0.04169860\n",
              "Chatbot_D_Day1_Answer_score D       0.7297297         Test 1 0.04215205\n",
              "Chatbot_E_Day1_Answer_score E       0.8468468         Test 1 0.03418251\n",
              "Chatbot_F_Day1_Answer_score F       0.8918919         Test 1 0.02947296\n",
              "Chatbot_A_Day2_Answer_score A       0.7207207         Test 2 0.04258350\n",
              "Chatbot_B_Day2_Answer_score B       0.8018018         Test 2 0.03783745\n",
              "Chatbot_C_Day2_Answer_score C       0.6126126         Test 2 0.04623855\n",
              "Chatbot_D_Day2_Answer_score D       0.7027027         Test 2 0.04338302\n",
              "Chatbot_E_Day2_Answer_score E       0.8648649         Test 2 0.03244866\n",
              "Chatbot_F_Day2_Answer_score F       0.8828829         Test 2 0.03052110"
            ]
          },
          "metadata": {}
        }
      ]
    },
    {
      "cell_type": "code",
      "source": [
        "# Create the combined plot for both Test 1 and Test 2\n",
        "accuracyplot_BLINDED <- ggplot(exam_accuracy_totals, aes(x = Chatbot, y = ExamTotalAccuracy, fill = Test)) +\n",
        "  geom_bar(stat = \"identity\", position = \"dodge\") +  # Create side-by-side bars\n",
        "  geom_errorbar(aes(ymin = ExamTotalAccuracy - SE, ymax = ExamTotalAccuracy + SE),\n",
        "                position = position_dodge(0.9), width = 0.25) +  # Add error bars\n",
        "  labs(\n",
        "       title = \"Exam question accuracy\",\n",
        "       x = \"Chatbot ID\",\n",
        "       y = \"Proportion of correct answers (%)\" ,\n",
        "    fill = \"Test\"  # This sets the title of the fill legend\n",
        "  ) +\n",
        "  scale_y_continuous(labels = scales::percent_format(accuracy = 1), limits = c(0, 1.03)) +  # Adjust y-axis\n",
        "  scale_x_discrete(expand = expansion(add = c(0, 0))) +  # Adjust space between factors on the x-axis\n",
        "  scale_fill_manual(values = c(\"Test 1\" = \"skyblue\", \"Test 2\" = \"salmon\"), labels = c(\"Day 1\", \"Day 2\")) + # Set colors and labels\n",
        "  theme_wsj() +\n",
        "  theme(\n",
        "    plot.title = element_text(size = 14, face = \"bold\", hjust = 0),\n",
        "    axis.text.x = element_text(color = \"black\", angle = 0, hjust = 0.5, size = 12),\n",
        "    axis.title.x = element_text(color = \"black\", face = \"bold\", size = 12),\n",
        "    axis.text.y = element_text(color = \"black\", size = 12),\n",
        "    axis.title.y = element_text(color = \"black\", face = \"bold\", size = 12)\n",
        "  ) +\n",
        "  guides(fill = guide_legend(title = NULL)) + # Remove legend title\n",
        "  annotate( # Add custom text\n",
        "    \"text\",\n",
        "    x = 0, y = 1.03,  # Coordinates for placement\n",
        "    label = \"Error bars = SE\",\n",
        "    hjust = 0, vjust = 1,  # Horizontal and vertical justification (aligns the text to the left and top)\n",
        "    size = 3, fontface = \"italic\", color = \"black\"\n",
        "  )\n",
        "\n",
        "accuracyplot_BLINDED"
      ],
      "metadata": {
        "colab": {
          "base_uri": "https://localhost:8080/",
          "height": 437
        },
        "id": "EUylvkxIUyNR",
        "outputId": "8427ffe2-66af-4953-9b17-336f469ae50d"
      },
      "execution_count": 19,
      "outputs": [
        {
          "output_type": "display_data",
          "data": {
            "text/plain": [
              "plot without title"
            ],
            "image/png": "[encoded data removed]"
          },
          "metadata": {
            "image/png": {
              "width": 420,
              "height": 420
            }
          }
        }
      ]
    },
    {
      "cell_type": "markdown",
      "source": [
        "## Statistical analyses"
      ],
      "metadata": {
        "id": "BjPG2WFA-vv9"
      }
    },
    {
      "cell_type": "markdown",
      "source": [
        "### Prepare the data"
      ],
      "metadata": {
        "id": "w1Ajq6XVOinY"
      }
    },
    {
      "cell_type": "code",
      "source": [
        "# For LMMs and ANOVAs, I need the data in the long format.\n",
        "# Need to:\n",
        "# 1. Add a new column called ExamDomain with 3 levels (A, B, and A = Exercise and performance nutrition, B = Clinical sports nutrition, and C = Nutrition operation and management).\n",
        "# 2. Stack all columns ending in \"_Answer_score\" into a single column called Correct_answer\n",
        "# 3. Transpose the _Answer_score columns and add new columns called ChatbotID and TestDay\n",
        "\n",
        "# First drop all columns in Experiment2_Chatbot_ratings ending with \"_Answer\" and create the new df, Experiment2_forLMM\n",
        "Experiment2_Chatbot_ratings_AnswerOnly <- Experiment2_Chatbot_ratings %>%\n",
        "  select(-ends_with(\"_Answer\"), -correctAnswer)\n",
        "\n",
        "# Then add a ExamDomain column (A, B, or C)\n",
        "Experiment2_Chatbot_ratings_AnswerOnly <- Experiment2_Chatbot_ratings_AnswerOnly %>%\n",
        "  mutate(ExamDomain = case_when(\n",
        "    Question %in% c(1, 2, 7, 8, 9, 10, 11, 13, 14, 15, 16, 17, 18, 19, 20, 21, 22, 25, 38, 40, 3, 12, 23, 24, 26, 27,\n",
        "                    28, 29, 30, 31, 32, 33, 34, 35, 36, 37, 44, 45, 41, 43, 48, 49, 50, 51, 52, 53, 54, 55, 56, 57, 58,\n",
        "                    59, 111, 4, 46, 47, 60, 61, 62, 63, 64, 65, 66, 67, 68, 109) ~ \"A\",\n",
        "    Question %in% c(5, 69, 70, 71, 72, 73, 74, 75, 76, 77, 78, 79, 108, 110, 80, 81, 82, 83, 84, 85, 86, 87, 42, 95,\n",
        "                    96, 97, 98, 99, 100, 101, 39, 88, 89, 90, 91, 92, 93, 94) ~ \"B\",\n",
        "    Question %in% c(102, 105, 106, 107, 6, 103, 104) ~ \"C\",\n",
        "    TRUE ~ NA_character_  # Default to NA if no match\n",
        "  ))\n",
        "# View structure\n",
        "str(Experiment2_Chatbot_ratings_AnswerOnly)"
      ],
      "metadata": {
        "colab": {
          "base_uri": "https://localhost:8080/"
        },
        "id": "Bw3HRgX8OgL_",
        "outputId": "65b62ca7-04e9-4274-8adb-2086c0416436"
      },
      "execution_count": 20,
      "outputs": [
        {
          "output_type": "stream",
          "name": "stdout",
          "text": [
            "'data.frame':\t111 obs. of  14 variables:\n",
            " $ Question                   : int  1 2 3 4 5 6 7 8 9 10 ...\n",
            " $ Chatbot_A_Day1_Answer_score: num  1 0 1 1 1 1 1 1 1 1 ...\n",
            " $ Chatbot_A_Day2_Answer_score: num  1 0 1 1 1 1 1 1 1 1 ...\n",
            " $ Chatbot_B_Day1_Answer_score: num  1 1 1 0 0 1 1 1 0 1 ...\n",
            " $ Chatbot_B_Day2_Answer_score: num  1 1 1 1 0 1 1 1 1 1 ...\n",
            " $ Chatbot_C_Day1_Answer_score: num  1 1 1 1 1 0 1 1 1 0 ...\n",
            " $ Chatbot_C_Day2_Answer_score: num  1 0 1 1 1 0 0 1 1 1 ...\n",
            " $ Chatbot_D_Day1_Answer_score: num  1 1 1 1 0 1 1 1 1 1 ...\n",
            " $ Chatbot_D_Day2_Answer_score: num  1 0 1 1 0 1 1 1 1 1 ...\n",
            " $ Chatbot_E_Day1_Answer_score: num  1 1 1 1 1 1 1 1 1 1 ...\n",
            " $ Chatbot_E_Day2_Answer_score: num  1 1 1 1 1 1 1 1 1 1 ...\n",
            " $ Chatbot_F_Day1_Answer_score: num  1 1 1 1 1 1 1 1 1 1 ...\n",
            " $ Chatbot_F_Day2_Answer_score: num  1 1 1 1 1 1 1 1 1 1 ...\n",
            " $ ExamDomain                 : chr  \"A\" \"A\" \"A\" \"A\" ...\n"
          ]
        }
      ]
    },
    {
      "cell_type": "code",
      "source": [
        "# Then, Stack all columns ending in \"_Answer_score\" into a single column called Correct_answer and add new columns called ChatbotID (A to F) and TestDay (Test1 and Test2) corresponding to the original columnns\n",
        "Experiment2_forLMM <- Experiment2_Chatbot_ratings_AnswerOnly %>%\n",
        "  # Pivot to long format\n",
        "  pivot_longer(\n",
        "    cols = ends_with(\"_Answer_score\"),  # Select columns ending with \"_Answer_score\"\n",
        "    names_to = \"Variable\",             # Temporary column to hold original column names\n",
        "    values_to = \"Correct_answer\"       # Column to store stacked values\n",
        "  ) %>%\n",
        "  # Extract ChatbotID and TestDay from the 'Variable' column\n",
        "  mutate(\n",
        "    ChatbotID = case_when(\n",
        "      grepl(\"Chatbot_A\", Variable) ~ \"ChatbotA\",\n",
        "      grepl(\"Chatbot_B\", Variable) ~ \"ChatbotB\",\n",
        "      grepl(\"Chatbot_C\", Variable) ~ \"ChatbotC\",\n",
        "      grepl(\"Chatbot_D\", Variable) ~ \"ChatbotD\",\n",
        "      grepl(\"Chatbot_E\", Variable) ~ \"ChatbotE\",\n",
        "      grepl(\"Chatbot_F\", Variable) ~ \"ChatbotF\"\n",
        "    ),\n",
        "    TestDay = case_when(\n",
        "      grepl(\"Day1\", Variable) ~ \"Test1\",\n",
        "      grepl(\"Day2\", Variable) ~ \"Test2\"\n",
        "    )\n",
        "  ) %>%\n",
        "  # Drop the temporary 'Variable' column\n",
        "  select(-Variable)\n",
        "\n",
        "# View the transformed dataframe\n",
        "cat(\"\\n\\n Correct_answer data in long format for ANOVA and Logistic Mixed Modeling:\\n\")\n",
        "Experiment2_forLMM\n",
        "str(Experiment2_forLMM)"
      ],
      "metadata": {
        "colab": {
          "base_uri": "https://localhost:8080/",
          "height": 1000
        },
        "id": "FJD0cbXCakBn",
        "outputId": "fe31618e-b72b-4f2f-e28e-413367067791"
      },
      "execution_count": 21,
      "outputs": [
        {
          "output_type": "stream",
          "name": "stdout",
          "text": [
            "\n",
            "\n",
            " Correct_answer data in long format for ANOVA and Logistic Mixed Modeling:\n"
          ]
        },
        {
          "output_type": "display_data",
          "data": {
            "text/html": [
              "<table class=\"dataframe\">\n",
              "<caption>A tibble: 1332 × 5</caption>\n",
              "<thead>\n",
              "\t<tr><th scope=col>Question</th><th scope=col>ExamDomain</th><th scope=col>Correct_answer</th><th scope=col>ChatbotID</th><th scope=col>TestDay</th></tr>\n",
              "\t<tr><th scope=col>&lt;int&gt;</th><th scope=col>&lt;chr&gt;</th><th scope=col>&lt;dbl&gt;</th><th scope=col>&lt;chr&gt;</th><th scope=col>&lt;chr&gt;</th></tr>\n",
              "</thead>\n",
              "<tbody>\n",
              "\t<tr><td>1</td><td>A</td><td>1</td><td>ChatbotA</td><td>Test1</td></tr>\n",
              "\t<tr><td>1</td><td>A</td><td>1</td><td>ChatbotA</td><td>Test2</td></tr>\n",
              "\t<tr><td>1</td><td>A</td><td>1</td><td>ChatbotB</td><td>Test1</td></tr>\n",
              "\t<tr><td>1</td><td>A</td><td>1</td><td>ChatbotB</td><td>Test2</td></tr>\n",
              "\t<tr><td>1</td><td>A</td><td>1</td><td>ChatbotC</td><td>Test1</td></tr>\n",
              "\t<tr><td>1</td><td>A</td><td>1</td><td>ChatbotC</td><td>Test2</td></tr>\n",
              "\t<tr><td>1</td><td>A</td><td>1</td><td>ChatbotD</td><td>Test1</td></tr>\n",
              "\t<tr><td>1</td><td>A</td><td>1</td><td>ChatbotD</td><td>Test2</td></tr>\n",
              "\t<tr><td>1</td><td>A</td><td>1</td><td>ChatbotE</td><td>Test1</td></tr>\n",
              "\t<tr><td>1</td><td>A</td><td>1</td><td>ChatbotE</td><td>Test2</td></tr>\n",
              "\t<tr><td>1</td><td>A</td><td>1</td><td>ChatbotF</td><td>Test1</td></tr>\n",
              "\t<tr><td>1</td><td>A</td><td>1</td><td>ChatbotF</td><td>Test2</td></tr>\n",
              "\t<tr><td>2</td><td>A</td><td>0</td><td>ChatbotA</td><td>Test1</td></tr>\n",
              "\t<tr><td>2</td><td>A</td><td>0</td><td>ChatbotA</td><td>Test2</td></tr>\n",
              "\t<tr><td>2</td><td>A</td><td>1</td><td>ChatbotB</td><td>Test1</td></tr>\n",
              "\t<tr><td>2</td><td>A</td><td>1</td><td>ChatbotB</td><td>Test2</td></tr>\n",
              "\t<tr><td>2</td><td>A</td><td>1</td><td>ChatbotC</td><td>Test1</td></tr>\n",
              "\t<tr><td>2</td><td>A</td><td>0</td><td>ChatbotC</td><td>Test2</td></tr>\n",
              "\t<tr><td>2</td><td>A</td><td>1</td><td>ChatbotD</td><td>Test1</td></tr>\n",
              "\t<tr><td>2</td><td>A</td><td>0</td><td>ChatbotD</td><td>Test2</td></tr>\n",
              "\t<tr><td>2</td><td>A</td><td>1</td><td>ChatbotE</td><td>Test1</td></tr>\n",
              "\t<tr><td>2</td><td>A</td><td>1</td><td>ChatbotE</td><td>Test2</td></tr>\n",
              "\t<tr><td>2</td><td>A</td><td>1</td><td>ChatbotF</td><td>Test1</td></tr>\n",
              "\t<tr><td>2</td><td>A</td><td>1</td><td>ChatbotF</td><td>Test2</td></tr>\n",
              "\t<tr><td>3</td><td>A</td><td>1</td><td>ChatbotA</td><td>Test1</td></tr>\n",
              "\t<tr><td>3</td><td>A</td><td>1</td><td>ChatbotA</td><td>Test2</td></tr>\n",
              "\t<tr><td>3</td><td>A</td><td>1</td><td>ChatbotB</td><td>Test1</td></tr>\n",
              "\t<tr><td>3</td><td>A</td><td>1</td><td>ChatbotB</td><td>Test2</td></tr>\n",
              "\t<tr><td>3</td><td>A</td><td>1</td><td>ChatbotC</td><td>Test1</td></tr>\n",
              "\t<tr><td>3</td><td>A</td><td>1</td><td>ChatbotC</td><td>Test2</td></tr>\n",
              "\t<tr><td>⋮</td><td>⋮</td><td>⋮</td><td>⋮</td><td>⋮</td></tr>\n",
              "\t<tr><td>109</td><td>A</td><td>1</td><td>ChatbotD</td><td>Test1</td></tr>\n",
              "\t<tr><td>109</td><td>A</td><td>1</td><td>ChatbotD</td><td>Test2</td></tr>\n",
              "\t<tr><td>109</td><td>A</td><td>1</td><td>ChatbotE</td><td>Test1</td></tr>\n",
              "\t<tr><td>109</td><td>A</td><td>1</td><td>ChatbotE</td><td>Test2</td></tr>\n",
              "\t<tr><td>109</td><td>A</td><td>1</td><td>ChatbotF</td><td>Test1</td></tr>\n",
              "\t<tr><td>109</td><td>A</td><td>1</td><td>ChatbotF</td><td>Test2</td></tr>\n",
              "\t<tr><td>110</td><td>B</td><td>1</td><td>ChatbotA</td><td>Test1</td></tr>\n",
              "\t<tr><td>110</td><td>B</td><td>1</td><td>ChatbotA</td><td>Test2</td></tr>\n",
              "\t<tr><td>110</td><td>B</td><td>1</td><td>ChatbotB</td><td>Test1</td></tr>\n",
              "\t<tr><td>110</td><td>B</td><td>1</td><td>ChatbotB</td><td>Test2</td></tr>\n",
              "\t<tr><td>110</td><td>B</td><td>0</td><td>ChatbotC</td><td>Test1</td></tr>\n",
              "\t<tr><td>110</td><td>B</td><td>0</td><td>ChatbotC</td><td>Test2</td></tr>\n",
              "\t<tr><td>110</td><td>B</td><td>1</td><td>ChatbotD</td><td>Test1</td></tr>\n",
              "\t<tr><td>110</td><td>B</td><td>1</td><td>ChatbotD</td><td>Test2</td></tr>\n",
              "\t<tr><td>110</td><td>B</td><td>1</td><td>ChatbotE</td><td>Test1</td></tr>\n",
              "\t<tr><td>110</td><td>B</td><td>1</td><td>ChatbotE</td><td>Test2</td></tr>\n",
              "\t<tr><td>110</td><td>B</td><td>1</td><td>ChatbotF</td><td>Test1</td></tr>\n",
              "\t<tr><td>110</td><td>B</td><td>1</td><td>ChatbotF</td><td>Test2</td></tr>\n",
              "\t<tr><td>111</td><td>A</td><td>0</td><td>ChatbotA</td><td>Test1</td></tr>\n",
              "\t<tr><td>111</td><td>A</td><td>0</td><td>ChatbotA</td><td>Test2</td></tr>\n",
              "\t<tr><td>111</td><td>A</td><td>0</td><td>ChatbotB</td><td>Test1</td></tr>\n",
              "\t<tr><td>111</td><td>A</td><td>0</td><td>ChatbotB</td><td>Test2</td></tr>\n",
              "\t<tr><td>111</td><td>A</td><td>0</td><td>ChatbotC</td><td>Test1</td></tr>\n",
              "\t<tr><td>111</td><td>A</td><td>0</td><td>ChatbotC</td><td>Test2</td></tr>\n",
              "\t<tr><td>111</td><td>A</td><td>0</td><td>ChatbotD</td><td>Test1</td></tr>\n",
              "\t<tr><td>111</td><td>A</td><td>0</td><td>ChatbotD</td><td>Test2</td></tr>\n",
              "\t<tr><td>111</td><td>A</td><td>1</td><td>ChatbotE</td><td>Test1</td></tr>\n",
              "\t<tr><td>111</td><td>A</td><td>1</td><td>ChatbotE</td><td>Test2</td></tr>\n",
              "\t<tr><td>111</td><td>A</td><td>1</td><td>ChatbotF</td><td>Test1</td></tr>\n",
              "\t<tr><td>111</td><td>A</td><td>1</td><td>ChatbotF</td><td>Test2</td></tr>\n",
              "</tbody>\n",
              "</table>\n"
            ],
            "text/markdown": "\nA tibble: 1332 × 5\n\n| Question &lt;int&gt; | ExamDomain &lt;chr&gt; | Correct_answer &lt;dbl&gt; | ChatbotID &lt;chr&gt; | TestDay &lt;chr&gt; |\n|---|---|---|---|---|\n| 1 | A | 1 | ChatbotA | Test1 |\n| 1 | A | 1 | ChatbotA | Test2 |\n| 1 | A | 1 | ChatbotB | Test1 |\n| 1 | A | 1 | ChatbotB | Test2 |\n| 1 | A | 1 | ChatbotC | Test1 |\n| 1 | A | 1 | ChatbotC | Test2 |\n| 1 | A | 1 | ChatbotD | Test1 |\n| 1 | A | 1 | ChatbotD | Test2 |\n| 1 | A | 1 | ChatbotE | Test1 |\n| 1 | A | 1 | ChatbotE | Test2 |\n| 1 | A | 1 | ChatbotF | Test1 |\n| 1 | A | 1 | ChatbotF | Test2 |\n| 2 | A | 0 | ChatbotA | Test1 |\n| 2 | A | 0 | ChatbotA | Test2 |\n| 2 | A | 1 | ChatbotB | Test1 |\n| 2 | A | 1 | ChatbotB | Test2 |\n| 2 | A | 1 | ChatbotC | Test1 |\n| 2 | A | 0 | ChatbotC | Test2 |\n| 2 | A | 1 | ChatbotD | Test1 |\n| 2 | A | 0 | ChatbotD | Test2 |\n| 2 | A | 1 | ChatbotE | Test1 |\n| 2 | A | 1 | ChatbotE | Test2 |\n| 2 | A | 1 | ChatbotF | Test1 |\n| 2 | A | 1 | ChatbotF | Test2 |\n| 3 | A | 1 | ChatbotA | Test1 |\n| 3 | A | 1 | ChatbotA | Test2 |\n| 3 | A | 1 | ChatbotB | Test1 |\n| 3 | A | 1 | ChatbotB | Test2 |\n| 3 | A | 1 | ChatbotC | Test1 |\n| 3 | A | 1 | ChatbotC | Test2 |\n| ⋮ | ⋮ | ⋮ | ⋮ | ⋮ |\n| 109 | A | 1 | ChatbotD | Test1 |\n| 109 | A | 1 | ChatbotD | Test2 |\n| 109 | A | 1 | ChatbotE | Test1 |\n| 109 | A | 1 | ChatbotE | Test2 |\n| 109 | A | 1 | ChatbotF | Test1 |\n| 109 | A | 1 | ChatbotF | Test2 |\n| 110 | B | 1 | ChatbotA | Test1 |\n| 110 | B | 1 | ChatbotA | Test2 |\n| 110 | B | 1 | ChatbotB | Test1 |\n| 110 | B | 1 | ChatbotB | Test2 |\n| 110 | B | 0 | ChatbotC | Test1 |\n| 110 | B | 0 | ChatbotC | Test2 |\n| 110 | B | 1 | ChatbotD | Test1 |\n| 110 | B | 1 | ChatbotD | Test2 |\n| 110 | B | 1 | ChatbotE | Test1 |\n| 110 | B | 1 | ChatbotE | Test2 |\n| 110 | B | 1 | ChatbotF | Test1 |\n| 110 | B | 1 | ChatbotF | Test2 |\n| 111 | A | 0 | ChatbotA | Test1 |\n| 111 | A | 0 | ChatbotA | Test2 |\n| 111 | A | 0 | ChatbotB | Test1 |\n| 111 | A | 0 | ChatbotB | Test2 |\n| 111 | A | 0 | ChatbotC | Test1 |\n| 111 | A | 0 | ChatbotC | Test2 |\n| 111 | A | 0 | ChatbotD | Test1 |\n| 111 | A | 0 | ChatbotD | Test2 |\n| 111 | A | 1 | ChatbotE | Test1 |\n| 111 | A | 1 | ChatbotE | Test2 |\n| 111 | A | 1 | ChatbotF | Test1 |\n| 111 | A | 1 | ChatbotF | Test2 |\n\n",
            "text/latex": "A tibble: 1332 × 5\n\\begin{tabular}{lllll}\n Question & ExamDomain & Correct\\_answer & ChatbotID & TestDay\\\\\n <int> & <chr> & <dbl> & <chr> & <chr>\\\\\n\\hline\n\t 1 & A & 1 & ChatbotA & Test1\\\\\n\t 1 & A & 1 & ChatbotA & Test2\\\\\n\t 1 & A & 1 & ChatbotB & Test1\\\\\n\t 1 & A & 1 & ChatbotB & Test2\\\\\n\t 1 & A & 1 & ChatbotC & Test1\\\\\n\t 1 & A & 1 & ChatbotC & Test2\\\\\n\t 1 & A & 1 & ChatbotD & Test1\\\\\n\t 1 & A & 1 & ChatbotD & Test2\\\\\n\t 1 & A & 1 & ChatbotE & Test1\\\\\n\t 1 & A & 1 & ChatbotE & Test2\\\\\n\t 1 & A & 1 & ChatbotF & Test1\\\\\n\t 1 & A & 1 & ChatbotF & Test2\\\\\n\t 2 & A & 0 & ChatbotA & Test1\\\\\n\t 2 & A & 0 & ChatbotA & Test2\\\\\n\t 2 & A & 1 & ChatbotB & Test1\\\\\n\t 2 & A & 1 & ChatbotB & Test2\\\\\n\t 2 & A & 1 & ChatbotC & Test1\\\\\n\t 2 & A & 0 & ChatbotC & Test2\\\\\n\t 2 & A & 1 & ChatbotD & Test1\\\\\n\t 2 & A & 0 & ChatbotD & Test2\\\\\n\t 2 & A & 1 & ChatbotE & Test1\\\\\n\t 2 & A & 1 & ChatbotE & Test2\\\\\n\t 2 & A & 1 & ChatbotF & Test1\\\\\n\t 2 & A & 1 & ChatbotF & Test2\\\\\n\t 3 & A & 1 & ChatbotA & Test1\\\\\n\t 3 & A & 1 & ChatbotA & Test2\\\\\n\t 3 & A & 1 & ChatbotB & Test1\\\\\n\t 3 & A & 1 & ChatbotB & Test2\\\\\n\t 3 & A & 1 & ChatbotC & Test1\\\\\n\t 3 & A & 1 & ChatbotC & Test2\\\\\n\t ⋮ & ⋮ & ⋮ & ⋮ & ⋮\\\\\n\t 109 & A & 1 & ChatbotD & Test1\\\\\n\t 109 & A & 1 & ChatbotD & Test2\\\\\n\t 109 & A & 1 & ChatbotE & Test1\\\\\n\t 109 & A & 1 & ChatbotE & Test2\\\\\n\t 109 & A & 1 & ChatbotF & Test1\\\\\n\t 109 & A & 1 & ChatbotF & Test2\\\\\n\t 110 & B & 1 & ChatbotA & Test1\\\\\n\t 110 & B & 1 & ChatbotA & Test2\\\\\n\t 110 & B & 1 & ChatbotB & Test1\\\\\n\t 110 & B & 1 & ChatbotB & Test2\\\\\n\t 110 & B & 0 & ChatbotC & Test1\\\\\n\t 110 & B & 0 & ChatbotC & Test2\\\\\n\t 110 & B & 1 & ChatbotD & Test1\\\\\n\t 110 & B & 1 & ChatbotD & Test2\\\\\n\t 110 & B & 1 & ChatbotE & Test1\\\\\n\t 110 & B & 1 & ChatbotE & Test2\\\\\n\t 110 & B & 1 & ChatbotF & Test1\\\\\n\t 110 & B & 1 & ChatbotF & Test2\\\\\n\t 111 & A & 0 & ChatbotA & Test1\\\\\n\t 111 & A & 0 & ChatbotA & Test2\\\\\n\t 111 & A & 0 & ChatbotB & Test1\\\\\n\t 111 & A & 0 & ChatbotB & Test2\\\\\n\t 111 & A & 0 & ChatbotC & Test1\\\\\n\t 111 & A & 0 & ChatbotC & Test2\\\\\n\t 111 & A & 0 & ChatbotD & Test1\\\\\n\t 111 & A & 0 & ChatbotD & Test2\\\\\n\t 111 & A & 1 & ChatbotE & Test1\\\\\n\t 111 & A & 1 & ChatbotE & Test2\\\\\n\t 111 & A & 1 & ChatbotF & Test1\\\\\n\t 111 & A & 1 & ChatbotF & Test2\\\\\n\\end{tabular}\n",
            "text/plain": [
              "     Question ExamDomain Correct_answer ChatbotID TestDay\n",
              "1    1        A          1              ChatbotA  Test1  \n",
              "2    1        A          1              ChatbotA  Test2  \n",
              "3    1        A          1              ChatbotB  Test1  \n",
              "4    1        A          1              ChatbotB  Test2  \n",
              "5    1        A          1              ChatbotC  Test1  \n",
              "6    1        A          1              ChatbotC  Test2  \n",
              "7    1        A          1              ChatbotD  Test1  \n",
              "8    1        A          1              ChatbotD  Test2  \n",
              "9    1        A          1              ChatbotE  Test1  \n",
              "10   1        A          1              ChatbotE  Test2  \n",
              "11   1        A          1              ChatbotF  Test1  \n",
              "12   1        A          1              ChatbotF  Test2  \n",
              "13   2        A          0              ChatbotA  Test1  \n",
              "14   2        A          0              ChatbotA  Test2  \n",
              "15   2        A          1              ChatbotB  Test1  \n",
              "16   2        A          1              ChatbotB  Test2  \n",
              "17   2        A          1              ChatbotC  Test1  \n",
              "18   2        A          0              ChatbotC  Test2  \n",
              "19   2        A          1              ChatbotD  Test1  \n",
              "20   2        A          0              ChatbotD  Test2  \n",
              "21   2        A          1              ChatbotE  Test1  \n",
              "22   2        A          1              ChatbotE  Test2  \n",
              "23   2        A          1              ChatbotF  Test1  \n",
              "24   2        A          1              ChatbotF  Test2  \n",
              "25   3        A          1              ChatbotA  Test1  \n",
              "26   3        A          1              ChatbotA  Test2  \n",
              "27   3        A          1              ChatbotB  Test1  \n",
              "28   3        A          1              ChatbotB  Test2  \n",
              "29   3        A          1              ChatbotC  Test1  \n",
              "30   3        A          1              ChatbotC  Test2  \n",
              "⋮    ⋮        ⋮          ⋮              ⋮         ⋮      \n",
              "1303 109      A          1              ChatbotD  Test1  \n",
              "1304 109      A          1              ChatbotD  Test2  \n",
              "1305 109      A          1              ChatbotE  Test1  \n",
              "1306 109      A          1              ChatbotE  Test2  \n",
              "1307 109      A          1              ChatbotF  Test1  \n",
              "1308 109      A          1              ChatbotF  Test2  \n",
              "1309 110      B          1              ChatbotA  Test1  \n",
              "1310 110      B          1              ChatbotA  Test2  \n",
              "1311 110      B          1              ChatbotB  Test1  \n",
              "1312 110      B          1              ChatbotB  Test2  \n",
              "1313 110      B          0              ChatbotC  Test1  \n",
              "1314 110      B          0              ChatbotC  Test2  \n",
              "1315 110      B          1              ChatbotD  Test1  \n",
              "1316 110      B          1              ChatbotD  Test2  \n",
              "1317 110      B          1              ChatbotE  Test1  \n",
              "1318 110      B          1              ChatbotE  Test2  \n",
              "1319 110      B          1              ChatbotF  Test1  \n",
              "1320 110      B          1              ChatbotF  Test2  \n",
              "1321 111      A          0              ChatbotA  Test1  \n",
              "1322 111      A          0              ChatbotA  Test2  \n",
              "1323 111      A          0              ChatbotB  Test1  \n",
              "1324 111      A          0              ChatbotB  Test2  \n",
              "1325 111      A          0              ChatbotC  Test1  \n",
              "1326 111      A          0              ChatbotC  Test2  \n",
              "1327 111      A          0              ChatbotD  Test1  \n",
              "1328 111      A          0              ChatbotD  Test2  \n",
              "1329 111      A          1              ChatbotE  Test1  \n",
              "1330 111      A          1              ChatbotE  Test2  \n",
              "1331 111      A          1              ChatbotF  Test1  \n",
              "1332 111      A          1              ChatbotF  Test2  "
            ]
          },
          "metadata": {}
        },
        {
          "output_type": "stream",
          "name": "stdout",
          "text": [
            "tibble [1,332 × 5] (S3: tbl_df/tbl/data.frame)\n",
            " $ Question      : int [1:1332] 1 1 1 1 1 1 1 1 1 1 ...\n",
            " $ ExamDomain    : chr [1:1332] \"A\" \"A\" \"A\" \"A\" ...\n",
            " $ Correct_answer: num [1:1332] 1 1 1 1 1 1 1 1 1 1 ...\n",
            " $ ChatbotID     : chr [1:1332] \"ChatbotA\" \"ChatbotA\" \"ChatbotB\" \"ChatbotB\" ...\n",
            " $ TestDay       : chr [1:1332] \"Test1\" \"Test2\" \"Test1\" \"Test2\" ...\n"
          ]
        }
      ]
    },
    {
      "cell_type": "code",
      "source": [
        "# Convert the specified columns to factors\n",
        "Experiment2_forLMM$ChatbotID <- as.factor(Experiment2_forLMM$ChatbotID)\n",
        "Experiment2_forLMM$TestDay <- as.factor(Experiment2_forLMM$TestDay)\n",
        "Experiment2_forLMM$ExamDomain <- as.factor(Experiment2_forLMM$ExamDomain)\n",
        "\n",
        "# Check the structure to confirm the conversion\n",
        "str(Experiment2_forLMM)"
      ],
      "metadata": {
        "colab": {
          "base_uri": "https://localhost:8080/"
        },
        "id": "gQ8bQZH-hO8W",
        "outputId": "3ff44b74-ab10-4d81-ad76-480a14ecb663"
      },
      "execution_count": 22,
      "outputs": [
        {
          "output_type": "stream",
          "name": "stdout",
          "text": [
            "tibble [1,332 × 5] (S3: tbl_df/tbl/data.frame)\n",
            " $ Question      : int [1:1332] 1 1 1 1 1 1 1 1 1 1 ...\n",
            " $ ExamDomain    : Factor w/ 3 levels \"A\",\"B\",\"C\": 1 1 1 1 1 1 1 1 1 1 ...\n",
            " $ Correct_answer: num [1:1332] 1 1 1 1 1 1 1 1 1 1 ...\n",
            " $ ChatbotID     : Factor w/ 6 levels \"ChatbotA\",\"ChatbotB\",..: 1 1 2 2 3 3 4 4 5 5 ...\n",
            " $ TestDay       : Factor w/ 2 levels \"Test1\",\"Test2\": 1 2 1 2 1 2 1 2 1 2 ...\n"
          ]
        }
      ]
    },
    {
      "cell_type": "code",
      "source": [
        "# Cross-check some values to ensure the df transformation is correct\n",
        "\n",
        "# Function to cross-check values\n",
        "cross_check <- function(Experiment2_Chatbot_ratings_AnswerOnly, Experiment2_forLMM, n = 5) {\n",
        "  # Randomly sample 'n' rows from the transformed dataframe\n",
        "  sample_rows <- Experiment2_forLMM %>%\n",
        "    sample_n(n)\n",
        "\n",
        "  # Cross-check each row\n",
        "  sample_rows %>%\n",
        "    rowwise() %>%\n",
        "    mutate(\n",
        "      # Build the column name from ChatbotID and TestDay\n",
        "      Original_Column = paste0(\n",
        "        gsub(\"Chatbot\", \"Chatbot_\", ChatbotID), \"_\",\n",
        "        ifelse(TestDay == \"Test1\", \"Day1\", \"Day2\"),\n",
        "        \"_Answer_score\"\n",
        "      ),\n",
        "      # Extract the value from the original dataframe\n",
        "      Original_Value = Experiment2_Chatbot_ratings_AnswerOnly[Question, Original_Column],\n",
        "      # Compare the values\n",
        "      Match = (Correct_answer == Original_Value)\n",
        "    ) %>%\n",
        "    ungroup() %>%\n",
        "    select(Question, ChatbotID, TestDay, Correct_answer, Original_Value, Match)\n",
        "}\n",
        "\n",
        "# Run the cross-check function with 5 random samples.\n",
        "# If all values match (Match = TRUE), it confirms the transformation is correct. If discrepancies are found (Match = FALSE), you can investigate further.\n",
        "cross_check(Experiment2_Chatbot_ratings_AnswerOnly, Experiment2_forLMM, n = 5)"
      ],
      "metadata": {
        "colab": {
          "base_uri": "https://localhost:8080/",
          "height": 255
        },
        "id": "yxlGa-DLcp_r",
        "outputId": "d3fb7e9c-dd3b-42a8-b95d-1291f0561a80"
      },
      "execution_count": 23,
      "outputs": [
        {
          "output_type": "display_data",
          "data": {
            "text/html": [
              "<table class=\"dataframe\">\n",
              "<caption>A tibble: 5 × 6</caption>\n",
              "<thead>\n",
              "\t<tr><th scope=col>Question</th><th scope=col>ChatbotID</th><th scope=col>TestDay</th><th scope=col>Correct_answer</th><th scope=col>Original_Value</th><th scope=col>Match</th></tr>\n",
              "\t<tr><th scope=col>&lt;int&gt;</th><th scope=col>&lt;fct&gt;</th><th scope=col>&lt;fct&gt;</th><th scope=col>&lt;dbl&gt;</th><th scope=col>&lt;dbl&gt;</th><th scope=col>&lt;lgl&gt;</th></tr>\n",
              "</thead>\n",
              "<tbody>\n",
              "\t<tr><td>75</td><td>ChatbotF</td><td>Test2</td><td>1</td><td>1</td><td>TRUE</td></tr>\n",
              "\t<tr><td>75</td><td>ChatbotC</td><td>Test2</td><td>1</td><td>1</td><td>TRUE</td></tr>\n",
              "\t<tr><td>80</td><td>ChatbotB</td><td>Test1</td><td>0</td><td>0</td><td>TRUE</td></tr>\n",
              "\t<tr><td> 8</td><td>ChatbotA</td><td>Test1</td><td>1</td><td>1</td><td>TRUE</td></tr>\n",
              "\t<tr><td>20</td><td>ChatbotC</td><td>Test2</td><td>0</td><td>0</td><td>TRUE</td></tr>\n",
              "</tbody>\n",
              "</table>\n"
            ],
            "text/markdown": "\nA tibble: 5 × 6\n\n| Question &lt;int&gt; | ChatbotID &lt;fct&gt; | TestDay &lt;fct&gt; | Correct_answer &lt;dbl&gt; | Original_Value &lt;dbl&gt; | Match &lt;lgl&gt; |\n|---|---|---|---|---|---|\n| 75 | ChatbotF | Test2 | 1 | 1 | TRUE |\n| 75 | ChatbotC | Test2 | 1 | 1 | TRUE |\n| 80 | ChatbotB | Test1 | 0 | 0 | TRUE |\n|  8 | ChatbotA | Test1 | 1 | 1 | TRUE |\n| 20 | ChatbotC | Test2 | 0 | 0 | TRUE |\n\n",
            "text/latex": "A tibble: 5 × 6\n\\begin{tabular}{llllll}\n Question & ChatbotID & TestDay & Correct\\_answer & Original\\_Value & Match\\\\\n <int> & <fct> & <fct> & <dbl> & <dbl> & <lgl>\\\\\n\\hline\n\t 75 & ChatbotF & Test2 & 1 & 1 & TRUE\\\\\n\t 75 & ChatbotC & Test2 & 1 & 1 & TRUE\\\\\n\t 80 & ChatbotB & Test1 & 0 & 0 & TRUE\\\\\n\t  8 & ChatbotA & Test1 & 1 & 1 & TRUE\\\\\n\t 20 & ChatbotC & Test2 & 0 & 0 & TRUE\\\\\n\\end{tabular}\n",
            "text/plain": [
              "  Question ChatbotID TestDay Correct_answer Original_Value Match\n",
              "1 75       ChatbotF  Test2   1              1              TRUE \n",
              "2 75       ChatbotC  Test2   1              1              TRUE \n",
              "3 80       ChatbotB  Test1   0              0              TRUE \n",
              "4  8       ChatbotA  Test1   1              1              TRUE \n",
              "5 20       ChatbotC  Test2   0              0              TRUE "
            ]
          },
          "metadata": {}
        }
      ]
    },
    {
      "cell_type": "markdown",
      "source": [
        "The transformation looks good; all answers are TRUE"
      ],
      "metadata": {
        "id": "8tVE5JxkeBcK"
      }
    },
    {
      "cell_type": "markdown",
      "source": [
        "### Test for normality (Shapiro–Wilk test)"
      ],
      "metadata": {
        "id": "uTxPqWev-LCt"
      }
    },
    {
      "cell_type": "code",
      "source": [
        "# Test data for normality (Shapiro–Wilk test)\n",
        "normality_test <- shapiro.test(Experiment2_forLMM$Correct_answer)\n",
        "\n",
        "# Interpret the result based on p-value\n",
        "if(normality_test$p.value < 0.05) {\n",
        "  normality_test_interpretation <- \"Data not normally distributed (reject H0)\"\n",
        "} else {\n",
        "  normality_test_interpretation <- \"Data is normally distributed (fail to reject H0)\"\n",
        "}\n",
        "\n",
        "# Print the results\n",
        "cat(\"\\n\\n Shapiro-Wilk test results: \\n\")\n",
        "normality_test\n",
        "cat(\"\\nInterpretation:\", normality_test_interpretation, \"\\n\")"
      ],
      "metadata": {
        "id": "6RmpyKmuBM5i",
        "colab": {
          "base_uri": "https://localhost:8080/",
          "height": 191
        },
        "outputId": "eb773cd8-10d5-4221-b05a-29f25aff8d3f"
      },
      "execution_count": 24,
      "outputs": [
        {
          "output_type": "stream",
          "name": "stdout",
          "text": [
            "\n",
            "\n",
            " Shapiro-Wilk test results: \n"
          ]
        },
        {
          "output_type": "display_data",
          "data": {
            "text/plain": [
              "\n",
              "\tShapiro-Wilk normality test\n",
              "\n",
              "data:  Experiment2_forLMM$Correct_answer\n",
              "W = 0.51959, p-value < 2.2e-16\n"
            ]
          },
          "metadata": {}
        },
        {
          "output_type": "stream",
          "name": "stdout",
          "text": [
            "\n",
            "Interpretation: Data not normally distributed (reject H0) \n"
          ]
        }
      ]
    },
    {
      "cell_type": "markdown",
      "source": [
        "### Test for homogeneity of variance (Bartlett test)"
      ],
      "metadata": {
        "id": "-b_q78i5BGIV"
      }
    },
    {
      "cell_type": "code",
      "source": [
        "# First, filter out groups with < 2 observations\n",
        "filtered_data <- Experiment2_forLMM %>%\n",
        "  group_by(ChatbotID) %>%\n",
        "  filter(n() >= 2) %>%\n",
        "  ungroup()\n",
        "\n",
        "# Test data for homogeneity of variance (Bartlett test)\n",
        "heterogeneity_test <- bartlett.test(filtered_data$Correct_answer ~ filtered_data$ChatbotID)\n",
        "\n",
        "# Interpret the result based on p-value\n",
        "if(heterogeneity_test$p.value < 0.05) {\n",
        "  heterogeneity_test_interpretation <- \"Data is heteroscedastic, i.e. unequal variances across groups (reject H0)\"\n",
        "} else {\n",
        "  heterogeneity_test_interpretation <- \"Data has equal variances aross groups (fail to reject H0)\"\n",
        "}\n",
        "\n",
        "# Print the result and interpretation\n",
        "cat(\"Bartlett test results (across rows/across groups):\\n\\n\")\n",
        "heterogeneity_test\n",
        "cat(\"\\nInterpretation:\", heterogeneity_test_interpretation, \"\\n\")"
      ],
      "metadata": {
        "colab": {
          "base_uri": "https://localhost:8080/",
          "height": 173
        },
        "id": "bnqzFIqKBL2i",
        "outputId": "09a3d5ca-e8c8-4560-84a9-170de1593c36"
      },
      "execution_count": 25,
      "outputs": [
        {
          "output_type": "stream",
          "name": "stdout",
          "text": [
            "Bartlett test results (across rows/across groups):\n",
            "\n"
          ]
        },
        {
          "output_type": "display_data",
          "data": {
            "text/plain": [
              "\n",
              "\tBartlett test of homogeneity of variances\n",
              "\n",
              "data:  filtered_data$Correct_answer by filtered_data$ChatbotID\n",
              "Bartlett's K-squared = 52.583, df = 5, p-value = 4.096e-10\n"
            ]
          },
          "metadata": {}
        },
        {
          "output_type": "stream",
          "name": "stdout",
          "text": [
            "\n",
            "Interpretation: Data is heteroscedastic, i.e. unequal variances across groups (reject H0) \n"
          ]
        }
      ]
    },
    {
      "cell_type": "markdown",
      "source": [
        "### Logistic mixed model"
      ],
      "metadata": {
        "id": "TFdJmDdqBOot"
      }
    },
    {
      "cell_type": "code",
      "source": [
        "# Load required packages\n",
        "library(lme4)\n",
        "install.packages(\"lmerTest\")\n",
        "library(lmerTest)  # Provides p-values for fixed effects\n",
        "install.packages(\"parameters\")\n",
        "library(parameters)  # Provides model_parameters"
      ],
      "metadata": {
        "colab": {
          "base_uri": "https://localhost:8080/"
        },
        "id": "k5S8NzvhF5uI",
        "outputId": "33de8343-a02b-42d3-9f22-e37b83bdd644"
      },
      "execution_count": 26,
      "outputs": [
        {
          "output_type": "stream",
          "name": "stderr",
          "text": [
            "Installing package into ‘/usr/local/lib/R/site-library’\n",
            "(as ‘lib’ is unspecified)\n",
            "\n",
            "\n",
            "Attaching package: ‘lmerTest’\n",
            "\n",
            "\n",
            "The following object is masked from ‘package:lme4’:\n",
            "\n",
            "    lmer\n",
            "\n",
            "\n",
            "The following object is masked from ‘package:stats’:\n",
            "\n",
            "    step\n",
            "\n",
            "\n",
            "Installing package into ‘/usr/local/lib/R/site-library’\n",
            "(as ‘lib’ is unspecified)\n",
            "\n",
            "also installing the dependencies ‘bayestestR’, ‘datawizard’, ‘insight’\n",
            "\n",
            "\n",
            "\n",
            "Attaching package: ‘parameters’\n",
            "\n",
            "\n",
            "The following object is masked from ‘package:infer’:\n",
            "\n",
            "    p_value\n",
            "\n",
            "\n"
          ]
        }
      ]
    },
    {
      "cell_type": "code",
      "source": [
        "# Compare Correct_answer within (test-retest reliability) and between chatbots using mixed-methods repeated-measures ANOVAs (logistic mixed model with a binomial distribution for the binary outcome, Answer_score: 1 = correct, 0 = incorrect).\n",
        "# Fixed effects:\n",
        "# Set ChatbotID, TestDay, ExamDomain, and their interactions set as fixed effects (main effects and interactions).\n",
        "# Random effects:\n",
        "#   Model_1 - Set intercept for ChatbotID as a random effect (random intercept).\n",
        "#   Model_2 - Set intercept for ChatbotID as a random effect (random intercept) and set random slopes for TestDay set as a random effect.\n",
        "\n",
        "# Fit logistic mixed-effects models\n",
        "LMM_Model_1 <- glmer(Correct_answer ~ ChatbotID + TestDay + ExamDomain + (1 | ChatbotID),\n",
        "               data = Experiment2_forLMM,\n",
        "               family = binomial)\n",
        "\n",
        "# Summary of the models and model parameters\n",
        "cat(\"\\n\\n LMM_Model_1 \\n\")\n",
        "summary(LMM_Model_1)\n",
        "model_parameters(LMM_Model_1)"
      ],
      "metadata": {
        "id": "OfbL3L_ABQP7",
        "colab": {
          "base_uri": "https://localhost:8080/",
          "height": 1000
        },
        "outputId": "35e5f0f1-8a4f-4a04-a635-2c1fb490a370"
      },
      "execution_count": 27,
      "outputs": [
        {
          "output_type": "stream",
          "name": "stderr",
          "text": [
            "boundary (singular) fit: see help('isSingular')\n",
            "\n"
          ]
        },
        {
          "output_type": "stream",
          "name": "stdout",
          "text": [
            "\n",
            "\n",
            " LMM_Model_1 \n"
          ]
        },
        {
          "output_type": "display_data",
          "data": {
            "text/plain": [
              "Generalized linear mixed model fit by maximum likelihood (Laplace\n",
              "  Approximation) [glmerMod]\n",
              " Family: binomial  ( logit )\n",
              "Formula: Correct_answer ~ ChatbotID + TestDay + ExamDomain + (1 | ChatbotID)\n",
              "   Data: Experiment2_forLMM\n",
              "\n",
              "     AIC      BIC   logLik deviance df.resid \n",
              "  1338.7   1390.6   -659.4   1318.7     1322 \n",
              "\n",
              "Scaled residuals: \n",
              "    Min      1Q  Median      3Q     Max \n",
              "-3.6305  0.2754  0.4306  0.5340  0.9945 \n",
              "\n",
              "Random effects:\n",
              " Groups    Name        Variance Std.Dev.\n",
              " ChatbotID (Intercept) 0        0       \n",
              "Number of obs: 1332, groups:  ChatbotID, 6\n",
              "\n",
              "Fixed effects:\n",
              "                  Estimate Std. Error z value Pr(>|z|)    \n",
              "(Intercept)        1.33857    0.18012   7.432 1.07e-13 ***\n",
              "ChatbotIDChatbotB  0.43024    0.22633   1.901 0.057308 .  \n",
              "ChatbotIDChatbotC -0.15768    0.21240  -0.742 0.457864    \n",
              "ChatbotIDChatbotD  0.04673    0.21619   0.216 0.828864    \n",
              "ChatbotIDChatbotE  0.94692    0.24756   3.825 0.000131 ***\n",
              "ChatbotIDChatbotF  1.24019    0.26444   4.690 2.73e-06 ***\n",
              "TestDayTest2      -0.08384    0.13654  -0.614 0.539158    \n",
              "ExamDomainB       -1.08609    0.14039  -7.736 1.02e-14 ***\n",
              "ExamDomainC        0.16862    0.33053   0.510 0.609948    \n",
              "---\n",
              "Signif. codes:  0 ‘***’ 0.001 ‘**’ 0.01 ‘*’ 0.05 ‘.’ 0.1 ‘ ’ 1\n",
              "\n",
              "Correlation of Fixed Effects:\n",
              "            (Intr) ChIDCB ChIDCC ChIDCD ChIDCE ChIDCF TstDT2 ExmDmB\n",
              "ChtbtIDChtB -0.558                                                 \n",
              "ChtbtIDChtC -0.610  0.481                                          \n",
              "ChtbtIDChtD -0.594  0.473  0.504                                   \n",
              "ChtbtIDChtE -0.502  0.415  0.440  0.433                            \n",
              "ChtbtIDChtF -0.466  0.389  0.412  0.405  0.357                     \n",
              "TestDayTst2 -0.388 -0.002  0.001  0.000 -0.004 -0.004              \n",
              "ExamDomainB -0.361 -0.027  0.012 -0.003 -0.049 -0.055  0.008       \n",
              "ExamDomainC -0.160  0.001 -0.001  0.000  0.002  0.002  0.000  0.204\n",
              "optimizer (Nelder_Mead) convergence code: 0 (OK)\n",
              "boundary (singular) fit: see help('isSingular')\n"
            ]
          },
          "metadata": {}
        },
        {
          "output_type": "display_data",
          "data": {
            "text/html": [
              "<table class=\"dataframe\">\n",
              "<caption>A parameters_model: 10 × 11</caption>\n",
              "<thead>\n",
              "\t<tr><th scope=col>Parameter</th><th scope=col>Coefficient</th><th scope=col>SE</th><th scope=col>CI</th><th scope=col>CI_low</th><th scope=col>CI_high</th><th scope=col>z</th><th scope=col>df_error</th><th scope=col>p</th><th scope=col>Effects</th><th scope=col>Group</th></tr>\n",
              "\t<tr><th scope=col>&lt;chr&gt;</th><th scope=col>&lt;dbl&gt;</th><th scope=col>&lt;dbl&gt;</th><th scope=col>&lt;dbl&gt;</th><th scope=col>&lt;dbl&gt;</th><th scope=col>&lt;dbl&gt;</th><th scope=col>&lt;dbl&gt;</th><th scope=col>&lt;dbl&gt;</th><th scope=col>&lt;dbl&gt;</th><th scope=col>&lt;chr&gt;</th><th scope=col>&lt;chr&gt;</th></tr>\n",
              "</thead>\n",
              "<tbody>\n",
              "\t<tr><td>(Intercept)      </td><td> 1.33856528</td><td>0.1801162</td><td>0.95</td><td> 0.98554397</td><td> 1.6915866</td><td> 7.4316753</td><td>Inf</td><td>1.072308e-13</td><td>fixed </td><td>         </td></tr>\n",
              "\t<tr><td>ChatbotIDChatbotB</td><td> 0.43024313</td><td>0.2263299</td><td>0.95</td><td>-0.01335527</td><td> 0.8738415</td><td> 1.9009560</td><td>Inf</td><td>5.730778e-02</td><td>fixed </td><td>         </td></tr>\n",
              "\t<tr><td>ChatbotIDChatbotC</td><td>-0.15767645</td><td>0.2123962</td><td>0.95</td><td>-0.57396536</td><td> 0.2586125</td><td>-0.7423695</td><td>Inf</td><td>4.578635e-01</td><td>fixed </td><td>         </td></tr>\n",
              "\t<tr><td>ChatbotIDChatbotD</td><td> 0.04673076</td><td>0.2161874</td><td>0.95</td><td>-0.37698873</td><td> 0.4704502</td><td> 0.2161586</td><td>Inf</td><td>8.288641e-01</td><td>fixed </td><td>         </td></tr>\n",
              "\t<tr><td>ChatbotIDChatbotE</td><td> 0.94691897</td><td>0.2475639</td><td>0.95</td><td> 0.46170272</td><td> 1.4321352</td><td> 3.8249483</td><td>Inf</td><td>1.307995e-04</td><td>fixed </td><td>         </td></tr>\n",
              "\t<tr><td>ChatbotIDChatbotF</td><td> 1.24019074</td><td>0.2644395</td><td>0.95</td><td> 0.72189877</td><td> 1.7584827</td><td> 4.6898840</td><td>Inf</td><td>2.733600e-06</td><td>fixed </td><td>         </td></tr>\n",
              "\t<tr><td>TestDayTest2     </td><td>-0.08384489</td><td>0.1365360</td><td>0.95</td><td>-0.35145050</td><td> 0.1837607</td><td>-0.6140864</td><td>Inf</td><td>5.391583e-01</td><td>fixed </td><td>         </td></tr>\n",
              "\t<tr><td>ExamDomainB      </td><td>-1.08609011</td><td>0.1403864</td><td>0.95</td><td>-1.36124244</td><td>-0.8109378</td><td>-7.7364327</td><td>Inf</td><td>1.022451e-14</td><td>fixed </td><td>         </td></tr>\n",
              "\t<tr><td>ExamDomainC      </td><td> 0.16861958</td><td>0.3305307</td><td>0.95</td><td>-0.47920864</td><td> 0.8164478</td><td> 0.5101480</td><td>Inf</td><td>6.099477e-01</td><td>fixed </td><td>         </td></tr>\n",
              "\t<tr><td>SD (Intercept)   </td><td> 0.00000000</td><td>       NA</td><td>0.95</td><td>         NA</td><td>        NA</td><td>        NA</td><td> NA</td><td>          NA</td><td>random</td><td>ChatbotID</td></tr>\n",
              "</tbody>\n",
              "</table>\n"
            ],
            "text/markdown": "\nA parameters_model: 10 × 11\n\n| Parameter &lt;chr&gt; | Coefficient &lt;dbl&gt; | SE &lt;dbl&gt; | CI &lt;dbl&gt; | CI_low &lt;dbl&gt; | CI_high &lt;dbl&gt; | z &lt;dbl&gt; | df_error &lt;dbl&gt; | p &lt;dbl&gt; | Effects &lt;chr&gt; | Group &lt;chr&gt; |\n|---|---|---|---|---|---|---|---|---|---|---|\n| (Intercept)       |  1.33856528 | 0.1801162 | 0.95 |  0.98554397 |  1.6915866 |  7.4316753 | Inf | 1.072308e-13 | fixed  | <!----> |\n| ChatbotIDChatbotB |  0.43024313 | 0.2263299 | 0.95 | -0.01335527 |  0.8738415 |  1.9009560 | Inf | 5.730778e-02 | fixed  | <!----> |\n| ChatbotIDChatbotC | -0.15767645 | 0.2123962 | 0.95 | -0.57396536 |  0.2586125 | -0.7423695 | Inf | 4.578635e-01 | fixed  | <!----> |\n| ChatbotIDChatbotD |  0.04673076 | 0.2161874 | 0.95 | -0.37698873 |  0.4704502 |  0.2161586 | Inf | 8.288641e-01 | fixed  | <!----> |\n| ChatbotIDChatbotE |  0.94691897 | 0.2475639 | 0.95 |  0.46170272 |  1.4321352 |  3.8249483 | Inf | 1.307995e-04 | fixed  | <!----> |\n| ChatbotIDChatbotF |  1.24019074 | 0.2644395 | 0.95 |  0.72189877 |  1.7584827 |  4.6898840 | Inf | 2.733600e-06 | fixed  | <!----> |\n| TestDayTest2      | -0.08384489 | 0.1365360 | 0.95 | -0.35145050 |  0.1837607 | -0.6140864 | Inf | 5.391583e-01 | fixed  | <!----> |\n| ExamDomainB       | -1.08609011 | 0.1403864 | 0.95 | -1.36124244 | -0.8109378 | -7.7364327 | Inf | 1.022451e-14 | fixed  | <!----> |\n| ExamDomainC       |  0.16861958 | 0.3305307 | 0.95 | -0.47920864 |  0.8164478 |  0.5101480 | Inf | 6.099477e-01 | fixed  | <!----> |\n| SD (Intercept)    |  0.00000000 |        NA | 0.95 |          NA |         NA |         NA |  NA |           NA | random | ChatbotID |\n\n",
            "text/latex": "A parameters\\_model: 10 × 11\n\\begin{tabular}{lllllllllll}\n Parameter & Coefficient & SE & CI & CI\\_low & CI\\_high & z & df\\_error & p & Effects & Group\\\\\n <chr> & <dbl> & <dbl> & <dbl> & <dbl> & <dbl> & <dbl> & <dbl> & <dbl> & <chr> & <chr>\\\\\n\\hline\n\t (Intercept)       &  1.33856528 & 0.1801162 & 0.95 &  0.98554397 &  1.6915866 &  7.4316753 & Inf & 1.072308e-13 & fixed  &          \\\\\n\t ChatbotIDChatbotB &  0.43024313 & 0.2263299 & 0.95 & -0.01335527 &  0.8738415 &  1.9009560 & Inf & 5.730778e-02 & fixed  &          \\\\\n\t ChatbotIDChatbotC & -0.15767645 & 0.2123962 & 0.95 & -0.57396536 &  0.2586125 & -0.7423695 & Inf & 4.578635e-01 & fixed  &          \\\\\n\t ChatbotIDChatbotD &  0.04673076 & 0.2161874 & 0.95 & -0.37698873 &  0.4704502 &  0.2161586 & Inf & 8.288641e-01 & fixed  &          \\\\\n\t ChatbotIDChatbotE &  0.94691897 & 0.2475639 & 0.95 &  0.46170272 &  1.4321352 &  3.8249483 & Inf & 1.307995e-04 & fixed  &          \\\\\n\t ChatbotIDChatbotF &  1.24019074 & 0.2644395 & 0.95 &  0.72189877 &  1.7584827 &  4.6898840 & Inf & 2.733600e-06 & fixed  &          \\\\\n\t TestDayTest2      & -0.08384489 & 0.1365360 & 0.95 & -0.35145050 &  0.1837607 & -0.6140864 & Inf & 5.391583e-01 & fixed  &          \\\\\n\t ExamDomainB       & -1.08609011 & 0.1403864 & 0.95 & -1.36124244 & -0.8109378 & -7.7364327 & Inf & 1.022451e-14 & fixed  &          \\\\\n\t ExamDomainC       &  0.16861958 & 0.3305307 & 0.95 & -0.47920864 &  0.8164478 &  0.5101480 & Inf & 6.099477e-01 & fixed  &          \\\\\n\t SD (Intercept)    &  0.00000000 &        NA & 0.95 &          NA &         NA &         NA &  NA &           NA & random & ChatbotID\\\\\n\\end{tabular}\n",
            "text/plain": [
              "   Parameter         Coefficient SE        CI   CI_low      CI_high   \n",
              "1  (Intercept)        1.33856528 0.1801162 0.95  0.98554397  1.6915866\n",
              "2  ChatbotIDChatbotB  0.43024313 0.2263299 0.95 -0.01335527  0.8738415\n",
              "3  ChatbotIDChatbotC -0.15767645 0.2123962 0.95 -0.57396536  0.2586125\n",
              "4  ChatbotIDChatbotD  0.04673076 0.2161874 0.95 -0.37698873  0.4704502\n",
              "5  ChatbotIDChatbotE  0.94691897 0.2475639 0.95  0.46170272  1.4321352\n",
              "6  ChatbotIDChatbotF  1.24019074 0.2644395 0.95  0.72189877  1.7584827\n",
              "7  TestDayTest2      -0.08384489 0.1365360 0.95 -0.35145050  0.1837607\n",
              "8  ExamDomainB       -1.08609011 0.1403864 0.95 -1.36124244 -0.8109378\n",
              "9  ExamDomainC        0.16861958 0.3305307 0.95 -0.47920864  0.8164478\n",
              "10 SD (Intercept)     0.00000000        NA 0.95          NA         NA\n",
              "   z          df_error p            Effects Group    \n",
              "1   7.4316753 Inf      1.072308e-13 fixed            \n",
              "2   1.9009560 Inf      5.730778e-02 fixed            \n",
              "3  -0.7423695 Inf      4.578635e-01 fixed            \n",
              "4   0.2161586 Inf      8.288641e-01 fixed            \n",
              "5   3.8249483 Inf      1.307995e-04 fixed            \n",
              "6   4.6898840 Inf      2.733600e-06 fixed            \n",
              "7  -0.6140864 Inf      5.391583e-01 fixed            \n",
              "8  -7.7364327 Inf      1.022451e-14 fixed            \n",
              "9   0.5101480 Inf      6.099477e-01 fixed            \n",
              "10         NA  NA                NA random  ChatbotID"
            ]
          },
          "metadata": {}
        }
      ]
    },
    {
      "cell_type": "code",
      "source": [
        "# Fit logistic mixed-effects models\n",
        "LMM_Model_2 <- glmer(Correct_answer ~ ChatbotID + TestDay + ExamDomain + (1 + TestDay | ChatbotID),\n",
        "               data = Experiment2_forLMM,\n",
        "               family = binomial)\n",
        "\n",
        "# Summary of the models and model parameters\n",
        "cat(\"\\n\\n LMM_Model_2 \\n\")\n",
        "summary(LMM_Model_2)\n",
        "model_parameters(LMM_Model_2)"
      ],
      "metadata": {
        "colab": {
          "base_uri": "https://localhost:8080/",
          "height": 1000
        },
        "id": "x55-4pni-5l0",
        "outputId": "7c483081-2804-4f53-bca0-942da78e5e09"
      },
      "execution_count": 28,
      "outputs": [
        {
          "output_type": "stream",
          "name": "stderr",
          "text": [
            "boundary (singular) fit: see help('isSingular')\n",
            "\n"
          ]
        },
        {
          "output_type": "stream",
          "name": "stdout",
          "text": [
            "\n",
            "\n",
            " LMM_Model_2 \n"
          ]
        },
        {
          "output_type": "display_data",
          "data": {
            "text/plain": [
              "Generalized linear mixed model fit by maximum likelihood (Laplace\n",
              "  Approximation) [glmerMod]\n",
              " Family: binomial  ( logit )\n",
              "Formula: Correct_answer ~ ChatbotID + TestDay + ExamDomain + (1 + TestDay |  \n",
              "    ChatbotID)\n",
              "   Data: Experiment2_forLMM\n",
              "\n",
              "     AIC      BIC   logLik deviance df.resid \n",
              "  1342.7   1405.0   -659.4   1318.7     1320 \n",
              "\n",
              "Scaled residuals: \n",
              "    Min      1Q  Median      3Q     Max \n",
              "-3.6305  0.2754  0.4306  0.5340  0.9945 \n",
              "\n",
              "Random effects:\n",
              " Groups    Name         Variance  Std.Dev.  Corr\n",
              " ChatbotID (Intercept)  0.000e+00 0.000e+00     \n",
              "           TestDayTest2 1.389e-21 3.727e-11  NaN\n",
              "Number of obs: 1332, groups:  ChatbotID, 6\n",
              "\n",
              "Fixed effects:\n",
              "                  Estimate Std. Error z value Pr(>|z|)    \n",
              "(Intercept)        1.33857    0.18011   7.432 1.07e-13 ***\n",
              "ChatbotIDChatbotB  0.43024    0.22633   1.901 0.057306 .  \n",
              "ChatbotIDChatbotC -0.15768    0.21239  -0.742 0.457860    \n",
              "ChatbotIDChatbotD  0.04673    0.21619   0.216 0.828863    \n",
              "ChatbotIDChatbotE  0.94692    0.24756   3.825 0.000131 ***\n",
              "ChatbotIDChatbotF  1.24019    0.26443   4.690 2.73e-06 ***\n",
              "TestDayTest2      -0.08384    0.13654  -0.614 0.539157    \n",
              "ExamDomainB       -1.08609    0.14039  -7.736 1.02e-14 ***\n",
              "ExamDomainC        0.16862    0.33053   0.510 0.609946    \n",
              "---\n",
              "Signif. codes:  0 ‘***’ 0.001 ‘**’ 0.01 ‘*’ 0.05 ‘.’ 0.1 ‘ ’ 1\n",
              "\n",
              "Correlation of Fixed Effects:\n",
              "            (Intr) ChIDCB ChIDCC ChIDCD ChIDCE ChIDCF TstDT2 ExmDmB\n",
              "ChtbtIDChtB -0.558                                                 \n",
              "ChtbtIDChtC -0.610  0.481                                          \n",
              "ChtbtIDChtD -0.594  0.473  0.504                                   \n",
              "ChtbtIDChtE -0.502  0.415  0.440  0.433                            \n",
              "ChtbtIDChtF -0.466  0.389  0.412  0.405  0.357                     \n",
              "TestDayTst2 -0.388 -0.002  0.001  0.000 -0.004 -0.004              \n",
              "ExamDomainB -0.361 -0.027  0.012 -0.003 -0.049 -0.055  0.008       \n",
              "ExamDomainC -0.160  0.001 -0.001  0.000  0.002  0.002  0.000  0.204\n",
              "optimizer (Nelder_Mead) convergence code: 0 (OK)\n",
              "boundary (singular) fit: see help('isSingular')\n"
            ]
          },
          "metadata": {}
        },
        {
          "output_type": "display_data",
          "data": {
            "text/html": [
              "<table class=\"dataframe\">\n",
              "<caption>A parameters_model: 12 × 11</caption>\n",
              "<thead>\n",
              "\t<tr><th scope=col>Parameter</th><th scope=col>Coefficient</th><th scope=col>SE</th><th scope=col>CI</th><th scope=col>CI_low</th><th scope=col>CI_high</th><th scope=col>z</th><th scope=col>df_error</th><th scope=col>p</th><th scope=col>Effects</th><th scope=col>Group</th></tr>\n",
              "\t<tr><th scope=col>&lt;chr&gt;</th><th scope=col>&lt;dbl&gt;</th><th scope=col>&lt;dbl&gt;</th><th scope=col>&lt;dbl&gt;</th><th scope=col>&lt;dbl&gt;</th><th scope=col>&lt;dbl&gt;</th><th scope=col>&lt;dbl&gt;</th><th scope=col>&lt;dbl&gt;</th><th scope=col>&lt;dbl&gt;</th><th scope=col>&lt;chr&gt;</th><th scope=col>&lt;chr&gt;</th></tr>\n",
              "</thead>\n",
              "<tbody>\n",
              "\t<tr><td>(Intercept)                 </td><td> 1.338565e+00</td><td>0.1801140</td><td>0.95</td><td> 0.98554827</td><td> 1.6915823</td><td> 7.4317658</td><td>Inf</td><td>1.071574e-13</td><td>fixed </td><td>         </td></tr>\n",
              "\t<tr><td>ChatbotIDChatbotB           </td><td> 4.302431e-01</td><td>0.2263286</td><td>0.95</td><td>-0.01335276</td><td> 0.8738390</td><td> 1.9009668</td><td>Inf</td><td>5.730636e-02</td><td>fixed </td><td>         </td></tr>\n",
              "\t<tr><td>ChatbotIDChatbotC           </td><td>-1.576765e-01</td><td>0.2123945</td><td>0.95</td><td>-0.57396209</td><td> 0.2586092</td><td>-0.7423753</td><td>Inf</td><td>4.578600e-01</td><td>fixed </td><td>         </td></tr>\n",
              "\t<tr><td>ChatbotIDChatbotD           </td><td> 4.673076e-02</td><td>0.2161858</td><td>0.95</td><td>-0.37698553</td><td> 0.4704470</td><td> 0.2161602</td><td>Inf</td><td>8.288629e-01</td><td>fixed </td><td>         </td></tr>\n",
              "\t<tr><td>ChatbotIDChatbotE           </td><td> 9.469190e-01</td><td>0.2475637</td><td>0.95</td><td> 0.46170298</td><td> 1.4321349</td><td> 3.8249504</td><td>Inf</td><td>1.307984e-04</td><td>fixed </td><td>         </td></tr>\n",
              "\t<tr><td>ChatbotIDChatbotF           </td><td> 1.240191e+00</td><td>0.2644343</td><td>0.95</td><td> 0.72190908</td><td> 1.7584724</td><td> 4.6899773</td><td>Inf</td><td>2.732354e-06</td><td>fixed </td><td>         </td></tr>\n",
              "\t<tr><td>TestDayTest2                </td><td>-8.384489e-02</td><td>0.1365356</td><td>0.95</td><td>-0.35144982</td><td> 0.1837600</td><td>-0.6140879</td><td>Inf</td><td>5.391572e-01</td><td>fixed </td><td>         </td></tr>\n",
              "\t<tr><td>ExamDomainB                 </td><td>-1.086090e+00</td><td>0.1403856</td><td>0.95</td><td>-1.36124074</td><td>-0.8109395</td><td>-7.7364806</td><td>Inf</td><td>1.022066e-14</td><td>fixed </td><td>         </td></tr>\n",
              "\t<tr><td>ExamDomainC                 </td><td> 1.686196e-01</td><td>0.3305293</td><td>0.95</td><td>-0.47920598</td><td> 0.8164451</td><td> 0.5101501</td><td>Inf</td><td>6.099463e-01</td><td>fixed </td><td>         </td></tr>\n",
              "\t<tr><td>SD (Intercept)              </td><td> 0.000000e+00</td><td>       NA</td><td>0.95</td><td>         NA</td><td>        NA</td><td>        NA</td><td> NA</td><td>          NA</td><td>random</td><td>ChatbotID</td></tr>\n",
              "\t<tr><td>SD (TestDayTest2)           </td><td> 3.727384e-11</td><td>       NA</td><td>0.95</td><td>         NA</td><td>        NA</td><td>        NA</td><td> NA</td><td>          NA</td><td>random</td><td>ChatbotID</td></tr>\n",
              "\t<tr><td>Cor (Intercept~TestDayTest2)</td><td>          NaN</td><td>       NA</td><td>0.95</td><td>         NA</td><td>        NA</td><td>        NA</td><td> NA</td><td>          NA</td><td>random</td><td>ChatbotID</td></tr>\n",
              "</tbody>\n",
              "</table>\n"
            ],
            "text/markdown": "\nA parameters_model: 12 × 11\n\n| Parameter &lt;chr&gt; | Coefficient &lt;dbl&gt; | SE &lt;dbl&gt; | CI &lt;dbl&gt; | CI_low &lt;dbl&gt; | CI_high &lt;dbl&gt; | z &lt;dbl&gt; | df_error &lt;dbl&gt; | p &lt;dbl&gt; | Effects &lt;chr&gt; | Group &lt;chr&gt; |\n|---|---|---|---|---|---|---|---|---|---|---|\n| (Intercept)                  |  1.338565e+00 | 0.1801140 | 0.95 |  0.98554827 |  1.6915823 |  7.4317658 | Inf | 1.071574e-13 | fixed  | <!----> |\n| ChatbotIDChatbotB            |  4.302431e-01 | 0.2263286 | 0.95 | -0.01335276 |  0.8738390 |  1.9009668 | Inf | 5.730636e-02 | fixed  | <!----> |\n| ChatbotIDChatbotC            | -1.576765e-01 | 0.2123945 | 0.95 | -0.57396209 |  0.2586092 | -0.7423753 | Inf | 4.578600e-01 | fixed  | <!----> |\n| ChatbotIDChatbotD            |  4.673076e-02 | 0.2161858 | 0.95 | -0.37698553 |  0.4704470 |  0.2161602 | Inf | 8.288629e-01 | fixed  | <!----> |\n| ChatbotIDChatbotE            |  9.469190e-01 | 0.2475637 | 0.95 |  0.46170298 |  1.4321349 |  3.8249504 | Inf | 1.307984e-04 | fixed  | <!----> |\n| ChatbotIDChatbotF            |  1.240191e+00 | 0.2644343 | 0.95 |  0.72190908 |  1.7584724 |  4.6899773 | Inf | 2.732354e-06 | fixed  | <!----> |\n| TestDayTest2                 | -8.384489e-02 | 0.1365356 | 0.95 | -0.35144982 |  0.1837600 | -0.6140879 | Inf | 5.391572e-01 | fixed  | <!----> |\n| ExamDomainB                  | -1.086090e+00 | 0.1403856 | 0.95 | -1.36124074 | -0.8109395 | -7.7364806 | Inf | 1.022066e-14 | fixed  | <!----> |\n| ExamDomainC                  |  1.686196e-01 | 0.3305293 | 0.95 | -0.47920598 |  0.8164451 |  0.5101501 | Inf | 6.099463e-01 | fixed  | <!----> |\n| SD (Intercept)               |  0.000000e+00 |        NA | 0.95 |          NA |         NA |         NA |  NA |           NA | random | ChatbotID |\n| SD (TestDayTest2)            |  3.727384e-11 |        NA | 0.95 |          NA |         NA |         NA |  NA |           NA | random | ChatbotID |\n| Cor (Intercept~TestDayTest2) |           NaN |        NA | 0.95 |          NA |         NA |         NA |  NA |           NA | random | ChatbotID |\n\n",
            "text/latex": "A parameters\\_model: 12 × 11\n\\begin{tabular}{lllllllllll}\n Parameter & Coefficient & SE & CI & CI\\_low & CI\\_high & z & df\\_error & p & Effects & Group\\\\\n <chr> & <dbl> & <dbl> & <dbl> & <dbl> & <dbl> & <dbl> & <dbl> & <dbl> & <chr> & <chr>\\\\\n\\hline\n\t (Intercept)                  &  1.338565e+00 & 0.1801140 & 0.95 &  0.98554827 &  1.6915823 &  7.4317658 & Inf & 1.071574e-13 & fixed  &          \\\\\n\t ChatbotIDChatbotB            &  4.302431e-01 & 0.2263286 & 0.95 & -0.01335276 &  0.8738390 &  1.9009668 & Inf & 5.730636e-02 & fixed  &          \\\\\n\t ChatbotIDChatbotC            & -1.576765e-01 & 0.2123945 & 0.95 & -0.57396209 &  0.2586092 & -0.7423753 & Inf & 4.578600e-01 & fixed  &          \\\\\n\t ChatbotIDChatbotD            &  4.673076e-02 & 0.2161858 & 0.95 & -0.37698553 &  0.4704470 &  0.2161602 & Inf & 8.288629e-01 & fixed  &          \\\\\n\t ChatbotIDChatbotE            &  9.469190e-01 & 0.2475637 & 0.95 &  0.46170298 &  1.4321349 &  3.8249504 & Inf & 1.307984e-04 & fixed  &          \\\\\n\t ChatbotIDChatbotF            &  1.240191e+00 & 0.2644343 & 0.95 &  0.72190908 &  1.7584724 &  4.6899773 & Inf & 2.732354e-06 & fixed  &          \\\\\n\t TestDayTest2                 & -8.384489e-02 & 0.1365356 & 0.95 & -0.35144982 &  0.1837600 & -0.6140879 & Inf & 5.391572e-01 & fixed  &          \\\\\n\t ExamDomainB                  & -1.086090e+00 & 0.1403856 & 0.95 & -1.36124074 & -0.8109395 & -7.7364806 & Inf & 1.022066e-14 & fixed  &          \\\\\n\t ExamDomainC                  &  1.686196e-01 & 0.3305293 & 0.95 & -0.47920598 &  0.8164451 &  0.5101501 & Inf & 6.099463e-01 & fixed  &          \\\\\n\t SD (Intercept)               &  0.000000e+00 &        NA & 0.95 &          NA &         NA &         NA &  NA &           NA & random & ChatbotID\\\\\n\t SD (TestDayTest2)            &  3.727384e-11 &        NA & 0.95 &          NA &         NA &         NA &  NA &           NA & random & ChatbotID\\\\\n\t Cor (Intercept\\textasciitilde{}TestDayTest2) &           NaN &        NA & 0.95 &          NA &         NA &         NA &  NA &           NA & random & ChatbotID\\\\\n\\end{tabular}\n",
            "text/plain": [
              "   Parameter                    Coefficient   SE        CI   CI_low     \n",
              "1  (Intercept)                   1.338565e+00 0.1801140 0.95  0.98554827\n",
              "2  ChatbotIDChatbotB             4.302431e-01 0.2263286 0.95 -0.01335276\n",
              "3  ChatbotIDChatbotC            -1.576765e-01 0.2123945 0.95 -0.57396209\n",
              "4  ChatbotIDChatbotD             4.673076e-02 0.2161858 0.95 -0.37698553\n",
              "5  ChatbotIDChatbotE             9.469190e-01 0.2475637 0.95  0.46170298\n",
              "6  ChatbotIDChatbotF             1.240191e+00 0.2644343 0.95  0.72190908\n",
              "7  TestDayTest2                 -8.384489e-02 0.1365356 0.95 -0.35144982\n",
              "8  ExamDomainB                  -1.086090e+00 0.1403856 0.95 -1.36124074\n",
              "9  ExamDomainC                   1.686196e-01 0.3305293 0.95 -0.47920598\n",
              "10 SD (Intercept)                0.000000e+00        NA 0.95          NA\n",
              "11 SD (TestDayTest2)             3.727384e-11        NA 0.95          NA\n",
              "12 Cor (Intercept~TestDayTest2)           NaN        NA 0.95          NA\n",
              "   CI_high    z          df_error p            Effects Group    \n",
              "1   1.6915823  7.4317658 Inf      1.071574e-13 fixed            \n",
              "2   0.8738390  1.9009668 Inf      5.730636e-02 fixed            \n",
              "3   0.2586092 -0.7423753 Inf      4.578600e-01 fixed            \n",
              "4   0.4704470  0.2161602 Inf      8.288629e-01 fixed            \n",
              "5   1.4321349  3.8249504 Inf      1.307984e-04 fixed            \n",
              "6   1.7584724  4.6899773 Inf      2.732354e-06 fixed            \n",
              "7   0.1837600 -0.6140879 Inf      5.391572e-01 fixed            \n",
              "8  -0.8109395 -7.7364806 Inf      1.022066e-14 fixed            \n",
              "9   0.8164451  0.5101501 Inf      6.099463e-01 fixed            \n",
              "10         NA         NA  NA                NA random  ChatbotID\n",
              "11         NA         NA  NA                NA random  ChatbotID\n",
              "12         NA         NA  NA                NA random  ChatbotID"
            ]
          },
          "metadata": {}
        }
      ]
    },
    {
      "cell_type": "markdown",
      "source": [
        "#### Posthoc and effect sizes"
      ],
      "metadata": {
        "id": "OMUsPIfHFJn7"
      }
    },
    {
      "cell_type": "code",
      "source": [
        "# Examine posthoc multiple comparisons.\n",
        "# Install and load emmeans package\n",
        "install.packages(\"emmeans\")\n",
        "library(emmeans)"
      ],
      "metadata": {
        "colab": {
          "base_uri": "https://localhost:8080/"
        },
        "id": "pcQ08XknwKTY",
        "outputId": "56dd56a7-c24e-4f61-9ee2-e883a46ce085"
      },
      "execution_count": 29,
      "outputs": [
        {
          "output_type": "stream",
          "name": "stderr",
          "text": [
            "Installing package into ‘/usr/local/lib/R/site-library’\n",
            "(as ‘lib’ is unspecified)\n",
            "\n",
            "also installing the dependencies ‘estimability’, ‘mvtnorm’\n",
            "\n",
            "\n",
            "Welcome to emmeans.\n",
            "Caution: You lose important information if you filter this package's results.\n",
            "See '? untidy'\n",
            "\n"
          ]
        }
      ]
    },
    {
      "cell_type": "code",
      "source": [
        "# Pairwise comparisons LMM_Model_1\n",
        "# Run pairwise comparisons for ChatbotID at each Day\n",
        "posthoc_LMM_Model_1_ChatbotID <- emmeans(LMM_Model_1, pairwise ~ ChatbotID)\n",
        "# print results\n",
        "cat(\"\\n\\n Pairwise comparisons for ChatbotID for LMM_Model_1 \\n\")\n",
        "summary(posthoc_LMM_Model_1_ChatbotID)\n",
        "\n",
        "# Run pairwise comparisons for TestDay at each Day\n",
        "posthoc_LMM_Model_1_TestDay <- emmeans(LMM_Model_1, pairwise ~ TestDay)\n",
        "# print results\n",
        "cat(\"\\n\\n Pairwise comparisons for TestDay for LMM_Model_1 \\n\")\n",
        "summary(posthoc_LMM_Model_1_TestDay)\n",
        "\n",
        "# Run pairwise comparisons for ExamDomain at each Day\n",
        "posthoc_LMM_Model_1_ExamDomain <- emmeans(LMM_Model_1, pairwise ~ ExamDomain)\n",
        "# print results\n",
        "cat(\"\\n\\n Pairwise comparisons for ExamDomain for LMM_Model_1 \\n\")\n",
        "summary(posthoc_LMM_Model_1_ExamDomain)"
      ],
      "metadata": {
        "colab": {
          "base_uri": "https://localhost:8080/",
          "height": 1000
        },
        "id": "zv7iED3-ir9Q",
        "outputId": "558ea616-f2e2-4fab-875d-5d3cf69bc5f7"
      },
      "execution_count": 30,
      "outputs": [
        {
          "output_type": "stream",
          "name": "stdout",
          "text": [
            "\n",
            "\n",
            " Pairwise comparisons for ChatbotID for LMM_Model_1 \n"
          ]
        },
        {
          "output_type": "display_data",
          "data": {
            "text/html": [
              "<dl>\n",
              "\t<dt>$emmeans</dt>\n",
              "\t\t<dd><table class=\"dataframe\">\n",
              "<caption>A summary_emm: 6 × 6</caption>\n",
              "<thead>\n",
              "\t<tr><th></th><th scope=col>ChatbotID</th><th scope=col>emmean</th><th scope=col>SE</th><th scope=col>df</th><th scope=col>asymp.LCL</th><th scope=col>asymp.UCL</th></tr>\n",
              "\t<tr><th></th><th scope=col>&lt;fct&gt;</th><th scope=col>&lt;dbl&gt;</th><th scope=col>&lt;dbl&gt;</th><th scope=col>&lt;dbl&gt;</th><th scope=col>&lt;dbl&gt;</th><th scope=col>&lt;dbl&gt;</th></tr>\n",
              "</thead>\n",
              "<tbody>\n",
              "\t<tr><th scope=row>1</th><td>ChatbotA</td><td>0.9908193</td><td>0.1778363</td><td>Inf</td><td>0.6422667</td><td>1.339372</td></tr>\n",
              "\t<tr><th scope=row>2</th><td>ChatbotB</td><td>1.4210625</td><td>0.1917260</td><td>Inf</td><td>1.0452864</td><td>1.796839</td></tr>\n",
              "\t<tr><th scope=row>3</th><td>ChatbotC</td><td>0.8331429</td><td>0.1741174</td><td>Inf</td><td>0.4918791</td><td>1.174407</td></tr>\n",
              "\t<tr><th scope=row>4</th><td>ChatbotD</td><td>1.0375501</td><td>0.1790732</td><td>Inf</td><td>0.6865730</td><td>1.388527</td></tr>\n",
              "\t<tr><th scope=row>5</th><td>ChatbotE</td><td>1.9377383</td><td>0.2168610</td><td>Inf</td><td>1.5126986</td><td>2.362778</td></tr>\n",
              "\t<tr><th scope=row>6</th><td>ChatbotF</td><td>2.2310101</td><td>0.2361240</td><td>Inf</td><td>1.7682155</td><td>2.693805</td></tr>\n",
              "</tbody>\n",
              "</table>\n",
              "</dd>\n",
              "\t<dt>$contrasts</dt>\n",
              "\t\t<dd><table class=\"dataframe\">\n",
              "<caption>A summary_emm: 15 × 6</caption>\n",
              "<thead>\n",
              "\t<tr><th></th><th scope=col>contrast</th><th scope=col>estimate</th><th scope=col>SE</th><th scope=col>df</th><th scope=col>z.ratio</th><th scope=col>p.value</th></tr>\n",
              "\t<tr><th></th><th scope=col>&lt;chr&gt;</th><th scope=col>&lt;dbl&gt;</th><th scope=col>&lt;dbl&gt;</th><th scope=col>&lt;dbl&gt;</th><th scope=col>&lt;dbl&gt;</th><th scope=col>&lt;dbl&gt;</th></tr>\n",
              "</thead>\n",
              "<tbody>\n",
              "\t<tr><th scope=row>1</th><td>ChatbotA - ChatbotB</td><td>-0.43024313</td><td>0.2263299</td><td>Inf</td><td>-1.9009560</td><td>4.014438e-01</td></tr>\n",
              "\t<tr><th scope=row>2</th><td>ChatbotA - ChatbotC</td><td> 0.15767645</td><td>0.2123962</td><td>Inf</td><td> 0.7423695</td><td>9.766184e-01</td></tr>\n",
              "\t<tr><th scope=row>3</th><td>ChatbotA - ChatbotD</td><td>-0.04673076</td><td>0.2161874</td><td>Inf</td><td>-0.2161586</td><td>9.999356e-01</td></tr>\n",
              "\t<tr><th scope=row>4</th><td>ChatbotA - ChatbotE</td><td>-0.94691897</td><td>0.2475639</td><td>Inf</td><td>-3.8249483</td><td>1.819482e-03</td></tr>\n",
              "\t<tr><th scope=row>5</th><td>ChatbotA - ChatbotF</td><td>-1.24019074</td><td>0.2644395</td><td>Inf</td><td>-4.6898840</td><td>4.022054e-05</td></tr>\n",
              "\t<tr><th scope=row>6</th><td>ChatbotB - ChatbotC</td><td> 0.58791958</td><td>0.2237114</td><td>Inf</td><td> 2.6280269</td><td>9.055324e-02</td></tr>\n",
              "\t<tr><th scope=row>7</th><td>ChatbotB - ChatbotD</td><td> 0.38351237</td><td>0.2272211</td><td>Inf</td><td> 1.6878375</td><td>5.398434e-01</td></tr>\n",
              "\t<tr><th scope=row>8</th><td>ChatbotB - ChatbotE</td><td>-0.51667584</td><td>0.2569678</td><td>Inf</td><td>-2.0106634</td><td>3.360666e-01</td></tr>\n",
              "\t<tr><th scope=row>9</th><td>ChatbotB - ChatbotF</td><td>-0.80994761</td><td>0.2732000</td><td>Inf</td><td>-2.9646694</td><td>3.586393e-02</td></tr>\n",
              "\t<tr><th scope=row>10</th><td>ChatbotC - ChatbotD</td><td>-0.20440721</td><td>0.2133770</td><td>Inf</td><td>-0.9579629</td><td>9.310438e-01</td></tr>\n",
              "\t<tr><th scope=row>11</th><td>ChatbotC - ChatbotE</td><td>-1.10459542</td><td>0.2452369</td><td>Inf</td><td>-4.5041974</td><td>9.733705e-05</td></tr>\n",
              "\t<tr><th scope=row>12</th><td>ChatbotC - ChatbotF</td><td>-1.39786719</td><td>0.2622859</td><td>Inf</td><td>-5.3295560</td><td>1.467879e-06</td></tr>\n",
              "\t<tr><th scope=row>13</th><td>ChatbotD - ChatbotE</td><td>-0.90018821</td><td>0.2483623</td><td>Inf</td><td>-3.6244966</td><td>3.928722e-03</td></tr>\n",
              "\t<tr><th scope=row>14</th><td>ChatbotD - ChatbotF</td><td>-1.19345998</td><td>0.2651776</td><td>Inf</td><td>-4.5006059</td><td>9.898092e-05</td></tr>\n",
              "\t<tr><th scope=row>15</th><td>ChatbotE - ChatbotF</td><td>-0.29327177</td><td>0.2907223</td><td>Inf</td><td>-1.0087696</td><td>9.152195e-01</td></tr>\n",
              "</tbody>\n",
              "</table>\n",
              "</dd>\n",
              "</dl>\n"
            ],
            "text/markdown": "$emmeans\n:   \nA summary_emm: 6 × 6\n\n| <!--/--> | ChatbotID &lt;fct&gt; | emmean &lt;dbl&gt; | SE &lt;dbl&gt; | df &lt;dbl&gt; | asymp.LCL &lt;dbl&gt; | asymp.UCL &lt;dbl&gt; |\n|---|---|---|---|---|---|---|\n| 1 | ChatbotA | 0.9908193 | 0.1778363 | Inf | 0.6422667 | 1.339372 |\n| 2 | ChatbotB | 1.4210625 | 0.1917260 | Inf | 1.0452864 | 1.796839 |\n| 3 | ChatbotC | 0.8331429 | 0.1741174 | Inf | 0.4918791 | 1.174407 |\n| 4 | ChatbotD | 1.0375501 | 0.1790732 | Inf | 0.6865730 | 1.388527 |\n| 5 | ChatbotE | 1.9377383 | 0.2168610 | Inf | 1.5126986 | 2.362778 |\n| 6 | ChatbotF | 2.2310101 | 0.2361240 | Inf | 1.7682155 | 2.693805 |\n\n\n$contrasts\n:   \nA summary_emm: 15 × 6\n\n| <!--/--> | contrast &lt;chr&gt; | estimate &lt;dbl&gt; | SE &lt;dbl&gt; | df &lt;dbl&gt; | z.ratio &lt;dbl&gt; | p.value &lt;dbl&gt; |\n|---|---|---|---|---|---|---|\n| 1 | ChatbotA - ChatbotB | -0.43024313 | 0.2263299 | Inf | -1.9009560 | 4.014438e-01 |\n| 2 | ChatbotA - ChatbotC |  0.15767645 | 0.2123962 | Inf |  0.7423695 | 9.766184e-01 |\n| 3 | ChatbotA - ChatbotD | -0.04673076 | 0.2161874 | Inf | -0.2161586 | 9.999356e-01 |\n| 4 | ChatbotA - ChatbotE | -0.94691897 | 0.2475639 | Inf | -3.8249483 | 1.819482e-03 |\n| 5 | ChatbotA - ChatbotF | -1.24019074 | 0.2644395 | Inf | -4.6898840 | 4.022054e-05 |\n| 6 | ChatbotB - ChatbotC |  0.58791958 | 0.2237114 | Inf |  2.6280269 | 9.055324e-02 |\n| 7 | ChatbotB - ChatbotD |  0.38351237 | 0.2272211 | Inf |  1.6878375 | 5.398434e-01 |\n| 8 | ChatbotB - ChatbotE | -0.51667584 | 0.2569678 | Inf | -2.0106634 | 3.360666e-01 |\n| 9 | ChatbotB - ChatbotF | -0.80994761 | 0.2732000 | Inf | -2.9646694 | 3.586393e-02 |\n| 10 | ChatbotC - ChatbotD | -0.20440721 | 0.2133770 | Inf | -0.9579629 | 9.310438e-01 |\n| 11 | ChatbotC - ChatbotE | -1.10459542 | 0.2452369 | Inf | -4.5041974 | 9.733705e-05 |\n| 12 | ChatbotC - ChatbotF | -1.39786719 | 0.2622859 | Inf | -5.3295560 | 1.467879e-06 |\n| 13 | ChatbotD - ChatbotE | -0.90018821 | 0.2483623 | Inf | -3.6244966 | 3.928722e-03 |\n| 14 | ChatbotD - ChatbotF | -1.19345998 | 0.2651776 | Inf | -4.5006059 | 9.898092e-05 |\n| 15 | ChatbotE - ChatbotF | -0.29327177 | 0.2907223 | Inf | -1.0087696 | 9.152195e-01 |\n\n\n\n\n",
            "text/latex": "\\begin{description}\n\\item[\\$emmeans] A summary\\_emm: 6 × 6\n\\begin{tabular}{r|llllll}\n  & ChatbotID & emmean & SE & df & asymp.LCL & asymp.UCL\\\\\n  & <fct> & <dbl> & <dbl> & <dbl> & <dbl> & <dbl>\\\\\n\\hline\n\t1 & ChatbotA & 0.9908193 & 0.1778363 & Inf & 0.6422667 & 1.339372\\\\\n\t2 & ChatbotB & 1.4210625 & 0.1917260 & Inf & 1.0452864 & 1.796839\\\\\n\t3 & ChatbotC & 0.8331429 & 0.1741174 & Inf & 0.4918791 & 1.174407\\\\\n\t4 & ChatbotD & 1.0375501 & 0.1790732 & Inf & 0.6865730 & 1.388527\\\\\n\t5 & ChatbotE & 1.9377383 & 0.2168610 & Inf & 1.5126986 & 2.362778\\\\\n\t6 & ChatbotF & 2.2310101 & 0.2361240 & Inf & 1.7682155 & 2.693805\\\\\n\\end{tabular}\n\n\\item[\\$contrasts] A summary\\_emm: 15 × 6\n\\begin{tabular}{r|llllll}\n  & contrast & estimate & SE & df & z.ratio & p.value\\\\\n  & <chr> & <dbl> & <dbl> & <dbl> & <dbl> & <dbl>\\\\\n\\hline\n\t1 & ChatbotA - ChatbotB & -0.43024313 & 0.2263299 & Inf & -1.9009560 & 4.014438e-01\\\\\n\t2 & ChatbotA - ChatbotC &  0.15767645 & 0.2123962 & Inf &  0.7423695 & 9.766184e-01\\\\\n\t3 & ChatbotA - ChatbotD & -0.04673076 & 0.2161874 & Inf & -0.2161586 & 9.999356e-01\\\\\n\t4 & ChatbotA - ChatbotE & -0.94691897 & 0.2475639 & Inf & -3.8249483 & 1.819482e-03\\\\\n\t5 & ChatbotA - ChatbotF & -1.24019074 & 0.2644395 & Inf & -4.6898840 & 4.022054e-05\\\\\n\t6 & ChatbotB - ChatbotC &  0.58791958 & 0.2237114 & Inf &  2.6280269 & 9.055324e-02\\\\\n\t7 & ChatbotB - ChatbotD &  0.38351237 & 0.2272211 & Inf &  1.6878375 & 5.398434e-01\\\\\n\t8 & ChatbotB - ChatbotE & -0.51667584 & 0.2569678 & Inf & -2.0106634 & 3.360666e-01\\\\\n\t9 & ChatbotB - ChatbotF & -0.80994761 & 0.2732000 & Inf & -2.9646694 & 3.586393e-02\\\\\n\t10 & ChatbotC - ChatbotD & -0.20440721 & 0.2133770 & Inf & -0.9579629 & 9.310438e-01\\\\\n\t11 & ChatbotC - ChatbotE & -1.10459542 & 0.2452369 & Inf & -4.5041974 & 9.733705e-05\\\\\n\t12 & ChatbotC - ChatbotF & -1.39786719 & 0.2622859 & Inf & -5.3295560 & 1.467879e-06\\\\\n\t13 & ChatbotD - ChatbotE & -0.90018821 & 0.2483623 & Inf & -3.6244966 & 3.928722e-03\\\\\n\t14 & ChatbotD - ChatbotF & -1.19345998 & 0.2651776 & Inf & -4.5006059 & 9.898092e-05\\\\\n\t15 & ChatbotE - ChatbotF & -0.29327177 & 0.2907223 & Inf & -1.0087696 & 9.152195e-01\\\\\n\\end{tabular}\n\n\\end{description}\n",
            "text/plain": [
              "$emmeans\n",
              " ChatbotID emmean    SE  df asymp.LCL asymp.UCL\n",
              " ChatbotA   0.991 0.178 Inf     0.642      1.34\n",
              " ChatbotB   1.421 0.192 Inf     1.045      1.80\n",
              " ChatbotC   0.833 0.174 Inf     0.492      1.17\n",
              " ChatbotD   1.038 0.179 Inf     0.687      1.39\n",
              " ChatbotE   1.938 0.217 Inf     1.513      2.36\n",
              " ChatbotF   2.231 0.236 Inf     1.768      2.69\n",
              "\n",
              "Results are averaged over the levels of: TestDay, ExamDomain \n",
              "Results are given on the logit (not the response) scale. \n",
              "Confidence level used: 0.95 \n",
              "\n",
              "$contrasts\n",
              " contrast            estimate    SE  df z.ratio p.value\n",
              " ChatbotA - ChatbotB  -0.4302 0.226 Inf  -1.901  0.4014\n",
              " ChatbotA - ChatbotC   0.1577 0.212 Inf   0.742  0.9766\n",
              " ChatbotA - ChatbotD  -0.0467 0.216 Inf  -0.216  0.9999\n",
              " ChatbotA - ChatbotE  -0.9469 0.248 Inf  -3.825  0.0018\n",
              " ChatbotA - ChatbotF  -1.2402 0.264 Inf  -4.690  <.0001\n",
              " ChatbotB - ChatbotC   0.5879 0.224 Inf   2.628  0.0906\n",
              " ChatbotB - ChatbotD   0.3835 0.227 Inf   1.688  0.5398\n",
              " ChatbotB - ChatbotE  -0.5167 0.257 Inf  -2.011  0.3361\n",
              " ChatbotB - ChatbotF  -0.8099 0.273 Inf  -2.965  0.0359\n",
              " ChatbotC - ChatbotD  -0.2044 0.213 Inf  -0.958  0.9310\n",
              " ChatbotC - ChatbotE  -1.1046 0.245 Inf  -4.504  0.0001\n",
              " ChatbotC - ChatbotF  -1.3979 0.262 Inf  -5.330  <.0001\n",
              " ChatbotD - ChatbotE  -0.9002 0.248 Inf  -3.624  0.0039\n",
              " ChatbotD - ChatbotF  -1.1935 0.265 Inf  -4.501  0.0001\n",
              " ChatbotE - ChatbotF  -0.2933 0.291 Inf  -1.009  0.9152\n",
              "\n",
              "Results are averaged over the levels of: TestDay, ExamDomain \n",
              "Results are given on the log odds ratio (not the response) scale. \n",
              "P value adjustment: tukey method for comparing a family of 6 estimates \n"
            ]
          },
          "metadata": {}
        },
        {
          "output_type": "stream",
          "name": "stdout",
          "text": [
            "\n",
            "\n",
            " Pairwise comparisons for TestDay for LMM_Model_1 \n"
          ]
        },
        {
          "output_type": "display_data",
          "data": {
            "text/html": [
              "<dl>\n",
              "\t<dt>$emmeans</dt>\n",
              "\t\t<dd><table class=\"dataframe\">\n",
              "<caption>A summary_emm: 2 × 6</caption>\n",
              "<thead>\n",
              "\t<tr><th></th><th scope=col>TestDay</th><th scope=col>emmean</th><th scope=col>SE</th><th scope=col>df</th><th scope=col>asymp.LCL</th><th scope=col>asymp.UCL</th></tr>\n",
              "\t<tr><th></th><th scope=col>&lt;fct&gt;</th><th scope=col>&lt;dbl&gt;</th><th scope=col>&lt;dbl&gt;</th><th scope=col>&lt;dbl&gt;</th><th scope=col>&lt;dbl&gt;</th><th scope=col>&lt;dbl&gt;</th></tr>\n",
              "</thead>\n",
              "<tbody>\n",
              "\t<tr><th scope=row>1</th><td>Test1</td><td>1.450476</td><td>0.1363650</td><td>Inf</td><td>1.183206</td><td>1.717747</td></tr>\n",
              "\t<tr><th scope=row>2</th><td>Test2</td><td>1.366631</td><td>0.1347319</td><td>Inf</td><td>1.102562</td><td>1.630701</td></tr>\n",
              "</tbody>\n",
              "</table>\n",
              "</dd>\n",
              "\t<dt>$contrasts</dt>\n",
              "\t\t<dd><table class=\"dataframe\">\n",
              "<caption>A summary_emm: 1 × 6</caption>\n",
              "<thead>\n",
              "\t<tr><th></th><th scope=col>contrast</th><th scope=col>estimate</th><th scope=col>SE</th><th scope=col>df</th><th scope=col>z.ratio</th><th scope=col>p.value</th></tr>\n",
              "\t<tr><th></th><th scope=col>&lt;chr&gt;</th><th scope=col>&lt;dbl&gt;</th><th scope=col>&lt;dbl&gt;</th><th scope=col>&lt;dbl&gt;</th><th scope=col>&lt;dbl&gt;</th><th scope=col>&lt;dbl&gt;</th></tr>\n",
              "</thead>\n",
              "<tbody>\n",
              "\t<tr><th scope=row>1</th><td>Test1 - Test2</td><td>0.08384489</td><td>0.136536</td><td>Inf</td><td>0.6140864</td><td>0.5391583</td></tr>\n",
              "</tbody>\n",
              "</table>\n",
              "</dd>\n",
              "</dl>\n"
            ],
            "text/markdown": "$emmeans\n:   \nA summary_emm: 2 × 6\n\n| <!--/--> | TestDay &lt;fct&gt; | emmean &lt;dbl&gt; | SE &lt;dbl&gt; | df &lt;dbl&gt; | asymp.LCL &lt;dbl&gt; | asymp.UCL &lt;dbl&gt; |\n|---|---|---|---|---|---|---|\n| 1 | Test1 | 1.450476 | 0.1363650 | Inf | 1.183206 | 1.717747 |\n| 2 | Test2 | 1.366631 | 0.1347319 | Inf | 1.102562 | 1.630701 |\n\n\n$contrasts\n:   \nA summary_emm: 1 × 6\n\n| <!--/--> | contrast &lt;chr&gt; | estimate &lt;dbl&gt; | SE &lt;dbl&gt; | df &lt;dbl&gt; | z.ratio &lt;dbl&gt; | p.value &lt;dbl&gt; |\n|---|---|---|---|---|---|---|\n| 1 | Test1 - Test2 | 0.08384489 | 0.136536 | Inf | 0.6140864 | 0.5391583 |\n\n\n\n\n",
            "text/latex": "\\begin{description}\n\\item[\\$emmeans] A summary\\_emm: 2 × 6\n\\begin{tabular}{r|llllll}\n  & TestDay & emmean & SE & df & asymp.LCL & asymp.UCL\\\\\n  & <fct> & <dbl> & <dbl> & <dbl> & <dbl> & <dbl>\\\\\n\\hline\n\t1 & Test1 & 1.450476 & 0.1363650 & Inf & 1.183206 & 1.717747\\\\\n\t2 & Test2 & 1.366631 & 0.1347319 & Inf & 1.102562 & 1.630701\\\\\n\\end{tabular}\n\n\\item[\\$contrasts] A summary\\_emm: 1 × 6\n\\begin{tabular}{r|llllll}\n  & contrast & estimate & SE & df & z.ratio & p.value\\\\\n  & <chr> & <dbl> & <dbl> & <dbl> & <dbl> & <dbl>\\\\\n\\hline\n\t1 & Test1 - Test2 & 0.08384489 & 0.136536 & Inf & 0.6140864 & 0.5391583\\\\\n\\end{tabular}\n\n\\end{description}\n",
            "text/plain": [
              "$emmeans\n",
              " TestDay emmean    SE  df asymp.LCL asymp.UCL\n",
              " Test1     1.45 0.136 Inf      1.18      1.72\n",
              " Test2     1.37 0.135 Inf      1.10      1.63\n",
              "\n",
              "Results are averaged over the levels of: ChatbotID, ExamDomain \n",
              "Results are given on the logit (not the response) scale. \n",
              "Confidence level used: 0.95 \n",
              "\n",
              "$contrasts\n",
              " contrast      estimate    SE  df z.ratio p.value\n",
              " Test1 - Test2   0.0838 0.137 Inf   0.614  0.5392\n",
              "\n",
              "Results are averaged over the levels of: ChatbotID, ExamDomain \n",
              "Results are given on the log odds ratio (not the response) scale. \n"
            ]
          },
          "metadata": {}
        },
        {
          "output_type": "stream",
          "name": "stdout",
          "text": [
            "\n",
            "\n",
            " Pairwise comparisons for ExamDomain for LMM_Model_1 \n"
          ]
        },
        {
          "output_type": "display_data",
          "data": {
            "text/html": [
              "<dl>\n",
              "\t<dt>$emmeans</dt>\n",
              "\t\t<dd><table class=\"dataframe\">\n",
              "<caption>A summary_emm: 3 × 6</caption>\n",
              "<thead>\n",
              "\t<tr><th></th><th scope=col>ExamDomain</th><th scope=col>emmean</th><th scope=col>SE</th><th scope=col>df</th><th scope=col>asymp.LCL</th><th scope=col>asymp.UCL</th></tr>\n",
              "\t<tr><th></th><th scope=col>&lt;fct&gt;</th><th scope=col>&lt;dbl&gt;</th><th scope=col>&lt;dbl&gt;</th><th scope=col>&lt;dbl&gt;</th><th scope=col>&lt;dbl&gt;</th><th scope=col>&lt;dbl&gt;</th></tr>\n",
              "</thead>\n",
              "<tbody>\n",
              "\t<tr><th scope=row>1</th><td>A</td><td>1.7143774</td><td>0.1004651</td><td>Inf</td><td>1.5174695</td><td>1.911285</td></tr>\n",
              "\t<tr><th scope=row>2</th><td>B</td><td>0.6282873</td><td>0.1013206</td><td>Inf</td><td>0.4297025</td><td>0.826872</td></tr>\n",
              "\t<tr><th scope=row>3</th><td>C</td><td>1.8829969</td><td>0.3169311</td><td>Inf</td><td>1.2618233</td><td>2.504171</td></tr>\n",
              "</tbody>\n",
              "</table>\n",
              "</dd>\n",
              "\t<dt>$contrasts</dt>\n",
              "\t\t<dd><table class=\"dataframe\">\n",
              "<caption>A summary_emm: 3 × 6</caption>\n",
              "<thead>\n",
              "\t<tr><th></th><th scope=col>contrast</th><th scope=col>estimate</th><th scope=col>SE</th><th scope=col>df</th><th scope=col>z.ratio</th><th scope=col>p.value</th></tr>\n",
              "\t<tr><th></th><th scope=col>&lt;chr&gt;</th><th scope=col>&lt;dbl&gt;</th><th scope=col>&lt;dbl&gt;</th><th scope=col>&lt;dbl&gt;</th><th scope=col>&lt;dbl&gt;</th><th scope=col>&lt;dbl&gt;</th></tr>\n",
              "</thead>\n",
              "<tbody>\n",
              "\t<tr><th scope=row>1</th><td>A - B</td><td> 1.0860901</td><td>0.1403864</td><td>Inf</td><td> 7.736433</td><td>4.873879e-14</td></tr>\n",
              "\t<tr><th scope=row>2</th><td>A - C</td><td>-0.1686196</td><td>0.3305307</td><td>Inf</td><td>-0.510148</td><td>8.664029e-01</td></tr>\n",
              "\t<tr><th scope=row>3</th><td>B - C</td><td>-1.2547097</td><td>0.3317118</td><td>Inf</td><td>-3.782529</td><td>4.558251e-04</td></tr>\n",
              "</tbody>\n",
              "</table>\n",
              "</dd>\n",
              "</dl>\n"
            ],
            "text/markdown": "$emmeans\n:   \nA summary_emm: 3 × 6\n\n| <!--/--> | ExamDomain &lt;fct&gt; | emmean &lt;dbl&gt; | SE &lt;dbl&gt; | df &lt;dbl&gt; | asymp.LCL &lt;dbl&gt; | asymp.UCL &lt;dbl&gt; |\n|---|---|---|---|---|---|---|\n| 1 | A | 1.7143774 | 0.1004651 | Inf | 1.5174695 | 1.911285 |\n| 2 | B | 0.6282873 | 0.1013206 | Inf | 0.4297025 | 0.826872 |\n| 3 | C | 1.8829969 | 0.3169311 | Inf | 1.2618233 | 2.504171 |\n\n\n$contrasts\n:   \nA summary_emm: 3 × 6\n\n| <!--/--> | contrast &lt;chr&gt; | estimate &lt;dbl&gt; | SE &lt;dbl&gt; | df &lt;dbl&gt; | z.ratio &lt;dbl&gt; | p.value &lt;dbl&gt; |\n|---|---|---|---|---|---|---|\n| 1 | A - B |  1.0860901 | 0.1403864 | Inf |  7.736433 | 4.873879e-14 |\n| 2 | A - C | -0.1686196 | 0.3305307 | Inf | -0.510148 | 8.664029e-01 |\n| 3 | B - C | -1.2547097 | 0.3317118 | Inf | -3.782529 | 4.558251e-04 |\n\n\n\n\n",
            "text/latex": "\\begin{description}\n\\item[\\$emmeans] A summary\\_emm: 3 × 6\n\\begin{tabular}{r|llllll}\n  & ExamDomain & emmean & SE & df & asymp.LCL & asymp.UCL\\\\\n  & <fct> & <dbl> & <dbl> & <dbl> & <dbl> & <dbl>\\\\\n\\hline\n\t1 & A & 1.7143774 & 0.1004651 & Inf & 1.5174695 & 1.911285\\\\\n\t2 & B & 0.6282873 & 0.1013206 & Inf & 0.4297025 & 0.826872\\\\\n\t3 & C & 1.8829969 & 0.3169311 & Inf & 1.2618233 & 2.504171\\\\\n\\end{tabular}\n\n\\item[\\$contrasts] A summary\\_emm: 3 × 6\n\\begin{tabular}{r|llllll}\n  & contrast & estimate & SE & df & z.ratio & p.value\\\\\n  & <chr> & <dbl> & <dbl> & <dbl> & <dbl> & <dbl>\\\\\n\\hline\n\t1 & A - B &  1.0860901 & 0.1403864 & Inf &  7.736433 & 4.873879e-14\\\\\n\t2 & A - C & -0.1686196 & 0.3305307 & Inf & -0.510148 & 8.664029e-01\\\\\n\t3 & B - C & -1.2547097 & 0.3317118 & Inf & -3.782529 & 4.558251e-04\\\\\n\\end{tabular}\n\n\\end{description}\n",
            "text/plain": [
              "$emmeans\n",
              " ExamDomain emmean    SE  df asymp.LCL asymp.UCL\n",
              " A           1.714 0.100 Inf      1.52     1.911\n",
              " B           0.628 0.101 Inf      0.43     0.827\n",
              " C           1.883 0.317 Inf      1.26     2.504\n",
              "\n",
              "Results are averaged over the levels of: ChatbotID, TestDay \n",
              "Results are given on the logit (not the response) scale. \n",
              "Confidence level used: 0.95 \n",
              "\n",
              "$contrasts\n",
              " contrast estimate    SE  df z.ratio p.value\n",
              " A - B       1.086 0.140 Inf   7.736  <.0001\n",
              " A - C      -0.169 0.331 Inf  -0.510  0.8664\n",
              " B - C      -1.255 0.332 Inf  -3.783  0.0005\n",
              "\n",
              "Results are averaged over the levels of: ChatbotID, TestDay \n",
              "Results are given on the log odds ratio (not the response) scale. \n",
              "P value adjustment: tukey method for comparing a family of 3 estimates \n"
            ]
          },
          "metadata": {}
        }
      ]
    },
    {
      "cell_type": "code",
      "source": [
        "# Pairwise comparisons LMM_Model_2\n",
        "# Run pairwise comparisons for ChatbotID at each Day\n",
        "posthoc_LMM_Model_2_ChatbotID <- emmeans(LMM_Model_2, pairwise ~ ChatbotID)\n",
        "# print results\n",
        "cat(\"\\n\\n Pairwise comparisons for ChatbotID for LMM_Model_2 \\n\")\n",
        "summary(posthoc_LMM_Model_2_ChatbotID)\n",
        "\n",
        "# Run pairwise comparisons for TestDay at each Day\n",
        "posthoc_LMM_Model_2_TestDay <- emmeans(LMM_Model_2, pairwise ~ TestDay)\n",
        "# print results\n",
        "cat(\"\\n\\n Pairwise comparisons for TestDay for LMM_Model_2 \\n\")\n",
        "summary(posthoc_LMM_Model_2_TestDay)\n",
        "\n",
        "# Run pairwise comparisons for ExamDomain at each Day\n",
        "posthoc_LMM_Model_2_ExamDomain <- emmeans(LMM_Model_2, pairwise ~ ExamDomain)\n",
        "# print results\n",
        "cat(\"\\n\\n Pairwise comparisons for ExamDomain for LMM_Model_2 \\n\")\n",
        "summary(posthoc_LMM_Model_2_ExamDomain)"
      ],
      "metadata": {
        "colab": {
          "base_uri": "https://localhost:8080/",
          "height": 1000
        },
        "id": "qOZdDMue_ZZ-",
        "outputId": "7f116ed2-bacf-4f9f-c3cf-e381b568fb7d"
      },
      "execution_count": 31,
      "outputs": [
        {
          "output_type": "stream",
          "name": "stdout",
          "text": [
            "\n",
            "\n",
            " Pairwise comparisons for ChatbotID for LMM_Model_2 \n"
          ]
        },
        {
          "output_type": "display_data",
          "data": {
            "text/html": [
              "<dl>\n",
              "\t<dt>$emmeans</dt>\n",
              "\t\t<dd><table class=\"dataframe\">\n",
              "<caption>A summary_emm: 6 × 6</caption>\n",
              "<thead>\n",
              "\t<tr><th></th><th scope=col>ChatbotID</th><th scope=col>emmean</th><th scope=col>SE</th><th scope=col>df</th><th scope=col>asymp.LCL</th><th scope=col>asymp.UCL</th></tr>\n",
              "\t<tr><th></th><th scope=col>&lt;fct&gt;</th><th scope=col>&lt;dbl&gt;</th><th scope=col>&lt;dbl&gt;</th><th scope=col>&lt;dbl&gt;</th><th scope=col>&lt;dbl&gt;</th><th scope=col>&lt;dbl&gt;</th></tr>\n",
              "</thead>\n",
              "<tbody>\n",
              "\t<tr><th scope=row>1</th><td>ChatbotA</td><td>0.9908193</td><td>0.1778347</td><td>Inf</td><td>0.6422697</td><td>1.339369</td></tr>\n",
              "\t<tr><th scope=row>2</th><td>ChatbotB</td><td>1.4210625</td><td>0.1917256</td><td>Inf</td><td>1.0452871</td><td>1.796838</td></tr>\n",
              "\t<tr><th scope=row>3</th><td>ChatbotC</td><td>0.8331429</td><td>0.1741170</td><td>Inf</td><td>0.4918798</td><td>1.174406</td></tr>\n",
              "\t<tr><th scope=row>4</th><td>ChatbotD</td><td>1.0375501</td><td>0.1790729</td><td>Inf</td><td>0.6865737</td><td>1.388526</td></tr>\n",
              "\t<tr><th scope=row>5</th><td>ChatbotE</td><td>1.9377383</td><td>0.2168616</td><td>Inf</td><td>1.5126973</td><td>2.362779</td></tr>\n",
              "\t<tr><th scope=row>6</th><td>ChatbotF</td><td>2.2310101</td><td>0.2361211</td><td>Inf</td><td>1.7682212</td><td>2.693799</td></tr>\n",
              "</tbody>\n",
              "</table>\n",
              "</dd>\n",
              "\t<dt>$contrasts</dt>\n",
              "\t\t<dd><table class=\"dataframe\">\n",
              "<caption>A summary_emm: 15 × 6</caption>\n",
              "<thead>\n",
              "\t<tr><th></th><th scope=col>contrast</th><th scope=col>estimate</th><th scope=col>SE</th><th scope=col>df</th><th scope=col>z.ratio</th><th scope=col>p.value</th></tr>\n",
              "\t<tr><th></th><th scope=col>&lt;chr&gt;</th><th scope=col>&lt;dbl&gt;</th><th scope=col>&lt;dbl&gt;</th><th scope=col>&lt;dbl&gt;</th><th scope=col>&lt;dbl&gt;</th><th scope=col>&lt;dbl&gt;</th></tr>\n",
              "</thead>\n",
              "<tbody>\n",
              "\t<tr><th scope=row>1</th><td>ChatbotA - ChatbotB</td><td>-0.43024313</td><td>0.2263286</td><td>Inf</td><td>-1.9009668</td><td>4.014372e-01</td></tr>\n",
              "\t<tr><th scope=row>2</th><td>ChatbotA - ChatbotC</td><td> 0.15767645</td><td>0.2123945</td><td>Inf</td><td> 0.7423753</td><td>9.766176e-01</td></tr>\n",
              "\t<tr><th scope=row>3</th><td>ChatbotA - ChatbotD</td><td>-0.04673076</td><td>0.2161858</td><td>Inf</td><td>-0.2161602</td><td>9.999356e-01</td></tr>\n",
              "\t<tr><th scope=row>4</th><td>ChatbotA - ChatbotE</td><td>-0.94691897</td><td>0.2475637</td><td>Inf</td><td>-3.8249504</td><td>1.819467e-03</td></tr>\n",
              "\t<tr><th scope=row>5</th><td>ChatbotA - ChatbotF</td><td>-1.24019074</td><td>0.2644343</td><td>Inf</td><td>-4.6899773</td><td>4.020232e-05</td></tr>\n",
              "\t<tr><th scope=row>6</th><td>ChatbotB - ChatbotC</td><td> 0.58791958</td><td>0.2237112</td><td>Inf</td><td> 2.6280297</td><td>9.055260e-02</td></tr>\n",
              "\t<tr><th scope=row>7</th><td>ChatbotB - ChatbotD</td><td> 0.38351237</td><td>0.2272209</td><td>Inf</td><td> 1.6878391</td><td>5.398423e-01</td></tr>\n",
              "\t<tr><th scope=row>8</th><td>ChatbotB - ChatbotE</td><td>-0.51667584</td><td>0.2569682</td><td>Inf</td><td>-2.0106604</td><td>3.360684e-01</td></tr>\n",
              "\t<tr><th scope=row>9</th><td>ChatbotB - ChatbotF</td><td>-0.80994761</td><td>0.2731976</td><td>Inf</td><td>-2.9646952</td><td>3.586120e-02</td></tr>\n",
              "\t<tr><th scope=row>10</th><td>ChatbotC - ChatbotD</td><td>-0.20440721</td><td>0.2133766</td><td>Inf</td><td>-0.9579643</td><td>9.310434e-01</td></tr>\n",
              "\t<tr><th scope=row>11</th><td>ChatbotC - ChatbotE</td><td>-1.10459542</td><td>0.2452372</td><td>Inf</td><td>-4.5041911</td><td>9.733993e-05</td></tr>\n",
              "\t<tr><th scope=row>12</th><td>ChatbotC - ChatbotF</td><td>-1.39786719</td><td>0.2622833</td><td>Inf</td><td>-5.3296078</td><td>1.467461e-06</td></tr>\n",
              "\t<tr><th scope=row>13</th><td>ChatbotD - ChatbotE</td><td>-0.90018821</td><td>0.2483626</td><td>Inf</td><td>-3.6244913</td><td>3.928799e-03</td></tr>\n",
              "\t<tr><th scope=row>14</th><td>ChatbotD - ChatbotF</td><td>-1.19345998</td><td>0.2651751</td><td>Inf</td><td>-4.5006485</td><td>9.896127e-05</td></tr>\n",
              "\t<tr><th scope=row>15</th><td>ChatbotE - ChatbotF</td><td>-0.29327177</td><td>0.2907205</td><td>Inf</td><td>-1.0087757</td><td>9.152174e-01</td></tr>\n",
              "</tbody>\n",
              "</table>\n",
              "</dd>\n",
              "</dl>\n"
            ],
            "text/markdown": "$emmeans\n:   \nA summary_emm: 6 × 6\n\n| <!--/--> | ChatbotID &lt;fct&gt; | emmean &lt;dbl&gt; | SE &lt;dbl&gt; | df &lt;dbl&gt; | asymp.LCL &lt;dbl&gt; | asymp.UCL &lt;dbl&gt; |\n|---|---|---|---|---|---|---|\n| 1 | ChatbotA | 0.9908193 | 0.1778347 | Inf | 0.6422697 | 1.339369 |\n| 2 | ChatbotB | 1.4210625 | 0.1917256 | Inf | 1.0452871 | 1.796838 |\n| 3 | ChatbotC | 0.8331429 | 0.1741170 | Inf | 0.4918798 | 1.174406 |\n| 4 | ChatbotD | 1.0375501 | 0.1790729 | Inf | 0.6865737 | 1.388526 |\n| 5 | ChatbotE | 1.9377383 | 0.2168616 | Inf | 1.5126973 | 2.362779 |\n| 6 | ChatbotF | 2.2310101 | 0.2361211 | Inf | 1.7682212 | 2.693799 |\n\n\n$contrasts\n:   \nA summary_emm: 15 × 6\n\n| <!--/--> | contrast &lt;chr&gt; | estimate &lt;dbl&gt; | SE &lt;dbl&gt; | df &lt;dbl&gt; | z.ratio &lt;dbl&gt; | p.value &lt;dbl&gt; |\n|---|---|---|---|---|---|---|\n| 1 | ChatbotA - ChatbotB | -0.43024313 | 0.2263286 | Inf | -1.9009668 | 4.014372e-01 |\n| 2 | ChatbotA - ChatbotC |  0.15767645 | 0.2123945 | Inf |  0.7423753 | 9.766176e-01 |\n| 3 | ChatbotA - ChatbotD | -0.04673076 | 0.2161858 | Inf | -0.2161602 | 9.999356e-01 |\n| 4 | ChatbotA - ChatbotE | -0.94691897 | 0.2475637 | Inf | -3.8249504 | 1.819467e-03 |\n| 5 | ChatbotA - ChatbotF | -1.24019074 | 0.2644343 | Inf | -4.6899773 | 4.020232e-05 |\n| 6 | ChatbotB - ChatbotC |  0.58791958 | 0.2237112 | Inf |  2.6280297 | 9.055260e-02 |\n| 7 | ChatbotB - ChatbotD |  0.38351237 | 0.2272209 | Inf |  1.6878391 | 5.398423e-01 |\n| 8 | ChatbotB - ChatbotE | -0.51667584 | 0.2569682 | Inf | -2.0106604 | 3.360684e-01 |\n| 9 | ChatbotB - ChatbotF | -0.80994761 | 0.2731976 | Inf | -2.9646952 | 3.586120e-02 |\n| 10 | ChatbotC - ChatbotD | -0.20440721 | 0.2133766 | Inf | -0.9579643 | 9.310434e-01 |\n| 11 | ChatbotC - ChatbotE | -1.10459542 | 0.2452372 | Inf | -4.5041911 | 9.733993e-05 |\n| 12 | ChatbotC - ChatbotF | -1.39786719 | 0.2622833 | Inf | -5.3296078 | 1.467461e-06 |\n| 13 | ChatbotD - ChatbotE | -0.90018821 | 0.2483626 | Inf | -3.6244913 | 3.928799e-03 |\n| 14 | ChatbotD - ChatbotF | -1.19345998 | 0.2651751 | Inf | -4.5006485 | 9.896127e-05 |\n| 15 | ChatbotE - ChatbotF | -0.29327177 | 0.2907205 | Inf | -1.0087757 | 9.152174e-01 |\n\n\n\n\n",
            "text/latex": "\\begin{description}\n\\item[\\$emmeans] A summary\\_emm: 6 × 6\n\\begin{tabular}{r|llllll}\n  & ChatbotID & emmean & SE & df & asymp.LCL & asymp.UCL\\\\\n  & <fct> & <dbl> & <dbl> & <dbl> & <dbl> & <dbl>\\\\\n\\hline\n\t1 & ChatbotA & 0.9908193 & 0.1778347 & Inf & 0.6422697 & 1.339369\\\\\n\t2 & ChatbotB & 1.4210625 & 0.1917256 & Inf & 1.0452871 & 1.796838\\\\\n\t3 & ChatbotC & 0.8331429 & 0.1741170 & Inf & 0.4918798 & 1.174406\\\\\n\t4 & ChatbotD & 1.0375501 & 0.1790729 & Inf & 0.6865737 & 1.388526\\\\\n\t5 & ChatbotE & 1.9377383 & 0.2168616 & Inf & 1.5126973 & 2.362779\\\\\n\t6 & ChatbotF & 2.2310101 & 0.2361211 & Inf & 1.7682212 & 2.693799\\\\\n\\end{tabular}\n\n\\item[\\$contrasts] A summary\\_emm: 15 × 6\n\\begin{tabular}{r|llllll}\n  & contrast & estimate & SE & df & z.ratio & p.value\\\\\n  & <chr> & <dbl> & <dbl> & <dbl> & <dbl> & <dbl>\\\\\n\\hline\n\t1 & ChatbotA - ChatbotB & -0.43024313 & 0.2263286 & Inf & -1.9009668 & 4.014372e-01\\\\\n\t2 & ChatbotA - ChatbotC &  0.15767645 & 0.2123945 & Inf &  0.7423753 & 9.766176e-01\\\\\n\t3 & ChatbotA - ChatbotD & -0.04673076 & 0.2161858 & Inf & -0.2161602 & 9.999356e-01\\\\\n\t4 & ChatbotA - ChatbotE & -0.94691897 & 0.2475637 & Inf & -3.8249504 & 1.819467e-03\\\\\n\t5 & ChatbotA - ChatbotF & -1.24019074 & 0.2644343 & Inf & -4.6899773 & 4.020232e-05\\\\\n\t6 & ChatbotB - ChatbotC &  0.58791958 & 0.2237112 & Inf &  2.6280297 & 9.055260e-02\\\\\n\t7 & ChatbotB - ChatbotD &  0.38351237 & 0.2272209 & Inf &  1.6878391 & 5.398423e-01\\\\\n\t8 & ChatbotB - ChatbotE & -0.51667584 & 0.2569682 & Inf & -2.0106604 & 3.360684e-01\\\\\n\t9 & ChatbotB - ChatbotF & -0.80994761 & 0.2731976 & Inf & -2.9646952 & 3.586120e-02\\\\\n\t10 & ChatbotC - ChatbotD & -0.20440721 & 0.2133766 & Inf & -0.9579643 & 9.310434e-01\\\\\n\t11 & ChatbotC - ChatbotE & -1.10459542 & 0.2452372 & Inf & -4.5041911 & 9.733993e-05\\\\\n\t12 & ChatbotC - ChatbotF & -1.39786719 & 0.2622833 & Inf & -5.3296078 & 1.467461e-06\\\\\n\t13 & ChatbotD - ChatbotE & -0.90018821 & 0.2483626 & Inf & -3.6244913 & 3.928799e-03\\\\\n\t14 & ChatbotD - ChatbotF & -1.19345998 & 0.2651751 & Inf & -4.5006485 & 9.896127e-05\\\\\n\t15 & ChatbotE - ChatbotF & -0.29327177 & 0.2907205 & Inf & -1.0087757 & 9.152174e-01\\\\\n\\end{tabular}\n\n\\end{description}\n",
            "text/plain": [
              "$emmeans\n",
              " ChatbotID emmean    SE  df asymp.LCL asymp.UCL\n",
              " ChatbotA   0.991 0.178 Inf     0.642      1.34\n",
              " ChatbotB   1.421 0.192 Inf     1.045      1.80\n",
              " ChatbotC   0.833 0.174 Inf     0.492      1.17\n",
              " ChatbotD   1.038 0.179 Inf     0.687      1.39\n",
              " ChatbotE   1.938 0.217 Inf     1.513      2.36\n",
              " ChatbotF   2.231 0.236 Inf     1.768      2.69\n",
              "\n",
              "Results are averaged over the levels of: TestDay, ExamDomain \n",
              "Results are given on the logit (not the response) scale. \n",
              "Confidence level used: 0.95 \n",
              "\n",
              "$contrasts\n",
              " contrast            estimate    SE  df z.ratio p.value\n",
              " ChatbotA - ChatbotB  -0.4302 0.226 Inf  -1.901  0.4014\n",
              " ChatbotA - ChatbotC   0.1577 0.212 Inf   0.742  0.9766\n",
              " ChatbotA - ChatbotD  -0.0467 0.216 Inf  -0.216  0.9999\n",
              " ChatbotA - ChatbotE  -0.9469 0.248 Inf  -3.825  0.0018\n",
              " ChatbotA - ChatbotF  -1.2402 0.264 Inf  -4.690  <.0001\n",
              " ChatbotB - ChatbotC   0.5879 0.224 Inf   2.628  0.0906\n",
              " ChatbotB - ChatbotD   0.3835 0.227 Inf   1.688  0.5398\n",
              " ChatbotB - ChatbotE  -0.5167 0.257 Inf  -2.011  0.3361\n",
              " ChatbotB - ChatbotF  -0.8099 0.273 Inf  -2.965  0.0359\n",
              " ChatbotC - ChatbotD  -0.2044 0.213 Inf  -0.958  0.9310\n",
              " ChatbotC - ChatbotE  -1.1046 0.245 Inf  -4.504  0.0001\n",
              " ChatbotC - ChatbotF  -1.3979 0.262 Inf  -5.330  <.0001\n",
              " ChatbotD - ChatbotE  -0.9002 0.248 Inf  -3.624  0.0039\n",
              " ChatbotD - ChatbotF  -1.1935 0.265 Inf  -4.501  0.0001\n",
              " ChatbotE - ChatbotF  -0.2933 0.291 Inf  -1.009  0.9152\n",
              "\n",
              "Results are averaged over the levels of: TestDay, ExamDomain \n",
              "Results are given on the log odds ratio (not the response) scale. \n",
              "P value adjustment: tukey method for comparing a family of 6 estimates \n"
            ]
          },
          "metadata": {}
        },
        {
          "output_type": "stream",
          "name": "stdout",
          "text": [
            "\n",
            "\n",
            " Pairwise comparisons for TestDay for LMM_Model_2 \n"
          ]
        },
        {
          "output_type": "display_data",
          "data": {
            "text/html": [
              "<dl>\n",
              "\t<dt>$emmeans</dt>\n",
              "\t\t<dd><table class=\"dataframe\">\n",
              "<caption>A summary_emm: 2 × 6</caption>\n",
              "<thead>\n",
              "\t<tr><th></th><th scope=col>TestDay</th><th scope=col>emmean</th><th scope=col>SE</th><th scope=col>df</th><th scope=col>asymp.LCL</th><th scope=col>asymp.UCL</th></tr>\n",
              "\t<tr><th></th><th scope=col>&lt;fct&gt;</th><th scope=col>&lt;dbl&gt;</th><th scope=col>&lt;dbl&gt;</th><th scope=col>&lt;dbl&gt;</th><th scope=col>&lt;dbl&gt;</th><th scope=col>&lt;dbl&gt;</th></tr>\n",
              "</thead>\n",
              "<tbody>\n",
              "\t<tr><th scope=row>1</th><td>Test1</td><td>1.450476</td><td>0.1363645</td><td>Inf</td><td>1.183207</td><td>1.717746</td></tr>\n",
              "\t<tr><th scope=row>2</th><td>Test2</td><td>1.366631</td><td>0.1347316</td><td>Inf</td><td>1.102562</td><td>1.630701</td></tr>\n",
              "</tbody>\n",
              "</table>\n",
              "</dd>\n",
              "\t<dt>$contrasts</dt>\n",
              "\t\t<dd><table class=\"dataframe\">\n",
              "<caption>A summary_emm: 1 × 6</caption>\n",
              "<thead>\n",
              "\t<tr><th></th><th scope=col>contrast</th><th scope=col>estimate</th><th scope=col>SE</th><th scope=col>df</th><th scope=col>z.ratio</th><th scope=col>p.value</th></tr>\n",
              "\t<tr><th></th><th scope=col>&lt;chr&gt;</th><th scope=col>&lt;dbl&gt;</th><th scope=col>&lt;dbl&gt;</th><th scope=col>&lt;dbl&gt;</th><th scope=col>&lt;dbl&gt;</th><th scope=col>&lt;dbl&gt;</th></tr>\n",
              "</thead>\n",
              "<tbody>\n",
              "\t<tr><th scope=row>1</th><td>Test1 - Test2</td><td>0.08384489</td><td>0.1365356</td><td>Inf</td><td>0.6140879</td><td>0.5391572</td></tr>\n",
              "</tbody>\n",
              "</table>\n",
              "</dd>\n",
              "</dl>\n"
            ],
            "text/markdown": "$emmeans\n:   \nA summary_emm: 2 × 6\n\n| <!--/--> | TestDay &lt;fct&gt; | emmean &lt;dbl&gt; | SE &lt;dbl&gt; | df &lt;dbl&gt; | asymp.LCL &lt;dbl&gt; | asymp.UCL &lt;dbl&gt; |\n|---|---|---|---|---|---|---|\n| 1 | Test1 | 1.450476 | 0.1363645 | Inf | 1.183207 | 1.717746 |\n| 2 | Test2 | 1.366631 | 0.1347316 | Inf | 1.102562 | 1.630701 |\n\n\n$contrasts\n:   \nA summary_emm: 1 × 6\n\n| <!--/--> | contrast &lt;chr&gt; | estimate &lt;dbl&gt; | SE &lt;dbl&gt; | df &lt;dbl&gt; | z.ratio &lt;dbl&gt; | p.value &lt;dbl&gt; |\n|---|---|---|---|---|---|---|\n| 1 | Test1 - Test2 | 0.08384489 | 0.1365356 | Inf | 0.6140879 | 0.5391572 |\n\n\n\n\n",
            "text/latex": "\\begin{description}\n\\item[\\$emmeans] A summary\\_emm: 2 × 6\n\\begin{tabular}{r|llllll}\n  & TestDay & emmean & SE & df & asymp.LCL & asymp.UCL\\\\\n  & <fct> & <dbl> & <dbl> & <dbl> & <dbl> & <dbl>\\\\\n\\hline\n\t1 & Test1 & 1.450476 & 0.1363645 & Inf & 1.183207 & 1.717746\\\\\n\t2 & Test2 & 1.366631 & 0.1347316 & Inf & 1.102562 & 1.630701\\\\\n\\end{tabular}\n\n\\item[\\$contrasts] A summary\\_emm: 1 × 6\n\\begin{tabular}{r|llllll}\n  & contrast & estimate & SE & df & z.ratio & p.value\\\\\n  & <chr> & <dbl> & <dbl> & <dbl> & <dbl> & <dbl>\\\\\n\\hline\n\t1 & Test1 - Test2 & 0.08384489 & 0.1365356 & Inf & 0.6140879 & 0.5391572\\\\\n\\end{tabular}\n\n\\end{description}\n",
            "text/plain": [
              "$emmeans\n",
              " TestDay emmean    SE  df asymp.LCL asymp.UCL\n",
              " Test1     1.45 0.136 Inf      1.18      1.72\n",
              " Test2     1.37 0.135 Inf      1.10      1.63\n",
              "\n",
              "Results are averaged over the levels of: ChatbotID, ExamDomain \n",
              "Results are given on the logit (not the response) scale. \n",
              "Confidence level used: 0.95 \n",
              "\n",
              "$contrasts\n",
              " contrast      estimate    SE  df z.ratio p.value\n",
              " Test1 - Test2   0.0838 0.137 Inf   0.614  0.5392\n",
              "\n",
              "Results are averaged over the levels of: ChatbotID, ExamDomain \n",
              "Results are given on the log odds ratio (not the response) scale. \n"
            ]
          },
          "metadata": {}
        },
        {
          "output_type": "stream",
          "name": "stdout",
          "text": [
            "\n",
            "\n",
            " Pairwise comparisons for ExamDomain for LMM_Model_2 \n"
          ]
        },
        {
          "output_type": "display_data",
          "data": {
            "text/html": [
              "<dl>\n",
              "\t<dt>$emmeans</dt>\n",
              "\t\t<dd><table class=\"dataframe\">\n",
              "<caption>A summary_emm: 3 × 6</caption>\n",
              "<thead>\n",
              "\t<tr><th></th><th scope=col>ExamDomain</th><th scope=col>emmean</th><th scope=col>SE</th><th scope=col>df</th><th scope=col>asymp.LCL</th><th scope=col>asymp.UCL</th></tr>\n",
              "\t<tr><th></th><th scope=col>&lt;fct&gt;</th><th scope=col>&lt;dbl&gt;</th><th scope=col>&lt;dbl&gt;</th><th scope=col>&lt;dbl&gt;</th><th scope=col>&lt;dbl&gt;</th><th scope=col>&lt;dbl&gt;</th></tr>\n",
              "</thead>\n",
              "<tbody>\n",
              "\t<tr><th scope=row>1</th><td>A</td><td>1.7143774</td><td>0.1004646</td><td>Inf</td><td>1.5174703</td><td>1.9112844</td></tr>\n",
              "\t<tr><th scope=row>2</th><td>B</td><td>0.6282873</td><td>0.1013203</td><td>Inf</td><td>0.4297032</td><td>0.8268713</td></tr>\n",
              "\t<tr><th scope=row>3</th><td>C</td><td>1.8829969</td><td>0.3169301</td><td>Inf</td><td>1.2618254</td><td>2.5041684</td></tr>\n",
              "</tbody>\n",
              "</table>\n",
              "</dd>\n",
              "\t<dt>$contrasts</dt>\n",
              "\t\t<dd><table class=\"dataframe\">\n",
              "<caption>A summary_emm: 3 × 6</caption>\n",
              "<thead>\n",
              "\t<tr><th></th><th scope=col>contrast</th><th scope=col>estimate</th><th scope=col>SE</th><th scope=col>df</th><th scope=col>z.ratio</th><th scope=col>p.value</th></tr>\n",
              "\t<tr><th></th><th scope=col>&lt;chr&gt;</th><th scope=col>&lt;dbl&gt;</th><th scope=col>&lt;dbl&gt;</th><th scope=col>&lt;dbl&gt;</th><th scope=col>&lt;dbl&gt;</th><th scope=col>&lt;dbl&gt;</th></tr>\n",
              "</thead>\n",
              "<tbody>\n",
              "\t<tr><th scope=row>1</th><td>A - B</td><td> 1.0860901</td><td>0.1403856</td><td>Inf</td><td> 7.7364806</td><td>4.862777e-14</td></tr>\n",
              "\t<tr><th scope=row>2</th><td>A - C</td><td>-0.1686196</td><td>0.3305293</td><td>Inf</td><td>-0.5101501</td><td>8.664019e-01</td></tr>\n",
              "\t<tr><th scope=row>3</th><td>B - C</td><td>-1.2547097</td><td>0.3317107</td><td>Inf</td><td>-3.7825422</td><td>4.558017e-04</td></tr>\n",
              "</tbody>\n",
              "</table>\n",
              "</dd>\n",
              "</dl>\n"
            ],
            "text/markdown": "$emmeans\n:   \nA summary_emm: 3 × 6\n\n| <!--/--> | ExamDomain &lt;fct&gt; | emmean &lt;dbl&gt; | SE &lt;dbl&gt; | df &lt;dbl&gt; | asymp.LCL &lt;dbl&gt; | asymp.UCL &lt;dbl&gt; |\n|---|---|---|---|---|---|---|\n| 1 | A | 1.7143774 | 0.1004646 | Inf | 1.5174703 | 1.9112844 |\n| 2 | B | 0.6282873 | 0.1013203 | Inf | 0.4297032 | 0.8268713 |\n| 3 | C | 1.8829969 | 0.3169301 | Inf | 1.2618254 | 2.5041684 |\n\n\n$contrasts\n:   \nA summary_emm: 3 × 6\n\n| <!--/--> | contrast &lt;chr&gt; | estimate &lt;dbl&gt; | SE &lt;dbl&gt; | df &lt;dbl&gt; | z.ratio &lt;dbl&gt; | p.value &lt;dbl&gt; |\n|---|---|---|---|---|---|---|\n| 1 | A - B |  1.0860901 | 0.1403856 | Inf |  7.7364806 | 4.862777e-14 |\n| 2 | A - C | -0.1686196 | 0.3305293 | Inf | -0.5101501 | 8.664019e-01 |\n| 3 | B - C | -1.2547097 | 0.3317107 | Inf | -3.7825422 | 4.558017e-04 |\n\n\n\n\n",
            "text/latex": "\\begin{description}\n\\item[\\$emmeans] A summary\\_emm: 3 × 6\n\\begin{tabular}{r|llllll}\n  & ExamDomain & emmean & SE & df & asymp.LCL & asymp.UCL\\\\\n  & <fct> & <dbl> & <dbl> & <dbl> & <dbl> & <dbl>\\\\\n\\hline\n\t1 & A & 1.7143774 & 0.1004646 & Inf & 1.5174703 & 1.9112844\\\\\n\t2 & B & 0.6282873 & 0.1013203 & Inf & 0.4297032 & 0.8268713\\\\\n\t3 & C & 1.8829969 & 0.3169301 & Inf & 1.2618254 & 2.5041684\\\\\n\\end{tabular}\n\n\\item[\\$contrasts] A summary\\_emm: 3 × 6\n\\begin{tabular}{r|llllll}\n  & contrast & estimate & SE & df & z.ratio & p.value\\\\\n  & <chr> & <dbl> & <dbl> & <dbl> & <dbl> & <dbl>\\\\\n\\hline\n\t1 & A - B &  1.0860901 & 0.1403856 & Inf &  7.7364806 & 4.862777e-14\\\\\n\t2 & A - C & -0.1686196 & 0.3305293 & Inf & -0.5101501 & 8.664019e-01\\\\\n\t3 & B - C & -1.2547097 & 0.3317107 & Inf & -3.7825422 & 4.558017e-04\\\\\n\\end{tabular}\n\n\\end{description}\n",
            "text/plain": [
              "$emmeans\n",
              " ExamDomain emmean    SE  df asymp.LCL asymp.UCL\n",
              " A           1.714 0.100 Inf      1.52     1.911\n",
              " B           0.628 0.101 Inf      0.43     0.827\n",
              " C           1.883 0.317 Inf      1.26     2.504\n",
              "\n",
              "Results are averaged over the levels of: ChatbotID, TestDay \n",
              "Results are given on the logit (not the response) scale. \n",
              "Confidence level used: 0.95 \n",
              "\n",
              "$contrasts\n",
              " contrast estimate    SE  df z.ratio p.value\n",
              " A - B       1.086 0.140 Inf   7.736  <.0001\n",
              " A - C      -0.169 0.331 Inf  -0.510  0.8664\n",
              " B - C      -1.255 0.332 Inf  -3.783  0.0005\n",
              "\n",
              "Results are averaged over the levels of: ChatbotID, TestDay \n",
              "Results are given on the log odds ratio (not the response) scale. \n",
              "P value adjustment: tukey method for comparing a family of 3 estimates \n"
            ]
          },
          "metadata": {}
        }
      ]
    },
    {
      "cell_type": "markdown",
      "source": [
        "#### Statistical power"
      ],
      "metadata": {
        "id": "TaScD8suFLD4"
      }
    },
    {
      "cell_type": "code",
      "source": [
        "# Define alpha level for a two-sided test\n",
        "alpha <- 0.05\n",
        "\n",
        "# Critical z-value for alpha level\n",
        "z_alpha <- qnorm(1 - alpha / 2)\n",
        "\n",
        "# Define function to calculate power from z-ratio\n",
        "calculate_power <- function(z_ratio, z_alpha) {\n",
        "  power <- 1 - pnorm(z_alpha - abs(z_ratio)) + pnorm(-z_alpha - abs(z_ratio))\n",
        "  return(power)\n",
        "}\n",
        "\n",
        "# Define function to calculate effect size r from z.ratio\n",
        "calculate_r <- function(z) {\n",
        "  r <- z / sqrt(z^2 + 1)\n",
        "  return(r)\n",
        "}\n",
        "\n",
        "# Define function to calculate the standard error of r\n",
        "calculate_SE_r <- function(N) {\n",
        "  SE_r <- 1 / sqrt(N - 3)\n",
        "  return(SE_r)\n",
        "}\n",
        "\n",
        "# Define function to calculate 95% CI for r using Fisher's Z-transformation\n",
        "calculate_CI_r <- function(r, N) {\n",
        "  Z_r <- 0.5 * log((1 + r) / (1 - r))  # Fisher's Z-transformation\n",
        "  SE_Z <- 1 / sqrt(N - 3)\n",
        "  Z_CI_lower <- Z_r - 1.96 * SE_Z\n",
        "  Z_CI_upper <- Z_r + 1.96 * SE_Z\n",
        "  r_CI_lower <- (exp(2 * Z_CI_lower) - 1) / (exp(2 * Z_CI_lower) + 1)\n",
        "  r_CI_upper <- (exp(2 * Z_CI_upper) - 1) / (exp(2 * Z_CI_upper) + 1)\n",
        "  return(c(r_CI_lower, r_CI_upper))\n",
        "}"
      ],
      "metadata": {
        "id": "fns43dAS-Idi"
      },
      "execution_count": 32,
      "outputs": []
    },
    {
      "cell_type": "code",
      "source": [
        "# LMM_Model_1 ChatbotID\n",
        "# Extract the contrasts table from the pairwise comparison results\n",
        "contrasts_table_LMM_Model_1_ChatbotID <- as.data.frame(posthoc_LMM_Model_1_ChatbotID$contrasts)\n",
        "# Add r, SE, and 95%CI columns to contrasts table\n",
        "contrasts_table_LMM_Model_1_ChatbotID$r <- mapply(calculate_r, contrasts_table_LMM_Model_1_ChatbotID$z.ratio)\n",
        "N <- 6  # number of chatbots\n",
        "contrasts_table_LMM_Model_1_ChatbotID$SE_r <- calculate_SE_r(N)\n",
        "# Apply CI calculation\n",
        "CI_values <- t(mapply(calculate_CI_r, contrasts_table_LMM_Model_1_ChatbotID$r, MoreArgs = list(N = N)))\n",
        "contrasts_table_LMM_Model_1_ChatbotID$r_CI_lower <- CI_values[, 1]\n",
        "contrasts_table_LMM_Model_1_ChatbotID$r_CI_upper <- CI_values[, 2]\n",
        "# Add power calculation to the contrasts table\n",
        "contrasts_table_LMM_Model_1_ChatbotID$Power <- mapply(calculate_power, contrasts_table_LMM_Model_1_ChatbotID$z.ratio, MoreArgs = list(z_alpha = z_alpha))\n",
        "# Display the results\n",
        "cat(\"\\n\\nContrasts table for ChatbotID for LMM_Model_1\\n\")\n",
        "print(contrasts_table_LMM_Model_1_ChatbotID)\n",
        "\n",
        "# LMM_Model_1 TestDay\n",
        "# Extract the contrasts table from the pairwise comparison results\n",
        "contrasts_table_LMM_Model_1_TestDay <- as.data.frame(posthoc_LMM_Model_1_TestDay$contrasts)\n",
        "# Add r, SE, and 95%CI columns to contrasts table\n",
        "contrasts_table_LMM_Model_1_TestDay$r <- mapply(calculate_r, contrasts_table_LMM_Model_1_TestDay$z.ratio)\n",
        "N <- 2 * 6  # number of test days x number of chatbots\n",
        "contrasts_table_LMM_Model_1_TestDay$SE_r <- calculate_SE_r(N)\n",
        "# Apply CI calculation\n",
        "CI_values <- t(mapply(calculate_CI_r, contrasts_table_LMM_Model_1_TestDay$r, MoreArgs = list(N = N)))\n",
        "contrasts_table_LMM_Model_1_TestDay$r_CI_lower <- CI_values[, 1]\n",
        "contrasts_table_LMM_Model_1_TestDay$r_CI_upper <- CI_values[, 2]\n",
        "# Add power calculation to the contrasts table\n",
        "contrasts_table_LMM_Model_1_TestDay$Power <- mapply(calculate_power, contrasts_table_LMM_Model_1_TestDay$z.ratio, MoreArgs = list(z_alpha = z_alpha))\n",
        "# Display the results\n",
        "cat(\"\\n\\nContrasts table for TestDay for LMM_Model_1\\n\")\n",
        "print(contrasts_table_LMM_Model_1_TestDay)\n",
        "\n",
        "# LMM_Model_1 ExamDomain\n",
        "# Extract the contrasts table from the pairwise comparison results\n",
        "contrasts_table_LMM_Model_1_ExamDomain <- as.data.frame(posthoc_LMM_Model_1_ExamDomain$contrasts)\n",
        "# Add r, SE, and 95%CI columns to contrasts table\n",
        "contrasts_table_LMM_Model_1_ExamDomain$r <- mapply(calculate_r, contrasts_table_LMM_Model_1_ExamDomain$z.ratio)\n",
        "N <- 3 * 6  # number of domains x number of chatbots\n",
        "contrasts_table_LMM_Model_1_ExamDomain$SE_r <- calculate_SE_r(N)\n",
        "# Apply CI calculation\n",
        "CI_values <- t(mapply(calculate_CI_r, contrasts_table_LMM_Model_1_ExamDomain$r, MoreArgs = list(N = N)))\n",
        "contrasts_table_LMM_Model_1_ExamDomain$r_CI_lower <- CI_values[, 1]\n",
        "contrasts_table_LMM_Model_1_ExamDomain$r_CI_upper <- CI_values[, 2]\n",
        "# Add power calculation to the contrasts table\n",
        "contrasts_table_LMM_Model_1_ExamDomain$Power <- mapply(calculate_power, contrasts_table_LMM_Model_1_ExamDomain$z.ratio, MoreArgs = list(z_alpha = z_alpha))\n",
        "# Display the results\n",
        "cat(\"\\n\\nContrasts table for ExamDomain for LMM_Model_1\\n\")\n",
        "print(contrasts_table_LMM_Model_1_ExamDomain)"
      ],
      "metadata": {
        "colab": {
          "base_uri": "https://localhost:8080/"
        },
        "id": "CFdARXre-foM",
        "outputId": "3faa8802-ea6d-429a-fc41-756cd702fb5f"
      },
      "execution_count": 33,
      "outputs": [
        {
          "output_type": "stream",
          "name": "stdout",
          "text": [
            "\n",
            "\n",
            "Contrasts table for ChatbotID for LMM_Model_1\n",
            " contrast              estimate        SE  df z.ratio p.value          r\n",
            " ChatbotA - ChatbotB -0.4302431 0.2263299 Inf  -1.901  0.4014 -0.8850147\n",
            " ChatbotA - ChatbotC  0.1576765 0.2123962 Inf   0.742  0.9766  0.5960716\n",
            " ChatbotA - ChatbotD -0.0467308 0.2161874 Inf  -0.216  0.9999 -0.2112790\n",
            " ChatbotA - ChatbotE -0.9469190 0.2475639 Inf  -3.825  0.0018 -0.9674820\n",
            " ChatbotA - ChatbotF -1.2401907 0.2644395 Inf  -4.690  <.0001 -0.9780145\n",
            " ChatbotB - ChatbotC  0.5879196 0.2237114 Inf   2.628  0.0906  0.9346241\n",
            " ChatbotB - ChatbotD  0.3835124 0.2272212 Inf   1.688  0.5398  0.8603362\n",
            " ChatbotB - ChatbotE -0.5166758 0.2569678 Inf  -2.011  0.3361 -0.8953749\n",
            " ChatbotB - ChatbotF -0.8099476 0.2732000 Inf  -2.965  0.0359 -0.9475480\n",
            " ChatbotC - ChatbotD -0.2044072 0.2133770 Inf  -0.958  0.9310 -0.6917659\n",
            " ChatbotC - ChatbotE -1.1045954 0.2452369 Inf  -4.504  0.0001 -0.9762299\n",
            " ChatbotC - ChatbotF -1.3978672 0.2622859 Inf  -5.330  <.0001 -0.9828485\n",
            " ChatbotD - ChatbotE -0.9001882 0.2483623 Inf  -3.624  0.0039 -0.9639831\n",
            " ChatbotD - ChatbotF -1.1934600 0.2651776 Inf  -4.501  0.0001 -0.9761932\n",
            " ChatbotE - ChatbotF -0.2932718 0.2907223 Inf  -1.009  0.9152 -0.7101870\n",
            "      SE_r r_CI_lower r_CI_upper     Power\n",
            " 0.5773503 -0.9873902 -0.2606792 0.4765293\n",
            " 0.5773503 -0.4174294  0.9487025 0.1151318\n",
            " 0.5773503 -0.8731335  0.7245211 0.0553696\n",
            " 0.5773503 -0.9965676 -0.7257798 0.9689082\n",
            " 0.5773503 -0.9976904 -0.8069160 0.9968325\n",
            " 0.5773503  0.5095714  0.9929947 0.7479555\n",
            " 0.5773503  0.1616016  0.9845032 0.3928946\n",
            " 0.5773503 -0.9885822 -0.3065994 0.5202533\n",
            " 0.5773503 -0.9944129 -0.5886566 0.8424811\n",
            " 0.5773503 -0.9628023  0.2731570 0.1599334\n",
            " 0.5773503 -0.9975009 -0.7926984 0.9945241\n",
            " 0.5773503 -0.9982022 -0.8464498 0.9996236\n",
            " 0.5773503 -0.9961922 -0.7002368 0.9519970\n",
            " 0.5773503 -0.9974970 -0.7924089 0.9944675\n",
            " 0.5773503 -0.9653571  0.2393132 0.1722480\n",
            "\n",
            "Results are averaged over the levels of: TestDay, ExamDomain \n",
            "Results are given on the log odds ratio (not the response) scale. \n",
            "P value adjustment: tukey method for comparing a family of 6 estimates \n",
            "\n",
            "\n",
            "Contrasts table for TestDay for LMM_Model_1\n",
            " contrast        estimate       SE  df z.ratio p.value         r      SE_r\n",
            " Test1 - Test2 0.08384489 0.136536 Inf   0.614  0.5392 0.5232948 0.3333333\n",
            "  r_CI_lower r_CI_upper      Power\n",
            " -0.07234049  0.8437932 0.09419677\n",
            "\n",
            "Results are averaged over the levels of: ChatbotID, ExamDomain \n",
            "Results are given on the log odds ratio (not the response) scale. \n",
            "\n",
            "\n",
            "Contrasts table for ExamDomain for LMM_Model_1\n",
            " contrast   estimate        SE  df z.ratio p.value          r      SE_r\n",
            " A - B     1.0860901 0.1403864 Inf   7.736  <.0001  0.9917494 0.2581989\n",
            " A - C    -0.1686196 0.3305307 Inf  -0.510  0.8664 -0.4544307 0.2581989\n",
            " B - C    -1.2547097 0.3317118 Inf  -3.783  0.0005 -0.9667847 0.2581989\n",
            " r_CI_lower r_CI_upper     Power\n",
            "  0.9774614  0.9969935 1.0000000\n",
            " -0.7600527  0.0157985 0.0803085\n",
            " -0.9877992 -0.9111920 0.9658154\n",
            "\n",
            "Results are averaged over the levels of: ChatbotID, TestDay \n",
            "Results are given on the log odds ratio (not the response) scale. \n",
            "P value adjustment: tukey method for comparing a family of 3 estimates \n"
          ]
        }
      ]
    },
    {
      "cell_type": "code",
      "source": [
        "# Install and load pwr package\n",
        "install.packages(\"pwr\")\n",
        "library(pwr)\n",
        "install.packages(\"simr\")\n",
        "library(simr)"
      ],
      "metadata": {
        "colab": {
          "base_uri": "https://localhost:8080/"
        },
        "id": "ewaFgWhrLDGN",
        "outputId": "6f1f1f56-3d79-4555-acd3-c6087f47fab0"
      },
      "execution_count": 34,
      "outputs": [
        {
          "output_type": "stream",
          "name": "stderr",
          "text": [
            "Installing package into ‘/usr/local/lib/R/site-library’\n",
            "(as ‘lib’ is unspecified)\n",
            "\n",
            "Installing package into ‘/usr/local/lib/R/site-library’\n",
            "(as ‘lib’ is unspecified)\n",
            "\n",
            "also installing the dependencies ‘binom’, ‘iterators’, ‘plotrix’, ‘RLRsim’\n",
            "\n",
            "\n",
            "\n",
            "Attaching package: ‘simr’\n",
            "\n",
            "\n",
            "The following object is masked from ‘package:lme4’:\n",
            "\n",
            "    getData\n",
            "\n",
            "\n",
            "The following object is masked from ‘package:stringr’:\n",
            "\n",
            "    fixed\n",
            "\n",
            "\n"
          ]
        }
      ]
    },
    {
      "cell_type": "code",
      "source": [
        "# Perform power analysis by simulation (method \"f\" for ANOVA-like test)\n",
        "sim_result_LMM_Model_1 <- powerSim(LMM_Model_1, test = fixed(\"ChatbotID\", method = \"f\"), nsim = 10)\n",
        "sim_result_LMM_Model_2 <- powerSim(LMM_Model_2, test = fixed(\"ChatbotID\", method = \"f\"), nsim = 10)\n",
        "\n",
        "# View the simulation results\n",
        "cat(\"\\n\\n Power simulation for LMM_Model_1 \\n\")\n",
        "sim_result_LMM_Model_1\n",
        "cat(\"\\n\\n Power simulation for LMM_Model_2 \\n\")\n",
        "sim_result_LMM_Model_2"
      ],
      "metadata": {
        "colab": {
          "base_uri": "https://localhost:8080/",
          "height": 592
        },
        "id": "z-QBO3vCLV8a",
        "outputId": "98e8566d-87fb-47ef-9804-c715e9f1627a"
      },
      "execution_count": 35,
      "outputs": [
        {
          "output_type": "stream",
          "name": "stdout",
          "text": [
            "Simulating: |                                                                  |"
          ]
        },
        {
          "output_type": "stream",
          "name": "stderr",
          "text": [
            "boundary (singular) fit: see help('isSingular')\n",
            "\n"
          ]
        },
        {
          "output_type": "stream",
          "name": "stdout",
          "text": [
            "\b\b\b\b\b\b\b\b\b\b\b\b\b\b\b\b\b\b\b\b\b\b\b\b\b\b\b\b\b\b\b\b\b\b\b\b\b\b\b\b\b\b\b\b\b\b\b\b\b\b\b\b\b\b\b\b\b\b\b\b\b\b\b\b\b\b\b\b\b\b\b\b\b\b\b\b\b\b\b\bSimulating: |======                                                            |"
          ]
        },
        {
          "output_type": "stream",
          "name": "stderr",
          "text": [
            "boundary (singular) fit: see help('isSingular')\n",
            "\n"
          ]
        },
        {
          "output_type": "stream",
          "name": "stdout",
          "text": [
            "\b\b\b\b\b\b\b\b\b\b\b\b\b\b\b\b\b\b\b\b\b\b\b\b\b\b\b\b\b\b\b\b\b\b\b\b\b\b\b\b\b\b\b\b\b\b\b\b\b\b\b\b\b\b\b\b\b\b\b\b\b\b\b\b\b\b\b\b\b\b\b\b\b\b\b\b\b\b\b\bSimulating: |=============                                                     |"
          ]
        },
        {
          "output_type": "stream",
          "name": "stderr",
          "text": [
            "boundary (singular) fit: see help('isSingular')\n",
            "\n"
          ]
        },
        {
          "output_type": "stream",
          "name": "stdout",
          "text": [
            "\b\b\b\b\b\b\b\b\b\b\b\b\b\b\b\b\b\b\b\b\b\b\b\b\b\b\b\b\b\b\b\b\b\b\b\b\b\b\b\b\b\b\b\b\b\b\b\b\b\b\b\b\b\b\b\b\b\b\b\b\b\b\b\b\b\b\b\b\b\b\b\b\b\b\b\b\b\b\b\bSimulating: |===================                                               |"
          ]
        },
        {
          "output_type": "stream",
          "name": "stderr",
          "text": [
            "boundary (singular) fit: see help('isSingular')\n",
            "\n"
          ]
        },
        {
          "output_type": "stream",
          "name": "stdout",
          "text": [
            "\b\b\b\b\b\b\b\b\b\b\b\b\b\b\b\b\b\b\b\b\b\b\b\b\b\b\b\b\b\b\b\b\b\b\b\b\b\b\b\b\b\b\b\b\b\b\b\b\b\b\b\b\b\b\b\b\b\b\b\b\b\b\b\b\b\b\b\b\b\b\b\b\b\b\b\b\b\b\b\bSimulating: |==========================                                        |"
          ]
        },
        {
          "output_type": "stream",
          "name": "stderr",
          "text": [
            "boundary (singular) fit: see help('isSingular')\n",
            "\n"
          ]
        },
        {
          "output_type": "stream",
          "name": "stdout",
          "text": [
            "\b\b\b\b\b\b\b\b\b\b\b\b\b\b\b\b\b\b\b\b\b\b\b\b\b\b\b\b\b\b\b\b\b\b\b\b\b\b\b\b\b\b\b\b\b\b\b\b\b\b\b\b\b\b\b\b\b\b\b\b\b\b\b\b\b\b\b\b\b\b\b\b\b\b\b\b\b\b\b\bSimulating: |=================================                                 |"
          ]
        },
        {
          "output_type": "stream",
          "name": "stderr",
          "text": [
            "boundary (singular) fit: see help('isSingular')\n",
            "\n"
          ]
        },
        {
          "output_type": "stream",
          "name": "stdout",
          "text": [
            "\b\b\b\b\b\b\b\b\b\b\b\b\b\b\b\b\b\b\b\b\b\b\b\b\b\b\b\b\b\b\b\b\b\b\b\b\b\b\b\b\b\b\b\b\b\b\b\b\b\b\b\b\b\b\b\b\b\b\b\b\b\b\b\b\b\b\b\b\b\b\b\b\b\b\b\b\b\b\b\bSimulating: |=======================================                           |"
          ]
        },
        {
          "output_type": "stream",
          "name": "stderr",
          "text": [
            "boundary (singular) fit: see help('isSingular')\n",
            "\n"
          ]
        },
        {
          "output_type": "stream",
          "name": "stdout",
          "text": [
            "\b\b\b\b\b\b\b\b\b\b\b\b\b\b\b\b\b\b\b\b\b\b\b\b\b\b\b\b\b\b\b\b\b\b\b\b\b\b\b\b\b\b\b\b\b\b\b\b\b\b\b\b\b\b\b\b\b\b\b\b\b\b\b\b\b\b\b\b\b\b\b\b\b\b\b\b\b\b\b\bSimulating: |==============================================                    |"
          ]
        },
        {
          "output_type": "stream",
          "name": "stderr",
          "text": [
            "boundary (singular) fit: see help('isSingular')\n",
            "\n"
          ]
        },
        {
          "output_type": "stream",
          "name": "stdout",
          "text": [
            "\b\b\b\b\b\b\b\b\b\b\b\b\b\b\b\b\b\b\b\b\b\b\b\b\b\b\b\b\b\b\b\b\b\b\b\b\b\b\b\b\b\b\b\b\b\b\b\b\b\b\b\b\b\b\b\b\b\b\b\b\b\b\b\b\b\b\b\b\b\b\b\b\b\b\b\b\b\b\b\bSimulating: |====================================================              |"
          ]
        },
        {
          "output_type": "stream",
          "name": "stderr",
          "text": [
            "boundary (singular) fit: see help('isSingular')\n",
            "\n"
          ]
        },
        {
          "output_type": "stream",
          "name": "stdout",
          "text": [
            "\b\b\b\b\b\b\b\b\b\b\b\b\b\b\b\b\b\b\b\b\b\b\b\b\b\b\b\b\b\b\b\b\b\b\b\b\b\b\b\b\b\b\b\b\b\b\b\b\b\b\b\b\b\b\b\b\b\b\b\b\b\b\b\b\b\b\b\b\b\b\b\b\b\b\b\b\b\b\b\bSimulating: |===========================================================       |"
          ]
        },
        {
          "output_type": "stream",
          "name": "stderr",
          "text": [
            "boundary (singular) fit: see help('isSingular')\n",
            "\n"
          ]
        },
        {
          "output_type": "stream",
          "name": "stdout",
          "text": [
            "\b\b\b\b\b\b\b\b\b\b\b\b\b\b\b\b\b\b\b\b\b\b\b\b\b\b\b\b\b\b\b\b\b\b\b\b\b\b\b\b\b\b\b\b\b\b\b\b\b\b\b\b\b\b\b\b\b\b\b\b\b\b\b\b\b\b\b\b\b\b\b\b\b\b\b\b\b\b\b\bSimulating: |==================================================================|\b\b\b\b\b\b\b\b\b\b\b\b\b\b\b\b\b\b\b\b\b\b\b\b\b\b\b\b\b\b\b\b\b\b\b\b\b\b\b\b\b\b\b\b\b\b\b\b\b\b\b\b\b\b\b\b\b\b\b\b\b\b\b\b\b\b\b\b\b\b\b\b\b\b\b\b\b\b\b\b"
          ]
        },
        {
          "output_type": "stream",
          "name": "stderr",
          "text": [
            "Warning message in observedPowerWarning(sim):\n",
            "“This appears to be an \"observed power\" calculation”\n"
          ]
        },
        {
          "output_type": "stream",
          "name": "stdout",
          "text": [
            "Simulating: |                                                                  |"
          ]
        },
        {
          "output_type": "stream",
          "name": "stderr",
          "text": [
            "boundary (singular) fit: see help('isSingular')\n",
            "\n"
          ]
        },
        {
          "output_type": "stream",
          "name": "stdout",
          "text": [
            "\b\b\b\b\b\b\b\b\b\b\b\b\b\b\b\b\b\b\b\b\b\b\b\b\b\b\b\b\b\b\b\b\b\b\b\b\b\b\b\b\b\b\b\b\b\b\b\b\b\b\b\b\b\b\b\b\b\b\b\b\b\b\b\b\b\b\b\b\b\b\b\b\b\b\b\b\b\b\b\bSimulating: |======                                                            |"
          ]
        },
        {
          "output_type": "stream",
          "name": "stderr",
          "text": [
            "boundary (singular) fit: see help('isSingular')\n",
            "\n"
          ]
        },
        {
          "output_type": "stream",
          "name": "stdout",
          "text": [
            "\b\b\b\b\b\b\b\b\b\b\b\b\b\b\b\b\b\b\b\b\b\b\b\b\b\b\b\b\b\b\b\b\b\b\b\b\b\b\b\b\b\b\b\b\b\b\b\b\b\b\b\b\b\b\b\b\b\b\b\b\b\b\b\b\b\b\b\b\b\b\b\b\b\b\b\b\b\b\b\bSimulating: |=============                                                     |"
          ]
        },
        {
          "output_type": "stream",
          "name": "stderr",
          "text": [
            "boundary (singular) fit: see help('isSingular')\n",
            "\n"
          ]
        },
        {
          "output_type": "stream",
          "name": "stdout",
          "text": [
            "\b\b\b\b\b\b\b\b\b\b\b\b\b\b\b\b\b\b\b\b\b\b\b\b\b\b\b\b\b\b\b\b\b\b\b\b\b\b\b\b\b\b\b\b\b\b\b\b\b\b\b\b\b\b\b\b\b\b\b\b\b\b\b\b\b\b\b\b\b\b\b\b\b\b\b\b\b\b\b\bSimulating: |===================                                               |"
          ]
        },
        {
          "output_type": "stream",
          "name": "stderr",
          "text": [
            "boundary (singular) fit: see help('isSingular')\n",
            "\n"
          ]
        },
        {
          "output_type": "stream",
          "name": "stdout",
          "text": [
            "\b\b\b\b\b\b\b\b\b\b\b\b\b\b\b\b\b\b\b\b\b\b\b\b\b\b\b\b\b\b\b\b\b\b\b\b\b\b\b\b\b\b\b\b\b\b\b\b\b\b\b\b\b\b\b\b\b\b\b\b\b\b\b\b\b\b\b\b\b\b\b\b\b\b\b\b\b\b\b\bSimulating: |==========================                                        |\b\b\b\b\b\b\b\b\b\b\b\b\b\b\b\b\b\b\b\b\b\b\b\b\b\b\b\b\b\b\b\b\b\b\b\b\b\b\b\b\b\b\b\b\b\b\b\b\b\b\b\b\b\b\b\b\b\b\b\b\b\b\b\b\b\b\b\b\b\b\b\b\b\b\b\b\b\b\b\bSimulating: |=================================                                 |"
          ]
        },
        {
          "output_type": "stream",
          "name": "stderr",
          "text": [
            "boundary (singular) fit: see help('isSingular')\n",
            "\n"
          ]
        },
        {
          "output_type": "stream",
          "name": "stdout",
          "text": [
            "\b\b\b\b\b\b\b\b\b\b\b\b\b\b\b\b\b\b\b\b\b\b\b\b\b\b\b\b\b\b\b\b\b\b\b\b\b\b\b\b\b\b\b\b\b\b\b\b\b\b\b\b\b\b\b\b\b\b\b\b\b\b\b\b\b\b\b\b\b\b\b\b\b\b\b\b\b\b\b\bSimulating: |=======================================                           |"
          ]
        },
        {
          "output_type": "stream",
          "name": "stderr",
          "text": [
            "boundary (singular) fit: see help('isSingular')\n",
            "\n"
          ]
        },
        {
          "output_type": "stream",
          "name": "stdout",
          "text": [
            "\b\b\b\b\b\b\b\b\b\b\b\b\b\b\b\b\b\b\b\b\b\b\b\b\b\b\b\b\b\b\b\b\b\b\b\b\b\b\b\b\b\b\b\b\b\b\b\b\b\b\b\b\b\b\b\b\b\b\b\b\b\b\b\b\b\b\b\b\b\b\b\b\b\b\b\b\b\b\b\bSimulating: |==============================================                    |"
          ]
        },
        {
          "output_type": "stream",
          "name": "stderr",
          "text": [
            "boundary (singular) fit: see help('isSingular')\n",
            "\n"
          ]
        },
        {
          "output_type": "stream",
          "name": "stdout",
          "text": [
            "\b\b\b\b\b\b\b\b\b\b\b\b\b\b\b\b\b\b\b\b\b\b\b\b\b\b\b\b\b\b\b\b\b\b\b\b\b\b\b\b\b\b\b\b\b\b\b\b\b\b\b\b\b\b\b\b\b\b\b\b\b\b\b\b\b\b\b\b\b\b\b\b\b\b\b\b\b\b\b\bSimulating: |====================================================              |"
          ]
        },
        {
          "output_type": "stream",
          "name": "stderr",
          "text": [
            "boundary (singular) fit: see help('isSingular')\n",
            "\n"
          ]
        },
        {
          "output_type": "stream",
          "name": "stdout",
          "text": [
            "\b\b\b\b\b\b\b\b\b\b\b\b\b\b\b\b\b\b\b\b\b\b\b\b\b\b\b\b\b\b\b\b\b\b\b\b\b\b\b\b\b\b\b\b\b\b\b\b\b\b\b\b\b\b\b\b\b\b\b\b\b\b\b\b\b\b\b\b\b\b\b\b\b\b\b\b\b\b\b\bSimulating: |===========================================================       |\b\b\b\b\b\b\b\b\b\b\b\b\b\b\b\b\b\b\b\b\b\b\b\b\b\b\b\b\b\b\b\b\b\b\b\b\b\b\b\b\b\b\b\b\b\b\b\b\b\b\b\b\b\b\b\b\b\b\b\b\b\b\b\b\b\b\b\b\b\b\b\b\b\b\b\b\b\b\b\bSimulating: |==================================================================|\b\b\b\b\b\b\b\b\b\b\b\b\b\b\b\b\b\b\b\b\b\b\b\b\b\b\b\b\b\b\b\b\b\b\b\b\b\b\b\b\b\b\b\b\b\b\b\b\b\b\b\b\b\b\b\b\b\b\b\b\b\b\b\b\b\b\b\b\b\b\b\b\b\b\b\b\b\b\b\b"
          ]
        },
        {
          "output_type": "stream",
          "name": "stderr",
          "text": [
            "Warning message in observedPowerWarning(sim):\n",
            "“This appears to be an \"observed power\" calculation”\n"
          ]
        },
        {
          "output_type": "stream",
          "name": "stdout",
          "text": [
            "\n",
            "\n",
            " Power simulation for LMM_Model_1 \n"
          ]
        },
        {
          "output_type": "display_data",
          "data": {
            "text/plain": [
              "Power for predictor 'ChatbotID', (95% confidence interval):\n",
              "       0.00% ( 0.00, 30.85)\n",
              "\n",
              "Test: Type-II F-test (package car)\n",
              "\n",
              "Based on 10 simulations, (10 warnings, 10 errors)\n",
              "alpha = 0.05, nrow = 1332\n",
              "\n",
              "Time elapsed: 0 h 0 m 8 s\n",
              "\n",
              "nb: result might be an observed power calculation"
            ]
          },
          "metadata": {}
        },
        {
          "output_type": "stream",
          "name": "stdout",
          "text": [
            "\n",
            "\n",
            " Power simulation for LMM_Model_2 \n"
          ]
        },
        {
          "output_type": "display_data",
          "data": {
            "text/plain": [
              "Power for predictor 'ChatbotID', (95% confidence interval):\n",
              "       0.00% ( 0.00, 30.85)\n",
              "\n",
              "Test: Type-II F-test (package car)\n",
              "\n",
              "Based on 10 simulations, (10 warnings, 10 errors)\n",
              "alpha = 0.05, nrow = 1332\n",
              "\n",
              "Time elapsed: 0 h 0 m 19 s\n",
              "\n",
              "nb: result might be an observed power calculation"
            ]
          },
          "metadata": {}
        }
      ]
    },
    {
      "cell_type": "markdown",
      "source": [
        "### Generalized Linear Model (GLM) with a binomial distribution"
      ],
      "metadata": {
        "id": "a-_OSf-yBMzc"
      }
    },
    {
      "cell_type": "code",
      "source": [
        "# Refit logistic regression model without random effect, i.e. a standard logistic regression model instead of a mixed-effects model.\n",
        "# Instead of a Logistic Mixed Model (LMM), set ChatbotID, TestDay, and ExamDomain as fixed effects with no random effects or random slopes (i.e. Generalized Linear Model (GLM) with a binomial distribution).\n",
        "# i.e. by removing (1 | ChatbotID), you treat ChatbotID as a fixed effect only, which avoids singularity issues caused by zero variance in the random effects structure.\n",
        "GLM_Model_1 <- glm(Correct_answer ~ ChatbotID * TestDay * ExamDomain,\n",
        "                   data = Experiment2_forLMM,\n",
        "                   family = binomial)\n",
        "\n",
        "# Summary of the model\n",
        "cat(\"\\n\\n GLM_Model_1 \\n\")\n",
        "summary(GLM_Model_1)\n",
        "model_parameters(GLM_Model_1)"
      ],
      "metadata": {
        "colab": {
          "base_uri": "https://localhost:8080/",
          "height": 1000
        },
        "id": "AiMpBQv-BRXD",
        "outputId": "91a6fc4a-142a-436b-8a6c-053aec3d03c5"
      },
      "execution_count": 36,
      "outputs": [
        {
          "output_type": "stream",
          "name": "stdout",
          "text": [
            "\n",
            "\n",
            " GLM_Model_1 \n"
          ]
        },
        {
          "output_type": "display_data",
          "data": {
            "text/plain": [
              "\n",
              "Call:\n",
              "glm(formula = Correct_answer ~ ChatbotID * TestDay * ExamDomain, \n",
              "    family = binomial, data = Experiment2_forLMM)\n",
              "\n",
              "Coefficients:\n",
              "                                             Estimate Std. Error z value\n",
              "(Intercept)                                 1.312e+00  3.011e-01   4.358\n",
              "ChatbotIDChatbotB                           2.973e-01  4.469e-01   0.665\n",
              "ChatbotIDChatbotC                          -1.437e-15  4.258e-01   0.000\n",
              "ChatbotIDChatbotD                           2.973e-01  4.469e-01   0.665\n",
              "ChatbotIDChatbotE                           9.904e-01  5.234e-01   1.892\n",
              "ChatbotIDChatbotF                           9.904e-01  5.234e-01   1.892\n",
              "TestDayTest2                                2.973e-01  4.469e-01   0.665\n",
              "ExamDomainB                                -1.207e+00  4.430e-01  -2.724\n",
              "ExamDomainC                                -3.959e-01  8.892e-01  -0.445\n",
              "ChatbotIDChatbotB:TestDayTest2             -1.839e-01  6.532e-01  -0.282\n",
              "ChatbotIDChatbotC:TestDayTest2             -9.837e-01  5.976e-01  -1.646\n",
              "ChatbotIDChatbotD:TestDayTest2             -5.945e-01  6.321e-01  -0.941\n",
              "ChatbotIDChatbotE:TestDayTest2              1.410e-01  8.057e-01   0.175\n",
              "ChatbotIDChatbotF:TestDayTest2             -2.973e-01  7.526e-01  -0.395\n",
              "ChatbotIDChatbotB:ExamDomainB               2.483e-02  6.446e-01   0.039\n",
              "ChatbotIDChatbotC:ExamDomainB               5.486e-01  6.355e-01   0.863\n",
              "ChatbotIDChatbotD:ExamDomainB              -2.973e-01  6.410e-01  -0.464\n",
              "ChatbotIDChatbotE:ExamDomainB              -1.978e-01  7.124e-01  -0.278\n",
              "ChatbotIDChatbotF:ExamDomainB               5.782e-01  7.599e-01   0.761\n",
              "ChatbotIDChatbotB:ExamDomainC               1.535e+01  9.069e+02   0.017\n",
              "ChatbotIDChatbotC:ExamDomainC               8.661e-17  1.258e+00   0.000\n",
              "ChatbotIDChatbotD:ExamDomainC               5.782e-01  1.438e+00   0.402\n",
              "ChatbotIDChatbotE:ExamDomainC               1.466e+01  9.069e+02   0.016\n",
              "ChatbotIDChatbotF:ExamDomainC               1.466e+01  9.069e+02   0.016\n",
              "TestDayTest2:ExamDomainB                   -2.973e-01  6.410e-01  -0.464\n",
              "TestDayTest2:ExamDomainC                   -2.973e-01  1.265e+00  -0.235\n",
              "ChatbotIDChatbotB:TestDayTest2:ExamDomainB  6.544e-01  9.359e-01   0.699\n",
              "ChatbotIDChatbotC:TestDayTest2:ExamDomainB  4.352e-01  8.892e-01   0.489\n",
              "ChatbotIDChatbotD:TestDayTest2:ExamDomainB  7.005e-01  9.070e-01   0.772\n",
              "ChatbotIDChatbotE:TestDayTest2:ExamDomainB -1.410e-01  1.057e+00  -0.133\n",
              "ChatbotIDChatbotF:TestDayTest2:ExamDomainB  1.114e-01  1.073e+00   0.104\n",
              "ChatbotIDChatbotB:TestDayTest2:ExamDomainC -1.459e+01  9.069e+02  -0.016\n",
              "ChatbotIDChatbotC:TestDayTest2:ExamDomainC  9.837e-01  1.777e+00   0.554\n",
              "ChatbotIDChatbotD:TestDayTest2:ExamDomainC -2.810e-01  1.915e+00  -0.147\n",
              "ChatbotIDChatbotE:TestDayTest2:ExamDomainC -1.410e-01  1.283e+03   0.000\n",
              "ChatbotIDChatbotF:TestDayTest2:ExamDomainC  2.973e-01  1.283e+03   0.000\n",
              "                                           Pr(>|z|)    \n",
              "(Intercept)                                1.31e-05 ***\n",
              "ChatbotIDChatbotB                           0.50599    \n",
              "ChatbotIDChatbotC                           1.00000    \n",
              "ChatbotIDChatbotD                           0.50599    \n",
              "ChatbotIDChatbotE                           0.05848 .  \n",
              "ChatbotIDChatbotF                           0.05848 .  \n",
              "TestDayTest2                                0.50599    \n",
              "ExamDomainB                                 0.00644 ** \n",
              "ExamDomainC                                 0.65615    \n",
              "ChatbotIDChatbotB:TestDayTest2              0.77828    \n",
              "ChatbotIDChatbotC:TestDayTest2              0.09974 .  \n",
              "ChatbotIDChatbotD:TestDayTest2              0.34692    \n",
              "ChatbotIDChatbotE:TestDayTest2              0.86108    \n",
              "ChatbotIDChatbotF:TestDayTest2              0.69287    \n",
              "ChatbotIDChatbotB:ExamDomainB               0.96927    \n",
              "ChatbotIDChatbotC:ExamDomainB               0.38799    \n",
              "ChatbotIDChatbotD:ExamDomainB               0.64283    \n",
              "ChatbotIDChatbotE:ExamDomainB               0.78126    \n",
              "ChatbotIDChatbotF:ExamDomainB               0.44672    \n",
              "ChatbotIDChatbotB:ExamDomainC               0.98649    \n",
              "ChatbotIDChatbotC:ExamDomainC               1.00000    \n",
              "ChatbotIDChatbotD:ExamDomainC               0.68751    \n",
              "ChatbotIDChatbotE:ExamDomainC               0.98710    \n",
              "ChatbotIDChatbotF:ExamDomainC               0.98710    \n",
              "TestDayTest2:ExamDomainB                    0.64283    \n",
              "TestDayTest2:ExamDomainC                    0.81420    \n",
              "ChatbotIDChatbotB:TestDayTest2:ExamDomainB  0.48440    \n",
              "ChatbotIDChatbotC:TestDayTest2:ExamDomainB  0.62458    \n",
              "ChatbotIDChatbotD:TestDayTest2:ExamDomainB  0.43994    \n",
              "ChatbotIDChatbotE:TestDayTest2:ExamDomainB  0.89383    \n",
              "ChatbotIDChatbotF:TestDayTest2:ExamDomainB  0.91732    \n",
              "ChatbotIDChatbotB:TestDayTest2:ExamDomainC  0.98716    \n",
              "ChatbotIDChatbotC:TestDayTest2:ExamDomainC  0.57982    \n",
              "ChatbotIDChatbotD:TestDayTest2:ExamDomainC  0.88334    \n",
              "ChatbotIDChatbotE:TestDayTest2:ExamDomainC  0.99991    \n",
              "ChatbotIDChatbotF:TestDayTest2:ExamDomainC  0.99982    \n",
              "---\n",
              "Signif. codes:  0 ‘***’ 0.001 ‘**’ 0.01 ‘*’ 0.05 ‘.’ 0.1 ‘ ’ 1\n",
              "\n",
              "(Dispersion parameter for binomial family taken to be 1)\n",
              "\n",
              "    Null deviance: 1433.3  on 1331  degrees of freedom\n",
              "Residual deviance: 1297.7  on 1296  degrees of freedom\n",
              "AIC: 1369.7\n",
              "\n",
              "Number of Fisher Scoring iterations: 15\n"
            ]
          },
          "metadata": {}
        },
        {
          "output_type": "display_data",
          "data": {
            "text/html": [
              "<table class=\"dataframe\">\n",
              "<caption>A parameters_model: 36 × 9</caption>\n",
              "<thead>\n",
              "\t<tr><th scope=col>Parameter</th><th scope=col>Coefficient</th><th scope=col>SE</th><th scope=col>CI</th><th scope=col>CI_low</th><th scope=col>CI_high</th><th scope=col>z</th><th scope=col>df_error</th><th scope=col>p</th></tr>\n",
              "\t<tr><th scope=col>&lt;chr&gt;</th><th scope=col>&lt;dbl&gt;</th><th scope=col>&lt;dbl&gt;</th><th scope=col>&lt;dbl&gt;</th><th scope=col>&lt;dbl&gt;</th><th scope=col>&lt;dbl&gt;</th><th scope=col>&lt;dbl&gt;</th><th scope=col>&lt;dbl&gt;</th><th scope=col>&lt;dbl&gt;</th></tr>\n",
              "</thead>\n",
              "<tbody>\n",
              "\t<tr><td>(Intercept)                               </td><td> 1.312186e+00</td><td>   0.3010969</td><td>0.95</td><td> 7.509856e-01</td><td> 1.9408304</td><td> 4.358020e+00</td><td>Inf</td><td>1.312442e-05</td></tr>\n",
              "\t<tr><td>ChatbotIDChatbotB                         </td><td> 2.972515e-01</td><td>   0.4469343</td><td>0.95</td><td>-5.760228e-01</td><td> 1.1915493</td><td> 6.650900e-01</td><td>Inf</td><td>5.059929e-01</td></tr>\n",
              "\t<tr><td>ChatbotIDChatbotC                         </td><td>-1.437450e-15</td><td>   0.4258153</td><td>0.95</td><td>-8.407104e-01</td><td> 0.8407104</td><td>-3.375758e-15</td><td>Inf</td><td>1.000000e+00</td></tr>\n",
              "\t<tr><td>ChatbotIDChatbotD                         </td><td> 2.972515e-01</td><td>   0.4469343</td><td>0.95</td><td>-5.760228e-01</td><td> 1.1915493</td><td> 6.650900e-01</td><td>Inf</td><td>5.059929e-01</td></tr>\n",
              "\t<tr><td>ChatbotIDChatbotE                         </td><td> 9.903987e-01</td><td>   0.5234431</td><td>0.95</td><td> 2.732815e-03</td><td> 2.0878753</td><td> 1.892085e+00</td><td>Inf</td><td>5.847969e-02</td></tr>\n",
              "\t<tr><td>ChatbotIDChatbotF                         </td><td> 9.903987e-01</td><td>   0.5234431</td><td>0.95</td><td> 2.732815e-03</td><td> 2.0878753</td><td> 1.892085e+00</td><td>Inf</td><td>5.847969e-02</td></tr>\n",
              "\t<tr><td>TestDayTest2                              </td><td> 2.972515e-01</td><td>   0.4469343</td><td>0.95</td><td>-5.760228e-01</td><td> 1.1915493</td><td> 6.650900e-01</td><td>Inf</td><td>5.059929e-01</td></tr>\n",
              "\t<tr><td>ExamDomainB                               </td><td>-1.206826e+00</td><td>   0.4429615</td><td>0.95</td><td>-2.093013e+00</td><td>-0.3477471</td><td>-2.724449e+00</td><td>Inf</td><td>6.440895e-03</td></tr>\n",
              "\t<tr><td>ExamDomainC                               </td><td>-3.958957e-01</td><td>   0.8891903</td><td>0.95</td><td>-2.046943e+00</td><td> 1.6183237</td><td>-4.452317e-01</td><td>Inf</td><td>6.561524e-01</td></tr>\n",
              "\t<tr><td>ChatbotIDChatbotB:TestDayTest2            </td><td>-1.839228e-01</td><td>   0.6532215</td><td>0.95</td><td>-1.472956e+00</td><td> 1.1007907</td><td>-2.815628e-01</td><td>Inf</td><td>7.782788e-01</td></tr>\n",
              "\t<tr><td>ChatbotIDChatbotC:TestDayTest2            </td><td>-9.837320e-01</td><td>   0.5976150</td><td>0.95</td><td>-2.171464e+00</td><td> 0.1801533</td><td>-1.646097e+00</td><td>Inf</td><td>9.974386e-02</td></tr>\n",
              "\t<tr><td>ChatbotIDChatbotD:TestDayTest2            </td><td>-5.945030e-01</td><td>   0.6320605</td><td>0.95</td><td>-1.849211e+00</td><td> 0.6394124</td><td>-9.405793e-01</td><td>Inf</td><td>3.469205e-01</td></tr>\n",
              "\t<tr><td>ChatbotIDChatbotE:TestDayTest2            </td><td> 1.410034e-01</td><td>   0.8057373</td><td>0.95</td><td>-1.429890e+00</td><td> 1.7792378</td><td> 1.749992e-01</td><td>Inf</td><td>8.610802e-01</td></tr>\n",
              "\t<tr><td>ChatbotIDChatbotF:TestDayTest2            </td><td>-2.972515e-01</td><td>   0.7526067</td><td>0.95</td><td>-1.791534e+00</td><td> 1.1900569</td><td>-3.949626e-01</td><td>Inf</td><td>6.928705e-01</td></tr>\n",
              "\t<tr><td>ChatbotIDChatbotB:ExamDomainB             </td><td> 2.483198e-02</td><td>   0.6445547</td><td>0.95</td><td>-1.244735e+00</td><td> 1.2904083</td><td> 3.852579e-02</td><td>Inf</td><td>9.692685e-01</td></tr>\n",
              "\t<tr><td>ChatbotIDChatbotC:ExamDomainB             </td><td> 5.485660e-01</td><td>   0.6354505</td><td>0.95</td><td>-6.947336e-01</td><td> 1.8037632</td><td> 8.632710e-01</td><td>Inf</td><td>3.879885e-01</td></tr>\n",
              "\t<tr><td>ChatbotIDChatbotD:ExamDomainB             </td><td>-2.972515e-01</td><td>   0.6409847</td><td>0.95</td><td>-1.562752e+00</td><td> 0.9580746</td><td>-4.637420e-01</td><td>Inf</td><td>6.428326e-01</td></tr>\n",
              "\t<tr><td>ChatbotIDChatbotE:ExamDomainB             </td><td>-1.978176e-01</td><td>   0.7123864</td><td>0.95</td><td>-1.626194e+00</td><td> 1.1868013</td><td>-2.776831e-01</td><td>Inf</td><td>7.812557e-01</td></tr>\n",
              "\t<tr><td>ChatbotIDChatbotF:ExamDomainB             </td><td> 5.782172e-01</td><td>   0.7599111</td><td>0.95</td><td>-9.222147e-01</td><td> 2.0859464</td><td> 7.609011e-01</td><td>Inf</td><td>4.467161e-01</td></tr>\n",
              "\t<tr><td>ChatbotIDChatbotB:ExamDomainC             </td><td> 1.535253e+01</td><td> 906.9431515</td><td>0.95</td><td>-9.099013e+01</td><td>        NA</td><td> 1.692777e-02</td><td>Inf</td><td>9.864942e-01</td></tr>\n",
              "\t<tr><td>ChatbotIDChatbotC:ExamDomainC             </td><td> 8.661128e-17</td><td>   1.2575049</td><td>0.95</td><td>-2.555667e+00</td><td> 2.5556673</td><td> 6.887550e-17</td><td>Inf</td><td>1.000000e+00</td></tr>\n",
              "\t<tr><td>ChatbotIDChatbotD:ExamDomainC             </td><td> 5.782172e-01</td><td>   1.4375037</td><td>0.95</td><td>-2.173418e+00</td><td> 3.9107523</td><td> 4.022370e-01</td><td>Inf</td><td>6.875096e-01</td></tr>\n",
              "\t<tr><td>ChatbotIDChatbotE:ExamDomainC             </td><td> 1.465938e+01</td><td> 906.9431923</td><td>0.95</td><td>-9.151044e+01</td><td>        NA</td><td> 1.616350e-02</td><td>Inf</td><td>9.871040e-01</td></tr>\n",
              "\t<tr><td>ChatbotIDChatbotF:ExamDomainC             </td><td> 1.465938e+01</td><td> 906.9431923</td><td>0.95</td><td>-1.307802e+02</td><td>        NA</td><td> 1.616350e-02</td><td>Inf</td><td>9.871040e-01</td></tr>\n",
              "\t<tr><td>TestDayTest2:ExamDomainB                  </td><td>-2.972515e-01</td><td>   0.6409847</td><td>0.95</td><td>-1.562752e+00</td><td> 0.9580746</td><td>-4.637420e-01</td><td>Inf</td><td>6.428326e-01</td></tr>\n",
              "\t<tr><td>TestDayTest2:ExamDomainC                  </td><td>-2.972515e-01</td><td>   1.2648123</td><td>0.95</td><td>-2.866897e+00</td><td> 2.2703248</td><td>-2.350163e-01</td><td>Inf</td><td>8.141961e-01</td></tr>\n",
              "\t<tr><td>ChatbotIDChatbotB:TestDayTest2:ExamDomainB</td><td> 6.544204e-01</td><td>   0.9358955</td><td>0.95</td><td>-1.179234e+00</td><td> 2.4965755</td><td> 6.992451e-01</td><td>Inf</td><td>4.843988e-01</td></tr>\n",
              "\t<tr><td>ChatbotIDChatbotC:TestDayTest2:ExamDomainB</td><td> 4.351661e-01</td><td>   0.8892319</td><td>0.95</td><td>-1.308057e+00</td><td> 2.1830602</td><td> 4.893730e-01</td><td>Inf</td><td>6.245777e-01</td></tr>\n",
              "\t<tr><td>ChatbotIDChatbotD:TestDayTest2:ExamDomainB</td><td> 7.004516e-01</td><td>   0.9069784</td><td>0.95</td><td>-1.074583e+00</td><td> 2.4865023</td><td> 7.722914e-01</td><td>Inf</td><td>4.399418e-01</td></tr>\n",
              "\t<tr><td>ChatbotIDChatbotE:TestDayTest2:ExamDomainB</td><td>-1.410034e-01</td><td>   1.0565112</td><td>0.95</td><td>-2.243813e+00</td><td> 1.9230505</td><td>-1.334613e-01</td><td>Inf</td><td>8.938285e-01</td></tr>\n",
              "\t<tr><td>ChatbotIDChatbotF:TestDayTest2:ExamDomainB</td><td> 1.113521e-01</td><td>   1.0726416</td><td>0.95</td><td>-2.003075e+00</td><td> 2.2208352</td><td> 1.038111e-01</td><td>Inf</td><td>9.173192e-01</td></tr>\n",
              "\t<tr><td>ChatbotIDChatbotB:TestDayTest2:ExamDomainC</td><td>-1.459039e+01</td><td> 906.9443057</td><td>0.95</td><td>           NA</td><td>81.6447260</td><td>-1.608741e-02</td><td>Inf</td><td>9.871647e-01</td></tr>\n",
              "\t<tr><td>ChatbotIDChatbotC:TestDayTest2:ExamDomainC</td><td> 9.837320e-01</td><td>   1.7768353</td><td>0.95</td><td>-2.559869e+00</td><td> 4.5297392</td><td> 5.536428e-01</td><td>Inf</td><td>5.798233e-01</td></tr>\n",
              "\t<tr><td>ChatbotIDChatbotD:TestDayTest2:ExamDomainC</td><td>-2.809657e-01</td><td>   1.9147238</td><td>0.95</td><td>-4.330326e+00</td><td> 3.4406036</td><td>-1.467395e-01</td><td>Inf</td><td>8.833376e-01</td></tr>\n",
              "\t<tr><td>ChatbotIDChatbotE:TestDayTest2:ExamDomainC</td><td>-1.410034e-01</td><td>1282.6114024</td><td>0.95</td><td>-8.587174e+01</td><td>77.6252649</td><td>-1.099346e-04</td><td>Inf</td><td>9.999123e-01</td></tr>\n",
              "\t<tr><td>ChatbotIDChatbotF:TestDayTest2:ExamDomainC</td><td> 2.972515e-01</td><td>1282.6113702</td><td>0.95</td><td>-6.301268e+01</td><td>64.9795396</td><td> 2.317549e-04</td><td>Inf</td><td>9.998151e-01</td></tr>\n",
              "</tbody>\n",
              "</table>\n"
            ],
            "text/markdown": "\nA parameters_model: 36 × 9\n\n| Parameter &lt;chr&gt; | Coefficient &lt;dbl&gt; | SE &lt;dbl&gt; | CI &lt;dbl&gt; | CI_low &lt;dbl&gt; | CI_high &lt;dbl&gt; | z &lt;dbl&gt; | df_error &lt;dbl&gt; | p &lt;dbl&gt; |\n|---|---|---|---|---|---|---|---|---|\n| (Intercept)                                |  1.312186e+00 |    0.3010969 | 0.95 |  7.509856e-01 |  1.9408304 |  4.358020e+00 | Inf | 1.312442e-05 |\n| ChatbotIDChatbotB                          |  2.972515e-01 |    0.4469343 | 0.95 | -5.760228e-01 |  1.1915493 |  6.650900e-01 | Inf | 5.059929e-01 |\n| ChatbotIDChatbotC                          | -1.437450e-15 |    0.4258153 | 0.95 | -8.407104e-01 |  0.8407104 | -3.375758e-15 | Inf | 1.000000e+00 |\n| ChatbotIDChatbotD                          |  2.972515e-01 |    0.4469343 | 0.95 | -5.760228e-01 |  1.1915493 |  6.650900e-01 | Inf | 5.059929e-01 |\n| ChatbotIDChatbotE                          |  9.903987e-01 |    0.5234431 | 0.95 |  2.732815e-03 |  2.0878753 |  1.892085e+00 | Inf | 5.847969e-02 |\n| ChatbotIDChatbotF                          |  9.903987e-01 |    0.5234431 | 0.95 |  2.732815e-03 |  2.0878753 |  1.892085e+00 | Inf | 5.847969e-02 |\n| TestDayTest2                               |  2.972515e-01 |    0.4469343 | 0.95 | -5.760228e-01 |  1.1915493 |  6.650900e-01 | Inf | 5.059929e-01 |\n| ExamDomainB                                | -1.206826e+00 |    0.4429615 | 0.95 | -2.093013e+00 | -0.3477471 | -2.724449e+00 | Inf | 6.440895e-03 |\n| ExamDomainC                                | -3.958957e-01 |    0.8891903 | 0.95 | -2.046943e+00 |  1.6183237 | -4.452317e-01 | Inf | 6.561524e-01 |\n| ChatbotIDChatbotB:TestDayTest2             | -1.839228e-01 |    0.6532215 | 0.95 | -1.472956e+00 |  1.1007907 | -2.815628e-01 | Inf | 7.782788e-01 |\n| ChatbotIDChatbotC:TestDayTest2             | -9.837320e-01 |    0.5976150 | 0.95 | -2.171464e+00 |  0.1801533 | -1.646097e+00 | Inf | 9.974386e-02 |\n| ChatbotIDChatbotD:TestDayTest2             | -5.945030e-01 |    0.6320605 | 0.95 | -1.849211e+00 |  0.6394124 | -9.405793e-01 | Inf | 3.469205e-01 |\n| ChatbotIDChatbotE:TestDayTest2             |  1.410034e-01 |    0.8057373 | 0.95 | -1.429890e+00 |  1.7792378 |  1.749992e-01 | Inf | 8.610802e-01 |\n| ChatbotIDChatbotF:TestDayTest2             | -2.972515e-01 |    0.7526067 | 0.95 | -1.791534e+00 |  1.1900569 | -3.949626e-01 | Inf | 6.928705e-01 |\n| ChatbotIDChatbotB:ExamDomainB              |  2.483198e-02 |    0.6445547 | 0.95 | -1.244735e+00 |  1.2904083 |  3.852579e-02 | Inf | 9.692685e-01 |\n| ChatbotIDChatbotC:ExamDomainB              |  5.485660e-01 |    0.6354505 | 0.95 | -6.947336e-01 |  1.8037632 |  8.632710e-01 | Inf | 3.879885e-01 |\n| ChatbotIDChatbotD:ExamDomainB              | -2.972515e-01 |    0.6409847 | 0.95 | -1.562752e+00 |  0.9580746 | -4.637420e-01 | Inf | 6.428326e-01 |\n| ChatbotIDChatbotE:ExamDomainB              | -1.978176e-01 |    0.7123864 | 0.95 | -1.626194e+00 |  1.1868013 | -2.776831e-01 | Inf | 7.812557e-01 |\n| ChatbotIDChatbotF:ExamDomainB              |  5.782172e-01 |    0.7599111 | 0.95 | -9.222147e-01 |  2.0859464 |  7.609011e-01 | Inf | 4.467161e-01 |\n| ChatbotIDChatbotB:ExamDomainC              |  1.535253e+01 |  906.9431515 | 0.95 | -9.099013e+01 |         NA |  1.692777e-02 | Inf | 9.864942e-01 |\n| ChatbotIDChatbotC:ExamDomainC              |  8.661128e-17 |    1.2575049 | 0.95 | -2.555667e+00 |  2.5556673 |  6.887550e-17 | Inf | 1.000000e+00 |\n| ChatbotIDChatbotD:ExamDomainC              |  5.782172e-01 |    1.4375037 | 0.95 | -2.173418e+00 |  3.9107523 |  4.022370e-01 | Inf | 6.875096e-01 |\n| ChatbotIDChatbotE:ExamDomainC              |  1.465938e+01 |  906.9431923 | 0.95 | -9.151044e+01 |         NA |  1.616350e-02 | Inf | 9.871040e-01 |\n| ChatbotIDChatbotF:ExamDomainC              |  1.465938e+01 |  906.9431923 | 0.95 | -1.307802e+02 |         NA |  1.616350e-02 | Inf | 9.871040e-01 |\n| TestDayTest2:ExamDomainB                   | -2.972515e-01 |    0.6409847 | 0.95 | -1.562752e+00 |  0.9580746 | -4.637420e-01 | Inf | 6.428326e-01 |\n| TestDayTest2:ExamDomainC                   | -2.972515e-01 |    1.2648123 | 0.95 | -2.866897e+00 |  2.2703248 | -2.350163e-01 | Inf | 8.141961e-01 |\n| ChatbotIDChatbotB:TestDayTest2:ExamDomainB |  6.544204e-01 |    0.9358955 | 0.95 | -1.179234e+00 |  2.4965755 |  6.992451e-01 | Inf | 4.843988e-01 |\n| ChatbotIDChatbotC:TestDayTest2:ExamDomainB |  4.351661e-01 |    0.8892319 | 0.95 | -1.308057e+00 |  2.1830602 |  4.893730e-01 | Inf | 6.245777e-01 |\n| ChatbotIDChatbotD:TestDayTest2:ExamDomainB |  7.004516e-01 |    0.9069784 | 0.95 | -1.074583e+00 |  2.4865023 |  7.722914e-01 | Inf | 4.399418e-01 |\n| ChatbotIDChatbotE:TestDayTest2:ExamDomainB | -1.410034e-01 |    1.0565112 | 0.95 | -2.243813e+00 |  1.9230505 | -1.334613e-01 | Inf | 8.938285e-01 |\n| ChatbotIDChatbotF:TestDayTest2:ExamDomainB |  1.113521e-01 |    1.0726416 | 0.95 | -2.003075e+00 |  2.2208352 |  1.038111e-01 | Inf | 9.173192e-01 |\n| ChatbotIDChatbotB:TestDayTest2:ExamDomainC | -1.459039e+01 |  906.9443057 | 0.95 |            NA | 81.6447260 | -1.608741e-02 | Inf | 9.871647e-01 |\n| ChatbotIDChatbotC:TestDayTest2:ExamDomainC |  9.837320e-01 |    1.7768353 | 0.95 | -2.559869e+00 |  4.5297392 |  5.536428e-01 | Inf | 5.798233e-01 |\n| ChatbotIDChatbotD:TestDayTest2:ExamDomainC | -2.809657e-01 |    1.9147238 | 0.95 | -4.330326e+00 |  3.4406036 | -1.467395e-01 | Inf | 8.833376e-01 |\n| ChatbotIDChatbotE:TestDayTest2:ExamDomainC | -1.410034e-01 | 1282.6114024 | 0.95 | -8.587174e+01 | 77.6252649 | -1.099346e-04 | Inf | 9.999123e-01 |\n| ChatbotIDChatbotF:TestDayTest2:ExamDomainC |  2.972515e-01 | 1282.6113702 | 0.95 | -6.301268e+01 | 64.9795396 |  2.317549e-04 | Inf | 9.998151e-01 |\n\n",
            "text/latex": "A parameters\\_model: 36 × 9\n\\begin{tabular}{lllllllll}\n Parameter & Coefficient & SE & CI & CI\\_low & CI\\_high & z & df\\_error & p\\\\\n <chr> & <dbl> & <dbl> & <dbl> & <dbl> & <dbl> & <dbl> & <dbl> & <dbl>\\\\\n\\hline\n\t (Intercept)                                &  1.312186e+00 &    0.3010969 & 0.95 &  7.509856e-01 &  1.9408304 &  4.358020e+00 & Inf & 1.312442e-05\\\\\n\t ChatbotIDChatbotB                          &  2.972515e-01 &    0.4469343 & 0.95 & -5.760228e-01 &  1.1915493 &  6.650900e-01 & Inf & 5.059929e-01\\\\\n\t ChatbotIDChatbotC                          & -1.437450e-15 &    0.4258153 & 0.95 & -8.407104e-01 &  0.8407104 & -3.375758e-15 & Inf & 1.000000e+00\\\\\n\t ChatbotIDChatbotD                          &  2.972515e-01 &    0.4469343 & 0.95 & -5.760228e-01 &  1.1915493 &  6.650900e-01 & Inf & 5.059929e-01\\\\\n\t ChatbotIDChatbotE                          &  9.903987e-01 &    0.5234431 & 0.95 &  2.732815e-03 &  2.0878753 &  1.892085e+00 & Inf & 5.847969e-02\\\\\n\t ChatbotIDChatbotF                          &  9.903987e-01 &    0.5234431 & 0.95 &  2.732815e-03 &  2.0878753 &  1.892085e+00 & Inf & 5.847969e-02\\\\\n\t TestDayTest2                               &  2.972515e-01 &    0.4469343 & 0.95 & -5.760228e-01 &  1.1915493 &  6.650900e-01 & Inf & 5.059929e-01\\\\\n\t ExamDomainB                                & -1.206826e+00 &    0.4429615 & 0.95 & -2.093013e+00 & -0.3477471 & -2.724449e+00 & Inf & 6.440895e-03\\\\\n\t ExamDomainC                                & -3.958957e-01 &    0.8891903 & 0.95 & -2.046943e+00 &  1.6183237 & -4.452317e-01 & Inf & 6.561524e-01\\\\\n\t ChatbotIDChatbotB:TestDayTest2             & -1.839228e-01 &    0.6532215 & 0.95 & -1.472956e+00 &  1.1007907 & -2.815628e-01 & Inf & 7.782788e-01\\\\\n\t ChatbotIDChatbotC:TestDayTest2             & -9.837320e-01 &    0.5976150 & 0.95 & -2.171464e+00 &  0.1801533 & -1.646097e+00 & Inf & 9.974386e-02\\\\\n\t ChatbotIDChatbotD:TestDayTest2             & -5.945030e-01 &    0.6320605 & 0.95 & -1.849211e+00 &  0.6394124 & -9.405793e-01 & Inf & 3.469205e-01\\\\\n\t ChatbotIDChatbotE:TestDayTest2             &  1.410034e-01 &    0.8057373 & 0.95 & -1.429890e+00 &  1.7792378 &  1.749992e-01 & Inf & 8.610802e-01\\\\\n\t ChatbotIDChatbotF:TestDayTest2             & -2.972515e-01 &    0.7526067 & 0.95 & -1.791534e+00 &  1.1900569 & -3.949626e-01 & Inf & 6.928705e-01\\\\\n\t ChatbotIDChatbotB:ExamDomainB              &  2.483198e-02 &    0.6445547 & 0.95 & -1.244735e+00 &  1.2904083 &  3.852579e-02 & Inf & 9.692685e-01\\\\\n\t ChatbotIDChatbotC:ExamDomainB              &  5.485660e-01 &    0.6354505 & 0.95 & -6.947336e-01 &  1.8037632 &  8.632710e-01 & Inf & 3.879885e-01\\\\\n\t ChatbotIDChatbotD:ExamDomainB              & -2.972515e-01 &    0.6409847 & 0.95 & -1.562752e+00 &  0.9580746 & -4.637420e-01 & Inf & 6.428326e-01\\\\\n\t ChatbotIDChatbotE:ExamDomainB              & -1.978176e-01 &    0.7123864 & 0.95 & -1.626194e+00 &  1.1868013 & -2.776831e-01 & Inf & 7.812557e-01\\\\\n\t ChatbotIDChatbotF:ExamDomainB              &  5.782172e-01 &    0.7599111 & 0.95 & -9.222147e-01 &  2.0859464 &  7.609011e-01 & Inf & 4.467161e-01\\\\\n\t ChatbotIDChatbotB:ExamDomainC              &  1.535253e+01 &  906.9431515 & 0.95 & -9.099013e+01 &         NA &  1.692777e-02 & Inf & 9.864942e-01\\\\\n\t ChatbotIDChatbotC:ExamDomainC              &  8.661128e-17 &    1.2575049 & 0.95 & -2.555667e+00 &  2.5556673 &  6.887550e-17 & Inf & 1.000000e+00\\\\\n\t ChatbotIDChatbotD:ExamDomainC              &  5.782172e-01 &    1.4375037 & 0.95 & -2.173418e+00 &  3.9107523 &  4.022370e-01 & Inf & 6.875096e-01\\\\\n\t ChatbotIDChatbotE:ExamDomainC              &  1.465938e+01 &  906.9431923 & 0.95 & -9.151044e+01 &         NA &  1.616350e-02 & Inf & 9.871040e-01\\\\\n\t ChatbotIDChatbotF:ExamDomainC              &  1.465938e+01 &  906.9431923 & 0.95 & -1.307802e+02 &         NA &  1.616350e-02 & Inf & 9.871040e-01\\\\\n\t TestDayTest2:ExamDomainB                   & -2.972515e-01 &    0.6409847 & 0.95 & -1.562752e+00 &  0.9580746 & -4.637420e-01 & Inf & 6.428326e-01\\\\\n\t TestDayTest2:ExamDomainC                   & -2.972515e-01 &    1.2648123 & 0.95 & -2.866897e+00 &  2.2703248 & -2.350163e-01 & Inf & 8.141961e-01\\\\\n\t ChatbotIDChatbotB:TestDayTest2:ExamDomainB &  6.544204e-01 &    0.9358955 & 0.95 & -1.179234e+00 &  2.4965755 &  6.992451e-01 & Inf & 4.843988e-01\\\\\n\t ChatbotIDChatbotC:TestDayTest2:ExamDomainB &  4.351661e-01 &    0.8892319 & 0.95 & -1.308057e+00 &  2.1830602 &  4.893730e-01 & Inf & 6.245777e-01\\\\\n\t ChatbotIDChatbotD:TestDayTest2:ExamDomainB &  7.004516e-01 &    0.9069784 & 0.95 & -1.074583e+00 &  2.4865023 &  7.722914e-01 & Inf & 4.399418e-01\\\\\n\t ChatbotIDChatbotE:TestDayTest2:ExamDomainB & -1.410034e-01 &    1.0565112 & 0.95 & -2.243813e+00 &  1.9230505 & -1.334613e-01 & Inf & 8.938285e-01\\\\\n\t ChatbotIDChatbotF:TestDayTest2:ExamDomainB &  1.113521e-01 &    1.0726416 & 0.95 & -2.003075e+00 &  2.2208352 &  1.038111e-01 & Inf & 9.173192e-01\\\\\n\t ChatbotIDChatbotB:TestDayTest2:ExamDomainC & -1.459039e+01 &  906.9443057 & 0.95 &            NA & 81.6447260 & -1.608741e-02 & Inf & 9.871647e-01\\\\\n\t ChatbotIDChatbotC:TestDayTest2:ExamDomainC &  9.837320e-01 &    1.7768353 & 0.95 & -2.559869e+00 &  4.5297392 &  5.536428e-01 & Inf & 5.798233e-01\\\\\n\t ChatbotIDChatbotD:TestDayTest2:ExamDomainC & -2.809657e-01 &    1.9147238 & 0.95 & -4.330326e+00 &  3.4406036 & -1.467395e-01 & Inf & 8.833376e-01\\\\\n\t ChatbotIDChatbotE:TestDayTest2:ExamDomainC & -1.410034e-01 & 1282.6114024 & 0.95 & -8.587174e+01 & 77.6252649 & -1.099346e-04 & Inf & 9.999123e-01\\\\\n\t ChatbotIDChatbotF:TestDayTest2:ExamDomainC &  2.972515e-01 & 1282.6113702 & 0.95 & -6.301268e+01 & 64.9795396 &  2.317549e-04 & Inf & 9.998151e-01\\\\\n\\end{tabular}\n",
            "text/plain": [
              "   Parameter                                  Coefficient   SE           CI  \n",
              "1  (Intercept)                                 1.312186e+00    0.3010969 0.95\n",
              "2  ChatbotIDChatbotB                           2.972515e-01    0.4469343 0.95\n",
              "3  ChatbotIDChatbotC                          -1.437450e-15    0.4258153 0.95\n",
              "4  ChatbotIDChatbotD                           2.972515e-01    0.4469343 0.95\n",
              "5  ChatbotIDChatbotE                           9.903987e-01    0.5234431 0.95\n",
              "6  ChatbotIDChatbotF                           9.903987e-01    0.5234431 0.95\n",
              "7  TestDayTest2                                2.972515e-01    0.4469343 0.95\n",
              "8  ExamDomainB                                -1.206826e+00    0.4429615 0.95\n",
              "9  ExamDomainC                                -3.958957e-01    0.8891903 0.95\n",
              "10 ChatbotIDChatbotB:TestDayTest2             -1.839228e-01    0.6532215 0.95\n",
              "11 ChatbotIDChatbotC:TestDayTest2             -9.837320e-01    0.5976150 0.95\n",
              "12 ChatbotIDChatbotD:TestDayTest2             -5.945030e-01    0.6320605 0.95\n",
              "13 ChatbotIDChatbotE:TestDayTest2              1.410034e-01    0.8057373 0.95\n",
              "14 ChatbotIDChatbotF:TestDayTest2             -2.972515e-01    0.7526067 0.95\n",
              "15 ChatbotIDChatbotB:ExamDomainB               2.483198e-02    0.6445547 0.95\n",
              "16 ChatbotIDChatbotC:ExamDomainB               5.485660e-01    0.6354505 0.95\n",
              "17 ChatbotIDChatbotD:ExamDomainB              -2.972515e-01    0.6409847 0.95\n",
              "18 ChatbotIDChatbotE:ExamDomainB              -1.978176e-01    0.7123864 0.95\n",
              "19 ChatbotIDChatbotF:ExamDomainB               5.782172e-01    0.7599111 0.95\n",
              "20 ChatbotIDChatbotB:ExamDomainC               1.535253e+01  906.9431515 0.95\n",
              "21 ChatbotIDChatbotC:ExamDomainC               8.661128e-17    1.2575049 0.95\n",
              "22 ChatbotIDChatbotD:ExamDomainC               5.782172e-01    1.4375037 0.95\n",
              "23 ChatbotIDChatbotE:ExamDomainC               1.465938e+01  906.9431923 0.95\n",
              "24 ChatbotIDChatbotF:ExamDomainC               1.465938e+01  906.9431923 0.95\n",
              "25 TestDayTest2:ExamDomainB                   -2.972515e-01    0.6409847 0.95\n",
              "26 TestDayTest2:ExamDomainC                   -2.972515e-01    1.2648123 0.95\n",
              "27 ChatbotIDChatbotB:TestDayTest2:ExamDomainB  6.544204e-01    0.9358955 0.95\n",
              "28 ChatbotIDChatbotC:TestDayTest2:ExamDomainB  4.351661e-01    0.8892319 0.95\n",
              "29 ChatbotIDChatbotD:TestDayTest2:ExamDomainB  7.004516e-01    0.9069784 0.95\n",
              "30 ChatbotIDChatbotE:TestDayTest2:ExamDomainB -1.410034e-01    1.0565112 0.95\n",
              "31 ChatbotIDChatbotF:TestDayTest2:ExamDomainB  1.113521e-01    1.0726416 0.95\n",
              "32 ChatbotIDChatbotB:TestDayTest2:ExamDomainC -1.459039e+01  906.9443057 0.95\n",
              "33 ChatbotIDChatbotC:TestDayTest2:ExamDomainC  9.837320e-01    1.7768353 0.95\n",
              "34 ChatbotIDChatbotD:TestDayTest2:ExamDomainC -2.809657e-01    1.9147238 0.95\n",
              "35 ChatbotIDChatbotE:TestDayTest2:ExamDomainC -1.410034e-01 1282.6114024 0.95\n",
              "36 ChatbotIDChatbotF:TestDayTest2:ExamDomainC  2.972515e-01 1282.6113702 0.95\n",
              "   CI_low        CI_high    z             df_error p           \n",
              "1   7.509856e-01  1.9408304  4.358020e+00 Inf      1.312442e-05\n",
              "2  -5.760228e-01  1.1915493  6.650900e-01 Inf      5.059929e-01\n",
              "3  -8.407104e-01  0.8407104 -3.375758e-15 Inf      1.000000e+00\n",
              "4  -5.760228e-01  1.1915493  6.650900e-01 Inf      5.059929e-01\n",
              "5   2.732815e-03  2.0878753  1.892085e+00 Inf      5.847969e-02\n",
              "6   2.732815e-03  2.0878753  1.892085e+00 Inf      5.847969e-02\n",
              "7  -5.760228e-01  1.1915493  6.650900e-01 Inf      5.059929e-01\n",
              "8  -2.093013e+00 -0.3477471 -2.724449e+00 Inf      6.440895e-03\n",
              "9  -2.046943e+00  1.6183237 -4.452317e-01 Inf      6.561524e-01\n",
              "10 -1.472956e+00  1.1007907 -2.815628e-01 Inf      7.782788e-01\n",
              "11 -2.171464e+00  0.1801533 -1.646097e+00 Inf      9.974386e-02\n",
              "12 -1.849211e+00  0.6394124 -9.405793e-01 Inf      3.469205e-01\n",
              "13 -1.429890e+00  1.7792378  1.749992e-01 Inf      8.610802e-01\n",
              "14 -1.791534e+00  1.1900569 -3.949626e-01 Inf      6.928705e-01\n",
              "15 -1.244735e+00  1.2904083  3.852579e-02 Inf      9.692685e-01\n",
              "16 -6.947336e-01  1.8037632  8.632710e-01 Inf      3.879885e-01\n",
              "17 -1.562752e+00  0.9580746 -4.637420e-01 Inf      6.428326e-01\n",
              "18 -1.626194e+00  1.1868013 -2.776831e-01 Inf      7.812557e-01\n",
              "19 -9.222147e-01  2.0859464  7.609011e-01 Inf      4.467161e-01\n",
              "20 -9.099013e+01         NA  1.692777e-02 Inf      9.864942e-01\n",
              "21 -2.555667e+00  2.5556673  6.887550e-17 Inf      1.000000e+00\n",
              "22 -2.173418e+00  3.9107523  4.022370e-01 Inf      6.875096e-01\n",
              "23 -9.151044e+01         NA  1.616350e-02 Inf      9.871040e-01\n",
              "24 -1.307802e+02         NA  1.616350e-02 Inf      9.871040e-01\n",
              "25 -1.562752e+00  0.9580746 -4.637420e-01 Inf      6.428326e-01\n",
              "26 -2.866897e+00  2.2703248 -2.350163e-01 Inf      8.141961e-01\n",
              "27 -1.179234e+00  2.4965755  6.992451e-01 Inf      4.843988e-01\n",
              "28 -1.308057e+00  2.1830602  4.893730e-01 Inf      6.245777e-01\n",
              "29 -1.074583e+00  2.4865023  7.722914e-01 Inf      4.399418e-01\n",
              "30 -2.243813e+00  1.9230505 -1.334613e-01 Inf      8.938285e-01\n",
              "31 -2.003075e+00  2.2208352  1.038111e-01 Inf      9.173192e-01\n",
              "32            NA 81.6447260 -1.608741e-02 Inf      9.871647e-01\n",
              "33 -2.559869e+00  4.5297392  5.536428e-01 Inf      5.798233e-01\n",
              "34 -4.330326e+00  3.4406036 -1.467395e-01 Inf      8.833376e-01\n",
              "35 -8.587174e+01 77.6252649 -1.099346e-04 Inf      9.999123e-01\n",
              "36 -6.301268e+01 64.9795396  2.317549e-04 Inf      9.998151e-01"
            ]
          },
          "metadata": {}
        }
      ]
    },
    {
      "cell_type": "code",
      "source": [
        "# Use an ANOVA-like approach with a likelihood ratio test to evaluate the significance of predictors and interactions\n",
        "anova(GLM_Model_1, test = \"Chisq\")"
      ],
      "metadata": {
        "colab": {
          "base_uri": "https://localhost:8080/",
          "height": 349
        },
        "id": "0hNRPrikBjeW",
        "outputId": "a5cdca05-1115-4cbd-a4e0-c465c37eb31d"
      },
      "execution_count": 37,
      "outputs": [
        {
          "output_type": "display_data",
          "data": {
            "text/html": [
              "<table class=\"dataframe\">\n",
              "<caption>A anova: 8 × 5</caption>\n",
              "<thead>\n",
              "\t<tr><th></th><th scope=col>Df</th><th scope=col>Deviance</th><th scope=col>Resid. Df</th><th scope=col>Resid. Dev</th><th scope=col>Pr(&gt;Chi)</th></tr>\n",
              "\t<tr><th></th><th scope=col>&lt;int&gt;</th><th scope=col>&lt;dbl&gt;</th><th scope=col>&lt;int&gt;</th><th scope=col>&lt;dbl&gt;</th><th scope=col>&lt;dbl&gt;</th></tr>\n",
              "</thead>\n",
              "<tbody>\n",
              "\t<tr><th scope=row>NULL</th><td>NA</td><td>        NA</td><td>1331</td><td>1433.338</td><td>          NA</td></tr>\n",
              "\t<tr><th scope=row>ChatbotID</th><td> 5</td><td>49.1025690</td><td>1326</td><td>1384.235</td><td>2.114666e-09</td></tr>\n",
              "\t<tr><th scope=row>TestDay</th><td> 1</td><td> 0.3569769</td><td>1325</td><td>1383.878</td><td>5.501900e-01</td></tr>\n",
              "\t<tr><th scope=row>ExamDomain</th><td> 2</td><td>65.1746159</td><td>1323</td><td>1318.704</td><td>7.039016e-15</td></tr>\n",
              "\t<tr><th scope=row>ChatbotID:TestDay</th><td> 5</td><td> 5.0109231</td><td>1318</td><td>1313.693</td><td>4.145486e-01</td></tr>\n",
              "\t<tr><th scope=row>ChatbotID:ExamDomain</th><td>10</td><td>12.3916311</td><td>1308</td><td>1301.301</td><td>2.597006e-01</td></tr>\n",
              "\t<tr><th scope=row>TestDay:ExamDomain</th><td> 2</td><td> 0.2283985</td><td>1306</td><td>1301.073</td><td>8.920802e-01</td></tr>\n",
              "\t<tr><th scope=row>ChatbotID:TestDay:ExamDomain</th><td>10</td><td> 3.3595422</td><td>1296</td><td>1297.713</td><td>9.716537e-01</td></tr>\n",
              "</tbody>\n",
              "</table>\n"
            ],
            "text/markdown": "\nA anova: 8 × 5\n\n| <!--/--> | Df &lt;int&gt; | Deviance &lt;dbl&gt; | Resid. Df &lt;int&gt; | Resid. Dev &lt;dbl&gt; | Pr(&gt;Chi) &lt;dbl&gt; |\n|---|---|---|---|---|---|\n| NULL | NA |         NA | 1331 | 1433.338 |           NA |\n| ChatbotID |  5 | 49.1025690 | 1326 | 1384.235 | 2.114666e-09 |\n| TestDay |  1 |  0.3569769 | 1325 | 1383.878 | 5.501900e-01 |\n| ExamDomain |  2 | 65.1746159 | 1323 | 1318.704 | 7.039016e-15 |\n| ChatbotID:TestDay |  5 |  5.0109231 | 1318 | 1313.693 | 4.145486e-01 |\n| ChatbotID:ExamDomain | 10 | 12.3916311 | 1308 | 1301.301 | 2.597006e-01 |\n| TestDay:ExamDomain |  2 |  0.2283985 | 1306 | 1301.073 | 8.920802e-01 |\n| ChatbotID:TestDay:ExamDomain | 10 |  3.3595422 | 1296 | 1297.713 | 9.716537e-01 |\n\n",
            "text/latex": "A anova: 8 × 5\n\\begin{tabular}{r|lllll}\n  & Df & Deviance & Resid. Df & Resid. Dev & Pr(>Chi)\\\\\n  & <int> & <dbl> & <int> & <dbl> & <dbl>\\\\\n\\hline\n\tNULL & NA &         NA & 1331 & 1433.338 &           NA\\\\\n\tChatbotID &  5 & 49.1025690 & 1326 & 1384.235 & 2.114666e-09\\\\\n\tTestDay &  1 &  0.3569769 & 1325 & 1383.878 & 5.501900e-01\\\\\n\tExamDomain &  2 & 65.1746159 & 1323 & 1318.704 & 7.039016e-15\\\\\n\tChatbotID:TestDay &  5 &  5.0109231 & 1318 & 1313.693 & 4.145486e-01\\\\\n\tChatbotID:ExamDomain & 10 & 12.3916311 & 1308 & 1301.301 & 2.597006e-01\\\\\n\tTestDay:ExamDomain &  2 &  0.2283985 & 1306 & 1301.073 & 8.920802e-01\\\\\n\tChatbotID:TestDay:ExamDomain & 10 &  3.3595422 & 1296 & 1297.713 & 9.716537e-01\\\\\n\\end{tabular}\n",
            "text/plain": [
              "                             Df Deviance   Resid. Df Resid. Dev Pr(>Chi)    \n",
              "NULL                         NA         NA 1331      1433.338             NA\n",
              "ChatbotID                     5 49.1025690 1326      1384.235   2.114666e-09\n",
              "TestDay                       1  0.3569769 1325      1383.878   5.501900e-01\n",
              "ExamDomain                    2 65.1746159 1323      1318.704   7.039016e-15\n",
              "ChatbotID:TestDay             5  5.0109231 1318      1313.693   4.145486e-01\n",
              "ChatbotID:ExamDomain         10 12.3916311 1308      1301.301   2.597006e-01\n",
              "TestDay:ExamDomain            2  0.2283985 1306      1301.073   8.920802e-01\n",
              "ChatbotID:TestDay:ExamDomain 10  3.3595422 1296      1297.713   9.716537e-01"
            ]
          },
          "metadata": {}
        }
      ]
    },
    {
      "cell_type": "code",
      "source": [
        "# assess the model's goodness-of-fit using pseudo R-squared metrics or diagnostic plots\n",
        "# install packages\n",
        "install.packages(\"MuMIn\")\n",
        "library(MuMIn)"
      ],
      "metadata": {
        "colab": {
          "base_uri": "https://localhost:8080/"
        },
        "id": "Z33xwArBBwqi",
        "outputId": "cced1fae-5808-45ee-ae1f-c9cb43102094"
      },
      "execution_count": 38,
      "outputs": [
        {
          "output_type": "stream",
          "name": "stderr",
          "text": [
            "Installing package into ‘/usr/local/lib/R/site-library’\n",
            "(as ‘lib’ is unspecified)\n",
            "\n",
            "Registered S3 method overwritten by 'MuMIn':\n",
            "  method        from \n",
            "  nobs.multinom broom\n",
            "\n"
          ]
        }
      ]
    },
    {
      "cell_type": "code",
      "source": [
        "# Pseudo R-squared\n",
        "r.squaredGLMM(GLM_Model_1)"
      ],
      "metadata": {
        "colab": {
          "base_uri": "https://localhost:8080/",
          "height": 181
        },
        "id": "BE89JVmrDlkq",
        "outputId": "5a6b78cd-4026-471b-bb3d-6f82d5d63219"
      },
      "execution_count": 39,
      "outputs": [
        {
          "output_type": "stream",
          "name": "stderr",
          "text": [
            "Warning message:\n",
            "“the null model is only correct if all the variables it uses are identical \n",
            "to those used in fitting the original model.”\n"
          ]
        },
        {
          "output_type": "display_data",
          "data": {
            "text/html": [
              "<table class=\"dataframe\">\n",
              "<caption>A matrix: 2 × 2 of type dbl</caption>\n",
              "<thead>\n",
              "\t<tr><th></th><th scope=col>R2m</th><th scope=col>R2c</th></tr>\n",
              "</thead>\n",
              "<tbody>\n",
              "\t<tr><th scope=row>theoretical</th><td>0.6640636</td><td>0.6640636</td></tr>\n",
              "\t<tr><th scope=row>delta</th><td>0.5344800</td><td>0.5344800</td></tr>\n",
              "</tbody>\n",
              "</table>\n"
            ],
            "text/markdown": "\nA matrix: 2 × 2 of type dbl\n\n| <!--/--> | R2m | R2c |\n|---|---|---|\n| theoretical | 0.6640636 | 0.6640636 |\n| delta | 0.5344800 | 0.5344800 |\n\n",
            "text/latex": "A matrix: 2 × 2 of type dbl\n\\begin{tabular}{r|ll}\n  & R2m & R2c\\\\\n\\hline\n\ttheoretical & 0.6640636 & 0.6640636\\\\\n\tdelta & 0.5344800 & 0.5344800\\\\\n\\end{tabular}\n",
            "text/plain": [
              "            R2m       R2c      \n",
              "theoretical 0.6640636 0.6640636\n",
              "delta       0.5344800 0.5344800"
            ]
          },
          "metadata": {}
        }
      ]
    },
    {
      "cell_type": "markdown",
      "source": [
        "#### Posthoc test"
      ],
      "metadata": {
        "id": "UcwsEyBwCIaW"
      }
    },
    {
      "cell_type": "code",
      "source": [
        "# Run pairwise comparisons for ChatbotID at each Day\n",
        "posthoc_GLM_Model_1 <- emmeans(GLM_Model_1, pairwise ~ ChatbotID)\n",
        "posthoc_GLM_Model_1a <- emmeans(GLM_Model_1, pairwise ~ TestDay)\n",
        "posthoc_GLM_Model_1b <- emmeans(GLM_Model_1, pairwise ~ ExamDomain)\n",
        "\n",
        "# print results\n",
        "cat(\"\\n\\n Pairwise comparisons for ChatbotID for GLM_Model_1 \\n\")\n",
        "summary(posthoc_GLM_Model_1)\n",
        "cat(\"\\n\\n Pairwise comparisons for TestDay for GLM_Model_1 \\n\")\n",
        "summary(posthoc_GLM_Model_1a)\n",
        "cat(\"\\n\\n Pairwise comparisons for ExamDomain for GLM_Model_1 \\n\")\n",
        "summary(posthoc_GLM_Model_1b)"
      ],
      "metadata": {
        "colab": {
          "base_uri": "https://localhost:8080/",
          "height": 1000
        },
        "id": "yE6lFpfD5LZv",
        "outputId": "2224a915-63c2-4330-800d-2167481afdc9"
      },
      "execution_count": 40,
      "outputs": [
        {
          "output_type": "stream",
          "name": "stderr",
          "text": [
            "NOTE: Results may be misleading due to involvement in interactions\n",
            "\n",
            "NOTE: Results may be misleading due to involvement in interactions\n",
            "\n",
            "NOTE: Results may be misleading due to involvement in interactions\n",
            "\n"
          ]
        },
        {
          "output_type": "stream",
          "name": "stdout",
          "text": [
            "\n",
            "\n",
            " Pairwise comparisons for ChatbotID for GLM_Model_1 \n"
          ]
        },
        {
          "output_type": "display_data",
          "data": {
            "text/html": [
              "<dl>\n",
              "\t<dt>$emmeans</dt>\n",
              "\t\t<dd><table class=\"dataframe\">\n",
              "<caption>A summary_emm: 6 × 6</caption>\n",
              "<thead>\n",
              "\t<tr><th></th><th scope=col>ChatbotID</th><th scope=col>emmean</th><th scope=col>SE</th><th scope=col>df</th><th scope=col>asymp.LCL</th><th scope=col>asymp.UCL</th></tr>\n",
              "\t<tr><th></th><th scope=col>&lt;fct&gt;</th><th scope=col>&lt;dbl&gt;</th><th scope=col>&lt;dbl&gt;</th><th scope=col>&lt;dbl&gt;</th><th scope=col>&lt;dbl&gt;</th><th scope=col>&lt;dbl&gt;</th></tr>\n",
              "</thead>\n",
              "<tbody>\n",
              "\t<tr><th scope=row>1</th><td>ChatbotA</td><td>0.8274878</td><td>  0.2242804</td><td>Inf</td><td>   0.3879063</td><td>  1.267069</td></tr>\n",
              "\t<tr><th scope=row>2</th><td>ChatbotB</td><td>3.8359030</td><td>151.1572592</td><td>Inf</td><td>-292.4268810</td><td>300.098687</td></tr>\n",
              "\t<tr><th scope=row>3</th><td>ChatbotC</td><td>0.7549601</td><td>  0.2223531</td><td>Inf</td><td>   0.3191561</td><td>  1.190764</td></tr>\n",
              "\t<tr><th scope=row>4</th><td>ChatbotD</td><td>0.9910574</td><td>  0.2515737</td><td>Inf</td><td>   0.4979820</td><td>  1.484133</td></tr>\n",
              "\t<tr><th scope=row>5</th><td>ChatbotE</td><td>6.6619075</td><td>213.7684797</td><td>Inf</td><td>-412.3166138</td><td>425.640429</td></tr>\n",
              "\t<tr><th scope=row>6</th><td>ChatbotF</td><td>6.8165601</td><td>213.7684820</td><td>Inf</td><td>-412.1619656</td><td>425.795086</td></tr>\n",
              "</tbody>\n",
              "</table>\n",
              "</dd>\n",
              "\t<dt>$contrasts</dt>\n",
              "\t\t<dd><table class=\"dataframe\">\n",
              "<caption>A summary_emm: 15 × 6</caption>\n",
              "<thead>\n",
              "\t<tr><th></th><th scope=col>contrast</th><th scope=col>estimate</th><th scope=col>SE</th><th scope=col>df</th><th scope=col>z.ratio</th><th scope=col>p.value</th></tr>\n",
              "\t<tr><th></th><th scope=col>&lt;chr&gt;</th><th scope=col>&lt;dbl&gt;</th><th scope=col>&lt;dbl&gt;</th><th scope=col>&lt;dbl&gt;</th><th scope=col>&lt;dbl&gt;</th><th scope=col>&lt;dbl&gt;</th></tr>\n",
              "</thead>\n",
              "<tbody>\n",
              "\t<tr><th scope=row>1</th><td>ChatbotA - ChatbotB</td><td>-3.00841520</td><td>151.1574256</td><td>Inf</td><td>-0.0199025300</td><td>1.0000000</td></tr>\n",
              "\t<tr><th scope=row>2</th><td>ChatbotA - ChatbotC</td><td> 0.07252768</td><td>  0.3158205</td><td>Inf</td><td> 0.2296484062</td><td>0.9999131</td></tr>\n",
              "\t<tr><th scope=row>3</th><td>ChatbotA - ChatbotD</td><td>-0.16356955</td><td>  0.3370327</td><td>Inf</td><td>-0.4853225630</td><td>0.9966888</td></tr>\n",
              "\t<tr><th scope=row>4</th><td>ChatbotA - ChatbotE</td><td>-5.83441973</td><td>213.7685974</td><td>Inf</td><td>-0.0272931562</td><td>1.0000000</td></tr>\n",
              "\t<tr><th scope=row>5</th><td>ChatbotA - ChatbotF</td><td>-5.98907229</td><td>213.7685996</td><td>Inf</td><td>-0.0280166137</td><td>1.0000000</td></tr>\n",
              "\t<tr><th scope=row>6</th><td>ChatbotB - ChatbotC</td><td> 3.08094288</td><td>151.1574227</td><td>Inf</td><td> 0.0203823459</td><td>1.0000000</td></tr>\n",
              "\t<tr><th scope=row>7</th><td>ChatbotB - ChatbotD</td><td> 2.84484565</td><td>151.1574685</td><td>Inf</td><td> 0.0188204108</td><td>1.0000000</td></tr>\n",
              "\t<tr><th scope=row>8</th><td>ChatbotB - ChatbotE</td><td>-2.82600452</td><td>261.8119171</td><td>Inf</td><td>-0.0107940256</td><td>1.0000000</td></tr>\n",
              "\t<tr><th scope=row>9</th><td>ChatbotB - ChatbotF</td><td>-2.98065708</td><td>261.8119189</td><td>Inf</td><td>-0.0113847265</td><td>1.0000000</td></tr>\n",
              "\t<tr><th scope=row>10</th><td>ChatbotC - ChatbotD</td><td>-0.23609723</td><td>  0.3357532</td><td>Inf</td><td>-0.7031868772</td><td>0.9816220</td></tr>\n",
              "\t<tr><th scope=row>11</th><td>ChatbotC - ChatbotE</td><td>-5.90694740</td><td>213.7685954</td><td>Inf</td><td>-0.0276324377</td><td>1.0000000</td></tr>\n",
              "\t<tr><th scope=row>12</th><td>ChatbotC - ChatbotF</td><td>-6.06159996</td><td>213.7685976</td><td>Inf</td><td>-0.0283558953</td><td>1.0000000</td></tr>\n",
              "\t<tr><th scope=row>13</th><td>ChatbotD - ChatbotE</td><td>-5.67085017</td><td>213.7686278</td><td>Inf</td><td>-0.0265279814</td><td>1.0000000</td></tr>\n",
              "\t<tr><th scope=row>14</th><td>ChatbotD - ChatbotF</td><td>-5.82550273</td><td>213.7686300</td><td>Inf</td><td>-0.0272514388</td><td>1.0000000</td></tr>\n",
              "\t<tr><th scope=row>15</th><td>ChatbotE - ChatbotF</td><td>-0.15465256</td><td>302.3142849</td><td>Inf</td><td>-0.0005115622</td><td>1.0000000</td></tr>\n",
              "</tbody>\n",
              "</table>\n",
              "</dd>\n",
              "</dl>\n"
            ],
            "text/markdown": "$emmeans\n:   \nA summary_emm: 6 × 6\n\n| <!--/--> | ChatbotID &lt;fct&gt; | emmean &lt;dbl&gt; | SE &lt;dbl&gt; | df &lt;dbl&gt; | asymp.LCL &lt;dbl&gt; | asymp.UCL &lt;dbl&gt; |\n|---|---|---|---|---|---|---|\n| 1 | ChatbotA | 0.8274878 |   0.2242804 | Inf |    0.3879063 |   1.267069 |\n| 2 | ChatbotB | 3.8359030 | 151.1572592 | Inf | -292.4268810 | 300.098687 |\n| 3 | ChatbotC | 0.7549601 |   0.2223531 | Inf |    0.3191561 |   1.190764 |\n| 4 | ChatbotD | 0.9910574 |   0.2515737 | Inf |    0.4979820 |   1.484133 |\n| 5 | ChatbotE | 6.6619075 | 213.7684797 | Inf | -412.3166138 | 425.640429 |\n| 6 | ChatbotF | 6.8165601 | 213.7684820 | Inf | -412.1619656 | 425.795086 |\n\n\n$contrasts\n:   \nA summary_emm: 15 × 6\n\n| <!--/--> | contrast &lt;chr&gt; | estimate &lt;dbl&gt; | SE &lt;dbl&gt; | df &lt;dbl&gt; | z.ratio &lt;dbl&gt; | p.value &lt;dbl&gt; |\n|---|---|---|---|---|---|---|\n| 1 | ChatbotA - ChatbotB | -3.00841520 | 151.1574256 | Inf | -0.0199025300 | 1.0000000 |\n| 2 | ChatbotA - ChatbotC |  0.07252768 |   0.3158205 | Inf |  0.2296484062 | 0.9999131 |\n| 3 | ChatbotA - ChatbotD | -0.16356955 |   0.3370327 | Inf | -0.4853225630 | 0.9966888 |\n| 4 | ChatbotA - ChatbotE | -5.83441973 | 213.7685974 | Inf | -0.0272931562 | 1.0000000 |\n| 5 | ChatbotA - ChatbotF | -5.98907229 | 213.7685996 | Inf | -0.0280166137 | 1.0000000 |\n| 6 | ChatbotB - ChatbotC |  3.08094288 | 151.1574227 | Inf |  0.0203823459 | 1.0000000 |\n| 7 | ChatbotB - ChatbotD |  2.84484565 | 151.1574685 | Inf |  0.0188204108 | 1.0000000 |\n| 8 | ChatbotB - ChatbotE | -2.82600452 | 261.8119171 | Inf | -0.0107940256 | 1.0000000 |\n| 9 | ChatbotB - ChatbotF | -2.98065708 | 261.8119189 | Inf | -0.0113847265 | 1.0000000 |\n| 10 | ChatbotC - ChatbotD | -0.23609723 |   0.3357532 | Inf | -0.7031868772 | 0.9816220 |\n| 11 | ChatbotC - ChatbotE | -5.90694740 | 213.7685954 | Inf | -0.0276324377 | 1.0000000 |\n| 12 | ChatbotC - ChatbotF | -6.06159996 | 213.7685976 | Inf | -0.0283558953 | 1.0000000 |\n| 13 | ChatbotD - ChatbotE | -5.67085017 | 213.7686278 | Inf | -0.0265279814 | 1.0000000 |\n| 14 | ChatbotD - ChatbotF | -5.82550273 | 213.7686300 | Inf | -0.0272514388 | 1.0000000 |\n| 15 | ChatbotE - ChatbotF | -0.15465256 | 302.3142849 | Inf | -0.0005115622 | 1.0000000 |\n\n\n\n\n",
            "text/latex": "\\begin{description}\n\\item[\\$emmeans] A summary\\_emm: 6 × 6\n\\begin{tabular}{r|llllll}\n  & ChatbotID & emmean & SE & df & asymp.LCL & asymp.UCL\\\\\n  & <fct> & <dbl> & <dbl> & <dbl> & <dbl> & <dbl>\\\\\n\\hline\n\t1 & ChatbotA & 0.8274878 &   0.2242804 & Inf &    0.3879063 &   1.267069\\\\\n\t2 & ChatbotB & 3.8359030 & 151.1572592 & Inf & -292.4268810 & 300.098687\\\\\n\t3 & ChatbotC & 0.7549601 &   0.2223531 & Inf &    0.3191561 &   1.190764\\\\\n\t4 & ChatbotD & 0.9910574 &   0.2515737 & Inf &    0.4979820 &   1.484133\\\\\n\t5 & ChatbotE & 6.6619075 & 213.7684797 & Inf & -412.3166138 & 425.640429\\\\\n\t6 & ChatbotF & 6.8165601 & 213.7684820 & Inf & -412.1619656 & 425.795086\\\\\n\\end{tabular}\n\n\\item[\\$contrasts] A summary\\_emm: 15 × 6\n\\begin{tabular}{r|llllll}\n  & contrast & estimate & SE & df & z.ratio & p.value\\\\\n  & <chr> & <dbl> & <dbl> & <dbl> & <dbl> & <dbl>\\\\\n\\hline\n\t1 & ChatbotA - ChatbotB & -3.00841520 & 151.1574256 & Inf & -0.0199025300 & 1.0000000\\\\\n\t2 & ChatbotA - ChatbotC &  0.07252768 &   0.3158205 & Inf &  0.2296484062 & 0.9999131\\\\\n\t3 & ChatbotA - ChatbotD & -0.16356955 &   0.3370327 & Inf & -0.4853225630 & 0.9966888\\\\\n\t4 & ChatbotA - ChatbotE & -5.83441973 & 213.7685974 & Inf & -0.0272931562 & 1.0000000\\\\\n\t5 & ChatbotA - ChatbotF & -5.98907229 & 213.7685996 & Inf & -0.0280166137 & 1.0000000\\\\\n\t6 & ChatbotB - ChatbotC &  3.08094288 & 151.1574227 & Inf &  0.0203823459 & 1.0000000\\\\\n\t7 & ChatbotB - ChatbotD &  2.84484565 & 151.1574685 & Inf &  0.0188204108 & 1.0000000\\\\\n\t8 & ChatbotB - ChatbotE & -2.82600452 & 261.8119171 & Inf & -0.0107940256 & 1.0000000\\\\\n\t9 & ChatbotB - ChatbotF & -2.98065708 & 261.8119189 & Inf & -0.0113847265 & 1.0000000\\\\\n\t10 & ChatbotC - ChatbotD & -0.23609723 &   0.3357532 & Inf & -0.7031868772 & 0.9816220\\\\\n\t11 & ChatbotC - ChatbotE & -5.90694740 & 213.7685954 & Inf & -0.0276324377 & 1.0000000\\\\\n\t12 & ChatbotC - ChatbotF & -6.06159996 & 213.7685976 & Inf & -0.0283558953 & 1.0000000\\\\\n\t13 & ChatbotD - ChatbotE & -5.67085017 & 213.7686278 & Inf & -0.0265279814 & 1.0000000\\\\\n\t14 & ChatbotD - ChatbotF & -5.82550273 & 213.7686300 & Inf & -0.0272514388 & 1.0000000\\\\\n\t15 & ChatbotE - ChatbotF & -0.15465256 & 302.3142849 & Inf & -0.0005115622 & 1.0000000\\\\\n\\end{tabular}\n\n\\end{description}\n",
            "text/plain": [
              "$emmeans\n",
              " ChatbotID emmean      SE  df asymp.LCL asymp.UCL\n",
              " ChatbotA   0.827   0.224 Inf     0.388      1.27\n",
              " ChatbotB   3.836 151.000 Inf  -292.427    300.10\n",
              " ChatbotC   0.755   0.222 Inf     0.319      1.19\n",
              " ChatbotD   0.991   0.252 Inf     0.498      1.48\n",
              " ChatbotE   6.662 214.000 Inf  -412.317    425.64\n",
              " ChatbotF   6.817 214.000 Inf  -412.162    425.80\n",
              "\n",
              "Results are averaged over the levels of: TestDay, ExamDomain \n",
              "Results are given on the logit (not the response) scale. \n",
              "Confidence level used: 0.95 \n",
              "\n",
              "$contrasts\n",
              " contrast            estimate      SE  df z.ratio p.value\n",
              " ChatbotA - ChatbotB  -3.0084 151.000 Inf  -0.020  1.0000\n",
              " ChatbotA - ChatbotC   0.0725   0.316 Inf   0.230  0.9999\n",
              " ChatbotA - ChatbotD  -0.1636   0.337 Inf  -0.485  0.9967\n",
              " ChatbotA - ChatbotE  -5.8344 214.000 Inf  -0.027  1.0000\n",
              " ChatbotA - ChatbotF  -5.9891 214.000 Inf  -0.028  1.0000\n",
              " ChatbotB - ChatbotC   3.0809 151.000 Inf   0.020  1.0000\n",
              " ChatbotB - ChatbotD   2.8448 151.000 Inf   0.019  1.0000\n",
              " ChatbotB - ChatbotE  -2.8260 262.000 Inf  -0.011  1.0000\n",
              " ChatbotB - ChatbotF  -2.9807 262.000 Inf  -0.011  1.0000\n",
              " ChatbotC - ChatbotD  -0.2361   0.336 Inf  -0.703  0.9816\n",
              " ChatbotC - ChatbotE  -5.9069 214.000 Inf  -0.028  1.0000\n",
              " ChatbotC - ChatbotF  -6.0616 214.000 Inf  -0.028  1.0000\n",
              " ChatbotD - ChatbotE  -5.6708 214.000 Inf  -0.027  1.0000\n",
              " ChatbotD - ChatbotF  -5.8255 214.000 Inf  -0.027  1.0000\n",
              " ChatbotE - ChatbotF  -0.1547 302.000 Inf  -0.001  1.0000\n",
              "\n",
              "Results are averaged over the levels of: TestDay, ExamDomain \n",
              "Results are given on the log odds ratio (not the response) scale. \n",
              "P value adjustment: tukey method for comparing a family of 6 estimates \n"
            ]
          },
          "metadata": {}
        },
        {
          "output_type": "stream",
          "name": "stdout",
          "text": [
            "\n",
            "\n",
            " Pairwise comparisons for TestDay for GLM_Model_1 \n"
          ]
        },
        {
          "output_type": "display_data",
          "data": {
            "text/html": [
              "<dl>\n",
              "\t<dt>$emmeans</dt>\n",
              "\t\t<dd><table class=\"dataframe\">\n",
              "<caption>A summary_emm: 2 × 6</caption>\n",
              "<thead>\n",
              "\t<tr><th></th><th scope=col>TestDay</th><th scope=col>emmean</th><th scope=col>SE</th><th scope=col>df</th><th scope=col>asymp.LCL</th><th scope=col>asymp.UCL</th></tr>\n",
              "\t<tr><th></th><th scope=col>&lt;fct&gt;</th><th scope=col>&lt;dbl&gt;</th><th scope=col>&lt;dbl&gt;</th><th scope=col>&lt;dbl&gt;</th><th scope=col>&lt;dbl&gt;</th><th scope=col>&lt;dbl&gt;</th></tr>\n",
              "</thead>\n",
              "<tbody>\n",
              "\t<tr><th scope=row>1</th><td>Test1</td><td>3.757499</td><td>87.27067</td><td>Inf</td><td>-167.2899</td><td>174.8049</td></tr>\n",
              "\t<tr><th scope=row>2</th><td>Test2</td><td>2.871793</td><td>71.25625</td><td>Inf</td><td>-136.7879</td><td>142.5315</td></tr>\n",
              "</tbody>\n",
              "</table>\n",
              "</dd>\n",
              "\t<dt>$contrasts</dt>\n",
              "\t\t<dd><table class=\"dataframe\">\n",
              "<caption>A summary_emm: 1 × 6</caption>\n",
              "<thead>\n",
              "\t<tr><th></th><th scope=col>contrast</th><th scope=col>estimate</th><th scope=col>SE</th><th scope=col>df</th><th scope=col>z.ratio</th><th scope=col>p.value</th></tr>\n",
              "\t<tr><th></th><th scope=col>&lt;chr&gt;</th><th scope=col>&lt;dbl&gt;</th><th scope=col>&lt;dbl&gt;</th><th scope=col>&lt;dbl&gt;</th><th scope=col>&lt;dbl&gt;</th><th scope=col>&lt;dbl&gt;</th></tr>\n",
              "</thead>\n",
              "<tbody>\n",
              "\t<tr><th scope=row>1</th><td>Test1 - Test2</td><td>0.8857052</td><td>112.666</td><td>Inf</td><td>0.007861337</td><td>0.9937276</td></tr>\n",
              "</tbody>\n",
              "</table>\n",
              "</dd>\n",
              "</dl>\n"
            ],
            "text/markdown": "$emmeans\n:   \nA summary_emm: 2 × 6\n\n| <!--/--> | TestDay &lt;fct&gt; | emmean &lt;dbl&gt; | SE &lt;dbl&gt; | df &lt;dbl&gt; | asymp.LCL &lt;dbl&gt; | asymp.UCL &lt;dbl&gt; |\n|---|---|---|---|---|---|---|\n| 1 | Test1 | 3.757499 | 87.27067 | Inf | -167.2899 | 174.8049 |\n| 2 | Test2 | 2.871793 | 71.25625 | Inf | -136.7879 | 142.5315 |\n\n\n$contrasts\n:   \nA summary_emm: 1 × 6\n\n| <!--/--> | contrast &lt;chr&gt; | estimate &lt;dbl&gt; | SE &lt;dbl&gt; | df &lt;dbl&gt; | z.ratio &lt;dbl&gt; | p.value &lt;dbl&gt; |\n|---|---|---|---|---|---|---|\n| 1 | Test1 - Test2 | 0.8857052 | 112.666 | Inf | 0.007861337 | 0.9937276 |\n\n\n\n\n",
            "text/latex": "\\begin{description}\n\\item[\\$emmeans] A summary\\_emm: 2 × 6\n\\begin{tabular}{r|llllll}\n  & TestDay & emmean & SE & df & asymp.LCL & asymp.UCL\\\\\n  & <fct> & <dbl> & <dbl> & <dbl> & <dbl> & <dbl>\\\\\n\\hline\n\t1 & Test1 & 3.757499 & 87.27067 & Inf & -167.2899 & 174.8049\\\\\n\t2 & Test2 & 2.871793 & 71.25625 & Inf & -136.7879 & 142.5315\\\\\n\\end{tabular}\n\n\\item[\\$contrasts] A summary\\_emm: 1 × 6\n\\begin{tabular}{r|llllll}\n  & contrast & estimate & SE & df & z.ratio & p.value\\\\\n  & <chr> & <dbl> & <dbl> & <dbl> & <dbl> & <dbl>\\\\\n\\hline\n\t1 & Test1 - Test2 & 0.8857052 & 112.666 & Inf & 0.007861337 & 0.9937276\\\\\n\\end{tabular}\n\n\\end{description}\n",
            "text/plain": [
              "$emmeans\n",
              " TestDay emmean   SE  df asymp.LCL asymp.UCL\n",
              " Test1     3.76 87.3 Inf      -167       175\n",
              " Test2     2.87 71.3 Inf      -137       143\n",
              "\n",
              "Results are averaged over the levels of: ChatbotID, ExamDomain \n",
              "Results are given on the logit (not the response) scale. \n",
              "Confidence level used: 0.95 \n",
              "\n",
              "$contrasts\n",
              " contrast      estimate  SE  df z.ratio p.value\n",
              " Test1 - Test2    0.886 113 Inf   0.008  0.9937\n",
              "\n",
              "Results are averaged over the levels of: ChatbotID, ExamDomain \n",
              "Results are given on the log odds ratio (not the response) scale. \n"
            ]
          },
          "metadata": {}
        },
        {
          "output_type": "stream",
          "name": "stdout",
          "text": [
            "\n",
            "\n",
            " Pairwise comparisons for ExamDomain for GLM_Model_1 \n"
          ]
        },
        {
          "output_type": "display_data",
          "data": {
            "text/html": [
              "<dl>\n",
              "\t<dt>$emmeans</dt>\n",
              "\t\t<dd><table class=\"dataframe\">\n",
              "<caption>A summary_emm: 3 × 6</caption>\n",
              "<thead>\n",
              "\t<tr><th></th><th scope=col>ExamDomain</th><th scope=col>emmean</th><th scope=col>SE</th><th scope=col>df</th><th scope=col>asymp.LCL</th><th scope=col>asymp.UCL</th></tr>\n",
              "\t<tr><th></th><th scope=col>&lt;fct&gt;</th><th scope=col>&lt;dbl&gt;</th><th scope=col>&lt;dbl&gt;</th><th scope=col>&lt;dbl&gt;</th><th scope=col>&lt;dbl&gt;</th><th scope=col>&lt;dbl&gt;</th></tr>\n",
              "</thead>\n",
              "<tbody>\n",
              "\t<tr><th scope=row>1</th><td>A</td><td>1.7301617</td><td>  0.1054083</td><td>Inf</td><td>   1.5235653</td><td>  1.9367582</td></tr>\n",
              "\t<tr><th scope=row>2</th><td>B</td><td>0.6308333</td><td>  0.1024899</td><td>Inf</td><td>   0.4299567</td><td>  0.8317099</td></tr>\n",
              "\t<tr><th scope=row>3</th><td>C</td><td>7.5829429</td><td>168.9989056</td><td>Inf</td><td>-323.6488255</td><td>338.8147113</td></tr>\n",
              "</tbody>\n",
              "</table>\n",
              "</dd>\n",
              "\t<dt>$contrasts</dt>\n",
              "\t\t<dd><table class=\"dataframe\">\n",
              "<caption>A summary_emm: 3 × 6</caption>\n",
              "<thead>\n",
              "\t<tr><th></th><th scope=col>contrast</th><th scope=col>estimate</th><th scope=col>SE</th><th scope=col>df</th><th scope=col>z.ratio</th><th scope=col>p.value</th></tr>\n",
              "\t<tr><th></th><th scope=col>&lt;chr&gt;</th><th scope=col>&lt;dbl&gt;</th><th scope=col>&lt;dbl&gt;</th><th scope=col>&lt;dbl&gt;</th><th scope=col>&lt;dbl&gt;</th><th scope=col>&lt;dbl&gt;</th></tr>\n",
              "</thead>\n",
              "<tbody>\n",
              "\t<tr><th scope=row>1</th><td>A - B</td><td> 1.099328</td><td>  0.1470207</td><td>Inf</td><td> 7.47736958</td><td>2.470246e-13</td></tr>\n",
              "\t<tr><th scope=row>2</th><td>A - C</td><td>-5.852781</td><td>168.9989385</td><td>Inf</td><td>-0.03463206</td><td>9.993390e-01</td></tr>\n",
              "\t<tr><th scope=row>3</th><td>B - C</td><td>-6.952110</td><td>168.9989367</td><td>Inf</td><td>-0.04113700</td><td>9.990675e-01</td></tr>\n",
              "</tbody>\n",
              "</table>\n",
              "</dd>\n",
              "</dl>\n"
            ],
            "text/markdown": "$emmeans\n:   \nA summary_emm: 3 × 6\n\n| <!--/--> | ExamDomain &lt;fct&gt; | emmean &lt;dbl&gt; | SE &lt;dbl&gt; | df &lt;dbl&gt; | asymp.LCL &lt;dbl&gt; | asymp.UCL &lt;dbl&gt; |\n|---|---|---|---|---|---|---|\n| 1 | A | 1.7301617 |   0.1054083 | Inf |    1.5235653 |   1.9367582 |\n| 2 | B | 0.6308333 |   0.1024899 | Inf |    0.4299567 |   0.8317099 |\n| 3 | C | 7.5829429 | 168.9989056 | Inf | -323.6488255 | 338.8147113 |\n\n\n$contrasts\n:   \nA summary_emm: 3 × 6\n\n| <!--/--> | contrast &lt;chr&gt; | estimate &lt;dbl&gt; | SE &lt;dbl&gt; | df &lt;dbl&gt; | z.ratio &lt;dbl&gt; | p.value &lt;dbl&gt; |\n|---|---|---|---|---|---|---|\n| 1 | A - B |  1.099328 |   0.1470207 | Inf |  7.47736958 | 2.470246e-13 |\n| 2 | A - C | -5.852781 | 168.9989385 | Inf | -0.03463206 | 9.993390e-01 |\n| 3 | B - C | -6.952110 | 168.9989367 | Inf | -0.04113700 | 9.990675e-01 |\n\n\n\n\n",
            "text/latex": "\\begin{description}\n\\item[\\$emmeans] A summary\\_emm: 3 × 6\n\\begin{tabular}{r|llllll}\n  & ExamDomain & emmean & SE & df & asymp.LCL & asymp.UCL\\\\\n  & <fct> & <dbl> & <dbl> & <dbl> & <dbl> & <dbl>\\\\\n\\hline\n\t1 & A & 1.7301617 &   0.1054083 & Inf &    1.5235653 &   1.9367582\\\\\n\t2 & B & 0.6308333 &   0.1024899 & Inf &    0.4299567 &   0.8317099\\\\\n\t3 & C & 7.5829429 & 168.9989056 & Inf & -323.6488255 & 338.8147113\\\\\n\\end{tabular}\n\n\\item[\\$contrasts] A summary\\_emm: 3 × 6\n\\begin{tabular}{r|llllll}\n  & contrast & estimate & SE & df & z.ratio & p.value\\\\\n  & <chr> & <dbl> & <dbl> & <dbl> & <dbl> & <dbl>\\\\\n\\hline\n\t1 & A - B &  1.099328 &   0.1470207 & Inf &  7.47736958 & 2.470246e-13\\\\\n\t2 & A - C & -5.852781 & 168.9989385 & Inf & -0.03463206 & 9.993390e-01\\\\\n\t3 & B - C & -6.952110 & 168.9989367 & Inf & -0.04113700 & 9.990675e-01\\\\\n\\end{tabular}\n\n\\end{description}\n",
            "text/plain": [
              "$emmeans\n",
              " ExamDomain emmean      SE  df asymp.LCL asymp.UCL\n",
              " A           1.730   0.105 Inf      1.52     1.937\n",
              " B           0.631   0.102 Inf      0.43     0.832\n",
              " C           7.583 169.000 Inf   -323.65   338.815\n",
              "\n",
              "Results are averaged over the levels of: ChatbotID, TestDay \n",
              "Results are given on the logit (not the response) scale. \n",
              "Confidence level used: 0.95 \n",
              "\n",
              "$contrasts\n",
              " contrast estimate      SE  df z.ratio p.value\n",
              " A - B        1.10   0.147 Inf   7.477  <.0001\n",
              " A - C       -5.85 169.000 Inf  -0.035  0.9993\n",
              " B - C       -6.95 169.000 Inf  -0.041  0.9991\n",
              "\n",
              "Results are averaged over the levels of: ChatbotID, TestDay \n",
              "Results are given on the log odds ratio (not the response) scale. \n",
              "P value adjustment: tukey method for comparing a family of 3 estimates \n"
            ]
          },
          "metadata": {}
        }
      ]
    },
    {
      "cell_type": "code",
      "source": [
        "# Get estimated marginal means for ChatbotID\n",
        "GLMmodel_emmeans_ChatbotID <- emmeans(GLM_Model_1, ~ ChatbotID)\n",
        "cat(\"\\n\\n Pairwise comparisons for ChatbotID \\n\")\n",
        "pairs(GLMmodel_emmeans_ChatbotID, adjust = \"bonferroni\")\n",
        "\n",
        "# Get estimated marginal means for TestDay\n",
        "GLMmodel_emmeans_TestDay <- emmeans(GLM_Model_1, ~ TestDay)\n",
        "cat(\"\\n\\n Pairwise comparisons for TestDay \\n\")\n",
        "pairs(GLMmodel_emmeans_TestDay, adjust = \"bonferroni\")\n",
        "\n",
        "# Get estimated marginal means for ExamDomain\n",
        "GLMmodel_emmeans_ExamDomain <- emmeans(GLM_Model_1, ~ ExamDomain)\n",
        "cat(\"\\n\\n Pairwise comparisons for ExamDomain \\n\")\n",
        "pairs(GLMmodel_emmeans_ExamDomain, adjust = \"bonferroni\")"
      ],
      "metadata": {
        "colab": {
          "base_uri": "https://localhost:8080/",
          "height": 850
        },
        "id": "Z-uNwZRICK7P",
        "outputId": "cee767be-2ef6-4741-9ab4-c7e0c53ceda9"
      },
      "execution_count": 41,
      "outputs": [
        {
          "output_type": "stream",
          "name": "stderr",
          "text": [
            "NOTE: Results may be misleading due to involvement in interactions\n",
            "\n"
          ]
        },
        {
          "output_type": "stream",
          "name": "stdout",
          "text": [
            "\n",
            "\n",
            " Pairwise comparisons for ChatbotID \n"
          ]
        },
        {
          "output_type": "display_data",
          "data": {
            "text/plain": [
              " contrast            estimate      SE  df z.ratio p.value\n",
              " ChatbotA - ChatbotB  -3.0084 151.000 Inf  -0.020  1.0000\n",
              " ChatbotA - ChatbotC   0.0725   0.316 Inf   0.230  1.0000\n",
              " ChatbotA - ChatbotD  -0.1636   0.337 Inf  -0.485  1.0000\n",
              " ChatbotA - ChatbotE  -5.8344 214.000 Inf  -0.027  1.0000\n",
              " ChatbotA - ChatbotF  -5.9891 214.000 Inf  -0.028  1.0000\n",
              " ChatbotB - ChatbotC   3.0809 151.000 Inf   0.020  1.0000\n",
              " ChatbotB - ChatbotD   2.8448 151.000 Inf   0.019  1.0000\n",
              " ChatbotB - ChatbotE  -2.8260 262.000 Inf  -0.011  1.0000\n",
              " ChatbotB - ChatbotF  -2.9807 262.000 Inf  -0.011  1.0000\n",
              " ChatbotC - ChatbotD  -0.2361   0.336 Inf  -0.703  1.0000\n",
              " ChatbotC - ChatbotE  -5.9069 214.000 Inf  -0.028  1.0000\n",
              " ChatbotC - ChatbotF  -6.0616 214.000 Inf  -0.028  1.0000\n",
              " ChatbotD - ChatbotE  -5.6708 214.000 Inf  -0.027  1.0000\n",
              " ChatbotD - ChatbotF  -5.8255 214.000 Inf  -0.027  1.0000\n",
              " ChatbotE - ChatbotF  -0.1547 302.000 Inf  -0.001  1.0000\n",
              "\n",
              "Results are averaged over the levels of: TestDay, ExamDomain \n",
              "Results are given on the log odds ratio (not the response) scale. \n",
              "P value adjustment: bonferroni method for 15 tests "
            ]
          },
          "metadata": {}
        },
        {
          "output_type": "stream",
          "name": "stderr",
          "text": [
            "NOTE: Results may be misleading due to involvement in interactions\n",
            "\n"
          ]
        },
        {
          "output_type": "stream",
          "name": "stdout",
          "text": [
            "\n",
            "\n",
            " Pairwise comparisons for TestDay \n"
          ]
        },
        {
          "output_type": "display_data",
          "data": {
            "text/plain": [
              " contrast      estimate  SE  df z.ratio p.value\n",
              " Test1 - Test2    0.886 113 Inf   0.008  0.9937\n",
              "\n",
              "Results are averaged over the levels of: ChatbotID, ExamDomain \n",
              "Results are given on the log odds ratio (not the response) scale. "
            ]
          },
          "metadata": {}
        },
        {
          "output_type": "stream",
          "name": "stderr",
          "text": [
            "NOTE: Results may be misleading due to involvement in interactions\n",
            "\n"
          ]
        },
        {
          "output_type": "stream",
          "name": "stdout",
          "text": [
            "\n",
            "\n",
            " Pairwise comparisons for ExamDomain \n"
          ]
        },
        {
          "output_type": "display_data",
          "data": {
            "text/plain": [
              " contrast estimate      SE  df z.ratio p.value\n",
              " A - B        1.10   0.147 Inf   7.477  <.0001\n",
              " A - C       -5.85 169.000 Inf  -0.035  1.0000\n",
              " B - C       -6.95 169.000 Inf  -0.041  1.0000\n",
              "\n",
              "Results are averaged over the levels of: ChatbotID, TestDay \n",
              "Results are given on the log odds ratio (not the response) scale. \n",
              "P value adjustment: bonferroni method for 3 tests "
            ]
          },
          "metadata": {}
        }
      ]
    },
    {
      "cell_type": "markdown",
      "source": [
        "#### Statistical power"
      ],
      "metadata": {
        "id": "MDbWv8Iv52ZC"
      }
    },
    {
      "cell_type": "code",
      "source": [
        "# Calculate power\n",
        "effect_size <- 0.15 # Assume a medium effect size (f2 = 0.15) as a starting point\n",
        "alpha <- 0.05\n",
        "sample_size <- nrow(Experiment2_forLMM)\n",
        "num_predictors <- length(coef(GLM_Model_1)) - 1 # Exclude Intercept\n",
        "\n",
        "# Calculate power\n",
        "power_GLM_Model_1 <- pwr.f2.test(u = num_predictors,\n",
        "                            v = sample_size - num_predictors - 1,\n",
        "                            f2 = effect_size,\n",
        "                            sig.level = alpha)\n",
        "\n",
        "# Print result\n",
        "print(power_GLM_Model_1)"
      ],
      "metadata": {
        "colab": {
          "base_uri": "https://localhost:8080/"
        },
        "id": "fV9iFd6953QI",
        "outputId": "1b17136e-18d4-48f9-b0c7-e49862fd6fa3"
      },
      "execution_count": 42,
      "outputs": [
        {
          "output_type": "stream",
          "name": "stdout",
          "text": [
            "\n",
            "     Multiple regression power calculation \n",
            "\n",
            "              u = 35\n",
            "              v = 1296\n",
            "             f2 = 0.15\n",
            "      sig.level = 0.05\n",
            "          power = 1\n",
            "\n"
          ]
        }
      ]
    },
    {
      "cell_type": "markdown",
      "source": [
        "### ANOVA"
      ],
      "metadata": {
        "id": "ymsQMXIaBZpc"
      }
    },
    {
      "cell_type": "code",
      "source": [
        "# Repeated measures ANOVA\n",
        "anova_model <- aov(Correct_answer ~ ChatbotID * TestDay * ExamDomain, data = Experiment2_forLMM)\n",
        "cat(\"ANOVA model\")\n",
        "summary(anova_model)"
      ],
      "metadata": {
        "colab": {
          "base_uri": "https://localhost:8080/",
          "height": 225
        },
        "id": "5WRvHG8sf2zj",
        "outputId": "4321795b-118b-447e-f35e-9503a0f959e7"
      },
      "execution_count": 43,
      "outputs": [
        {
          "output_type": "stream",
          "name": "stdout",
          "text": [
            "ANOVA model"
          ]
        },
        {
          "output_type": "display_data",
          "data": {
            "text/plain": [
              "                               Df Sum Sq Mean Sq F value   Pr(>F)    \n",
              "ChatbotID                       5   8.23   1.646  10.053 1.86e-09 ***\n",
              "TestDay                         1   0.06   0.061   0.371    0.542    \n",
              "ExamDomain                      2  11.48   5.740  35.060 1.48e-15 ***\n",
              "ChatbotID:TestDay               5   1.00   0.200   1.219    0.298    \n",
              "ChatbotID:ExamDomain           10   1.79   0.179   1.091    0.366    \n",
              "TestDay:ExamDomain              2   0.03   0.017   0.105    0.900    \n",
              "ChatbotID:TestDay:ExamDomain   10   0.40   0.040   0.246    0.991    \n",
              "Residuals                    1296 212.17   0.164                     \n",
              "---\n",
              "Signif. codes:  0 ‘***’ 0.001 ‘**’ 0.01 ‘*’ 0.05 ‘.’ 0.1 ‘ ’ 1"
            ]
          },
          "metadata": {}
        }
      ]
    },
    {
      "cell_type": "markdown",
      "source": [
        "#### Posthoc tests"
      ],
      "metadata": {
        "id": "yIdLV6LWEfxd"
      }
    },
    {
      "cell_type": "code",
      "source": [
        "# Install and load package\n",
        "# install.packages(\"emmeans\") already installed above\n",
        "# library(emmeans)\n",
        "install.packages(\"effectsize\")\n",
        "library(effectsize)"
      ],
      "metadata": {
        "colab": {
          "base_uri": "https://localhost:8080/"
        },
        "id": "3FRJR3n30AvX",
        "outputId": "ce22a124-678d-4eb5-acd6-ad15d0aaa38d"
      },
      "execution_count": 44,
      "outputs": [
        {
          "output_type": "stream",
          "name": "stderr",
          "text": [
            "Installing package into ‘/usr/local/lib/R/site-library’\n",
            "(as ‘lib’ is unspecified)\n",
            "\n",
            "also installing the dependency ‘performance’\n",
            "\n",
            "\n"
          ]
        }
      ]
    },
    {
      "cell_type": "code",
      "source": [
        "# Pairwise comparisons for ChatbotID (Bonferroni-adjusted pairwise t-tests will be used to control the family-wise error rate for multiple comparisons).\n",
        "posthoc_anova_model_ChatbotID <- emmeans(anova_model, pairwise ~ ChatbotID)\n",
        "cat(\"\\n\\n Pairwise comparisons for ChatbotID \\n\")\n",
        "print(posthoc_anova_model_ChatbotID)"
      ],
      "metadata": {
        "colab": {
          "base_uri": "https://localhost:8080/"
        },
        "id": "L9a256f69gpw",
        "outputId": "950a4159-39ea-44b5-9ad6-75bacee4126a"
      },
      "execution_count": 45,
      "outputs": [
        {
          "output_type": "stream",
          "name": "stderr",
          "text": [
            "NOTE: Results may be misleading due to involvement in interactions\n",
            "\n"
          ]
        },
        {
          "output_type": "stream",
          "name": "stdout",
          "text": [
            "\n",
            "\n",
            " Pairwise comparisons for ChatbotID \n",
            "$emmeans\n",
            " ChatbotID emmean     SE   df lower.CL upper.CL\n",
            " ChatbotA   0.684 0.0409 1296    0.603    0.764\n",
            " ChatbotB   0.809 0.0409 1296    0.729    0.889\n",
            " ChatbotC   0.675 0.0409 1296    0.595    0.756\n",
            " ChatbotD   0.712 0.0409 1296    0.632    0.792\n",
            " ChatbotE   0.878 0.0409 1296    0.798    0.959\n",
            " ChatbotF   0.913 0.0409 1296    0.832    0.993\n",
            "\n",
            "Results are averaged over the levels of: TestDay, ExamDomain \n",
            "Confidence level used: 0.95 \n",
            "\n",
            "$contrasts\n",
            " contrast            estimate     SE   df t.ratio p.value\n",
            " ChatbotA - ChatbotB -0.12539 0.0579 1296  -2.165  0.2548\n",
            " ChatbotA - ChatbotC  0.00837 0.0579 1296   0.145  1.0000\n",
            " ChatbotA - ChatbotD -0.02820 0.0579 1296  -0.487  0.9966\n",
            " ChatbotA - ChatbotE -0.19452 0.0579 1296  -3.359  0.0104\n",
            " ChatbotA - ChatbotF -0.22894 0.0579 1296  -3.954  0.0011\n",
            " ChatbotB - ChatbotC  0.13376 0.0579 1296   2.310  0.1906\n",
            " ChatbotB - ChatbotD  0.09719 0.0579 1296   1.679  0.5463\n",
            " ChatbotB - ChatbotE -0.06913 0.0579 1296  -1.194  0.8399\n",
            " ChatbotB - ChatbotF -0.10355 0.0579 1296  -1.788  0.4736\n",
            " ChatbotC - ChatbotD -0.03657 0.0579 1296  -0.632  0.9887\n",
            " ChatbotC - ChatbotE -0.20289 0.0579 1296  -3.504  0.0063\n",
            " ChatbotC - ChatbotF -0.23732 0.0579 1296  -4.098  0.0006\n",
            " ChatbotD - ChatbotE -0.16632 0.0579 1296  -2.872  0.0475\n",
            " ChatbotD - ChatbotF -0.20075 0.0579 1296  -3.467  0.0072\n",
            " ChatbotE - ChatbotF -0.03442 0.0579 1296  -0.594  0.9914\n",
            "\n",
            "Results are averaged over the levels of: TestDay, ExamDomain \n",
            "P value adjustment: tukey method for comparing a family of 6 estimates \n",
            "\n"
          ]
        }
      ]
    },
    {
      "cell_type": "code",
      "source": [
        "# Pairwise comparisons for ExamDomain (Bonferroni-adjusted pairwise t-tests will be used to control the family-wise error rate for multiple comparisons).\n",
        "posthoc_anova_model_ExamDomain <- emmeans(anova_model, pairwise ~ ExamDomain)\n",
        "cat(\"\\n\\n Pairwise comparisons for ExamDomain \\n\")\n",
        "print(posthoc_anova_model_ExamDomain)"
      ],
      "metadata": {
        "colab": {
          "base_uri": "https://localhost:8080/"
        },
        "id": "IYi9H5Ri9nRZ",
        "outputId": "bd102ca5-7381-430a-fa84-0681d10073d9"
      },
      "execution_count": 46,
      "outputs": [
        {
          "output_type": "stream",
          "name": "stderr",
          "text": [
            "NOTE: Results may be misleading due to involvement in interactions\n",
            "\n"
          ]
        },
        {
          "output_type": "stream",
          "name": "stdout",
          "text": [
            "\n",
            "\n",
            " Pairwise comparisons for ExamDomain \n",
            "$emmeans\n",
            " ExamDomain emmean     SE   df lower.CL upper.CL\n",
            " A           0.836 0.0144 1296    0.808    0.864\n",
            " B           0.643 0.0189 1296    0.605    0.680\n",
            " C           0.857 0.0441 1296    0.771    0.944\n",
            "\n",
            "Results are averaged over the levels of: ChatbotID, TestDay \n",
            "Confidence level used: 0.95 \n",
            "\n",
            "$contrasts\n",
            " contrast estimate     SE   df t.ratio p.value\n",
            " A - B      0.1933 0.0238 1296   8.128  <.0001\n",
            " A - C     -0.0213 0.0464 1296  -0.458  0.8907\n",
            " B - C     -0.2146 0.0480 1296  -4.467  <.0001\n",
            "\n",
            "Results are averaged over the levels of: ChatbotID, TestDay \n",
            "P value adjustment: tukey method for comparing a family of 3 estimates \n",
            "\n"
          ]
        }
      ]
    },
    {
      "cell_type": "markdown",
      "source": [
        "#### Effect sizes and Statistical power"
      ],
      "metadata": {
        "id": "NtVpH6eLTqSz"
      }
    },
    {
      "cell_type": "markdown",
      "source": [
        "##### Effect for overall ANOVA model"
      ],
      "metadata": {
        "id": "exSNpo4dMgj9"
      }
    },
    {
      "cell_type": "code",
      "source": [
        "# Compute partial eta-squared\n",
        "eta_squared_results_anova_model <- eta_squared(anova_model)\n",
        "# View the results\n",
        "cat(\"\\n\\n Partial eta-squared for overall ANOVA\\n\")\n",
        "print(eta_squared_results_anova_model)"
      ],
      "metadata": {
        "colab": {
          "base_uri": "https://localhost:8080/"
        },
        "id": "CuXTAMVjCetJ",
        "outputId": "b663f1fd-e9cf-4198-907a-3b72874fea3e"
      },
      "execution_count": 47,
      "outputs": [
        {
          "output_type": "stream",
          "name": "stdout",
          "text": [
            "\n",
            "\n",
            " Partial eta-squared for overall ANOVA\n",
            "\u001b[34m# Effect Size for ANOVA (Type I)\u001b[39m\n",
            "\n",
            "Parameter                    | Eta2 (partial) |       95% CI\n",
            "------------------------------------------------------------\n",
            "ChatbotID                    |           0.04 | [0.02, 1.00]\n",
            "TestDay                      |       2.87e-04 | [0.00, 1.00]\n",
            "ExamDomain                   |           0.05 | [0.03, 1.00]\n",
            "ChatbotID:TestDay            |       4.68e-03 | [0.00, 1.00]\n",
            "ChatbotID:ExamDomain         |       8.35e-03 | [0.00, 1.00]\n",
            "TestDay:ExamDomain           |       1.62e-04 | [0.00, 1.00]\n",
            "ChatbotID:TestDay:ExamDomain |       1.90e-03 | [0.00, 1.00]\n",
            "\u001b[36m\n",
            "- One-sided CIs: upper bound fixed at [1.00].\u001b[39m"
          ]
        }
      ]
    },
    {
      "cell_type": "markdown",
      "source": [
        "##### Effect sizes and power for each ChatbotID contrast"
      ],
      "metadata": {
        "id": "a4YUK4DoMm54"
      }
    },
    {
      "cell_type": "code",
      "source": [
        "# Calcuate odds for each chatbot as odds = probability of correct / 1 - prob of incorrect\n",
        "# extract emmeans\n",
        "emmeans_table_ChatbotID <- as.data.frame(posthoc_anova_model_ChatbotID$emmeans)\n",
        "\n",
        "# add odds columns\n",
        "emmeans_table_ChatbotID$odds <- emmeans_table_ChatbotID$emmean / (1 - emmeans_table_ChatbotID$emmean)\n",
        "\n",
        "# add variance of log odds column (will help calculate SE of odds ratio later)\n",
        "emmeans_table_ChatbotID$var_log_odds <- (emmeans_table_ChatbotID$SE /\n",
        "                                         (emmeans_table_ChatbotID$emmean *\n",
        "                                          (1 - emmeans_table_ChatbotID$emmean)))^2\n",
        "\n",
        "# print table\n",
        "print(emmeans_table_ChatbotID)"
      ],
      "metadata": {
        "colab": {
          "base_uri": "https://localhost:8080/"
        },
        "id": "I0PXFZLvNwuL",
        "outputId": "c6022727-8b3e-420d-9d5c-2a9e2b889a9b"
      },
      "execution_count": 48,
      "outputs": [
        {
          "output_type": "stream",
          "name": "stdout",
          "text": [
            " ChatbotID    emmean         SE   df  lower.CL  upper.CL      odds var_log_odds\n",
            " ChatbotA  0.6837359 0.04094447 1296 0.6034112 0.7640606  2.161914   0.03585204\n",
            " ChatbotB  0.8091251 0.04094447 1296 0.7288004 0.8894498  4.239033   0.07028481\n",
            " ChatbotC  0.6753626 0.04094447 1296 0.5950379 0.7556874  2.080360   0.03487542\n",
            " ChatbotD  0.7119313 0.04094447 1296 0.6316066 0.7922560  2.471395   0.03985862\n",
            " ChatbotE  0.8782562 0.04094447 1296 0.7979315 0.9585809  7.213974   0.14664074\n",
            " ChatbotF  0.9126794 0.04094447 1296 0.8323547 0.9930041 10.452055   0.26394949\n",
            "\n",
            "Results are averaged over the levels of: TestDay, ExamDomain \n",
            "Confidence level used: 0.95 \n"
          ]
        }
      ]
    },
    {
      "cell_type": "code",
      "source": [
        "# Now calculate the odds ratio for each pairwise contrast\n",
        "# Create all pairwise combinations of ChatbotID\n",
        "contrast_pairs_ChatbotID <- combn(emmeans_table_ChatbotID$ChatbotID, 2, simplify = FALSE)\n",
        "\n",
        "# Calculate odds ratios for each contrast\n",
        "contrast_results_ChatbotID <- lapply(contrast_pairs_ChatbotID, function(pair) {\n",
        "  odds1 <- emmeans_table_ChatbotID$odds[emmeans_table_ChatbotID$ChatbotID == pair[1]]\n",
        "  odds2 <- emmeans_table_ChatbotID$odds[emmeans_table_ChatbotID$ChatbotID == pair[2]]\n",
        "  odds_ratio <- odds1 / odds2\n",
        "  var_log_odds1 <- emmeans_table_ChatbotID$var_log_odds[emmeans_table_ChatbotID$ChatbotID == pair[1]]\n",
        "  var_log_odds2 <- emmeans_table_ChatbotID$var_log_odds[emmeans_table_ChatbotID$ChatbotID == pair[2]]\n",
        "  se_log_odds_ratio <- sqrt(var_log_odds1 + var_log_odds2)\n",
        "  se_odds_ratio <- odds_ratio * se_log_odds_ratio\n",
        "  # Calculate confidence interval in the log scale\n",
        "  log_odds_ratio <- log(odds_ratio)\n",
        "  lower_log <- log_odds_ratio - 1.96 * se_log_odds_ratio\n",
        "  upper_log <- log_odds_ratio + 1.96 * se_log_odds_ratio\n",
        "  # Transform back to the odds ratio scale\n",
        "  lower_CI_odds_ratio <- exp(lower_log)\n",
        "  upper_CI_odds_ratio <- exp(upper_log)\n",
        "  data.frame(\n",
        "    contrast = paste(pair[1], \"/\", pair[2]),\n",
        "    odds_ratio = odds_ratio,\n",
        "    odds_ratio_SE = se_odds_ratio,\n",
        "    odds_ratio_lower_CI = lower_CI_odds_ratio,\n",
        "    odds_ratio_upper_CI = upper_CI_odds_ratio\n",
        "  )\n",
        "})\n",
        "\n",
        "# Combine all results into a single data frame\n",
        "oddsratio_ChatbotID <- do.call(rbind, contrast_results_ChatbotID)\n",
        "\n",
        "# extract p.values from $contrasts\n",
        "contrasts_table_ChatbotID <- as.data.frame(posthoc_anova_model_ChatbotID$contrasts)\n",
        "# Extract p.value column\n",
        "p_values <- contrasts_table_ChatbotID$p.value\n",
        "# Append p.value to oddsratio_ChatbotID\n",
        "oddsratio_ChatbotID$p.value <- p_values\n",
        "\n",
        "# Add Cohen's d effect size column\n",
        "oddsratio_ChatbotID$cohensD <- oddsratio_ChatbotID$odds_ratio / (oddsratio_ChatbotID$odds_ratio_SE * sqrt(2))\n",
        "\n",
        "# Display the result\n",
        "print(oddsratio_ChatbotID)"
      ],
      "metadata": {
        "colab": {
          "base_uri": "https://localhost:8080/"
        },
        "id": "5bRzNn6uMF5F",
        "outputId": "87e9474b-6542-4931-c163-457c588a657d"
      },
      "execution_count": 49,
      "outputs": [
        {
          "output_type": "stream",
          "name": "stdout",
          "text": [
            "              contrast odds_ratio odds_ratio_SE odds_ratio_lower_CI\n",
            "1  ChatbotA / ChatbotB  0.5100017     0.1661517          0.26931250\n",
            "2  ChatbotA / ChatbotC  1.0392017     0.2763719          0.61705196\n",
            "3  ChatbotA / ChatbotD  0.8747749     0.2406993          0.51012784\n",
            "4  ChatbotA / ChatbotE  0.2996842     0.1280226          0.12972715\n",
            "5  ChatbotA / ChatbotF  0.2068410     0.1132540          0.07072291\n",
            "6  ChatbotB / ChatbotC  2.0376438     0.6607756          1.07917528\n",
            "7  ChatbotB / ChatbotD  1.7152392     0.5692513          0.89500179\n",
            "8  ChatbotB / ChatbotE  0.5876142     0.2736829          0.23584983\n",
            "9  ChatbotB / ChatbotF  0.4055694     0.2344718          0.13060233\n",
            "10 ChatbotC / ChatbotD  0.8417758     0.2301207          0.49260034\n",
            "11 ChatbotC / ChatbotE  0.2883792     0.1228631          0.12511384\n",
            "12 ChatbotC / ChatbotF  0.1990384     0.1088041          0.06817420\n",
            "13 ChatbotD / ChatbotE  0.3425844     0.1479470          0.14694829\n",
            "14 ChatbotD / ChatbotF  0.2364506     0.1303287          0.08027121\n",
            "15 ChatbotE / ChatbotF  0.6901967     0.4422595          0.19657839\n",
            "   odds_ratio_upper_CI      p.value  cohensD\n",
            "1            0.9657988 0.2547854083 2.170461\n",
            "2            1.7501608 0.9999912239 2.658832\n",
            "3            1.5000770 0.9966282442 2.569842\n",
            "4            0.6923039 0.0104104769 1.655245\n",
            "5            0.6049414 0.0011392476 1.291422\n",
            "6            3.8473751 0.1906147035 2.180516\n",
            "7            3.2871953 0.5463044347 2.130619\n",
            "8            1.4640265 0.8399178810 1.518202\n",
            "9            1.2594453 0.4736217490 1.223093\n",
            "10           1.4384613 0.9886704928 2.586579\n",
            "11           0.6646953 0.0062959751 1.659691\n",
            "12           0.5811038 0.0006286319 1.293530\n",
            "13           0.7986759 0.0474711223 1.637368\n",
            "14           0.6964999 0.0071777272 1.282878\n",
            "15           2.4233157 0.9914171910 1.103521\n"
          ]
        }
      ]
    },
    {
      "cell_type": "code",
      "source": [
        "# Add columns to calculate Cohen's H and Power for ChatbotID Comparisons\n",
        "# NOTE: for binary outcomes (e.g. Correct_answer), need to compute the odds ratios and Cohen's H for the pairwise contrasts\n",
        "posthoc_ChatbotID_EffectPower <- oddsratio_ChatbotID %>%\n",
        "  mutate(\n",
        "    odds_ratio_lower_CI = exp(odds_ratio - 1.96 * odds_ratio_SE),  # Lower bound of CI\n",
        "    odds_ratio_upper_CI = exp(odds_ratio + 1.96 * odds_ratio_SE),   # Upper bound of CI\n",
        "    cohens_h = 2 * asin(sqrt(odds_ratio / (1 + odds_ratio))),  # # Calculate Cohen's H for each contrast. Simplified formula for binary proportions\n",
        "    cohens_h_SE = 2 * sqrt(1 / (odds_ratio * (1 + odds_ratio))), # Calculate the standard error for Cohen’s H (SE(H)) using the contrast standard errors\n",
        "    cohens_h_lower_CI = cohens_h - 1.96 * cohens_h_SE, # Calculate the 95% confidence intervals for Cohen's H\n",
        "    cohens_h_upper_CI = cohens_h + 1.96 * cohens_h_SE,\n",
        "    interpretation = case_when(\n",
        "      cohens_h < 0.2 ~ \"Trivial effect\",\n",
        "      cohens_h >= 0.2 & cohens_h < 0.5 ~ \"Small effect\",\n",
        "      cohens_h >= 0.5 & cohens_h < 0.8 ~ \"Moderate effect\",\n",
        "      cohens_h >= 0.8 ~ \"Large effect\"\n",
        "    ),\n",
        "    Power = map_dbl(cohens_h, ~ pwr.p.test(h = ., n = 6, sig.level = 0.05, alternative = \"two.sided\")$power)\n",
        "  )\n",
        "\n",
        "# Print the contrasts table\n",
        "cat(\"\\n\\n Cohen's H and Statistical power for ChatbotID Comparisons: \\n\")\n",
        "print(posthoc_ChatbotID_EffectPower)"
      ],
      "metadata": {
        "colab": {
          "base_uri": "https://localhost:8080/"
        },
        "id": "1Yx-ATFpPTQM",
        "outputId": "414fa9ec-c8d0-4e24-9199-42cc4d1711db"
      },
      "execution_count": 50,
      "outputs": [
        {
          "output_type": "stream",
          "name": "stdout",
          "text": [
            "\n",
            "\n",
            " Cohen's H and Statistical power for ChatbotID Comparisons: \n",
            "              contrast odds_ratio odds_ratio_SE odds_ratio_lower_CI\n",
            "1  ChatbotA / ChatbotB  0.5100017     0.1661517           1.2024299\n",
            "2  ChatbotA / ChatbotC  1.0392017     0.2763719           1.6446256\n",
            "3  ChatbotA / ChatbotD  0.8747749     0.2406993           1.4963132\n",
            "4  ChatbotA / ChatbotE  0.2996842     0.1280226           1.0499682\n",
            "5  ChatbotA / ChatbotF  0.2068410     0.1132540           0.9849771\n",
            "6  ChatbotB / ChatbotC  2.0376438     0.6607756           2.1012313\n",
            "7  ChatbotB / ChatbotD  1.7152392     0.5692513           1.8212203\n",
            "8  ChatbotB / ChatbotE  0.5876142     0.2736829           1.0525289\n",
            "9  ChatbotB / ChatbotF  0.4055694     0.2344718           0.9474365\n",
            "10 ChatbotC / ChatbotD  0.8417758     0.2301207           1.4780731\n",
            "11 ChatbotC / ChatbotE  0.2883792     0.1228631           1.0487170\n",
            "12 ChatbotC / ChatbotF  0.1990384     0.1088041           0.9858830\n",
            "13 ChatbotD / ChatbotE  0.3425844     0.1479470           1.0540166\n",
            "14 ChatbotD / ChatbotF  0.2364506     0.1303287           0.9811856\n",
            "15 ChatbotE / ChatbotF  0.6901967     0.4422595           0.8380882\n",
            "   odds_ratio_upper_CI      p.value  cohensD  cohens_h cohens_h_SE\n",
            "1             2.306333 0.2547854083 2.170461 1.2403113   2.2790586\n",
            "2             4.859282 0.9999912239 2.658832 1.5900215   1.3738837\n",
            "3             3.844123 0.9966282442 2.569842 1.5039518   1.5617348\n",
            "4             1.734308 0.0104104769 1.655245 1.0017423   3.2046393\n",
            "5             1.535443 0.0011392476 1.291422 0.8536732   4.0030093\n",
            "6            28.015670 0.1906147035 2.180516 1.9194097   0.8038915\n",
            "7            16.961935 0.5463044347 2.130619 1.8373586   0.9267521\n",
            "8             3.077238 0.8399178810 1.518202 1.3080310   2.0706724\n",
            "9             2.375325 0.4736217490 1.223093 1.1341411   2.6489349\n",
            "10            3.643018 0.9886704928 2.586579 1.4847818   1.6062509\n",
            "11            1.697558 0.0062959751 1.659691 0.9856301   3.2811504\n",
            "12            1.510279 0.0006286319 1.293530 0.8392740   4.0939734\n",
            "13            1.882424 0.0474711223 1.637368 1.0590916   2.9490045\n",
            "14            1.635412 0.0071777272 1.282878 0.9051936   3.6988898\n",
            "15            4.744687 0.9914171910 1.103521 1.3864599   1.8517183\n",
            "   cohens_h_lower_CI cohens_h_upper_CI interpretation     Power\n",
            "1        -3.22664356          5.707266   Large effect 0.8595204\n",
            "2        -1.10279058          4.282834   Large effect 0.9734912\n",
            "3        -1.55704844          4.564952   Large effect 0.9576416\n",
            "4        -5.27935078          7.282835   Large effect 0.6892791\n",
            "5        -6.99222504          8.699571   Large effect 0.5521773\n",
            "6         0.34378235          3.495037   Large effect 0.9969431\n",
            "7         0.02092439          3.653793   Large effect 0.9944673\n",
            "8        -2.75048684          5.366549   Large effect 0.8932585\n",
            "9        -4.05777139          6.326054   Large effect 0.7933519\n",
            "10       -1.66346999          4.633034   Large effect 0.9532282\n",
            "11       -5.44542473          7.416685   Large effect 0.6752093\n",
            "12       -7.18491382          8.863462   Large effect 0.5382014\n",
            "13       -4.72095710          6.839140   Large effect 0.7370504\n",
            "14       -6.34463041          8.155018   Large effect 0.6015406\n",
            "15       -2.24290803          5.015828   Large effect 0.9245210\n"
          ]
        }
      ]
    },
    {
      "cell_type": "markdown",
      "source": [
        "##### Effect sizes and power for each Examdomain contrast"
      ],
      "metadata": {
        "id": "Zji6bbrTMsOB"
      }
    },
    {
      "cell_type": "code",
      "source": [
        "# Calcuate odds for each chatbot as odds = probability of correct / 1 - prob of incorrect\n",
        "# extract emmeans\n",
        "emmeans_table_ExamDomain <- as.data.frame(posthoc_anova_model_ExamDomain$emmeans)\n",
        "\n",
        "# add odds columns\n",
        "emmeans_table_ExamDomain$odds <- emmeans_table_ExamDomain$emmean / (1 - emmeans_table_ExamDomain$emmean)\n",
        "\n",
        "# add variance of log odds column (will help calculate SE of odds ratio later)\n",
        "emmeans_table_ExamDomain$var_log_odds <- (emmeans_table_ExamDomain$SE /\n",
        "                                         (emmeans_table_ExamDomain$emmean *\n",
        "                                          (1 - emmeans_table_ExamDomain$emmean)))^2\n",
        "\n",
        "# print table\n",
        "print(emmeans_table_ExamDomain)"
      ],
      "metadata": {
        "colab": {
          "base_uri": "https://localhost:8080/"
        },
        "id": "aIBiE1sMMuzK",
        "outputId": "9eed0962-940b-4476-b403-71a1b1cff2e7"
      },
      "execution_count": 51,
      "outputs": [
        {
          "output_type": "stream",
          "name": "stdout",
          "text": [
            " ExamDomain    emmean         SE   df  lower.CL  upper.CL     odds var_log_odds\n",
            " A          0.8358586 0.01437730 1296 0.8076532 0.8640639 5.092308   0.01098128\n",
            " B          0.6425439 0.01894775 1296 0.6053722 0.6797155 1.797546   0.00680556\n",
            " C          0.8571429 0.04414692 1296 0.7705356 0.9437501 6.000000   0.12998417\n",
            "\n",
            "Results are averaged over the levels of: ChatbotID, TestDay \n",
            "Confidence level used: 0.95 \n"
          ]
        }
      ]
    },
    {
      "cell_type": "code",
      "source": [
        "# Now calculate the odds ratio for each pairwise contrast\n",
        "# Create all pairwise combinations of ExamDomain\n",
        "contrast_pairs_ExamDomain <- combn(emmeans_table_ExamDomain$ExamDomain, 2, simplify = FALSE)\n",
        "\n",
        "# Calculate odds ratios for each contrast\n",
        "contrast_results_ExamDomain <- lapply(contrast_pairs_ExamDomain, function(pair) {\n",
        "  odds1 <- emmeans_table_ExamDomain$odds[emmeans_table_ExamDomain$ExamDomain == pair[1]]\n",
        "  odds2 <- emmeans_table_ExamDomain$odds[emmeans_table_ExamDomain$ExamDomain == pair[2]]\n",
        "  odds_ratio <- odds1 / odds2\n",
        "  var_log_odds1 <- emmeans_table_ExamDomain$var_log_odds[emmeans_table_ExamDomain$ExamDomain == pair[1]]\n",
        "  var_log_odds2 <- emmeans_table_ExamDomain$var_log_odds[emmeans_table_ExamDomain$ExamDomain == pair[2]]\n",
        "  se_log_odds_ratio <- sqrt(var_log_odds1 + var_log_odds2)\n",
        "  se_odds_ratio <- odds_ratio * se_log_odds_ratio\n",
        "  # Calculate confidence interval in the log scale\n",
        "  log_odds_ratio <- log(odds_ratio)\n",
        "  lower_log <- log_odds_ratio - 1.96 * se_log_odds_ratio\n",
        "  upper_log <- log_odds_ratio + 1.96 * se_log_odds_ratio\n",
        "  # Transform back to the odds ratio scale\n",
        "  lower_CI_odds_ratio <- exp(lower_log)\n",
        "  upper_CI_odds_ratio <- exp(upper_log)\n",
        "  data.frame(\n",
        "    contrast = paste(pair[1], \"/\", pair[2]),\n",
        "    odds_ratio = odds_ratio,\n",
        "    odds_ratio_SE = se_odds_ratio,\n",
        "    odds_ratio_lower_CI = lower_CI_odds_ratio,\n",
        "    odds_ratio_upper_CI = upper_CI_odds_ratio\n",
        "  )\n",
        "})\n",
        "\n",
        "# Combine all results into a single data frame\n",
        "oddsratio_ExamDomain <- do.call(rbind, contrast_results_ExamDomain)\n",
        "\n",
        "# extract p.values from $contrasts\n",
        "contrasts_table_ExamDomain <- as.data.frame(posthoc_anova_model_ExamDomain$contrasts)\n",
        "# Extract p.value column\n",
        "p_values <- contrasts_table_ExamDomain$p.value\n",
        "# Append p.value to oddsratio_ExamDomain\n",
        "oddsratio_ExamDomain$p.value <- p_values\n",
        "\n",
        "# Display the result\n",
        "print(oddsratio_ExamDomain)"
      ],
      "metadata": {
        "colab": {
          "base_uri": "https://localhost:8080/"
        },
        "id": "LElA21MKURor",
        "outputId": "b56d7ca7-fc96-494d-8272-f886c087c944"
      },
      "execution_count": 52,
      "outputs": [
        {
          "output_type": "stream",
          "name": "stdout",
          "text": [
            "  contrast odds_ratio odds_ratio_SE odds_ratio_lower_CI odds_ratio_upper_CI\n",
            "1    A / B  2.8329220     0.3778192           2.1812732           3.6792490\n",
            "2    A / C  0.8487179     0.3186543           0.4066032           1.7715605\n",
            "3    B / C  0.2995910     0.1108040           0.1451127           0.6185179\n",
            "       p.value\n",
            "1 0.0000000000\n",
            "2 0.8906513035\n",
            "3 0.0000256716\n"
          ]
        }
      ]
    },
    {
      "cell_type": "code",
      "source": [
        "# Add columns to calculate Cohen's H and Power for ExamDomain Comparisons\n",
        "# NOTE: for binary outcomes (e.g. Correct_answer), need to compute the odds ratios and Cohen's H for the pairwise contrasts\n",
        "posthoc_ExamDomain_EffectPower <- oddsratio_ExamDomain %>%\n",
        "  mutate(\n",
        "    odds_ratio_lower_CI = exp(odds_ratio - 1.96 * odds_ratio_SE),  # Lower bound of CI\n",
        "    odds_ratio_upper_CI = exp(odds_ratio + 1.96 * odds_ratio_SE),   # Upper bound of CI\n",
        "    cohens_h = 2 * asin(sqrt(odds_ratio / (1 + odds_ratio))),  # # Calculate Cohen's H for each contrast. Simplified formula for binary proportions\n",
        "    cohens_h_SE = 2 * sqrt(1 / (odds_ratio * (1 + odds_ratio))), # Calculate the standard error for Cohen’s H (SE(H)) using the contrast standard errors\n",
        "    cohens_h_lower_CI = cohens_h - 1.96 * cohens_h_SE, # Calculate the 95% confidence intervals for Cohen's H\n",
        "    cohens_h_upper_CI = cohens_h + 1.96 * cohens_h_SE,\n",
        "    interpretation = case_when(\n",
        "      cohens_h < 0.2 ~ \"Trivial effect\",\n",
        "      cohens_h >= 0.2 & cohens_h < 0.5 ~ \"Small effect\",\n",
        "      cohens_h >= 0.5 & cohens_h < 0.8 ~ \"Moderate effect\",\n",
        "      cohens_h >= 0.8 ~ \"Large effect\"\n",
        "    ),\n",
        "    Power = map_dbl(cohens_h, ~ pwr.p.test(h = ., n = 6, sig.level = 0.05, alternative = \"two.sided\")$power)\n",
        "  )\n",
        "\n",
        "# Print the contrasts table\n",
        "cat(\"\\n\\n Cohen's H and Statistical power for ExamDomain Comparisons: \\n\")\n",
        "print(posthoc_ExamDomain_EffectPower)"
      ],
      "metadata": {
        "colab": {
          "base_uri": "https://localhost:8080/"
        },
        "id": "Ai7FTWQlUSXh",
        "outputId": "91fb8166-57be-45ff-8193-c248406e9fed"
      },
      "execution_count": 53,
      "outputs": [
        {
          "output_type": "stream",
          "name": "stdout",
          "text": [
            "\n",
            "\n",
            " Cohen's H and Statistical power for ExamDomain Comparisons: \n",
            "  contrast odds_ratio odds_ratio_SE odds_ratio_lower_CI odds_ratio_upper_CI\n",
            "1    A / B  2.8329220     0.3778192            8.104312           35.639256\n",
            "2    A / C  0.8487179     0.3186543            1.251266            4.363525\n",
            "3    B / C  0.2995910     0.1108040            1.085907            1.676598\n",
            "       p.value cohens_h cohens_h_SE cohens_h_lower_CI cohens_h_upper_CI\n",
            "1 0.0000000000 2.069406   0.6069427         0.8797982          3.259014\n",
            "2 0.8906513035 1.488874   1.5966619        -1.6405835          4.618331\n",
            "3 0.0000256716 1.001611   3.2052526        -5.2806838          7.283906\n",
            "  interpretation     Power\n",
            "1   Large effect 0.9990615\n",
            "2   Large effect 0.9542000\n",
            "3   Large effect 0.6891658\n"
          ]
        }
      ]
    },
    {
      "cell_type": "markdown",
      "source": [
        "### Assess model fit"
      ],
      "metadata": {
        "id": "jqsHxOx2BfCo"
      }
    },
    {
      "cell_type": "code",
      "source": [
        "# install packages\n",
        "install.packages(\"lmtest\")\n",
        "library(lmtest) # to allow calculation of log liklihood and chi-squared between anova from aov package and lmm from lme4 package\n",
        "install.packages(\"pROC\")\n",
        "library(pROC) # for ROC curves for logiustic models"
      ],
      "metadata": {
        "id": "Vfz6rXCFtpXF",
        "colab": {
          "base_uri": "https://localhost:8080/"
        },
        "outputId": "f6599682-22ad-48cd-ad55-5c3553f93d34"
      },
      "execution_count": 54,
      "outputs": [
        {
          "output_type": "stream",
          "name": "stderr",
          "text": [
            "Installing package into ‘/usr/local/lib/R/site-library’\n",
            "(as ‘lib’ is unspecified)\n",
            "\n",
            "also installing the dependency ‘zoo’\n",
            "\n",
            "\n",
            "Loading required package: zoo\n",
            "\n",
            "\n",
            "Attaching package: ‘zoo’\n",
            "\n",
            "\n",
            "The following objects are masked from ‘package:data.table’:\n",
            "\n",
            "    yearmon, yearqtr\n",
            "\n",
            "\n",
            "The following objects are masked from ‘package:base’:\n",
            "\n",
            "    as.Date, as.Date.numeric\n",
            "\n",
            "\n",
            "Installing package into ‘/usr/local/lib/R/site-library’\n",
            "(as ‘lib’ is unspecified)\n",
            "\n",
            "Type 'citation(\"pROC\")' for a citation.\n",
            "\n",
            "\n",
            "Attaching package: ‘pROC’\n",
            "\n",
            "\n",
            "The following object is masked from ‘package:parameters’:\n",
            "\n",
            "    ci\n",
            "\n",
            "\n",
            "The following objects are masked from ‘package:stats’:\n",
            "\n",
            "    cov, smooth, var\n",
            "\n",
            "\n"
          ]
        }
      ]
    },
    {
      "cell_type": "code",
      "source": [
        "# Examine ROC curves for Logistic model performance\n",
        "roc_curve_GLM_Model_1 <- roc(Experiment2_forLMM$Correct_answer, fitted(GLM_Model_1))\n",
        "roc_curve_LMM_Model_1 <- roc(Experiment2_forLMM$Correct_answer, fitted(LMM_Model_1))\n",
        "roc_curve_LMM_Model_2 <- roc(Experiment2_forLMM$Correct_answer, fitted(LMM_Model_2))\n",
        "\n",
        "# Plot ROC curves and display AUC for each model\n",
        "cat(\"\\n\\n ROC curve for roc_curve_GLM_Model_1 \\n\")\n",
        "plot(roc_curve_GLM_Model_1, main=\"ROC Curve - GLM_Model_1\", col=\"blue\")\n",
        "cat(\"AUC for GLM_Model_1: \", auc(roc_curve_GLM_Model_1), \"\\n\")\n",
        "\n",
        "cat(\"\\n\\n ROC curve for roc_curve_LMM_Model_1 \\n\")\n",
        "plot(roc_curve_LMM_Model_1, main=\"ROC Curve - LMM_Model_1\", col=\"red\")\n",
        "cat(\"AUC for LMM_Model_1: \", auc(roc_curve_LMM_Model_1), \"\\n\")\n",
        "\n",
        "cat(\"\\n\\n ROC curve for roc_curve_LMM_Model_2 \\n\")\n",
        "plot(roc_curve_LMM_Model_2, main=\"ROC Curve - LMM_Model_2\", col=\"green\")\n",
        "cat(\"AUC for LMM_Model_2: \", auc(roc_curve_LMM_Model_2), \"\\n\")\n",
        "\n",
        "# Add legends to each plot for better clarity\n",
        "legend(\"bottomright\", legend = c(paste(\"AUC:\", round(auc(roc_curve_GLM_Model_1), 2)),\n",
        "                                 paste(\"AUC:\", round(auc(roc_curve_LMM_Model_1), 2)),\n",
        "                                 paste(\"AUC:\", round(auc(roc_curve_LMM_Model_2), 2))),\n",
        "       col = c(\"blue\", \"green\", \"purple\"), lty = 1, cex = 0.8)"
      ],
      "metadata": {
        "id": "U-xlZTxvH8_k",
        "colab": {
          "base_uri": "https://localhost:8080/",
          "height": 1000
        },
        "outputId": "d21342e3-4a8d-45bc-9c9d-0dcbde1f8a0b"
      },
      "execution_count": 55,
      "outputs": [
        {
          "output_type": "stream",
          "name": "stderr",
          "text": [
            "Setting levels: control = 0, case = 1\n",
            "\n",
            "Setting direction: controls < cases\n",
            "\n",
            "Setting levels: control = 0, case = 1\n",
            "\n",
            "Setting direction: controls < cases\n",
            "\n",
            "Setting levels: control = 0, case = 1\n",
            "\n",
            "Setting direction: controls < cases\n",
            "\n"
          ]
        },
        {
          "output_type": "stream",
          "name": "stdout",
          "text": [
            "\n",
            "\n",
            " ROC curve for roc_curve_GLM_Model_1 \n",
            "AUC for GLM_Model_1:  0.7073523 \n",
            "\n",
            "\n",
            " ROC curve for roc_curve_LMM_Model_1 \n"
          ]
        },
        {
          "output_type": "display_data",
          "data": {
            "text/plain": [
              "Plot with title “ROC Curve - GLM_Model_1”"
            ],
            "image/png": "[encoded data removed]"
          },
          "metadata": {
            "image/png": {
              "width": 420,
              "height": 420
            }
          }
        },
        {
          "output_type": "stream",
          "name": "stdout",
          "text": [
            "AUC for LMM_Model_1:  0.6955848 \n",
            "\n",
            "\n",
            " ROC curve for roc_curve_LMM_Model_2 \n"
          ]
        },
        {
          "output_type": "display_data",
          "data": {
            "text/plain": [
              "Plot with title “ROC Curve - LMM_Model_1”"
            ],
            "image/png": "[encoded data removed]"
          },
          "metadata": {
            "image/png": {
              "width": 420,
              "height": 420
            }
          }
        },
        {
          "output_type": "stream",
          "name": "stdout",
          "text": [
            "AUC for LMM_Model_2:  0.6955848 \n"
          ]
        },
        {
          "output_type": "display_data",
          "data": {
            "text/plain": [
              "Plot with title “ROC Curve - LMM_Model_2”"
            ],
            "image/png": "[encoded data removed]"
          },
          "metadata": {
            "image/png": {
              "width": 420,
              "height": 420
            }
          }
        }
      ]
    },
    {
      "cell_type": "code",
      "source": [
        "# Then, compare the 2 LMM models with and without random slopes with the GLM model using likelihood ratio tests:\n",
        "cat(\"\\n\\n LMM_Model_1 vs. LMM_Model_2 vs. GLM_Model_1 \\n\")\n",
        "anova(LMM_Model_1, LMM_Model_2, GLM_Model_1)"
      ],
      "metadata": {
        "id": "x2y9vL8EHLUO",
        "colab": {
          "base_uri": "https://localhost:8080/",
          "height": 244
        },
        "outputId": "31d6b54a-3de2-40e9-e047-6d6ccda034b2"
      },
      "execution_count": 56,
      "outputs": [
        {
          "output_type": "stream",
          "name": "stdout",
          "text": [
            "\n",
            "\n",
            " LMM_Model_1 vs. LMM_Model_2 vs. GLM_Model_1 \n"
          ]
        },
        {
          "output_type": "display_data",
          "data": {
            "text/html": [
              "<table class=\"dataframe\">\n",
              "<caption>A anova: 3 × 8</caption>\n",
              "<thead>\n",
              "\t<tr><th></th><th scope=col>npar</th><th scope=col>AIC</th><th scope=col>BIC</th><th scope=col>logLik</th><th scope=col>deviance</th><th scope=col>Chisq</th><th scope=col>Df</th><th scope=col>Pr(&gt;Chisq)</th></tr>\n",
              "\t<tr><th></th><th scope=col>&lt;dbl&gt;</th><th scope=col>&lt;dbl&gt;</th><th scope=col>&lt;dbl&gt;</th><th scope=col>&lt;dbl&gt;</th><th scope=col>&lt;dbl&gt;</th><th scope=col>&lt;dbl&gt;</th><th scope=col>&lt;dbl&gt;</th><th scope=col>&lt;dbl&gt;</th></tr>\n",
              "</thead>\n",
              "<tbody>\n",
              "\t<tr><th scope=row>LMM_Model_1</th><td>10</td><td>1338.704</td><td>1390.648</td><td>-659.3518</td><td>1318.704</td><td>          NA</td><td>NA</td><td>       NA</td></tr>\n",
              "\t<tr><th scope=row>LMM_Model_2</th><td>12</td><td>1342.704</td><td>1405.037</td><td>-659.3518</td><td>1318.704</td><td>4.092726e-12</td><td> 2</td><td>1.0000000</td></tr>\n",
              "\t<tr><th scope=row>GLM_Model_1</th><td>36</td><td>1369.713</td><td>1556.713</td><td>-648.8565</td><td>1297.713</td><td>2.099049e+01</td><td>24</td><td>0.6392859</td></tr>\n",
              "</tbody>\n",
              "</table>\n"
            ],
            "text/markdown": "\nA anova: 3 × 8\n\n| <!--/--> | npar &lt;dbl&gt; | AIC &lt;dbl&gt; | BIC &lt;dbl&gt; | logLik &lt;dbl&gt; | deviance &lt;dbl&gt; | Chisq &lt;dbl&gt; | Df &lt;dbl&gt; | Pr(&gt;Chisq) &lt;dbl&gt; |\n|---|---|---|---|---|---|---|---|---|\n| LMM_Model_1 | 10 | 1338.704 | 1390.648 | -659.3518 | 1318.704 |           NA | NA |        NA |\n| LMM_Model_2 | 12 | 1342.704 | 1405.037 | -659.3518 | 1318.704 | 4.092726e-12 |  2 | 1.0000000 |\n| GLM_Model_1 | 36 | 1369.713 | 1556.713 | -648.8565 | 1297.713 | 2.099049e+01 | 24 | 0.6392859 |\n\n",
            "text/latex": "A anova: 3 × 8\n\\begin{tabular}{r|llllllll}\n  & npar & AIC & BIC & logLik & deviance & Chisq & Df & Pr(>Chisq)\\\\\n  & <dbl> & <dbl> & <dbl> & <dbl> & <dbl> & <dbl> & <dbl> & <dbl>\\\\\n\\hline\n\tLMM\\_Model\\_1 & 10 & 1338.704 & 1390.648 & -659.3518 & 1318.704 &           NA & NA &        NA\\\\\n\tLMM\\_Model\\_2 & 12 & 1342.704 & 1405.037 & -659.3518 & 1318.704 & 4.092726e-12 &  2 & 1.0000000\\\\\n\tGLM\\_Model\\_1 & 36 & 1369.713 & 1556.713 & -648.8565 & 1297.713 & 2.099049e+01 & 24 & 0.6392859\\\\\n\\end{tabular}\n",
            "text/plain": [
              "            npar AIC      BIC      logLik    deviance Chisq        Df\n",
              "LMM_Model_1 10   1338.704 1390.648 -659.3518 1318.704           NA NA\n",
              "LMM_Model_2 12   1342.704 1405.037 -659.3518 1318.704 4.092726e-12  2\n",
              "GLM_Model_1 36   1369.713 1556.713 -648.8565 1297.713 2.099049e+01 24\n",
              "            Pr(>Chisq)\n",
              "LMM_Model_1        NA \n",
              "LMM_Model_2 1.0000000 \n",
              "GLM_Model_1 0.6392859 "
            ]
          },
          "metadata": {}
        }
      ]
    },
    {
      "cell_type": "code",
      "source": [
        "# Then compare the LMMs from lme4 to the ANOVA from aov using AIC and BIC for estimating prediction errors\n",
        "# Calculate AIC and BIC for all models\n",
        "aic_values <- AIC(anova_model, LMM_Model_1, LMM_Model_2, GLM_Model_1)\n",
        "bic_values <- BIC(anova_model, LMM_Model_1, LMM_Model_2, GLM_Model_1)\n",
        "# Combine AIC and BIC into a single dataframe\n",
        "model_comparison <- data.frame(\n",
        "  Model = rownames(aic_values), # Model names\n",
        "  AIC = aic_values$AIC,        # Extract AIC values\n",
        "  BIC = bic_values$BIC         # Extract BIC values\n",
        ")\n",
        "# View the combined AIC and BIC dataframe\n",
        "cat(\"\\n\\n AIC and BIC values for ANOVA and LLMs \\n\")\n",
        "print(model_comparison)"
      ],
      "metadata": {
        "id": "wzGNdKHQJO1F",
        "colab": {
          "base_uri": "https://localhost:8080/"
        },
        "outputId": "5a20124a-f63b-4437-b338-dd27d3bc2dda"
      },
      "execution_count": 57,
      "outputs": [
        {
          "output_type": "stream",
          "name": "stdout",
          "text": [
            "\n",
            "\n",
            " AIC and BIC values for ANOVA and LLMs \n",
            "        Model      AIC      BIC\n",
            "1 anova_model 1407.106 1599.301\n",
            "2 LMM_Model_1 1338.704 1390.648\n",
            "3 LMM_Model_2 1342.704 1405.037\n",
            "4 GLM_Model_1 1369.713 1556.713\n"
          ]
        }
      ]
    },
    {
      "cell_type": "markdown",
      "source": [
        "## Interpretations\n",
        "<p>Interpret the data based on the LMM_Model_1 (logistic mixed model) model because it has a better fit (highest log likelihood) than LMM_Model_2 and the lowest AIC and BIC prediction errors compared to the GLM and ANOVA models.</p>"
      ],
      "metadata": {
        "id": "nSYkv5AmBlET"
      }
    },
    {
      "cell_type": "markdown",
      "source": [
        "# Decode the blinding to reveal the chatbot identity\n",
        "When the statistical analysis was completed, this .ipynb file was shared with the independent prompt inputter, LT, who revealed the code."
      ],
      "metadata": {
        "id": "CE7qPBDRJ2TF"
      }
    },
    {
      "cell_type": "markdown",
      "source": [
        "## Blinded code\n",
        "ChatbotA = Gemini1.5flash (Basic)<br>\n",
        "ChatbotB = ChatGPT-4o (Advanced)<br>\n",
        "ChatbotC = ClaudePro (Advanced)<br>\n",
        "ChatbotD = ChatGPT-4omini (Basic)<br>\n",
        "ChatbotE = Gemini1.5pro (Advanced)<br>\n",
        "ChatbotF = Claude3.5Sonnet (Basic)<br>\n",
        "\n",
        "<p>Arrange them in alphabetical order with basic and advanced models in adjacent bars:</p>\n",
        "<ol>\n",
        "<li> ChatbotD = ChatGPT-4omini (Basic)\n",
        "<li> ChatbotB = ChatGPT-4o (Advanced)\n",
        "<li> ChatbotF = Claude3.5Sonnet (Basic)\n",
        "<li> ChatbotC = ClaudePro (Advanced)\n",
        "<li> ChatbotA = Gemini1.5flash (Basic)\n",
        "<li> ChatbotE = Gemini1.5pro (Advanced)\n",
        "</ol>"
      ],
      "metadata": {
        "id": "g90mxGjnV8E2"
      }
    },
    {
      "cell_type": "markdown",
      "source": [
        "## Rebuild Barplots"
      ],
      "metadata": {
        "id": "89-6yAwVW4vA"
      }
    },
    {
      "cell_type": "markdown",
      "source": [
        "### Accuracy"
      ],
      "metadata": {
        "id": "Zw0FIv-tW9Gl"
      }
    },
    {
      "cell_type": "code",
      "source": [
        "# ChatbotA = Gemini1.5flash (Basic)\n",
        "# ChatbotB = ChatGPT-4o (Advanced)\n",
        "# ChatbotC = ClaudePro (Advanced)\n",
        "# ChatbotD = ChatGPT-4omini (Basic)\n",
        "# ChatbotE = Gemini1.5pro (Advanced)\n",
        "# ChatbotF = Claude3.5Sonnet (Basic)\n",
        "# Then, reorder to: D, B, F, C, A, E\n",
        "exam_accuracy_totalsUNBLINDED <- data.frame(\n",
        "  Chatbot = factor(\n",
        "    rep(c(\"ChatGPT-4omini\", \"ChatGPT-4o\", \"Claude3.5Sonnet\",\n",
        "          \"ClaudePro\", \"Gemini1.5flash\", \"Gemini1.5pro\"), 2),\n",
        "    levels = c(\"ChatGPT-4omini\", \"ChatGPT-4o\", \"Claude3.5Sonnet\",\n",
        "          \"ClaudePro\", \"Gemini1.5flash\", \"Gemini1.5pro\")\n",
        "  ),\n",
        "  ExamTotalAccuracyUNBLINDED = c(\n",
        "    ChatbotD_ExamAccuracyTotalTest1, ChatbotB_ExamAccuracyTotalTest1, ChatbotF_ExamAccuracyTotalTest1,\n",
        "    ChatbotC_ExamAccuracyTotalTest1, ChatbotA_ExamAccuracyTotalTest1, ChatbotE_ExamAccuracyTotalTest1,\n",
        "    ChatbotD_ExamAccuracyTotalTest2, ChatbotB_ExamAccuracyTotalTest2, ChatbotF_ExamAccuracyTotalTest2,\n",
        "    ChatbotC_ExamAccuracyTotalTest2, ChatbotA_ExamAccuracyTotalTest2, ChatbotE_ExamAccuracyTotalTest2\n",
        "  ),\n",
        "  Test = rep(c(\"Test 1\", \"Test 2\"), each = 6)\n",
        ")\n",
        "\n",
        "# Calculate standard error\n",
        "exam_accuracy_totalsUNBLINDED <- exam_accuracy_totalsUNBLINDED %>%\n",
        "  mutate(SE = sqrt(ExamTotalAccuracyUNBLINDED * (1 - ExamTotalAccuracyUNBLINDED) / maximalAccuracyExamTotal))  # the standard error of the proportion of correct answers\n",
        "\n",
        "# Create the updated combined plot for both Test 1 and Test 2\n",
        "accuracyplot_FINALPLOT <- ggplot(exam_accuracy_totalsUNBLINDED, aes(x = Chatbot, y = ExamTotalAccuracyUNBLINDED, fill = Test)) +\n",
        "  geom_bar(stat = \"identity\", position = \"dodge\") +  # Create side-by-side bars\n",
        "  geom_errorbar(aes(ymin = ExamTotalAccuracyUNBLINDED - SE, ymax = ExamTotalAccuracyUNBLINDED + SE),\n",
        "                position = position_dodge(0.9), width = 0.25) +  # Add error bars\n",
        "  labs(y = \"Proportion of correct answers (%)\",,\n",
        "       title = \"Exam question accuracy\",\n",
        "       fill = \"Test\"  # This sets the title of the fill legend\n",
        "  ) +\n",
        "  scale_y_continuous(labels = scales::percent_format(accuracy = 1), limits = c(0, 1.03)) +  # Adjust y-axis\n",
        "  scale_x_discrete(expand = expansion(add = c(0, 0))) +  # Adjust space between factors on the x-axis\n",
        "  scale_fill_manual(values = c(\"Test 1\" = \"skyblue\", \"Test 2\" = \"salmon\"), labels = c(\"Day 1\", \"Day 2\")) + # Set colors and labels\n",
        "  theme_wsj() +\n",
        "  theme(\n",
        "    plot.title = element_text(size = 14, face = \"bold\", hjust = 0),\n",
        "    axis.text.x = element_text(color = \"black\", angle = 35, hjust = 1, size = 12),  # Adjust angle for long chatbot names\n",
        "    axis.title.x = element_blank(), # Removes the x-axis label\n",
        "    axis.text.y = element_text(color = \"black\", size = 12),\n",
        "    axis.title.y = element_text(color = \"black\", face = \"bold\", size = 12)\n",
        "  ) +\n",
        "  guides(fill = guide_legend(title = NULL))  + # Remove legend title\n",
        "  annotate( # Add custom text\n",
        "    \"text\",\n",
        "    x = 0, y = 1.03,  # Coordinates for placement\n",
        "    label = \"Error bars = SE\",\n",
        "    hjust = 0, vjust = 1,  # Horizontal and vertical justification (aligns the text to the left and top)\n",
        "    size = 3, fontface = \"italic\", color = \"black\"\n",
        "  )\n",
        "\n",
        "# Show the plot\n",
        "accuracyplot_FINALPLOT\n",
        "\n",
        "# Save as jpgs\n",
        "ggsave(\"accuracyplot_FINALPLOT.jpg\", plot = accuracyplot_FINALPLOT, width = 8, height = 6, units = \"in\", dpi = 300)"
      ],
      "metadata": {
        "id": "NJ7ZGkQ9SIQZ",
        "colab": {
          "base_uri": "https://localhost:8080/",
          "height": 437
        },
        "outputId": "5aa69e58-7298-44d8-85f8-c7ea1b422e65"
      },
      "execution_count": 58,
      "outputs": [
        {
          "output_type": "display_data",
          "data": {
            "text/plain": [
              "plot without title"
            ],
            "image/png": "[encoded data removed]"
          },
          "metadata": {
            "image/png": {
              "width": 420,
              "height": 420
            }
          }
        }
      ]
    },
    {
      "cell_type": "code",
      "source": [
        "# print the data frame\n",
        "cat(\"Exam question accuracy\")\n",
        "exam_accuracy_totalsUNBLINDED"
      ],
      "metadata": {
        "colab": {
          "base_uri": "https://localhost:8080/",
          "height": 491
        },
        "id": "SMJyu8Vuz2s7",
        "outputId": "fdd9e7a1-d336-4456-820c-4fb26e5b9e43"
      },
      "execution_count": 59,
      "outputs": [
        {
          "output_type": "stream",
          "name": "stdout",
          "text": [
            "Exam question accuracy"
          ]
        },
        {
          "output_type": "display_data",
          "data": {
            "text/html": [
              "<table class=\"dataframe\">\n",
              "<caption>A data.frame: 12 × 4</caption>\n",
              "<thead>\n",
              "\t<tr><th></th><th scope=col>Chatbot</th><th scope=col>ExamTotalAccuracyUNBLINDED</th><th scope=col>Test</th><th scope=col>SE</th></tr>\n",
              "\t<tr><th></th><th scope=col>&lt;fct&gt;</th><th scope=col>&lt;dbl&gt;</th><th scope=col>&lt;chr&gt;</th><th scope=col>&lt;dbl&gt;</th></tr>\n",
              "</thead>\n",
              "<tbody>\n",
              "\t<tr><th scope=row>Chatbot_D_Day1_Answer_score</th><td>ChatGPT-4omini </td><td>0.7297297</td><td>Test 1</td><td>0.04215205</td></tr>\n",
              "\t<tr><th scope=row>Chatbot_B_Day1_Answer_score</th><td>ChatGPT-4o     </td><td>0.7657658</td><td>Test 1</td><td>0.04019867</td></tr>\n",
              "\t<tr><th scope=row>Chatbot_F_Day1_Answer_score</th><td>Claude3.5Sonnet</td><td>0.8918919</td><td>Test 1</td><td>0.02947296</td></tr>\n",
              "\t<tr><th scope=row>Chatbot_C_Day1_Answer_score</th><td>ClaudePro      </td><td>0.7387387</td><td>Test 1</td><td>0.04169860</td></tr>\n",
              "\t<tr><th scope=row>Chatbot_A_Day1_Answer_score</th><td>Gemini1.5flash </td><td>0.6936937</td><td>Test 1</td><td>0.04375225</td></tr>\n",
              "\t<tr><th scope=row>Chatbot_E_Day1_Answer_score</th><td>Gemini1.5pro   </td><td>0.8468468</td><td>Test 1</td><td>0.03418251</td></tr>\n",
              "\t<tr><th scope=row>Chatbot_D_Day2_Answer_score</th><td>ChatGPT-4omini </td><td>0.7027027</td><td>Test 2</td><td>0.04338302</td></tr>\n",
              "\t<tr><th scope=row>Chatbot_B_Day2_Answer_score</th><td>ChatGPT-4o     </td><td>0.8018018</td><td>Test 2</td><td>0.03783745</td></tr>\n",
              "\t<tr><th scope=row>Chatbot_F_Day2_Answer_score</th><td>Claude3.5Sonnet</td><td>0.8828829</td><td>Test 2</td><td>0.03052110</td></tr>\n",
              "\t<tr><th scope=row>Chatbot_C_Day2_Answer_score</th><td>ClaudePro      </td><td>0.6126126</td><td>Test 2</td><td>0.04623855</td></tr>\n",
              "\t<tr><th scope=row>Chatbot_A_Day2_Answer_score</th><td>Gemini1.5flash </td><td>0.7207207</td><td>Test 2</td><td>0.04258350</td></tr>\n",
              "\t<tr><th scope=row>Chatbot_E_Day2_Answer_score</th><td>Gemini1.5pro   </td><td>0.8648649</td><td>Test 2</td><td>0.03244866</td></tr>\n",
              "</tbody>\n",
              "</table>\n"
            ],
            "text/markdown": "\nA data.frame: 12 × 4\n\n| <!--/--> | Chatbot &lt;fct&gt; | ExamTotalAccuracyUNBLINDED &lt;dbl&gt; | Test &lt;chr&gt; | SE &lt;dbl&gt; |\n|---|---|---|---|---|\n| Chatbot_D_Day1_Answer_score | ChatGPT-4omini  | 0.7297297 | Test 1 | 0.04215205 |\n| Chatbot_B_Day1_Answer_score | ChatGPT-4o      | 0.7657658 | Test 1 | 0.04019867 |\n| Chatbot_F_Day1_Answer_score | Claude3.5Sonnet | 0.8918919 | Test 1 | 0.02947296 |\n| Chatbot_C_Day1_Answer_score | ClaudePro       | 0.7387387 | Test 1 | 0.04169860 |\n| Chatbot_A_Day1_Answer_score | Gemini1.5flash  | 0.6936937 | Test 1 | 0.04375225 |\n| Chatbot_E_Day1_Answer_score | Gemini1.5pro    | 0.8468468 | Test 1 | 0.03418251 |\n| Chatbot_D_Day2_Answer_score | ChatGPT-4omini  | 0.7027027 | Test 2 | 0.04338302 |\n| Chatbot_B_Day2_Answer_score | ChatGPT-4o      | 0.8018018 | Test 2 | 0.03783745 |\n| Chatbot_F_Day2_Answer_score | Claude3.5Sonnet | 0.8828829 | Test 2 | 0.03052110 |\n| Chatbot_C_Day2_Answer_score | ClaudePro       | 0.6126126 | Test 2 | 0.04623855 |\n| Chatbot_A_Day2_Answer_score | Gemini1.5flash  | 0.7207207 | Test 2 | 0.04258350 |\n| Chatbot_E_Day2_Answer_score | Gemini1.5pro    | 0.8648649 | Test 2 | 0.03244866 |\n\n",
            "text/latex": "A data.frame: 12 × 4\n\\begin{tabular}{r|llll}\n  & Chatbot & ExamTotalAccuracyUNBLINDED & Test & SE\\\\\n  & <fct> & <dbl> & <chr> & <dbl>\\\\\n\\hline\n\tChatbot\\_D\\_Day1\\_Answer\\_score & ChatGPT-4omini  & 0.7297297 & Test 1 & 0.04215205\\\\\n\tChatbot\\_B\\_Day1\\_Answer\\_score & ChatGPT-4o      & 0.7657658 & Test 1 & 0.04019867\\\\\n\tChatbot\\_F\\_Day1\\_Answer\\_score & Claude3.5Sonnet & 0.8918919 & Test 1 & 0.02947296\\\\\n\tChatbot\\_C\\_Day1\\_Answer\\_score & ClaudePro       & 0.7387387 & Test 1 & 0.04169860\\\\\n\tChatbot\\_A\\_Day1\\_Answer\\_score & Gemini1.5flash  & 0.6936937 & Test 1 & 0.04375225\\\\\n\tChatbot\\_E\\_Day1\\_Answer\\_score & Gemini1.5pro    & 0.8468468 & Test 1 & 0.03418251\\\\\n\tChatbot\\_D\\_Day2\\_Answer\\_score & ChatGPT-4omini  & 0.7027027 & Test 2 & 0.04338302\\\\\n\tChatbot\\_B\\_Day2\\_Answer\\_score & ChatGPT-4o      & 0.8018018 & Test 2 & 0.03783745\\\\\n\tChatbot\\_F\\_Day2\\_Answer\\_score & Claude3.5Sonnet & 0.8828829 & Test 2 & 0.03052110\\\\\n\tChatbot\\_C\\_Day2\\_Answer\\_score & ClaudePro       & 0.6126126 & Test 2 & 0.04623855\\\\\n\tChatbot\\_A\\_Day2\\_Answer\\_score & Gemini1.5flash  & 0.7207207 & Test 2 & 0.04258350\\\\\n\tChatbot\\_E\\_Day2\\_Answer\\_score & Gemini1.5pro    & 0.8648649 & Test 2 & 0.03244866\\\\\n\\end{tabular}\n",
            "text/plain": [
              "                            Chatbot         ExamTotalAccuracyUNBLINDED Test  \n",
              "Chatbot_D_Day1_Answer_score ChatGPT-4omini  0.7297297                  Test 1\n",
              "Chatbot_B_Day1_Answer_score ChatGPT-4o      0.7657658                  Test 1\n",
              "Chatbot_F_Day1_Answer_score Claude3.5Sonnet 0.8918919                  Test 1\n",
              "Chatbot_C_Day1_Answer_score ClaudePro       0.7387387                  Test 1\n",
              "Chatbot_A_Day1_Answer_score Gemini1.5flash  0.6936937                  Test 1\n",
              "Chatbot_E_Day1_Answer_score Gemini1.5pro    0.8468468                  Test 1\n",
              "Chatbot_D_Day2_Answer_score ChatGPT-4omini  0.7027027                  Test 2\n",
              "Chatbot_B_Day2_Answer_score ChatGPT-4o      0.8018018                  Test 2\n",
              "Chatbot_F_Day2_Answer_score Claude3.5Sonnet 0.8828829                  Test 2\n",
              "Chatbot_C_Day2_Answer_score ClaudePro       0.6126126                  Test 2\n",
              "Chatbot_A_Day2_Answer_score Gemini1.5flash  0.7207207                  Test 2\n",
              "Chatbot_E_Day2_Answer_score Gemini1.5pro    0.8648649                  Test 2\n",
              "                            SE        \n",
              "Chatbot_D_Day1_Answer_score 0.04215205\n",
              "Chatbot_B_Day1_Answer_score 0.04019867\n",
              "Chatbot_F_Day1_Answer_score 0.02947296\n",
              "Chatbot_C_Day1_Answer_score 0.04169860\n",
              "Chatbot_A_Day1_Answer_score 0.04375225\n",
              "Chatbot_E_Day1_Answer_score 0.03418251\n",
              "Chatbot_D_Day2_Answer_score 0.04338302\n",
              "Chatbot_B_Day2_Answer_score 0.03783745\n",
              "Chatbot_F_Day2_Answer_score 0.03052110\n",
              "Chatbot_C_Day2_Answer_score 0.04623855\n",
              "Chatbot_A_Day2_Answer_score 0.04258350\n",
              "Chatbot_E_Day2_Answer_score 0.03244866"
            ]
          },
          "metadata": {}
        }
      ]
    },
    {
      "cell_type": "code",
      "source": [],
      "metadata": {
        "id": "kRjKRVcxz3hu"
      },
      "execution_count": 60,
      "outputs": []
    }
  ]
}